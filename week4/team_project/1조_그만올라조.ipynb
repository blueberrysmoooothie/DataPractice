{
 "cells": [
  {
   "cell_type": "markdown",
   "id": "a9f8f577",
   "metadata": {
    "id": "a9f8f577"
   },
   "source": [
    "## 그만올라조  소비자 물가지수 분석\n",
    "\n",
    "## 팀 주제  \n",
    "    : 최근 3년간 소비자물가지수 동향 파악 및 향후 전망 분석\n",
    "       - 코로나, 전쟁, 금리변동과의 상관관계를 중심으로  분석\n",
    "\n",
    "## 팀원별 개인주제\n",
    "    - 김지윤: 소비자물가지수 총지수 동향 및 해외 동향\n",
    "    - 방영찬: 소비자물가지수 지출목적별 동향_(1)\n",
    "    - 이재훈: 소비자물가지수 지출목적별 동향_(2) \n",
    "    - 이재상: 소비자물가지수 품목성질별 동향_(1)\n",
    "    - 정한수: 소비자물가지수 품목성질별 동향_(2)\n"
   ]
  },
  {
   "cell_type": "markdown",
   "id": "0f9f7613",
   "metadata": {},
   "source": [
    "## <span style='background:yellow'> 최종 결론 </span>"
   ]
  },
  {
   "cell_type": "markdown",
   "id": "6411317b",
   "metadata": {},
   "source": [
    "세부 분야에 대한 분석을 통하여 확인한바,  \n",
    "여러 목적별 물가지수들이 코로나 확산정도와 유가 변동에 양적인 상관관계를 보였다.\n",
    "\n",
    "품목 / 성질 별로 분석한 결과에서도  \n",
    "    석유류 제품 : 당연히 유가 영향을 많이 받고   \n",
    "    가공식품,  농축수산물 : 코로나와 매우 큰 상관관계를 보였다.\n",
    "\t\t\n",
    "\t\n",
    "처음에 총 지수에 관한 분석 결과 ‘코로나 확진자 수와 유가의  \n",
    "증가에 따라, 소비자 물가 총지수가 증가한다.’ 라는 결과를 확인 하였는데  \n",
    "세부 분류에서도 분석을 진행한 결과 공통적으로 코로나와 유가의 증가에 의해   \n",
    "소비자 물가가 증가한 것으로 예상됩니다. \n",
    "\n",
    "따라서 최근 코로나 환자의 증가 추세와, 길어지는 전쟁으로인한 유가상승으로  \n",
    "국내 소비자 물가는 절대 떨어지지 않는다고 예상 합니다….!\n"
   ]
  },
  {
   "cell_type": "markdown",
   "id": "90bfba39",
   "metadata": {},
   "source": [
    "### 자료출처\n",
    "- 농축수산물 : livestock and fishery products (LFproducts)  (기준년도 2020=100,%)\n",
    "    - https://kostat.go.kr/incomeNcpi/cpi/cpi_td/2/1/index.action?bmode=cpidtval\n",
    "    \n",
    "- 코로나 환자 현황 : covid19\n",
    "    - http://ncov.mohw.go.kr/\n",
    "    \n",
    "- 원유 가격 현황 : oilPrice\n",
    "    - http://investing.com\n",
    "    \n",
    "- 금리 변동 현황 : interestRate\n",
    "    - https://ecos.bok.or.kr/#/SearchStat"
   ]
  }
 ],
 "metadata": {
  "colab": {
   "name": "1조_주제.ipynb",
   "provenance": []
  },
  "kernelspec": {
   "display_name": "Python 3 (ipykernel)",
   "language": "python",
   "name": "python3"
  },
  "language_info": {
   "codemirror_mode": {
    "name": "ipython",
    "version": 3
   },
   "file_extension": ".py",
   "mimetype": "text/x-python",
   "name": "python",
   "nbconvert_exporter": "python",
   "pygments_lexer": "ipython3",
   "version": "3.9.12"
  }
 },
 "nbformat": 4,
 "nbformat_minor": 5
}
