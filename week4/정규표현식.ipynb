{
 "cells": [
  {
   "cell_type": "markdown",
   "metadata": {
    "id": "R6HXpFgB7YyG"
   },
   "source": [
    "- \\d - 숫자와 매치, [0-9]와 동일한 표현식이다.\n",
    "- \\D - 숫자가 아닌 것과 매치, [^0-9]와 동일한 표현식이다.\n",
    "- \\s - whitespace 문자와 매치, [ \\t\\n\\r\\f\\v]와 동일한 표현식이다. 맨 앞의 빈 칸은 공백문자(space)를 의미한다.\n",
    "- \\S - whitespace 문자가 아닌 것과 매치, [^ \\t\\n\\r\\f\\v]와 동일한 표현식이다.\n",
    "- \\w - 문자+숫자(alphanumeric)와 매치, [a-zA-Z0-9_]와 동일한 표현식이다.\n",
    "- \\W - 문자+숫자(alphanumeric)가 아닌 문자와 매치, [^a-zA-Z0-9_]와 동일한 표현식이다.\n",
    "\n"
   ]
  },
  {
   "cell_type": "markdown",
   "metadata": {
    "id": "4ziL5QhfsCPR"
   },
   "source": [
    "re.compile(정규식)"
   ]
  },
  {
   "cell_type": "code",
   "execution_count": 1,
   "metadata": {
    "executionInfo": {
     "elapsed": 4,
     "status": "ok",
     "timestamp": 1658023379431,
     "user": {
      "displayName": "hans J",
      "userId": "12200344362838438833"
     },
     "user_tz": -540
    },
    "id": "hSUSeubdSuEV"
   },
   "outputs": [],
   "source": [
    "import re"
   ]
  },
  {
   "cell_type": "markdown",
   "metadata": {
    "id": "rVwVsH7LoHQv"
   },
   "source": [
    "match : 문자열 시작 부터 비교"
   ]
  },
  {
   "cell_type": "code",
   "execution_count": null,
   "metadata": {
    "colab": {
     "base_uri": "https://localhost:8080/"
    },
    "executionInfo": {
     "elapsed": 276,
     "status": "ok",
     "timestamp": 1657951639647,
     "user": {
      "displayName": "hans J",
      "userId": "12200344362838438833"
     },
     "user_tz": -540
    },
    "id": "fUKI146cmegU",
    "outputId": "97ad4244-d1a9-43ee-8a13-61c8343eca09"
   },
   "outputs": [
    {
     "name": "stdout",
     "output_type": "stream",
     "text": [
      "aa mached\n"
     ]
    }
   ],
   "source": [
    "p = re.compile('[a-z]+')\n",
    "m = p.match('aa')\n",
    "if m:\n",
    "  print(m.group(), 'mached')\n",
    "else:\n",
    "  print('not matched')"
   ]
  },
  {
   "cell_type": "markdown",
   "metadata": {
    "id": "33AbAwenoL52"
   },
   "source": [
    "search : 문자열 전체 탐색"
   ]
  },
  {
   "cell_type": "code",
   "execution_count": null,
   "metadata": {
    "colab": {
     "base_uri": "https://localhost:8080/"
    },
    "executionInfo": {
     "elapsed": 272,
     "status": "ok",
     "timestamp": 1657951734873,
     "user": {
      "displayName": "hans J",
      "userId": "12200344362838438833"
     },
     "user_tz": -540
    },
    "id": "Yohiqsuwm2p7",
    "outputId": "fa51f963-7999-447c-ff43-ccb281c6c520"
   },
   "outputs": [
    {
     "data": {
      "text/plain": [
       "<re.Match object; span=(3, 8), match='years'>"
      ]
     },
     "execution_count": 12,
     "metadata": {},
     "output_type": "execute_result"
    }
   ],
   "source": [
    "p.search('34 years')"
   ]
  },
  {
   "cell_type": "code",
   "execution_count": null,
   "metadata": {
    "colab": {
     "base_uri": "https://localhost:8080/"
    },
    "executionInfo": {
     "elapsed": 8,
     "status": "ok",
     "timestamp": 1657951833710,
     "user": {
      "displayName": "hans J",
      "userId": "12200344362838438833"
     },
     "user_tz": -540
    },
    "id": "EVg_Ez8UnzYS",
    "outputId": "b0c4560b-e18b-4972-c449-fb228492ffbf"
   },
   "outputs": [
    {
     "name": "stdout",
     "output_type": "stream",
     "text": [
      "None <re.Match object; span=(3, 8), match='years'>\n"
     ]
    }
   ],
   "source": [
    "print(p.match('34 years'), p.search('34 years'))"
   ]
  },
  {
   "cell_type": "markdown",
   "metadata": {
    "id": "u-Z0P2_voZxW"
   },
   "source": [
    "findall : 문자열 전체에서 모든 단어와 비교"
   ]
  },
  {
   "cell_type": "code",
   "execution_count": null,
   "metadata": {
    "colab": {
     "base_uri": "https://localhost:8080/"
    },
    "executionInfo": {
     "elapsed": 8,
     "status": "ok",
     "timestamp": 1657951950463,
     "user": {
      "displayName": "hans J",
      "userId": "12200344362838438833"
     },
     "user_tz": -540
    },
    "id": "Ct5EPVDHoUrS",
    "outputId": "d2a9b170-1e61-4e3d-cdf5-faababa4039e"
   },
   "outputs": [
    {
     "data": {
      "text/plain": [
       "['m', 'years', 'old']"
      ]
     },
     "execution_count": 15,
     "metadata": {},
     "output_type": "execute_result"
    }
   ],
   "source": [
    "p.findall('I\\'m 26 years old')"
   ]
  },
  {
   "cell_type": "markdown",
   "metadata": {
    "id": "VtgKd5gTo5be"
   },
   "source": [
    "findall : 문자열 전체에서 모든 단어와 비교 해서 반복 가능한 match 요소로 반환"
   ]
  },
  {
   "cell_type": "code",
   "execution_count": null,
   "metadata": {
    "colab": {
     "base_uri": "https://localhost:8080/"
    },
    "executionInfo": {
     "elapsed": 4,
     "status": "ok",
     "timestamp": 1657952494113,
     "user": {
      "displayName": "hans J",
      "userId": "12200344362838438833"
     },
     "user_tz": -540
    },
    "id": "Zp1_EetzoxK7",
    "outputId": "ec49ec12-36c4-4bd9-98b0-351c4efda303"
   },
   "outputs": [
    {
     "name": "stdout",
     "output_type": "stream",
     "text": [
      "<re.Match object; span=(0, 2), match='im'>\n",
      "<re.Match object; span=(6, 11), match='years'>\n",
      "<re.Match object; span=(12, 15), match='old'>\n"
     ]
    }
   ],
   "source": [
    "r = p.finditer('im 26 years old')\n",
    "for i in r:\n",
    "  print(i)"
   ]
  },
  {
   "cell_type": "markdown",
   "metadata": {
    "id": "r1-cxgRftM9u"
   },
   "source": [
    "match 객체의 메서드"
   ]
  },
  {
   "cell_type": "code",
   "execution_count": null,
   "metadata": {
    "colab": {
     "base_uri": "https://localhost:8080/"
    },
    "executionInfo": {
     "elapsed": 285,
     "status": "ok",
     "timestamp": 1657955469884,
     "user": {
      "displayName": "hans J",
      "userId": "12200344362838438833"
     },
     "user_tz": -540
    },
    "id": "tT0nNyJAqwuq",
    "outputId": "9c94cd2f-7c9e-4a5d-cf7d-dfbe38a6ec81"
   },
   "outputs": [
    {
     "name": "stdout",
     "output_type": "stream",
     "text": [
      "\n",
      "# 객체 선언\n",
      "p = re.compile('po[a-z]+')\n",
      "m = p.search('lights camera action pose')\n",
      "\n",
      "\n",
      "# 매치된 문자열\n",
      "m.group() : pose\n",
      "\n",
      "# 매치된 문자열의 시작위치\n",
      "m.start() : 21\n",
      "\n",
      "# 매치된 문자열의 끝위치\n",
      "m.end() : 25\n",
      "\n",
      "# 매치된 문자열의 시작과 끝\n",
      "m.span() : (21, 25)\n",
      "\n"
     ]
    }
   ],
   "source": [
    "p = re.compile('po[a-z]+')\n",
    "m = p.search('lights camera action pose')\n",
    "\n",
    "print(f'''\n",
    "# 객체 선언\n",
    "p = re.compile('po[a-z]+')\n",
    "m = p.search('lights camera action pose')\n",
    "\n",
    "\n",
    "# 매치된 문자열\n",
    "m.group() : {m.group()}\n",
    "\n",
    "# 매치된 문자열의 시작위치\n",
    "m.start() : {m.start()}\n",
    "\n",
    "# 매치된 문자열의 끝위치\n",
    "m.end() : {m.end()}\n",
    "\n",
    "# 매치된 문자열의 시작과 끝\n",
    "m.span() : {m.span()}\n",
    "''')  "
   ]
  },
  {
   "cell_type": "markdown",
   "metadata": {
    "id": "BmTV_Nnr5uiP"
   },
   "source": [
    "컴파일 옵션"
   ]
  },
  {
   "cell_type": "code",
   "execution_count": null,
   "metadata": {
    "colab": {
     "base_uri": "https://localhost:8080/"
    },
    "executionInfo": {
     "elapsed": 275,
     "status": "ok",
     "timestamp": 1657956567790,
     "user": {
      "displayName": "hans J",
      "userId": "12200344362838438833"
     },
     "user_tz": -540
    },
    "id": "gWlpwKIztPTk",
    "outputId": "e9eacd31-f682-4bda-a384-281126d3f9e8"
   },
   "outputs": [
    {
     "name": "stdout",
     "output_type": "stream",
     "text": [
      "not matched\n"
     ]
    }
   ],
   "source": [
    "# DOTALL, S (줄바꿈 '\\n'을 제외한 모든 문자를 나타내는 '.' 에서 '\\n'를 포함하는 방식)\n",
    "p = re.compile('a.b')\n",
    "m = p.search('a\\nb')\n",
    "\n",
    "if m:\n",
    "  print(m.group(), 'mached')\n",
    "else:\n",
    "  print('not matched')"
   ]
  },
  {
   "cell_type": "code",
   "execution_count": null,
   "metadata": {
    "colab": {
     "base_uri": "https://localhost:8080/"
    },
    "executionInfo": {
     "elapsed": 287,
     "status": "ok",
     "timestamp": 1657956595537,
     "user": {
      "displayName": "hans J",
      "userId": "12200344362838438833"
     },
     "user_tz": -540
    },
    "id": "ib30TkbF6VFh",
    "outputId": "b202af7c-579a-46b2-808f-66fafc0350a6"
   },
   "outputs": [
    {
     "name": "stdout",
     "output_type": "stream",
     "text": [
      "a\n",
      "b mached\n"
     ]
    }
   ],
   "source": [
    "p = re.compile('a.b', re.DOTALL)\n",
    "m = p.search('a\\nb')\n",
    "\n",
    "if m:\n",
    "  print(m.group(), 'mached')\n",
    "else:\n",
    "  print('not matched')"
   ]
  },
  {
   "cell_type": "code",
   "execution_count": null,
   "metadata": {
    "colab": {
     "base_uri": "https://localhost:8080/"
    },
    "executionInfo": {
     "elapsed": 288,
     "status": "ok",
     "timestamp": 1657956749122,
     "user": {
      "displayName": "hans J",
      "userId": "12200344362838438833"
     },
     "user_tz": -540
    },
    "id": "DJd9ikVb6fN4",
    "outputId": "481705f7-9e91-4b16-c072-13aedec279de"
   },
   "outputs": [
    {
     "name": "stdout",
     "output_type": "stream",
     "text": [
      "None\n"
     ]
    }
   ],
   "source": [
    "# IGNORECASE, I (대소문자 구별 없이 매치)\n",
    "\n",
    "p = re.compile('[a-z]+')\n",
    "print(p.match('PYTHON'))"
   ]
  },
  {
   "cell_type": "code",
   "execution_count": null,
   "metadata": {
    "colab": {
     "base_uri": "https://localhost:8080/"
    },
    "executionInfo": {
     "elapsed": 6,
     "status": "ok",
     "timestamp": 1657956750273,
     "user": {
      "displayName": "hans J",
      "userId": "12200344362838438833"
     },
     "user_tz": -540
    },
    "id": "0rsPba8767Yx",
    "outputId": "aecf111c-8e67-430a-c91a-b7cdfdf6e4fb"
   },
   "outputs": [
    {
     "data": {
      "text/plain": [
       "<re.Match object; span=(0, 6), match='PYTHON'>"
      ]
     },
     "execution_count": 41,
     "metadata": {},
     "output_type": "execute_result"
    }
   ],
   "source": [
    "p = re.compile('[a-z]+', re.I)\n",
    "p.match('PYTHON')"
   ]
  },
  {
   "cell_type": "code",
   "execution_count": null,
   "metadata": {
    "colab": {
     "base_uri": "https://localhost:8080/"
    },
    "executionInfo": {
     "elapsed": 279,
     "status": "ok",
     "timestamp": 1657957190086,
     "user": {
      "displayName": "hans J",
      "userId": "12200344362838438833"
     },
     "user_tz": -540
    },
    "id": "sCyAo_716-2I",
    "outputId": "f473fe16-4c9a-4ef8-ff79-33349b32ddf0"
   },
   "outputs": [
    {
     "name": "stdout",
     "output_type": "stream",
     "text": [
      "['apart']\n"
     ]
    }
   ],
   "source": [
    "# MULTILINE, M (메타문자'^' 라인의 처음으로 인식)\n",
    "\n",
    "p = re.compile('^a\\w+')\n",
    "print(p.findall('''apart\n",
    "airport\n",
    "apple\n",
    "banana\n",
    "'''))"
   ]
  },
  {
   "cell_type": "code",
   "execution_count": null,
   "metadata": {
    "colab": {
     "base_uri": "https://localhost:8080/"
    },
    "executionInfo": {
     "elapsed": 279,
     "status": "ok",
     "timestamp": 1657957200044,
     "user": {
      "displayName": "hans J",
      "userId": "12200344362838438833"
     },
     "user_tz": -540
    },
    "id": "sSm01fVw7PkG",
    "outputId": "b3b3f358-4b3c-4b75-d852-f4dfcf1a908e"
   },
   "outputs": [
    {
     "name": "stdout",
     "output_type": "stream",
     "text": [
      "['apart', 'airport', 'apple']\n"
     ]
    }
   ],
   "source": [
    "p = re.compile('^a\\w+', re.MULTILINE)\n",
    "print(p.findall('''apart\n",
    "airport\n",
    "apple\n",
    "banana\n",
    "'''))"
   ]
  },
  {
   "cell_type": "code",
   "execution_count": null,
   "metadata": {
    "id": "iX5nHNVy8yzY"
   },
   "outputs": [],
   "source": [
    "# VERBOSE, X (정규식을 주석 또는 줄 단위로 구분)\n",
    "\n",
    "charref = re.compile(r'&[#](0[0-7]+\\[0-9]+|x[0-9a-fA-F]+);')\n",
    "\n",
    "charref = re.compile(r\"\"\"\n",
    " &[#]                # Start of a numeric entity reference\n",
    " (\n",
    "     0[0-7]+         # Octal form\n",
    "   | [0-9]+          # Decimal form\n",
    "   | x[0-9a-fA-F]+   # Hexadecimal form\n",
    " )\n",
    " ;                   # Trailing semicolon\n",
    "\"\"\", re.VERBOSE)"
   ]
  },
  {
   "cell_type": "code",
   "execution_count": null,
   "metadata": {
    "colab": {
     "base_uri": "https://localhost:8080/",
     "height": 401
    },
    "executionInfo": {
     "elapsed": 9,
     "status": "error",
     "timestamp": 1657957554742,
     "user": {
      "displayName": "hans J",
      "userId": "12200344362838438833"
     },
     "user_tz": -540
    },
    "id": "YMnYo7Fj9jhQ",
    "outputId": "28420c72-ce6f-4def-9b4c-996d47eaf756",
    "scrolled": true
   },
   "outputs": [
    {
     "ename": "error",
     "evalue": "ignored",
     "output_type": "error",
     "traceback": [
      "\u001b[0;31m---------------------------------------------------------------------------\u001b[0m",
      "\u001b[0;31merror\u001b[0m                                     Traceback (most recent call last)",
      "\u001b[0;32m<ipython-input-54-22db512ccc76>\u001b[0m in \u001b[0;36m<module>\u001b[0;34m()\u001b[0m\n\u001b[1;32m      1\u001b[0m \u001b[0;31m# 백슬래시 표현 (\\)\u001b[0m\u001b[0;34m\u001b[0m\u001b[0;34m\u001b[0m\u001b[0;34m\u001b[0m\u001b[0m\n\u001b[1;32m      2\u001b[0m \u001b[0;34m\u001b[0m\u001b[0m\n\u001b[0;32m----> 3\u001b[0;31m \u001b[0mp\u001b[0m \u001b[0;34m=\u001b[0m \u001b[0mre\u001b[0m\u001b[0;34m.\u001b[0m\u001b[0mcompile\u001b[0m\u001b[0;34m(\u001b[0m\u001b[0;34m'\\head'\u001b[0m\u001b[0;34m)\u001b[0m\u001b[0;34m\u001b[0m\u001b[0;34m\u001b[0m\u001b[0m\n\u001b[0m\u001b[1;32m      4\u001b[0m m = p.search('''\n\u001b[1;32m      5\u001b[0m \u001b[0;31m\\\u001b[0m\u001b[0ms\u001b[0m\u001b[0;34m\u001b[0m\u001b[0;34m\u001b[0m\u001b[0m\n",
      "\u001b[0;32m/usr/lib/python3.7/re.py\u001b[0m in \u001b[0;36mcompile\u001b[0;34m(pattern, flags)\u001b[0m\n\u001b[1;32m    234\u001b[0m \u001b[0;32mdef\u001b[0m \u001b[0mcompile\u001b[0m\u001b[0;34m(\u001b[0m\u001b[0mpattern\u001b[0m\u001b[0;34m,\u001b[0m \u001b[0mflags\u001b[0m\u001b[0;34m=\u001b[0m\u001b[0;36m0\u001b[0m\u001b[0;34m)\u001b[0m\u001b[0;34m:\u001b[0m\u001b[0;34m\u001b[0m\u001b[0;34m\u001b[0m\u001b[0m\n\u001b[1;32m    235\u001b[0m     \u001b[0;34m\"Compile a regular expression pattern, returning a Pattern object.\"\u001b[0m\u001b[0;34m\u001b[0m\u001b[0;34m\u001b[0m\u001b[0m\n\u001b[0;32m--> 236\u001b[0;31m     \u001b[0;32mreturn\u001b[0m \u001b[0m_compile\u001b[0m\u001b[0;34m(\u001b[0m\u001b[0mpattern\u001b[0m\u001b[0;34m,\u001b[0m \u001b[0mflags\u001b[0m\u001b[0;34m)\u001b[0m\u001b[0;34m\u001b[0m\u001b[0;34m\u001b[0m\u001b[0m\n\u001b[0m\u001b[1;32m    237\u001b[0m \u001b[0;34m\u001b[0m\u001b[0m\n\u001b[1;32m    238\u001b[0m \u001b[0;32mdef\u001b[0m \u001b[0mpurge\u001b[0m\u001b[0;34m(\u001b[0m\u001b[0;34m)\u001b[0m\u001b[0;34m:\u001b[0m\u001b[0;34m\u001b[0m\u001b[0;34m\u001b[0m\u001b[0m\n",
      "\u001b[0;32m/usr/lib/python3.7/re.py\u001b[0m in \u001b[0;36m_compile\u001b[0;34m(pattern, flags)\u001b[0m\n\u001b[1;32m    286\u001b[0m     \u001b[0;32mif\u001b[0m \u001b[0;32mnot\u001b[0m \u001b[0msre_compile\u001b[0m\u001b[0;34m.\u001b[0m\u001b[0misstring\u001b[0m\u001b[0;34m(\u001b[0m\u001b[0mpattern\u001b[0m\u001b[0;34m)\u001b[0m\u001b[0;34m:\u001b[0m\u001b[0;34m\u001b[0m\u001b[0;34m\u001b[0m\u001b[0m\n\u001b[1;32m    287\u001b[0m         \u001b[0;32mraise\u001b[0m \u001b[0mTypeError\u001b[0m\u001b[0;34m(\u001b[0m\u001b[0;34m\"first argument must be string or compiled pattern\"\u001b[0m\u001b[0;34m)\u001b[0m\u001b[0;34m\u001b[0m\u001b[0;34m\u001b[0m\u001b[0m\n\u001b[0;32m--> 288\u001b[0;31m     \u001b[0mp\u001b[0m \u001b[0;34m=\u001b[0m \u001b[0msre_compile\u001b[0m\u001b[0;34m.\u001b[0m\u001b[0mcompile\u001b[0m\u001b[0;34m(\u001b[0m\u001b[0mpattern\u001b[0m\u001b[0;34m,\u001b[0m \u001b[0mflags\u001b[0m\u001b[0;34m)\u001b[0m\u001b[0;34m\u001b[0m\u001b[0;34m\u001b[0m\u001b[0m\n\u001b[0m\u001b[1;32m    289\u001b[0m     \u001b[0;32mif\u001b[0m \u001b[0;32mnot\u001b[0m \u001b[0;34m(\u001b[0m\u001b[0mflags\u001b[0m \u001b[0;34m&\u001b[0m \u001b[0mDEBUG\u001b[0m\u001b[0;34m)\u001b[0m\u001b[0;34m:\u001b[0m\u001b[0;34m\u001b[0m\u001b[0;34m\u001b[0m\u001b[0m\n\u001b[1;32m    290\u001b[0m         \u001b[0;32mif\u001b[0m \u001b[0mlen\u001b[0m\u001b[0;34m(\u001b[0m\u001b[0m_cache\u001b[0m\u001b[0;34m)\u001b[0m \u001b[0;34m>=\u001b[0m \u001b[0m_MAXCACHE\u001b[0m\u001b[0;34m:\u001b[0m\u001b[0;34m\u001b[0m\u001b[0;34m\u001b[0m\u001b[0m\n",
      "\u001b[0;32m/usr/lib/python3.7/sre_compile.py\u001b[0m in \u001b[0;36mcompile\u001b[0;34m(p, flags)\u001b[0m\n\u001b[1;32m    762\u001b[0m     \u001b[0;32mif\u001b[0m \u001b[0misstring\u001b[0m\u001b[0;34m(\u001b[0m\u001b[0mp\u001b[0m\u001b[0;34m)\u001b[0m\u001b[0;34m:\u001b[0m\u001b[0;34m\u001b[0m\u001b[0;34m\u001b[0m\u001b[0m\n\u001b[1;32m    763\u001b[0m         \u001b[0mpattern\u001b[0m \u001b[0;34m=\u001b[0m \u001b[0mp\u001b[0m\u001b[0;34m\u001b[0m\u001b[0;34m\u001b[0m\u001b[0m\n\u001b[0;32m--> 764\u001b[0;31m         \u001b[0mp\u001b[0m \u001b[0;34m=\u001b[0m \u001b[0msre_parse\u001b[0m\u001b[0;34m.\u001b[0m\u001b[0mparse\u001b[0m\u001b[0;34m(\u001b[0m\u001b[0mp\u001b[0m\u001b[0;34m,\u001b[0m \u001b[0mflags\u001b[0m\u001b[0;34m)\u001b[0m\u001b[0;34m\u001b[0m\u001b[0;34m\u001b[0m\u001b[0m\n\u001b[0m\u001b[1;32m    765\u001b[0m     \u001b[0;32melse\u001b[0m\u001b[0;34m:\u001b[0m\u001b[0;34m\u001b[0m\u001b[0;34m\u001b[0m\u001b[0m\n\u001b[1;32m    766\u001b[0m         \u001b[0mpattern\u001b[0m \u001b[0;34m=\u001b[0m \u001b[0;32mNone\u001b[0m\u001b[0;34m\u001b[0m\u001b[0;34m\u001b[0m\u001b[0m\n",
      "\u001b[0;32m/usr/lib/python3.7/sre_parse.py\u001b[0m in \u001b[0;36mparse\u001b[0;34m(str, flags, pattern)\u001b[0m\n\u001b[1;32m    922\u001b[0m \u001b[0;34m\u001b[0m\u001b[0m\n\u001b[1;32m    923\u001b[0m     \u001b[0;32mtry\u001b[0m\u001b[0;34m:\u001b[0m\u001b[0;34m\u001b[0m\u001b[0;34m\u001b[0m\u001b[0m\n\u001b[0;32m--> 924\u001b[0;31m         \u001b[0mp\u001b[0m \u001b[0;34m=\u001b[0m \u001b[0m_parse_sub\u001b[0m\u001b[0;34m(\u001b[0m\u001b[0msource\u001b[0m\u001b[0;34m,\u001b[0m \u001b[0mpattern\u001b[0m\u001b[0;34m,\u001b[0m \u001b[0mflags\u001b[0m \u001b[0;34m&\u001b[0m \u001b[0mSRE_FLAG_VERBOSE\u001b[0m\u001b[0;34m,\u001b[0m \u001b[0;36m0\u001b[0m\u001b[0;34m)\u001b[0m\u001b[0;34m\u001b[0m\u001b[0;34m\u001b[0m\u001b[0m\n\u001b[0m\u001b[1;32m    925\u001b[0m     \u001b[0;32mexcept\u001b[0m \u001b[0mVerbose\u001b[0m\u001b[0;34m:\u001b[0m\u001b[0;34m\u001b[0m\u001b[0;34m\u001b[0m\u001b[0m\n\u001b[1;32m    926\u001b[0m         \u001b[0;31m# the VERBOSE flag was switched on inside the pattern.  to be\u001b[0m\u001b[0;34m\u001b[0m\u001b[0;34m\u001b[0m\u001b[0;34m\u001b[0m\u001b[0m\n",
      "\u001b[0;32m/usr/lib/python3.7/sre_parse.py\u001b[0m in \u001b[0;36m_parse_sub\u001b[0;34m(source, state, verbose, nested)\u001b[0m\n\u001b[1;32m    418\u001b[0m     \u001b[0;32mwhile\u001b[0m \u001b[0;32mTrue\u001b[0m\u001b[0;34m:\u001b[0m\u001b[0;34m\u001b[0m\u001b[0;34m\u001b[0m\u001b[0m\n\u001b[1;32m    419\u001b[0m         itemsappend(_parse(source, state, verbose, nested + 1,\n\u001b[0;32m--> 420\u001b[0;31m                            not nested and not items))\n\u001b[0m\u001b[1;32m    421\u001b[0m         \u001b[0;32mif\u001b[0m \u001b[0;32mnot\u001b[0m \u001b[0msourcematch\u001b[0m\u001b[0;34m(\u001b[0m\u001b[0;34m\"|\"\u001b[0m\u001b[0;34m)\u001b[0m\u001b[0;34m:\u001b[0m\u001b[0;34m\u001b[0m\u001b[0;34m\u001b[0m\u001b[0m\n\u001b[1;32m    422\u001b[0m             \u001b[0;32mbreak\u001b[0m\u001b[0;34m\u001b[0m\u001b[0;34m\u001b[0m\u001b[0m\n",
      "\u001b[0;32m/usr/lib/python3.7/sre_parse.py\u001b[0m in \u001b[0;36m_parse\u001b[0;34m(source, state, verbose, nested, first)\u001b[0m\n\u001b[1;32m    499\u001b[0m \u001b[0;34m\u001b[0m\u001b[0m\n\u001b[1;32m    500\u001b[0m         \u001b[0;32mif\u001b[0m \u001b[0mthis\u001b[0m\u001b[0;34m[\u001b[0m\u001b[0;36m0\u001b[0m\u001b[0;34m]\u001b[0m \u001b[0;34m==\u001b[0m \u001b[0;34m\"\\\\\"\u001b[0m\u001b[0;34m:\u001b[0m\u001b[0;34m\u001b[0m\u001b[0;34m\u001b[0m\u001b[0m\n\u001b[0;32m--> 501\u001b[0;31m             \u001b[0mcode\u001b[0m \u001b[0;34m=\u001b[0m \u001b[0m_escape\u001b[0m\u001b[0;34m(\u001b[0m\u001b[0msource\u001b[0m\u001b[0;34m,\u001b[0m \u001b[0mthis\u001b[0m\u001b[0;34m,\u001b[0m \u001b[0mstate\u001b[0m\u001b[0;34m)\u001b[0m\u001b[0;34m\u001b[0m\u001b[0;34m\u001b[0m\u001b[0m\n\u001b[0m\u001b[1;32m    502\u001b[0m             \u001b[0msubpatternappend\u001b[0m\u001b[0;34m(\u001b[0m\u001b[0mcode\u001b[0m\u001b[0;34m)\u001b[0m\u001b[0;34m\u001b[0m\u001b[0;34m\u001b[0m\u001b[0m\n\u001b[1;32m    503\u001b[0m \u001b[0;34m\u001b[0m\u001b[0m\n",
      "\u001b[0;32m/usr/lib/python3.7/sre_parse.py\u001b[0m in \u001b[0;36m_escape\u001b[0;34m(source, escape, state)\u001b[0m\n\u001b[1;32m    400\u001b[0m         \u001b[0;32mif\u001b[0m \u001b[0mlen\u001b[0m\u001b[0;34m(\u001b[0m\u001b[0mescape\u001b[0m\u001b[0;34m)\u001b[0m \u001b[0;34m==\u001b[0m \u001b[0;36m2\u001b[0m\u001b[0;34m:\u001b[0m\u001b[0;34m\u001b[0m\u001b[0;34m\u001b[0m\u001b[0m\n\u001b[1;32m    401\u001b[0m             \u001b[0;32mif\u001b[0m \u001b[0mc\u001b[0m \u001b[0;32min\u001b[0m \u001b[0mASCIILETTERS\u001b[0m\u001b[0;34m:\u001b[0m\u001b[0;34m\u001b[0m\u001b[0;34m\u001b[0m\u001b[0m\n\u001b[0;32m--> 402\u001b[0;31m                 \u001b[0;32mraise\u001b[0m \u001b[0msource\u001b[0m\u001b[0;34m.\u001b[0m\u001b[0merror\u001b[0m\u001b[0;34m(\u001b[0m\u001b[0;34m\"bad escape %s\"\u001b[0m \u001b[0;34m%\u001b[0m \u001b[0mescape\u001b[0m\u001b[0;34m,\u001b[0m \u001b[0mlen\u001b[0m\u001b[0;34m(\u001b[0m\u001b[0mescape\u001b[0m\u001b[0;34m)\u001b[0m\u001b[0;34m)\u001b[0m\u001b[0;34m\u001b[0m\u001b[0;34m\u001b[0m\u001b[0m\n\u001b[0m\u001b[1;32m    403\u001b[0m             \u001b[0;32mreturn\u001b[0m \u001b[0mLITERAL\u001b[0m\u001b[0;34m,\u001b[0m \u001b[0mord\u001b[0m\u001b[0;34m(\u001b[0m\u001b[0mescape\u001b[0m\u001b[0;34m[\u001b[0m\u001b[0;36m1\u001b[0m\u001b[0;34m]\u001b[0m\u001b[0;34m)\u001b[0m\u001b[0;34m\u001b[0m\u001b[0;34m\u001b[0m\u001b[0m\n\u001b[1;32m    404\u001b[0m     \u001b[0;32mexcept\u001b[0m \u001b[0mValueError\u001b[0m\u001b[0;34m:\u001b[0m\u001b[0;34m\u001b[0m\u001b[0;34m\u001b[0m\u001b[0m\n",
      "\u001b[0;31merror\u001b[0m: bad escape \\h at position 0"
     ]
    }
   ],
   "source": [
    "# 백슬래시 표현 (\\)\n",
    "\n",
    "p = re.compile('\\head')\n",
    "m = p.search('''\n",
    "\\head\n",
    "''')"
   ]
  },
  {
   "cell_type": "code",
   "execution_count": null,
   "metadata": {
    "colab": {
     "base_uri": "https://localhost:8080/"
    },
    "executionInfo": {
     "elapsed": 279,
     "status": "ok",
     "timestamp": 1657957596662,
     "user": {
      "displayName": "hans J",
      "userId": "12200344362838438833"
     },
     "user_tz": -540
    },
    "id": "YJIskilX9_Ap",
    "outputId": "b167c997-e883-4297-f2be-92d61b7ee20e"
   },
   "outputs": [
    {
     "name": "stdout",
     "output_type": "stream",
     "text": [
      "<re.Match object; span=(1, 6), match='\\\\head'>\n"
     ]
    }
   ],
   "source": [
    "p = re.compile(r'\\\\head')\n",
    "m = p.search('''\n",
    "\\head\n",
    "''')\n",
    "print(m)"
   ]
  },
  {
   "cell_type": "markdown",
   "metadata": {
    "id": "fabCUrv0-bat"
   },
   "source": [
    "메타문자"
   ]
  },
  {
   "cell_type": "code",
   "execution_count": 3,
   "metadata": {
    "colab": {
     "base_uri": "https://localhost:8080/"
    },
    "executionInfo": {
     "elapsed": 10,
     "status": "ok",
     "timestamp": 1658023512213,
     "user": {
      "displayName": "hans J",
      "userId": "12200344362838438833"
     },
     "user_tz": -540
    },
    "id": "Tdf_20jA-NEw",
    "outputId": "5feba453-b745-4d4a-9c0b-2aeb33b28a1d"
   },
   "outputs": [
    {
     "name": "stdout",
     "output_type": "stream",
     "text": [
      "['as', 'bo']\n"
     ]
    }
   ],
   "source": [
    "# | : or\n",
    "\n",
    "p = re.compile('as|bo')\n",
    "m = p.findall('as bo')\n",
    "print(m)"
   ]
  },
  {
   "cell_type": "code",
   "execution_count": 5,
   "metadata": {
    "colab": {
     "base_uri": "https://localhost:8080/"
    },
    "executionInfo": {
     "elapsed": 4,
     "status": "ok",
     "timestamp": 1658025830306,
     "user": {
      "displayName": "hans J",
      "userId": "12200344362838438833"
     },
     "user_tz": -540
    },
    "id": "otaMuyc55rV9",
    "outputId": "2f860620-abcc-499c-bb3a-260e350c9d20"
   },
   "outputs": [
    {
     "name": "stdout",
     "output_type": "stream",
     "text": [
      "<re.Match object; span=(0, 1), match='a'>\n",
      "None\n"
     ]
    }
   ],
   "source": [
    "# ^ : 문자열의 맨 처음과 일치\n",
    "print(re.search('^a', 'a number'))\n",
    "print(re.search('^a', 'number a'))"
   ]
  },
  {
   "cell_type": "code",
   "execution_count": 7,
   "metadata": {
    "colab": {
     "base_uri": "https://localhost:8080/"
    },
    "executionInfo": {
     "elapsed": 470,
     "status": "ok",
     "timestamp": 1658025912534,
     "user": {
      "displayName": "hans J",
      "userId": "12200344362838438833"
     },
     "user_tz": -540
    },
    "id": "2rcZcYwmCd-M",
    "outputId": "afbf5cd2-566e-4276-ae79-9dce7ca93886"
   },
   "outputs": [
    {
     "name": "stdout",
     "output_type": "stream",
     "text": [
      "None\n",
      "<re.Match object; span=(5, 9), match='time'>\n"
     ]
    }
   ],
   "source": [
    "# $ : 문자열의 맨 끝과 일치\n",
    "print(re.search('time$', 'time over'))\n",
    "print(re.search('time$', 'over time'))"
   ]
  },
  {
   "cell_type": "code",
   "execution_count": 11,
   "metadata": {
    "colab": {
     "base_uri": "https://localhost:8080/"
    },
    "executionInfo": {
     "elapsed": 5,
     "status": "ok",
     "timestamp": 1658026085103,
     "user": {
      "displayName": "hans J",
      "userId": "12200344362838438833"
     },
     "user_tz": -540
    },
    "id": "mrZDyuKdC2r6",
    "outputId": "fb382a5f-b6cb-433c-bb3c-4dfa8f0742c3"
   },
   "outputs": [
    {
     "name": "stdout",
     "output_type": "stream",
     "text": [
      "None\n",
      "<re.Match object; span=(4, 9), match='class'>\n"
     ]
    }
   ],
   "source": [
    "# \\b : 구분자\n",
    "p = re.compile(r'\\bclass\\b')\n",
    "d = re.compile(r'class')\n",
    "print(p.search('not classified at all'))\n",
    "print(d.search('not classified at all'))"
   ]
  },
  {
   "cell_type": "code",
   "execution_count": 13,
   "metadata": {
    "colab": {
     "base_uri": "https://localhost:8080/"
    },
    "executionInfo": {
     "elapsed": 7,
     "status": "ok",
     "timestamp": 1658026161715,
     "user": {
      "displayName": "hans J",
      "userId": "12200344362838438833"
     },
     "user_tz": -540
    },
    "id": "Rb1iEs3iDNlh",
    "outputId": "528be2ea-c20c-4701-caee-d9cb637b7050"
   },
   "outputs": [
    {
     "name": "stdout",
     "output_type": "stream",
     "text": [
      "<re.Match object; span=(2, 7), match='class'>\n",
      "<re.Match object; span=(2, 7), match='class'>\n"
     ]
    }
   ],
   "source": [
    "# \\B : 구분자반대\n",
    "p = re.compile(r'\\Bclass\\B')\n",
    "d = re.compile(r'class')\n",
    "print(p.search('unclassified at all'))\n",
    "print(d.search('unclassified at all'))"
   ]
  },
  {
   "cell_type": "markdown",
   "metadata": {
    "id": "jsQxRbBxHeA4"
   },
   "source": [
    "그루핑"
   ]
  },
  {
   "cell_type": "code",
   "execution_count": 17,
   "metadata": {
    "colab": {
     "base_uri": "https://localhost:8080/"
    },
    "executionInfo": {
     "elapsed": 7,
     "status": "ok",
     "timestamp": 1658027252107,
     "user": {
      "displayName": "hans J",
      "userId": "12200344362838438833"
     },
     "user_tz": -540
    },
    "id": "r6bBGHGhDuMC",
    "outputId": "41215752-f209-48fc-e5ff-a0048d38cf18"
   },
   "outputs": [
    {
     "name": "stdout",
     "output_type": "stream",
     "text": [
      "<re.Match object; span=(0, 6), match='ABCABC'>\n",
      "ABCABC\n"
     ]
    }
   ],
   "source": [
    "# 문자열의 반복\n",
    "p = re.compile('(ABC)+')\n",
    "m = p.search('ABCABC ABCABCA ABD AABBCC ABCABCABC ABC')\n",
    "print(m)\n",
    "print(m.group())"
   ]
  },
  {
   "cell_type": "code",
   "execution_count": 18,
   "metadata": {
    "colab": {
     "base_uri": "https://localhost:8080/",
     "height": 35
    },
    "executionInfo": {
     "elapsed": 14,
     "status": "ok",
     "timestamp": 1658027420305,
     "user": {
      "displayName": "hans J",
      "userId": "12200344362838438833"
     },
     "user_tz": -540
    },
    "id": "ThgqANloH3TS",
    "outputId": "05ba9c7b-cfee-48e9-8aee-c56bc059e664"
   },
   "outputs": [
    {
     "data": {
      "application/vnd.google.colaboratory.intrinsic+json": {
       "type": "string"
      },
      "text/plain": [
       "'park 010-1234-5678'"
      ]
     },
     "execution_count": 18,
     "metadata": {},
     "output_type": "execute_result"
    }
   ],
   "source": [
    "p = re.compile(r\"\\w+\\s+\\d+[-]\\d+[-]\\d+\")\n",
    "\n",
    "print(p.search('park 010-1234-5678').group())\n",
    "print(p.search('park 010-1234-5678').group(2))"
   ]
  },
  {
   "cell_type": "code",
   "execution_count": 21,
   "metadata": {
    "colab": {
     "base_uri": "https://localhost:8080/"
    },
    "executionInfo": {
     "elapsed": 432,
     "status": "ok",
     "timestamp": 1658027602682,
     "user": {
      "displayName": "hans J",
      "userId": "12200344362838438833"
     },
     "user_tz": -540
    },
    "id": "LvYOrghbIqcq",
    "outputId": "c4206d13-94c5-4966-b93f-4d5554a685e7"
   },
   "outputs": [
    {
     "name": "stdout",
     "output_type": "stream",
     "text": [
      "park 010-1234-5678\n",
      "park\n",
      "010-1234-5678\n",
      "010\n",
      "5678\n"
     ]
    }
   ],
   "source": [
    "p = re.compile(r\"(\\w+)\\s+((\\d+)[-]\\d+[-](\\d+))\")\n",
    "\n",
    "print(p.search('park 010-1234-5678').group())\n",
    "for i in range(1, 5):\n",
    "  print(p.search('park 010-1234-5678').group(i))"
   ]
  },
  {
   "cell_type": "code",
   "execution_count": 23,
   "metadata": {
    "colab": {
     "base_uri": "https://localhost:8080/"
    },
    "executionInfo": {
     "elapsed": 5,
     "status": "ok",
     "timestamp": 1658029671319,
     "user": {
      "displayName": "hans J",
      "userId": "12200344362838438833"
     },
     "user_tz": -540
    },
    "id": "LxLXWibNJOTT",
    "outputId": "19d93872-d173-4226-b59b-e67030391aa4"
   },
   "outputs": [
    {
     "name": "stdout",
     "output_type": "stream",
     "text": [
      "None\n",
      "add add\n"
     ]
    }
   ],
   "source": [
    "# 그루핑된 문자열 재참조\n",
    "\n",
    "p = re.compile(r'(\\b\\w+)\\s+\\1')\n",
    "print(p.search('add ad'))\n",
    "print(p.search('add add').group())"
   ]
  },
  {
   "cell_type": "code",
   "execution_count": 27,
   "metadata": {
    "colab": {
     "base_uri": "https://localhost:8080/"
    },
    "executionInfo": {
     "elapsed": 3,
     "status": "ok",
     "timestamp": 1658029814294,
     "user": {
      "displayName": "hans J",
      "userId": "12200344362838438833"
     },
     "user_tz": -540
    },
    "id": "O7HZxrGlNu-6",
    "outputId": "80ba694d-15d5-4c60-d642-9ec1ded624d1"
   },
   "outputs": [
    {
     "name": "stdout",
     "output_type": "stream",
     "text": [
      "add\n"
     ]
    }
   ],
   "source": [
    "# 그루핑된 문자열 이름 붙이기\n",
    "\n",
    "p = re.compile(r\"(?P<rep>\\w+)\\s+\\1\")\n",
    "m = p.search('add add')\n",
    "print(m.group('rep'))"
   ]
  },
  {
   "cell_type": "markdown",
   "metadata": {
    "id": "8YJ6PUu-R_Pv"
   },
   "source": [
    "긍정형 전방 탐색"
   ]
  },
  {
   "cell_type": "code",
   "execution_count": 29,
   "metadata": {
    "colab": {
     "base_uri": "https://localhost:8080/"
    },
    "executionInfo": {
     "elapsed": 7,
     "status": "ok",
     "timestamp": 1658029993961,
     "user": {
      "displayName": "hans J",
      "userId": "12200344362838438833"
     },
     "user_tz": -540
    },
    "id": "gu5EKPcBRhK0",
    "outputId": "4f8e73eb-0a15-4135-d414-093b74c565c2"
   },
   "outputs": [
    {
     "name": "stdout",
     "output_type": "stream",
     "text": [
      "http:\n"
     ]
    }
   ],
   "source": [
    "p = re.compile('.+:')\n",
    "m = p.search('http://google.com')\n",
    "print(m.group())"
   ]
  },
  {
   "cell_type": "code",
   "execution_count": 30,
   "metadata": {
    "colab": {
     "base_uri": "https://localhost:8080/"
    },
    "executionInfo": {
     "elapsed": 3,
     "status": "ok",
     "timestamp": 1658030059178,
     "user": {
      "displayName": "hans J",
      "userId": "12200344362838438833"
     },
     "user_tz": -540
    },
    "id": "7xtXKPNeSc9g",
    "outputId": "60e99fcc-2929-4174-df54-ac8ffa108ce8"
   },
   "outputs": [
    {
     "name": "stdout",
     "output_type": "stream",
     "text": [
      "http\n"
     ]
    }
   ],
   "source": [
    "p = re.compile('.+(?=:)')\n",
    "m = p.search('http://google.com')\n",
    "print(m.group())"
   ]
  },
  {
   "cell_type": "code",
   "execution_count": 34,
   "metadata": {
    "colab": {
     "base_uri": "https://localhost:8080/"
    },
    "executionInfo": {
     "elapsed": 546,
     "status": "ok",
     "timestamp": 1658033561516,
     "user": {
      "displayName": "hans J",
      "userId": "12200344362838438833"
     },
     "user_tz": -540
    },
    "id": "O3gaxqWUSulw",
    "outputId": "285f248f-7785-4069-8c19-d61c58680a54"
   },
   "outputs": [
    {
     "name": "stdout",
     "output_type": "stream",
     "text": [
      "None\n"
     ]
    }
   ],
   "source": [
    "p = re.compile('.*[.][^b].*$')\n",
    "print(p.search('abc.bom'))\n",
    "print(p.search('abc.bat'))"
   ]
  },
  {
   "cell_type": "markdown",
   "metadata": {
    "id": "QgnwfaCZgcnv"
   },
   "source": [
    "부정형 전방 탐색"
   ]
  },
  {
   "cell_type": "code",
   "execution_count": 35,
   "metadata": {
    "colab": {
     "base_uri": "https://localhost:8080/"
    },
    "executionInfo": {
     "elapsed": 465,
     "status": "ok",
     "timestamp": 1658033715315,
     "user": {
      "displayName": "hans J",
      "userId": "12200344362838438833"
     },
     "user_tz": -540
    },
    "id": "NNoE1qo8fy8g",
    "outputId": "803eb0b6-8b8c-4fe4-8c02-ab471628f64b"
   },
   "outputs": [
    {
     "name": "stdout",
     "output_type": "stream",
     "text": [
      "<re.Match object; span=(0, 7), match='abc.bom'>\n",
      "None\n"
     ]
    }
   ],
   "source": [
    "p = re.compile('.*[.](?!bat$).*$')\n",
    "print(p.search('abc.bom'))\n",
    "print(p.search('abc.bat'))"
   ]
  },
  {
   "cell_type": "markdown",
   "metadata": {
    "id": "LX3DUaYfhKAe"
   },
   "source": [
    "문자열 바꾸기"
   ]
  },
  {
   "cell_type": "code",
   "execution_count": 37,
   "metadata": {
    "colab": {
     "base_uri": "https://localhost:8080/"
    },
    "executionInfo": {
     "elapsed": 485,
     "status": "ok",
     "timestamp": 1658033935111,
     "user": {
      "displayName": "hans J",
      "userId": "12200344362838438833"
     },
     "user_tz": -540
    },
    "id": "MyuoN_8UgrRe",
    "outputId": "582b02f9-f520-4bbc-882a-aeb8bb5386c3"
   },
   "outputs": [
    {
     "name": "stdout",
     "output_type": "stream",
     "text": [
      "colour socks and colour shoes\n",
      "colour socks and red shoes\n"
     ]
    }
   ],
   "source": [
    "p = re.compile('(blue|white|red)')\n",
    "\n",
    "print(p.sub('colour', 'blue socks and red shoes'))\n",
    "print(p.sub('colour', 'blue socks and red shoes', count = 1))"
   ]
  },
  {
   "cell_type": "code",
   "execution_count": 38,
   "metadata": {
    "colab": {
     "base_uri": "https://localhost:8080/"
    },
    "executionInfo": {
     "elapsed": 492,
     "status": "ok",
     "timestamp": 1658033964511,
     "user": {
      "displayName": "hans J",
      "userId": "12200344362838438833"
     },
     "user_tz": -540
    },
    "id": "_c1BPTS_hZSO",
    "outputId": "28d00e6f-d064-4056-e8a3-fd105e9b6f86"
   },
   "outputs": [
    {
     "name": "stdout",
     "output_type": "stream",
     "text": [
      "('colour socks and colour shoes', 2)\n"
     ]
    }
   ],
   "source": [
    "print(p.subn('colour', 'blue socks and red shoes'))"
   ]
  },
  {
   "cell_type": "code",
   "execution_count": 41,
   "metadata": {
    "colab": {
     "base_uri": "https://localhost:8080/"
    },
    "executionInfo": {
     "elapsed": 471,
     "status": "ok",
     "timestamp": 1658034121019,
     "user": {
      "displayName": "hans J",
      "userId": "12200344362838438833"
     },
     "user_tz": -540
    },
    "id": "LpY9cr3ahn6P",
    "outputId": "c72b7edb-30cf-41fc-a82b-414114742b3a"
   },
   "outputs": [
    {
     "name": "stdout",
     "output_type": "stream",
     "text": [
      "101-1234-1234 park\n",
      "101-1234-1234 park\n"
     ]
    }
   ],
   "source": [
    "p = re.compile(r'(?P<name>\\w+)\\s+(?P<phone>(\\d+)[-]\\d+[-]\\d+)')\n",
    "print(p.sub(\"\\g<phone> \\g<name>\", 'park 101-1234-1234'))\n",
    "print(p.sub(\"\\g<2> \\g<1>\", 'park 101-1234-1234'))"
   ]
  },
  {
   "cell_type": "markdown",
   "metadata": {
    "id": "xFicTiBhiSpG"
   },
   "source": [
    "sub 메서드의 매개변수로 함수 넣기"
   ]
  },
  {
   "cell_type": "code",
   "execution_count": 42,
   "metadata": {
    "colab": {
     "base_uri": "https://localhost:8080/",
     "height": 35
    },
    "executionInfo": {
     "elapsed": 438,
     "status": "ok",
     "timestamp": 1658034233854,
     "user": {
      "displayName": "hans J",
      "userId": "12200344362838438833"
     },
     "user_tz": -540
    },
    "id": "qwQ6QPppiHcv",
    "outputId": "7ec6d1ee-7a74-44fe-f39a-d95d425aa06c"
   },
   "outputs": [
    {
     "data": {
      "application/vnd.google.colaboratory.intrinsic+json": {
       "type": "string"
      },
      "text/plain": [
       "'call 0xffd2 for printing, 0xc000 for user code.'"
      ]
     },
     "execution_count": 42,
     "metadata": {},
     "output_type": "execute_result"
    }
   ],
   "source": [
    "def hexrepl(match):\n",
    "  value = int(match.group())\n",
    "  return hex(value)\n",
    "\n",
    "p = re.compile(r'\\d+')\n",
    "p.sub(hexrepl, 'call 65490 for printing, 49152 for user code.')"
   ]
  },
  {
   "cell_type": "markdown",
   "metadata": {
    "id": "jlQSqY-siy21"
   },
   "source": [
    "Greedy vs Non-Greedy"
   ]
  },
  {
   "cell_type": "code",
   "execution_count": 43,
   "metadata": {
    "colab": {
     "base_uri": "https://localhost:8080/"
    },
    "executionInfo": {
     "elapsed": 441,
     "status": "ok",
     "timestamp": 1658034317310,
     "user": {
      "displayName": "hans J",
      "userId": "12200344362838438833"
     },
     "user_tz": -540
    },
    "id": "TN7kwwsyip4f",
    "outputId": "def42989-0101-4d30-81a9-76e0b31e1cb0"
   },
   "outputs": [
    {
     "data": {
      "text/plain": [
       "32"
      ]
     },
     "execution_count": 43,
     "metadata": {},
     "output_type": "execute_result"
    }
   ],
   "source": [
    "s = '<html><head><title>Title</title>'\n",
    "len(s)"
   ]
  },
  {
   "cell_type": "code",
   "execution_count": 45,
   "metadata": {
    "colab": {
     "base_uri": "https://localhost:8080/"
    },
    "executionInfo": {
     "elapsed": 618,
     "status": "ok",
     "timestamp": 1658034364891,
     "user": {
      "displayName": "hans J",
      "userId": "12200344362838438833"
     },
     "user_tz": -540
    },
    "id": "sVcusNimi-PX",
    "outputId": "f6d969c7-694f-4c33-e653-01ccc75645bb"
   },
   "outputs": [
    {
     "name": "stdout",
     "output_type": "stream",
     "text": [
      "(0, 32)\n",
      "<html><head><title>Title</title>\n"
     ]
    }
   ],
   "source": [
    "print(re.match('<.*>', s).span())\n",
    "print(re.match('<.*>', s).group())"
   ]
  },
  {
   "cell_type": "code",
   "execution_count": 51,
   "metadata": {
    "colab": {
     "base_uri": "https://localhost:8080/"
    },
    "executionInfo": {
     "elapsed": 438,
     "status": "ok",
     "timestamp": 1658034457434,
     "user": {
      "displayName": "hans J",
      "userId": "12200344362838438833"
     },
     "user_tz": -540
    },
    "id": "sh9D-ZHEjEKv",
    "outputId": "c061817c-2eb6-4e6e-e5c6-b479ae58151c"
   },
   "outputs": [
    {
     "name": "stdout",
     "output_type": "stream",
     "text": [
      "(0, 6)\n",
      "<html>\n"
     ]
    }
   ],
   "source": [
    "# non-greedy 문자 ? : 가능한 가장 최소한의 반복을 수행\n",
    "print(re.match('<.*?>', s).span())\n",
    "print(re.match('<.*?>', s).group())"
   ]
  },
  {
   "cell_type": "code",
   "execution_count": null,
   "metadata": {
    "id": "m5G3oKiRjXlH"
   },
   "outputs": [],
   "source": []
  }
 ],
 "metadata": {
  "colab": {
   "authorship_tag": "ABX9TyMqbzzhtDUbDHFeXX2J4xdj",
   "collapsed_sections": [],
   "name": "정규표현식.ipynb",
   "provenance": []
  },
  "kernelspec": {
   "display_name": "Python 3 (ipykernel)",
   "language": "python",
   "name": "python3"
  },
  "language_info": {
   "codemirror_mode": {
    "name": "ipython",
    "version": 3
   },
   "file_extension": ".py",
   "mimetype": "text/x-python",
   "name": "python",
   "nbconvert_exporter": "python",
   "pygments_lexer": "ipython3",
   "version": "3.9.12"
  }
 },
 "nbformat": 4,
 "nbformat_minor": 1
}
