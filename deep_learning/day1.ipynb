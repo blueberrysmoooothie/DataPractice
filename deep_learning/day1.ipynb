{
 "cells": [
  {
   "cell_type": "markdown",
   "id": "5cb5d897",
   "metadata": {},
   "source": [
    "### PCA"
   ]
  },
  {
   "cell_type": "code",
   "execution_count": 175,
   "id": "8f1434d4",
   "metadata": {},
   "outputs": [],
   "source": [
    "import pandas as pd\n",
    "import numpy as np\n",
    "path = './data/default of credit card clients.xls'\n",
    "data = pd.read_excel(path, header =1, index_col=0)"
   ]
  },
  {
   "cell_type": "code",
   "execution_count": 176,
   "id": "3640c0dc",
   "metadata": {},
   "outputs": [
    {
     "data": {
      "text/html": [
       "<div>\n",
       "<style scoped>\n",
       "    .dataframe tbody tr th:only-of-type {\n",
       "        vertical-align: middle;\n",
       "    }\n",
       "\n",
       "    .dataframe tbody tr th {\n",
       "        vertical-align: top;\n",
       "    }\n",
       "\n",
       "    .dataframe thead th {\n",
       "        text-align: right;\n",
       "    }\n",
       "</style>\n",
       "<table border=\"1\" class=\"dataframe\">\n",
       "  <thead>\n",
       "    <tr style=\"text-align: right;\">\n",
       "      <th></th>\n",
       "      <th>LIMIT_BAL</th>\n",
       "      <th>SEX</th>\n",
       "      <th>EDUCATION</th>\n",
       "      <th>MARRIAGE</th>\n",
       "      <th>AGE</th>\n",
       "      <th>PAY_0</th>\n",
       "      <th>PAY_2</th>\n",
       "      <th>PAY_3</th>\n",
       "      <th>PAY_4</th>\n",
       "      <th>PAY_5</th>\n",
       "      <th>...</th>\n",
       "      <th>BILL_AMT4</th>\n",
       "      <th>BILL_AMT5</th>\n",
       "      <th>BILL_AMT6</th>\n",
       "      <th>PAY_AMT1</th>\n",
       "      <th>PAY_AMT2</th>\n",
       "      <th>PAY_AMT3</th>\n",
       "      <th>PAY_AMT4</th>\n",
       "      <th>PAY_AMT5</th>\n",
       "      <th>PAY_AMT6</th>\n",
       "      <th>default payment next month</th>\n",
       "    </tr>\n",
       "    <tr>\n",
       "      <th>ID</th>\n",
       "      <th></th>\n",
       "      <th></th>\n",
       "      <th></th>\n",
       "      <th></th>\n",
       "      <th></th>\n",
       "      <th></th>\n",
       "      <th></th>\n",
       "      <th></th>\n",
       "      <th></th>\n",
       "      <th></th>\n",
       "      <th></th>\n",
       "      <th></th>\n",
       "      <th></th>\n",
       "      <th></th>\n",
       "      <th></th>\n",
       "      <th></th>\n",
       "      <th></th>\n",
       "      <th></th>\n",
       "      <th></th>\n",
       "      <th></th>\n",
       "      <th></th>\n",
       "    </tr>\n",
       "  </thead>\n",
       "  <tbody>\n",
       "    <tr>\n",
       "      <th>1</th>\n",
       "      <td>20000</td>\n",
       "      <td>2</td>\n",
       "      <td>2</td>\n",
       "      <td>1</td>\n",
       "      <td>24</td>\n",
       "      <td>2</td>\n",
       "      <td>2</td>\n",
       "      <td>-1</td>\n",
       "      <td>-1</td>\n",
       "      <td>-2</td>\n",
       "      <td>...</td>\n",
       "      <td>0</td>\n",
       "      <td>0</td>\n",
       "      <td>0</td>\n",
       "      <td>0</td>\n",
       "      <td>689</td>\n",
       "      <td>0</td>\n",
       "      <td>0</td>\n",
       "      <td>0</td>\n",
       "      <td>0</td>\n",
       "      <td>1</td>\n",
       "    </tr>\n",
       "    <tr>\n",
       "      <th>2</th>\n",
       "      <td>120000</td>\n",
       "      <td>2</td>\n",
       "      <td>2</td>\n",
       "      <td>2</td>\n",
       "      <td>26</td>\n",
       "      <td>-1</td>\n",
       "      <td>2</td>\n",
       "      <td>0</td>\n",
       "      <td>0</td>\n",
       "      <td>0</td>\n",
       "      <td>...</td>\n",
       "      <td>3272</td>\n",
       "      <td>3455</td>\n",
       "      <td>3261</td>\n",
       "      <td>0</td>\n",
       "      <td>1000</td>\n",
       "      <td>1000</td>\n",
       "      <td>1000</td>\n",
       "      <td>0</td>\n",
       "      <td>2000</td>\n",
       "      <td>1</td>\n",
       "    </tr>\n",
       "    <tr>\n",
       "      <th>3</th>\n",
       "      <td>90000</td>\n",
       "      <td>2</td>\n",
       "      <td>2</td>\n",
       "      <td>2</td>\n",
       "      <td>34</td>\n",
       "      <td>0</td>\n",
       "      <td>0</td>\n",
       "      <td>0</td>\n",
       "      <td>0</td>\n",
       "      <td>0</td>\n",
       "      <td>...</td>\n",
       "      <td>14331</td>\n",
       "      <td>14948</td>\n",
       "      <td>15549</td>\n",
       "      <td>1518</td>\n",
       "      <td>1500</td>\n",
       "      <td>1000</td>\n",
       "      <td>1000</td>\n",
       "      <td>1000</td>\n",
       "      <td>5000</td>\n",
       "      <td>0</td>\n",
       "    </tr>\n",
       "    <tr>\n",
       "      <th>4</th>\n",
       "      <td>50000</td>\n",
       "      <td>2</td>\n",
       "      <td>2</td>\n",
       "      <td>1</td>\n",
       "      <td>37</td>\n",
       "      <td>0</td>\n",
       "      <td>0</td>\n",
       "      <td>0</td>\n",
       "      <td>0</td>\n",
       "      <td>0</td>\n",
       "      <td>...</td>\n",
       "      <td>28314</td>\n",
       "      <td>28959</td>\n",
       "      <td>29547</td>\n",
       "      <td>2000</td>\n",
       "      <td>2019</td>\n",
       "      <td>1200</td>\n",
       "      <td>1100</td>\n",
       "      <td>1069</td>\n",
       "      <td>1000</td>\n",
       "      <td>0</td>\n",
       "    </tr>\n",
       "    <tr>\n",
       "      <th>5</th>\n",
       "      <td>50000</td>\n",
       "      <td>1</td>\n",
       "      <td>2</td>\n",
       "      <td>1</td>\n",
       "      <td>57</td>\n",
       "      <td>-1</td>\n",
       "      <td>0</td>\n",
       "      <td>-1</td>\n",
       "      <td>0</td>\n",
       "      <td>0</td>\n",
       "      <td>...</td>\n",
       "      <td>20940</td>\n",
       "      <td>19146</td>\n",
       "      <td>19131</td>\n",
       "      <td>2000</td>\n",
       "      <td>36681</td>\n",
       "      <td>10000</td>\n",
       "      <td>9000</td>\n",
       "      <td>689</td>\n",
       "      <td>679</td>\n",
       "      <td>0</td>\n",
       "    </tr>\n",
       "    <tr>\n",
       "      <th>...</th>\n",
       "      <td>...</td>\n",
       "      <td>...</td>\n",
       "      <td>...</td>\n",
       "      <td>...</td>\n",
       "      <td>...</td>\n",
       "      <td>...</td>\n",
       "      <td>...</td>\n",
       "      <td>...</td>\n",
       "      <td>...</td>\n",
       "      <td>...</td>\n",
       "      <td>...</td>\n",
       "      <td>...</td>\n",
       "      <td>...</td>\n",
       "      <td>...</td>\n",
       "      <td>...</td>\n",
       "      <td>...</td>\n",
       "      <td>...</td>\n",
       "      <td>...</td>\n",
       "      <td>...</td>\n",
       "      <td>...</td>\n",
       "      <td>...</td>\n",
       "    </tr>\n",
       "    <tr>\n",
       "      <th>29996</th>\n",
       "      <td>220000</td>\n",
       "      <td>1</td>\n",
       "      <td>3</td>\n",
       "      <td>1</td>\n",
       "      <td>39</td>\n",
       "      <td>0</td>\n",
       "      <td>0</td>\n",
       "      <td>0</td>\n",
       "      <td>0</td>\n",
       "      <td>0</td>\n",
       "      <td>...</td>\n",
       "      <td>88004</td>\n",
       "      <td>31237</td>\n",
       "      <td>15980</td>\n",
       "      <td>8500</td>\n",
       "      <td>20000</td>\n",
       "      <td>5003</td>\n",
       "      <td>3047</td>\n",
       "      <td>5000</td>\n",
       "      <td>1000</td>\n",
       "      <td>0</td>\n",
       "    </tr>\n",
       "    <tr>\n",
       "      <th>29997</th>\n",
       "      <td>150000</td>\n",
       "      <td>1</td>\n",
       "      <td>3</td>\n",
       "      <td>2</td>\n",
       "      <td>43</td>\n",
       "      <td>-1</td>\n",
       "      <td>-1</td>\n",
       "      <td>-1</td>\n",
       "      <td>-1</td>\n",
       "      <td>0</td>\n",
       "      <td>...</td>\n",
       "      <td>8979</td>\n",
       "      <td>5190</td>\n",
       "      <td>0</td>\n",
       "      <td>1837</td>\n",
       "      <td>3526</td>\n",
       "      <td>8998</td>\n",
       "      <td>129</td>\n",
       "      <td>0</td>\n",
       "      <td>0</td>\n",
       "      <td>0</td>\n",
       "    </tr>\n",
       "    <tr>\n",
       "      <th>29998</th>\n",
       "      <td>30000</td>\n",
       "      <td>1</td>\n",
       "      <td>2</td>\n",
       "      <td>2</td>\n",
       "      <td>37</td>\n",
       "      <td>4</td>\n",
       "      <td>3</td>\n",
       "      <td>2</td>\n",
       "      <td>-1</td>\n",
       "      <td>0</td>\n",
       "      <td>...</td>\n",
       "      <td>20878</td>\n",
       "      <td>20582</td>\n",
       "      <td>19357</td>\n",
       "      <td>0</td>\n",
       "      <td>0</td>\n",
       "      <td>22000</td>\n",
       "      <td>4200</td>\n",
       "      <td>2000</td>\n",
       "      <td>3100</td>\n",
       "      <td>1</td>\n",
       "    </tr>\n",
       "    <tr>\n",
       "      <th>29999</th>\n",
       "      <td>80000</td>\n",
       "      <td>1</td>\n",
       "      <td>3</td>\n",
       "      <td>1</td>\n",
       "      <td>41</td>\n",
       "      <td>1</td>\n",
       "      <td>-1</td>\n",
       "      <td>0</td>\n",
       "      <td>0</td>\n",
       "      <td>0</td>\n",
       "      <td>...</td>\n",
       "      <td>52774</td>\n",
       "      <td>11855</td>\n",
       "      <td>48944</td>\n",
       "      <td>85900</td>\n",
       "      <td>3409</td>\n",
       "      <td>1178</td>\n",
       "      <td>1926</td>\n",
       "      <td>52964</td>\n",
       "      <td>1804</td>\n",
       "      <td>1</td>\n",
       "    </tr>\n",
       "    <tr>\n",
       "      <th>30000</th>\n",
       "      <td>50000</td>\n",
       "      <td>1</td>\n",
       "      <td>2</td>\n",
       "      <td>1</td>\n",
       "      <td>46</td>\n",
       "      <td>0</td>\n",
       "      <td>0</td>\n",
       "      <td>0</td>\n",
       "      <td>0</td>\n",
       "      <td>0</td>\n",
       "      <td>...</td>\n",
       "      <td>36535</td>\n",
       "      <td>32428</td>\n",
       "      <td>15313</td>\n",
       "      <td>2078</td>\n",
       "      <td>1800</td>\n",
       "      <td>1430</td>\n",
       "      <td>1000</td>\n",
       "      <td>1000</td>\n",
       "      <td>1000</td>\n",
       "      <td>1</td>\n",
       "    </tr>\n",
       "  </tbody>\n",
       "</table>\n",
       "<p>30000 rows × 24 columns</p>\n",
       "</div>"
      ],
      "text/plain": [
       "       LIMIT_BAL  SEX  EDUCATION  MARRIAGE  AGE  PAY_0  PAY_2  PAY_3  PAY_4  \\\n",
       "ID                                                                            \n",
       "1          20000    2          2         1   24      2      2     -1     -1   \n",
       "2         120000    2          2         2   26     -1      2      0      0   \n",
       "3          90000    2          2         2   34      0      0      0      0   \n",
       "4          50000    2          2         1   37      0      0      0      0   \n",
       "5          50000    1          2         1   57     -1      0     -1      0   \n",
       "...          ...  ...        ...       ...  ...    ...    ...    ...    ...   \n",
       "29996     220000    1          3         1   39      0      0      0      0   \n",
       "29997     150000    1          3         2   43     -1     -1     -1     -1   \n",
       "29998      30000    1          2         2   37      4      3      2     -1   \n",
       "29999      80000    1          3         1   41      1     -1      0      0   \n",
       "30000      50000    1          2         1   46      0      0      0      0   \n",
       "\n",
       "       PAY_5  ...  BILL_AMT4  BILL_AMT5  BILL_AMT6  PAY_AMT1  PAY_AMT2  \\\n",
       "ID            ...                                                        \n",
       "1         -2  ...          0          0          0         0       689   \n",
       "2          0  ...       3272       3455       3261         0      1000   \n",
       "3          0  ...      14331      14948      15549      1518      1500   \n",
       "4          0  ...      28314      28959      29547      2000      2019   \n",
       "5          0  ...      20940      19146      19131      2000     36681   \n",
       "...      ...  ...        ...        ...        ...       ...       ...   \n",
       "29996      0  ...      88004      31237      15980      8500     20000   \n",
       "29997      0  ...       8979       5190          0      1837      3526   \n",
       "29998      0  ...      20878      20582      19357         0         0   \n",
       "29999      0  ...      52774      11855      48944     85900      3409   \n",
       "30000      0  ...      36535      32428      15313      2078      1800   \n",
       "\n",
       "       PAY_AMT3  PAY_AMT4  PAY_AMT5  PAY_AMT6  default payment next month  \n",
       "ID                                                                         \n",
       "1             0         0         0         0                           1  \n",
       "2          1000      1000         0      2000                           1  \n",
       "3          1000      1000      1000      5000                           0  \n",
       "4          1200      1100      1069      1000                           0  \n",
       "5         10000      9000       689       679                           0  \n",
       "...         ...       ...       ...       ...                         ...  \n",
       "29996      5003      3047      5000      1000                           0  \n",
       "29997      8998       129         0         0                           0  \n",
       "29998     22000      4200      2000      3100                           1  \n",
       "29999      1178      1926     52964      1804                           1  \n",
       "30000      1430      1000      1000      1000                           1  \n",
       "\n",
       "[30000 rows x 24 columns]"
      ]
     },
     "execution_count": 176,
     "metadata": {},
     "output_type": "execute_result"
    }
   ],
   "source": [
    "data"
   ]
  },
  {
   "cell_type": "code",
   "execution_count": 177,
   "id": "c2937d33",
   "metadata": {},
   "outputs": [
    {
     "data": {
      "text/html": [
       "<div>\n",
       "<style scoped>\n",
       "    .dataframe tbody tr th:only-of-type {\n",
       "        vertical-align: middle;\n",
       "    }\n",
       "\n",
       "    .dataframe tbody tr th {\n",
       "        vertical-align: top;\n",
       "    }\n",
       "\n",
       "    .dataframe thead th {\n",
       "        text-align: right;\n",
       "    }\n",
       "</style>\n",
       "<table border=\"1\" class=\"dataframe\">\n",
       "  <thead>\n",
       "    <tr style=\"text-align: right;\">\n",
       "      <th></th>\n",
       "      <th>PAY_AMT1</th>\n",
       "      <th>PAY_AMT2</th>\n",
       "      <th>PAY_AMT3</th>\n",
       "      <th>PAY_AMT4</th>\n",
       "      <th>PAY_AMT5</th>\n",
       "      <th>PAY_AMT6</th>\n",
       "    </tr>\n",
       "    <tr>\n",
       "      <th>ID</th>\n",
       "      <th></th>\n",
       "      <th></th>\n",
       "      <th></th>\n",
       "      <th></th>\n",
       "      <th></th>\n",
       "      <th></th>\n",
       "    </tr>\n",
       "  </thead>\n",
       "  <tbody>\n",
       "    <tr>\n",
       "      <th>1</th>\n",
       "      <td>0</td>\n",
       "      <td>689</td>\n",
       "      <td>0</td>\n",
       "      <td>0</td>\n",
       "      <td>0</td>\n",
       "      <td>0</td>\n",
       "    </tr>\n",
       "    <tr>\n",
       "      <th>2</th>\n",
       "      <td>0</td>\n",
       "      <td>1000</td>\n",
       "      <td>1000</td>\n",
       "      <td>1000</td>\n",
       "      <td>0</td>\n",
       "      <td>2000</td>\n",
       "    </tr>\n",
       "    <tr>\n",
       "      <th>3</th>\n",
       "      <td>1518</td>\n",
       "      <td>1500</td>\n",
       "      <td>1000</td>\n",
       "      <td>1000</td>\n",
       "      <td>1000</td>\n",
       "      <td>5000</td>\n",
       "    </tr>\n",
       "    <tr>\n",
       "      <th>4</th>\n",
       "      <td>2000</td>\n",
       "      <td>2019</td>\n",
       "      <td>1200</td>\n",
       "      <td>1100</td>\n",
       "      <td>1069</td>\n",
       "      <td>1000</td>\n",
       "    </tr>\n",
       "    <tr>\n",
       "      <th>5</th>\n",
       "      <td>2000</td>\n",
       "      <td>36681</td>\n",
       "      <td>10000</td>\n",
       "      <td>9000</td>\n",
       "      <td>689</td>\n",
       "      <td>679</td>\n",
       "    </tr>\n",
       "    <tr>\n",
       "      <th>...</th>\n",
       "      <td>...</td>\n",
       "      <td>...</td>\n",
       "      <td>...</td>\n",
       "      <td>...</td>\n",
       "      <td>...</td>\n",
       "      <td>...</td>\n",
       "    </tr>\n",
       "    <tr>\n",
       "      <th>29996</th>\n",
       "      <td>8500</td>\n",
       "      <td>20000</td>\n",
       "      <td>5003</td>\n",
       "      <td>3047</td>\n",
       "      <td>5000</td>\n",
       "      <td>1000</td>\n",
       "    </tr>\n",
       "    <tr>\n",
       "      <th>29997</th>\n",
       "      <td>1837</td>\n",
       "      <td>3526</td>\n",
       "      <td>8998</td>\n",
       "      <td>129</td>\n",
       "      <td>0</td>\n",
       "      <td>0</td>\n",
       "    </tr>\n",
       "    <tr>\n",
       "      <th>29998</th>\n",
       "      <td>0</td>\n",
       "      <td>0</td>\n",
       "      <td>22000</td>\n",
       "      <td>4200</td>\n",
       "      <td>2000</td>\n",
       "      <td>3100</td>\n",
       "    </tr>\n",
       "    <tr>\n",
       "      <th>29999</th>\n",
       "      <td>85900</td>\n",
       "      <td>3409</td>\n",
       "      <td>1178</td>\n",
       "      <td>1926</td>\n",
       "      <td>52964</td>\n",
       "      <td>1804</td>\n",
       "    </tr>\n",
       "    <tr>\n",
       "      <th>30000</th>\n",
       "      <td>2078</td>\n",
       "      <td>1800</td>\n",
       "      <td>1430</td>\n",
       "      <td>1000</td>\n",
       "      <td>1000</td>\n",
       "      <td>1000</td>\n",
       "    </tr>\n",
       "  </tbody>\n",
       "</table>\n",
       "<p>30000 rows × 6 columns</p>\n",
       "</div>"
      ],
      "text/plain": [
       "       PAY_AMT1  PAY_AMT2  PAY_AMT3  PAY_AMT4  PAY_AMT5  PAY_AMT6\n",
       "ID                                                               \n",
       "1             0       689         0         0         0         0\n",
       "2             0      1000      1000      1000         0      2000\n",
       "3          1518      1500      1000      1000      1000      5000\n",
       "4          2000      2019      1200      1100      1069      1000\n",
       "5          2000     36681     10000      9000       689       679\n",
       "...         ...       ...       ...       ...       ...       ...\n",
       "29996      8500     20000      5003      3047      5000      1000\n",
       "29997      1837      3526      8998       129         0         0\n",
       "29998         0         0     22000      4200      2000      3100\n",
       "29999     85900      3409      1178      1926     52964      1804\n",
       "30000      2078      1800      1430      1000      1000      1000\n",
       "\n",
       "[30000 rows x 6 columns]"
      ]
     },
     "execution_count": 177,
     "metadata": {},
     "output_type": "execute_result"
    }
   ],
   "source": [
    "data[data.columns[5:11]]\n",
    "data[data.columns[11:17]]\n",
    "data[data.columns[17:23]]"
   ]
  },
  {
   "cell_type": "code",
   "execution_count": 178,
   "id": "fa5bccff",
   "metadata": {},
   "outputs": [
    {
     "name": "stdout",
     "output_type": "stream",
     "text": [
      "(22500, 23) (22500,)\n",
      "(7500, 23) (7500,)\n"
     ]
    }
   ],
   "source": [
    "from sklearn.model_selection import train_test_split\n",
    "from sklearn.preprocessing import StandardScaler\n",
    "ss = StandardScaler()\n",
    "train_x, test_x, train_y, test_y = train_test_split(data.drop(data.columns[-1], axis = 1), data[data.columns[-1]])\n",
    "train_x = pd.DataFrame(ss.fit_transform(train_x), columns = train_x.columns)\n",
    "test_x = pd.DataFrame(ss.transform(test_x), columns = train_x.columns)\n",
    "print(train_x.shape, train_y.shape)\n",
    "print(test_x.shape, test_y.shape)"
   ]
  },
  {
   "cell_type": "code",
   "execution_count": 179,
   "id": "fd302db3",
   "metadata": {},
   "outputs": [
    {
     "name": "stdout",
     "output_type": "stream",
     "text": [
      "PAY_\n"
     ]
    },
    {
     "data": {
      "image/png": "[encoded data removed]",
      "text/plain": [
       "<Figure size 432x288 with 1 Axes>"
      ]
     },
     "metadata": {
      "needs_background": "light"
     },
     "output_type": "display_data"
    },
    {
     "name": "stdout",
     "output_type": "stream",
     "text": [
      "BILL_AMT\n"
     ]
    },
    {
     "data": {
      "image/png": "[encoded data removed]",
      "text/plain": [
       "<Figure size 432x288 with 1 Axes>"
      ]
     },
     "metadata": {
      "needs_background": "light"
     },
     "output_type": "display_data"
    },
    {
     "name": "stdout",
     "output_type": "stream",
     "text": [
      "PAY_AMT\n"
     ]
    },
    {
     "data": {
      "image/png": "[encoded data removed]",
      "text/plain": [
       "<Figure size 432x288 with 1 Axes>"
      ]
     },
     "metadata": {
      "needs_background": "light"
     },
     "output_type": "display_data"
    },
    {
     "data": {
      "image/png": "[encoded data removed]",
      "text/plain": [
       "<Figure size 432x288 with 1 Axes>"
      ]
     },
     "metadata": {
      "needs_background": "light"
     },
     "output_type": "display_data"
    }
   ],
   "source": [
    "from sklearn.decomposition import PCA\n",
    "import matplotlib.pyplot as plt\n",
    "for i in [5,11,17]:\n",
    "    pca = PCA(6)\n",
    "    pca.fit(train_x[train_x.columns[i:i+6]])\n",
    "    ratio = np.cumsum(pca.explained_variance_ratio_)\n",
    "    print(train_x.columns[i][:-1])\n",
    "    plt.plot(range(1,7), ratio, 'o--')\n",
    "    plt.ylim((0,1))\n",
    "    plt.show()\n",
    "\n",
    "pca = PCA(18)\n",
    "pca.fit(train_x[train_x.columns[5:23]])\n",
    "ratio = np.cumsum(pca.explained_variance_ratio_)\n",
    "plt.plot(range(1,19), ratio, 'o--')\n",
    "plt.ylim((0,1))\n",
    "plt.xticks(range(1,19))\n",
    "plt.show()"
   ]
  },
  {
   "cell_type": "code",
   "execution_count": null,
   "id": "96689208",
   "metadata": {},
   "outputs": [],
   "source": []
  },
  {
   "cell_type": "code",
   "execution_count": 180,
   "id": "a13f626b",
   "metadata": {},
   "outputs": [
    {
     "name": "stdout",
     "output_type": "stream",
     "text": [
      "0.9836070311380841\n",
      "13\n"
     ]
    }
   ],
   "source": [
    "pca = PCA(0.98)\n",
    "pca.fit(train_x[train_x.columns[5:23]])\n",
    "pca_pay_train_x = pca.transform(train_x[train_x.columns[5:23]])\n",
    "pca_pay_test_x = pca.transform(test_x[test_x.columns[5:23]])\n",
    "\n",
    "print(sum(pca.explained_variance_ratio_))\n",
    "print(pca.n_components_)"
   ]
  },
  {
   "cell_type": "code",
   "execution_count": 181,
   "id": "6eac2de7",
   "metadata": {},
   "outputs": [
    {
     "data": {
      "text/plain": [
       "['PCA_0',\n",
       " 'PCA_1',\n",
       " 'PCA_2',\n",
       " 'PCA_3',\n",
       " 'PCA_4',\n",
       " 'PCA_5',\n",
       " 'PCA_6',\n",
       " 'PCA_7',\n",
       " 'PCA_8',\n",
       " 'PCA_9',\n",
       " 'PCA_10',\n",
       " 'PCA_11',\n",
       " 'PCA_12']"
      ]
     },
     "execution_count": 181,
     "metadata": {},
     "output_type": "execute_result"
    }
   ],
   "source": [
    "['PCA_'+str(i) for i in range(pca.n_components_)]"
   ]
  },
  {
   "cell_type": "code",
   "execution_count": 182,
   "id": "deead428",
   "metadata": {},
   "outputs": [
    {
     "name": "stdout",
     "output_type": "stream",
     "text": [
      "(22500, 18) (22500,)\n",
      "(7500, 18) (7500,)\n"
     ]
    }
   ],
   "source": [
    "pca_pay_train_x = pd.DataFrame(pca_pay_train_x, columns = ['PCA_'+str(i) for i in range(pca.n_components_)])\n",
    "pca_pay_test_x = pd.DataFrame(pca_pay_test_x, columns = ['PCA_'+str(i) for i in range(pca.n_components_)])\n",
    "pca_train_x = pd.concat([train_x.drop(train_x.columns[5:23], axis = 1).reset_index( drop= True),pca_pay_train_x], axis = 1)\n",
    "pca_test_x = pd.concat([test_x.drop(test_x.columns[5:23], axis = 1).reset_index( drop= True),pca_pay_test_x], axis = 1)\n",
    "print(pca_train_x.shape, train_y.shape)\n",
    "print(pca_test_x.shape, test_y.shape)"
   ]
  },
  {
   "cell_type": "code",
   "execution_count": 183,
   "id": "23933bc2",
   "metadata": {},
   "outputs": [
    {
     "data": {
      "image/png": "[encoded data removed]",
      "text/plain": [
       "<Figure size 432x288 with 2 Axes>"
      ]
     },
     "metadata": {
      "needs_background": "light"
     },
     "output_type": "display_data"
    },
    {
     "data": {
      "image/png": "[encoded data removed]",
      "text/plain": [
       "<Figure size 432x288 with 2 Axes>"
      ]
     },
     "metadata": {
      "needs_background": "light"
     },
     "output_type": "display_data"
    }
   ],
   "source": [
    "import seaborn as sns\n",
    "sns.heatmap(train_x.corr())\n",
    "plt.show()\n",
    "sns.heatmap(pca_train_x.corr())\n",
    "plt.show()\n"
   ]
  },
  {
   "cell_type": "code",
   "execution_count": 184,
   "id": "5507d338",
   "metadata": {},
   "outputs": [
    {
     "data": {
      "text/plain": [
       "LogisticRegression()"
      ]
     },
     "execution_count": 184,
     "metadata": {},
     "output_type": "execute_result"
    }
   ],
   "source": [
    "from sklearn.linear_model import LogisticRegression\n",
    "logit = LogisticRegression(max_iter=200)\n",
    "pca_logit = LogisticRegression()\n",
    "logit.fit(train_x, train_y)\n",
    "pca_logit.fit(pca_train_x, train_y)"
   ]
  },
  {
   "cell_type": "code",
   "execution_count": 185,
   "id": "6a3e045a",
   "metadata": {},
   "outputs": [
    {
     "name": "stdout",
     "output_type": "stream",
     "text": [
      "0.8034666666666667 0.6044804275047653\n",
      "0.8028 0.6022196235893431\n"
     ]
    }
   ],
   "source": [
    "from sklearn.metrics import roc_auc_score\n",
    "print(logit.score(test_x, test_y), roc_auc_score(test_y,logit.predict(test_x)))\n",
    "print(pca_logit.score(pca_test_x, test_y), roc_auc_score(test_y,pca_logit.predict(pca_test_x)))"
   ]
  },
  {
   "cell_type": "code",
   "execution_count": 186,
   "id": "17211113",
   "metadata": {},
   "outputs": [
    {
     "data": {
      "text/plain": [
       "RandomForestClassifier()"
      ]
     },
     "execution_count": 186,
     "metadata": {},
     "output_type": "execute_result"
    }
   ],
   "source": [
    "from sklearn.ensemble import RandomForestClassifier\n",
    "\n",
    "rf = RandomForestClassifier()\n",
    "pca_rf = RandomForestClassifier()\n",
    "rf.fit(train_x, train_y)\n",
    "pca_rf.fit(pca_train_x, train_y)"
   ]
  },
  {
   "cell_type": "code",
   "execution_count": 187,
   "id": "309c0550",
   "metadata": {},
   "outputs": [
    {
     "name": "stdout",
     "output_type": "stream",
     "text": [
      "0.8104 0.655694544730624\n",
      "0.8068 0.6482791761205484\n"
     ]
    }
   ],
   "source": [
    "print(rf.score(test_x, test_y), roc_auc_score(test_y,rf.predict(test_x)))\n",
    "print(pca_rf.score(pca_test_x, test_y), roc_auc_score(test_y,pca_rf.predict(pca_test_x)))"
   ]
  },
  {
   "cell_type": "code",
   "execution_count": 215,
   "id": "293baf50",
   "metadata": {},
   "outputs": [],
   "source": [
    "card_pca_train_x, card_train_y = pca_train_x, train_y\n",
    "card_pca_test_x, card_test_y = pca_test_x, test_y"
   ]
  },
  {
   "cell_type": "markdown",
   "id": "b155633a",
   "metadata": {},
   "source": [
    "### DBscan"
   ]
  },
  {
   "cell_type": "markdown",
   "id": "c96384a0",
   "metadata": {},
   "source": [
    "#### 비원형 데이터의 군집화 - DBSCAN\n",
    "---\n",
    "- 분할적 군집화 방식\n",
    "- 밀도(데이터의 밀집)기반 군집화 >> 미리 군집 수 지정 필요 없음\n",
    "- 다양한 형태의 데이터에서 군집화 가능\n",
    "- 이상치 데이터 제거도 가능\n",
    "- 군집을 정하는 기준\n",
    "    - 임의의 점(point)에서 지정된 거리 만큼 영역 내 데이터 존재 수"
   ]
  },
  {
   "cell_type": "code",
   "execution_count": 1,
   "id": "9822bdf9",
   "metadata": {},
   "outputs": [],
   "source": [
    "from sklearn.datasets import load_iris\n",
    "input_data, target = load_iris(return_X_y=True, as_frame=True)"
   ]
  },
  {
   "cell_type": "code",
   "execution_count": 2,
   "id": "f667e233",
   "metadata": {},
   "outputs": [
    {
     "data": {
      "text/html": [
       "<div>\n",
       "<style scoped>\n",
       "    .dataframe tbody tr th:only-of-type {\n",
       "        vertical-align: middle;\n",
       "    }\n",
       "\n",
       "    .dataframe tbody tr th {\n",
       "        vertical-align: top;\n",
       "    }\n",
       "\n",
       "    .dataframe thead th {\n",
       "        text-align: right;\n",
       "    }\n",
       "</style>\n",
       "<table border=\"1\" class=\"dataframe\">\n",
       "  <thead>\n",
       "    <tr style=\"text-align: right;\">\n",
       "      <th></th>\n",
       "      <th>sepal length (cm)</th>\n",
       "      <th>sepal width (cm)</th>\n",
       "      <th>petal length (cm)</th>\n",
       "      <th>petal width (cm)</th>\n",
       "    </tr>\n",
       "  </thead>\n",
       "  <tbody>\n",
       "    <tr>\n",
       "      <th>0</th>\n",
       "      <td>5.1</td>\n",
       "      <td>3.5</td>\n",
       "      <td>1.4</td>\n",
       "      <td>0.2</td>\n",
       "    </tr>\n",
       "    <tr>\n",
       "      <th>1</th>\n",
       "      <td>4.9</td>\n",
       "      <td>3.0</td>\n",
       "      <td>1.4</td>\n",
       "      <td>0.2</td>\n",
       "    </tr>\n",
       "    <tr>\n",
       "      <th>2</th>\n",
       "      <td>4.7</td>\n",
       "      <td>3.2</td>\n",
       "      <td>1.3</td>\n",
       "      <td>0.2</td>\n",
       "    </tr>\n",
       "    <tr>\n",
       "      <th>3</th>\n",
       "      <td>4.6</td>\n",
       "      <td>3.1</td>\n",
       "      <td>1.5</td>\n",
       "      <td>0.2</td>\n",
       "    </tr>\n",
       "    <tr>\n",
       "      <th>4</th>\n",
       "      <td>5.0</td>\n",
       "      <td>3.6</td>\n",
       "      <td>1.4</td>\n",
       "      <td>0.2</td>\n",
       "    </tr>\n",
       "    <tr>\n",
       "      <th>...</th>\n",
       "      <td>...</td>\n",
       "      <td>...</td>\n",
       "      <td>...</td>\n",
       "      <td>...</td>\n",
       "    </tr>\n",
       "    <tr>\n",
       "      <th>145</th>\n",
       "      <td>6.7</td>\n",
       "      <td>3.0</td>\n",
       "      <td>5.2</td>\n",
       "      <td>2.3</td>\n",
       "    </tr>\n",
       "    <tr>\n",
       "      <th>146</th>\n",
       "      <td>6.3</td>\n",
       "      <td>2.5</td>\n",
       "      <td>5.0</td>\n",
       "      <td>1.9</td>\n",
       "    </tr>\n",
       "    <tr>\n",
       "      <th>147</th>\n",
       "      <td>6.5</td>\n",
       "      <td>3.0</td>\n",
       "      <td>5.2</td>\n",
       "      <td>2.0</td>\n",
       "    </tr>\n",
       "    <tr>\n",
       "      <th>148</th>\n",
       "      <td>6.2</td>\n",
       "      <td>3.4</td>\n",
       "      <td>5.4</td>\n",
       "      <td>2.3</td>\n",
       "    </tr>\n",
       "    <tr>\n",
       "      <th>149</th>\n",
       "      <td>5.9</td>\n",
       "      <td>3.0</td>\n",
       "      <td>5.1</td>\n",
       "      <td>1.8</td>\n",
       "    </tr>\n",
       "  </tbody>\n",
       "</table>\n",
       "<p>150 rows × 4 columns</p>\n",
       "</div>"
      ],
      "text/plain": [
       "     sepal length (cm)  sepal width (cm)  petal length (cm)  petal width (cm)\n",
       "0                  5.1               3.5                1.4               0.2\n",
       "1                  4.9               3.0                1.4               0.2\n",
       "2                  4.7               3.2                1.3               0.2\n",
       "3                  4.6               3.1                1.5               0.2\n",
       "4                  5.0               3.6                1.4               0.2\n",
       "..                 ...               ...                ...               ...\n",
       "145                6.7               3.0                5.2               2.3\n",
       "146                6.3               2.5                5.0               1.9\n",
       "147                6.5               3.0                5.2               2.0\n",
       "148                6.2               3.4                5.4               2.3\n",
       "149                5.9               3.0                5.1               1.8\n",
       "\n",
       "[150 rows x 4 columns]"
      ]
     },
     "execution_count": 2,
     "metadata": {},
     "output_type": "execute_result"
    }
   ],
   "source": [
    "input_data"
   ]
  },
  {
   "cell_type": "code",
   "execution_count": 9,
   "id": "8784efdf",
   "metadata": {},
   "outputs": [],
   "source": [
    "from sklearn.preprocessing import StandardScaler\n",
    "from sklearn.cluster import DBSCAN\n",
    "import pandas as pd\n",
    "ss = StandardScaler()\n",
    "ss_input_data = pd.DataFrame(ss.fit_transform(input_data))\n"
   ]
  },
  {
   "cell_type": "code",
   "execution_count": 10,
   "id": "77a9f619",
   "metadata": {},
   "outputs": [
    {
     "data": {
      "text/plain": [
       "array([ 0,  0,  0,  0,  0,  0,  0,  0,  0,  0,  0,  0,  0,  0, -1, -1,  0,\n",
       "        0,  0,  0,  0,  0,  0,  0,  0,  0,  0,  0,  0,  0,  0,  0, -1, -1,\n",
       "        0,  0,  0,  0,  0,  0,  0, -1,  0,  0,  0,  0,  0,  0,  0,  0,  1,\n",
       "        1,  1,  1,  1,  1, -1, -1,  1, -1, -1,  1, -1,  1,  1,  1,  1,  1,\n",
       "       -1,  1,  1,  1, -1,  1,  1,  1,  1,  1,  1,  1,  1,  1,  1,  1,  1,\n",
       "       -1,  1, -1,  1,  1,  1,  1,  1, -1,  1,  1,  1,  1, -1,  1, -1,  1,\n",
       "        1,  1,  1, -1, -1, -1, -1, -1,  1,  1,  1,  1, -1,  1,  1, -1, -1,\n",
       "       -1,  1,  1, -1,  1,  1, -1,  1,  1,  1, -1, -1, -1,  1,  1,  1, -1,\n",
       "       -1,  1,  1,  1,  1,  1,  1,  1,  1,  1,  1,  1, -1,  1],\n",
       "      dtype=int64)"
      ]
     },
     "execution_count": 10,
     "metadata": {},
     "output_type": "execute_result"
    }
   ],
   "source": [
    "# 군집화 객체 생성\n",
    "db = DBSCAN()\n",
    "db.fit(ss_input_data)\n",
    "result = db.labels_\n",
    "result"
   ]
  },
  {
   "cell_type": "code",
   "execution_count": 21,
   "id": "be574651",
   "metadata": {},
   "outputs": [
    {
     "data": {
      "image/png": "[encoded data removed]",
      "text/plain": [
       "<Figure size 576x288 with 2 Axes>"
      ]
     },
     "metadata": {
      "needs_background": "light"
     },
     "output_type": "display_data"
    },
    {
     "data": {
      "image/png": "[encoded data removed]",
      "text/plain": [
       "<Figure size 576x288 with 2 Axes>"
      ]
     },
     "metadata": {
      "needs_background": "light"
     },
     "output_type": "display_data"
    }
   ],
   "source": [
    "import matplotlib.pyplot as plt\n",
    "for i in [0,2]:\n",
    "    plt.figure(figsize = (8,4))\n",
    "    plt.subplot(1,2,1)\n",
    "    plt.scatter(ss_input_data[ss_input_data.columns[i]],\n",
    "               ss_input_data[ss_input_data.columns[i+1]],\n",
    "               c= result+1)\n",
    "\n",
    "    plt.subplot(1,2,2)\n",
    "    plt.scatter(ss_input_data[ss_input_data.columns[i]],\n",
    "               ss_input_data[ss_input_data.columns[i+1]],\n",
    "               c= target)\n",
    "    plt.show()"
   ]
  },
  {
   "cell_type": "code",
   "execution_count": 34,
   "id": "60491eda",
   "metadata": {},
   "outputs": [
    {
     "data": {
      "image/png": "[encoded data removed]",
      "text/plain": [
       "<Figure size 432x288 with 2 Axes>"
      ]
     },
     "metadata": {
      "needs_background": "light"
     },
     "output_type": "display_data"
    }
   ],
   "source": [
    "from sklearn.metrics import confusion_matrix\n",
    "import seaborn as sns\n",
    "sns.heatmap(confusion_matrix(target, np.where(db.labels_ == -1 , 2, db.labels_)), annot = True)\n",
    "plt.show()"
   ]
  },
  {
   "cell_type": "markdown",
   "id": "e78f833a",
   "metadata": {},
   "source": [
    "### keras scikitrean"
   ]
  },
  {
   "cell_type": "code",
   "execution_count": 37,
   "id": "d65ad430",
   "metadata": {},
   "outputs": [],
   "source": [
    "from scikeras.wrappers import KerasClassifier, KerasRegressor\n",
    "from tensorflow.keras import Sequential\n",
    "from tensorflow.keras.layers import Dense"
   ]
  },
  {
   "cell_type": "code",
   "execution_count": 100,
   "id": "ba1d4692",
   "metadata": {},
   "outputs": [],
   "source": [
    "def get_model(n_nodes, n_layer, meta):\n",
    "    input_shape = meta['X_shape_'][1:]\n",
    "    output_n_labels = meta['n_classes_']\n",
    "    model = Sequential()\n",
    "    model.add(Dense(n_nodes, activation='relu', input_shape =input_shape))\n",
    "    for i in range(n_layer-1):\n",
    "        model.add(Dense(n_nodes, activation='relu'))\n",
    "    model.add(Dense(output_n_labels, activation='softmax'))\n",
    "    \n",
    "    return model"
   ]
  },
  {
   "cell_type": "code",
   "execution_count": 140,
   "id": "74893f91",
   "metadata": {},
   "outputs": [],
   "source": [
    "k_cl = KerasClassifier(get_model,\n",
    "                       loss = 'sparse_categorical_crossentropy',\n",
    "                       n_nodes = 10,\n",
    "                       n_layer = 1,\n",
    "                       optimizer='adam',\n",
    "                       metrics = 'accuracy',\n",
    "                       epochs=30,\n",
    "                       verbose = 0                       \n",
    "                      )"
   ]
  },
  {
   "cell_type": "code",
   "execution_count": 141,
   "id": "767946d4",
   "metadata": {},
   "outputs": [],
   "source": [
    "from sklearn.model_selection import train_test_split\n",
    "train_x, test_x, train_y, test_y =  train_test_split(np.array(ss_input_data), np.array(target))"
   ]
  },
  {
   "cell_type": "code",
   "execution_count": 145,
   "id": "6d891a2c",
   "metadata": {},
   "outputs": [],
   "source": [
    "from sklearn.model_selection import GridSearchCV\n",
    "params = {\n",
    "    'n_nodes' : [30,50],\n",
    "    'n_layer' : [3,5]\n",
    "}\n",
    "gs = GridSearchCV(k_cl,\n",
    "                  param_grid=params,\n",
    "                  scoring='accuracy',\n",
    "                  verbose=1\n",
    "                 )"
   ]
  },
  {
   "cell_type": "code",
   "execution_count": 146,
   "id": "3fee5e14",
   "metadata": {},
   "outputs": [
    {
     "name": "stdout",
     "output_type": "stream",
     "text": [
      "Fitting 5 folds for each of 4 candidates, totalling 20 fits\n"
     ]
    },
    {
     "data": {
      "text/plain": [
       "GridSearchCV(estimator=KerasClassifier(epochs=30, loss='sparse_categorical_crossentropy', metrics='accuracy', model=<function get_model at 0x0000029BA8366670>, n_layer=1, n_nodes=10, optimizer='adam', verbose=0),\n",
       "             param_grid={'n_layer': [3, 5], 'n_nodes': [30, 50]},\n",
       "             scoring='accuracy', verbose=1)"
      ]
     },
     "execution_count": 146,
     "metadata": {},
     "output_type": "execute_result"
    }
   ],
   "source": [
    "gs.fit(train_x, train_y)"
   ]
  },
  {
   "cell_type": "code",
   "execution_count": 147,
   "id": "43a9a384",
   "metadata": {},
   "outputs": [
    {
     "data": {
      "text/plain": [
       "0.9375494071146246"
      ]
     },
     "execution_count": 147,
     "metadata": {},
     "output_type": "execute_result"
    }
   ],
   "source": [
    "gs.best_score_"
   ]
  },
  {
   "cell_type": "code",
   "execution_count": 148,
   "id": "cc88714d",
   "metadata": {},
   "outputs": [
    {
     "data": {
      "text/plain": [
       "KerasClassifier(\n",
       "\tmodel=<function get_model at 0x0000029BA8366670>\n",
       "\tbuild_fn=None\n",
       "\twarm_start=False\n",
       "\trandom_state=None\n",
       "\toptimizer=adam\n",
       "\tloss=sparse_categorical_crossentropy\n",
       "\tmetrics=accuracy\n",
       "\tbatch_size=None\n",
       "\tvalidation_batch_size=None\n",
       "\tverbose=0\n",
       "\tcallbacks=None\n",
       "\tvalidation_split=0.0\n",
       "\tshuffle=True\n",
       "\trun_eagerly=False\n",
       "\tepochs=30\n",
       "\tn_nodes=50\n",
       "\tn_layer=5\n",
       "\tclass_weight=None\n",
       ")"
      ]
     },
     "execution_count": 148,
     "metadata": {},
     "output_type": "execute_result"
    }
   ],
   "source": [
    "gs.best_estimator_"
   ]
  },
  {
   "cell_type": "code",
   "execution_count": 155,
   "id": "5f2ca13e",
   "metadata": {},
   "outputs": [
    {
     "name": "stdout",
     "output_type": "stream",
     "text": [
      "Epoch 1/30\n",
      "3/3 [==============================] - 3s 239ms/step - loss: 1.0992 - accuracy: 0.2584 - val_loss: 1.0571 - val_accuracy: 0.6087\n",
      "Epoch 2/30\n",
      "3/3 [==============================] - 0s 36ms/step - loss: 1.0502 - accuracy: 0.7191 - val_loss: 1.0083 - val_accuracy: 0.9565\n",
      "Epoch 3/30\n",
      "3/3 [==============================] - 0s 39ms/step - loss: 1.0051 - accuracy: 0.8315 - val_loss: 0.9534 - val_accuracy: 0.9565\n",
      "Epoch 4/30\n",
      "3/3 [==============================] - 0s 39ms/step - loss: 0.9509 - accuracy: 0.8315 - val_loss: 0.8861 - val_accuracy: 0.9565\n",
      "Epoch 5/30\n",
      "3/3 [==============================] - 0s 37ms/step - loss: 0.8796 - accuracy: 0.8315 - val_loss: 0.8072 - val_accuracy: 0.9130\n",
      "Epoch 6/30\n",
      "3/3 [==============================] - 0s 37ms/step - loss: 0.7999 - accuracy: 0.8202 - val_loss: 0.7128 - val_accuracy: 0.8696\n",
      "Epoch 7/30\n",
      "3/3 [==============================] - 0s 34ms/step - loss: 0.7129 - accuracy: 0.8090 - val_loss: 0.6114 - val_accuracy: 0.8696\n",
      "Epoch 8/30\n",
      "3/3 [==============================] - 0s 40ms/step - loss: 0.6254 - accuracy: 0.7978 - val_loss: 0.5178 - val_accuracy: 0.8261\n",
      "Epoch 9/30\n",
      "3/3 [==============================] - 0s 38ms/step - loss: 0.5509 - accuracy: 0.7978 - val_loss: 0.4386 - val_accuracy: 0.8261\n",
      "Epoch 10/30\n",
      "3/3 [==============================] - 0s 37ms/step - loss: 0.4857 - accuracy: 0.8090 - val_loss: 0.3765 - val_accuracy: 0.8696\n",
      "Epoch 11/30\n",
      "3/3 [==============================] - 0s 38ms/step - loss: 0.4352 - accuracy: 0.8202 - val_loss: 0.3289 - val_accuracy: 0.9130\n",
      "Epoch 12/30\n",
      "3/3 [==============================] - 0s 40ms/step - loss: 0.3905 - accuracy: 0.8202 - val_loss: 0.2876 - val_accuracy: 0.9130\n",
      "Epoch 13/30\n",
      "3/3 [==============================] - 0s 39ms/step - loss: 0.3537 - accuracy: 0.8539 - val_loss: 0.2522 - val_accuracy: 0.9565\n",
      "Epoch 14/30\n",
      "3/3 [==============================] - 0s 36ms/step - loss: 0.3215 - accuracy: 0.8652 - val_loss: 0.2196 - val_accuracy: 0.9565\n",
      "Epoch 15/30\n",
      "3/3 [==============================] - 0s 39ms/step - loss: 0.2977 - accuracy: 0.8539 - val_loss: 0.1921 - val_accuracy: 0.9565\n",
      "Epoch 16/30\n",
      "3/3 [==============================] - 0s 43ms/step - loss: 0.2733 - accuracy: 0.8989 - val_loss: 0.1632 - val_accuracy: 0.9565\n",
      "Epoch 17/30\n",
      "3/3 [==============================] - 0s 36ms/step - loss: 0.2474 - accuracy: 0.9101 - val_loss: 0.1358 - val_accuracy: 0.9565\n",
      "Epoch 18/30\n",
      "3/3 [==============================] - 0s 37ms/step - loss: 0.2239 - accuracy: 0.9213 - val_loss: 0.1137 - val_accuracy: 0.9565\n",
      "Epoch 19/30\n",
      "3/3 [==============================] - 0s 48ms/step - loss: 0.2003 - accuracy: 0.9326 - val_loss: 0.0959 - val_accuracy: 0.9565\n",
      "Epoch 20/30\n",
      "3/3 [==============================] - 0s 58ms/step - loss: 0.1833 - accuracy: 0.9326 - val_loss: 0.0814 - val_accuracy: 0.9565\n",
      "Epoch 21/30\n",
      "3/3 [==============================] - 0s 36ms/step - loss: 0.1640 - accuracy: 0.9551 - val_loss: 0.0715 - val_accuracy: 0.9565\n",
      "Epoch 22/30\n",
      "3/3 [==============================] - 0s 35ms/step - loss: 0.1501 - accuracy: 0.9551 - val_loss: 0.0605 - val_accuracy: 0.9565\n",
      "Epoch 23/30\n",
      "3/3 [==============================] - 0s 42ms/step - loss: 0.1347 - accuracy: 0.9551 - val_loss: 0.0514 - val_accuracy: 1.0000\n",
      "Epoch 24/30\n",
      "3/3 [==============================] - 0s 45ms/step - loss: 0.1225 - accuracy: 0.9663 - val_loss: 0.0417 - val_accuracy: 1.0000\n",
      "Epoch 25/30\n",
      "3/3 [==============================] - 0s 64ms/step - loss: 0.1168 - accuracy: 0.9551 - val_loss: 0.0351 - val_accuracy: 1.0000\n",
      "Epoch 26/30\n",
      "3/3 [==============================] - 0s 60ms/step - loss: 0.1022 - accuracy: 0.9775 - val_loss: 0.0336 - val_accuracy: 1.0000\n",
      "Epoch 27/30\n",
      "3/3 [==============================] - 0s 73ms/step - loss: 0.0976 - accuracy: 0.9888 - val_loss: 0.0306 - val_accuracy: 1.0000\n",
      "Epoch 28/30\n",
      "3/3 [==============================] - 0s 52ms/step - loss: 0.0935 - accuracy: 0.9888 - val_loss: 0.0244 - val_accuracy: 1.0000\n",
      "Epoch 29/30\n",
      "3/3 [==============================] - 0s 58ms/step - loss: 0.0849 - accuracy: 0.9888 - val_loss: 0.0200 - val_accuracy: 1.0000\n",
      "Epoch 30/30\n",
      "3/3 [==============================] - 0s 40ms/step - loss: 0.0834 - accuracy: 0.9775 - val_loss: 0.0186 - val_accuracy: 1.0000\n"
     ]
    },
    {
     "data": {
      "text/plain": [
       "KerasClassifier(\n",
       "\tmodel=<function get_model at 0x0000029BA8366670>\n",
       "\tbuild_fn=None\n",
       "\twarm_start=False\n",
       "\trandom_state=None\n",
       "\toptimizer=adam\n",
       "\tloss=sparse_categorical_crossentropy\n",
       "\tmetrics=accuracy\n",
       "\tbatch_size=None\n",
       "\tvalidation_batch_size=None\n",
       "\tverbose=1\n",
       "\tcallbacks=None\n",
       "\tvalidation_split=0.2\n",
       "\tshuffle=True\n",
       "\trun_eagerly=False\n",
       "\tepochs=30\n",
       "\tn_nodes=50\n",
       "\tn_layer=5\n",
       "\tclass_weight=None\n",
       ")"
      ]
     },
     "execution_count": 155,
     "metadata": {},
     "output_type": "execute_result"
    }
   ],
   "source": [
    "from tensorflow.keras.callbacks import EarlyStopping\n",
    "from tensorflow.keras.utils import set_random_seed\n",
    "set_random_seed(493)\n",
    "es_cb = EarlyStopping(monitor = 'val_loss', patience=3)\n",
    "model = gs.best_estimator_\n",
    "model.validation_split = 0.2\n",
    "model.verbose = 1\n",
    "model.fit(train_x, train_y,\n",
    "         callbacks = [es_cb])"
   ]
  },
  {
   "cell_type": "code",
   "execution_count": 156,
   "id": "bf675a67",
   "metadata": {
    "scrolled": true
   },
   "outputs": [
    {
     "name": "stdout",
     "output_type": "stream",
     "text": [
      "2/2 [==============================] - 0s 4ms/step\n"
     ]
    },
    {
     "data": {
      "text/plain": [
       "0.8947368421052632"
      ]
     },
     "execution_count": 156,
     "metadata": {},
     "output_type": "execute_result"
    }
   ],
   "source": [
    "from sklearn.metrics import accuracy_score\n",
    "accuracy_score(test_y, model.predict(test_x))"
   ]
  },
  {
   "cell_type": "markdown",
   "id": "a2ea7f9c",
   "metadata": {},
   "source": [
    "#### 신용카드 gridsearch"
   ]
  },
  {
   "cell_type": "code",
   "execution_count": 216,
   "id": "5b39a316",
   "metadata": {},
   "outputs": [
    {
     "name": "stdout",
     "output_type": "stream",
     "text": [
      "(22500, 18) (22500,)\n",
      "(7500, 18) (7500,)\n"
     ]
    }
   ],
   "source": [
    "print(card_pca_train_x.shape, card_train_y.shape)\n",
    "print(card_pca_test_x.shape, card_test_y.shape)"
   ]
  },
  {
   "cell_type": "code",
   "execution_count": 217,
   "id": "a6487e60",
   "metadata": {
    "scrolled": true
   },
   "outputs": [],
   "source": [
    "from sklearn.preprocessing import OneHotEncoder\n",
    "encoder = OneHotEncoder()\n",
    "card_train_y = encoder.fit_transform(np.array(card_train_y).reshape(-1,1)).toarray()\n",
    "card_test_y = encoder.transform(np.array(card_test_y).reshape(-1,1)).toarray()"
   ]
  },
  {
   "cell_type": "code",
   "execution_count": 218,
   "id": "46592a1d",
   "metadata": {},
   "outputs": [
    {
     "name": "stdout",
     "output_type": "stream",
     "text": [
      "(22500, 18) (22500, 2)\n",
      "(7500, 18) (7500, 2)\n"
     ]
    }
   ],
   "source": [
    "print(card_pca_train_x.shape, card_train_y.shape)\n",
    "print(card_pca_test_x.shape, card_test_y.shape)"
   ]
  },
  {
   "cell_type": "code",
   "execution_count": 219,
   "id": "289c3a2c",
   "metadata": {},
   "outputs": [],
   "source": [
    "from tensorflow.keras.utils import set_random_seed\n",
    "\n",
    "def get_model(n_nodes, n_layer, meta):\n",
    "    set_random_seed(493)\n",
    "    input_shape = meta['X_shape_'][1:]\n",
    "    output_n_labels = meta['n_classes_']\n",
    "    model = Sequential()\n",
    "    model.add(Dense(20, activation='relu', input_shape =input_shape))\n",
    "    for i in range(n_layer):\n",
    "        model.add(Dense(n_nodes[i], activation='relu'))\n",
    "    model.add(Dense(output_n_labels, activation='sigmoid'))\n",
    "    \n",
    "    return model"
   ]
  },
  {
   "cell_type": "code",
   "execution_count": 226,
   "id": "c6314c23",
   "metadata": {},
   "outputs": [],
   "source": [
    "from tensorflow.keras.callbacks import EarlyStopping\n",
    "es_cb = EarlyStopping(monitor = 'val_loss', patience=3)\n",
    "k_cl = KerasClassifier(get_model,\n",
    "                       loss = 'binary_crossentropy',\n",
    "                       n_nodes = 10,\n",
    "                       n_layer = 1,\n",
    "                       optimizer='adam',\n",
    "                       metrics = 'accuracy',\n",
    "                       epochs=10,\n",
    "                       validation_split=0.2,\n",
    "                       callbacks=[es_cb],\n",
    "                       verbose = 1                       \n",
    "                      )"
   ]
  },
  {
   "cell_type": "code",
   "execution_count": 229,
   "id": "3faeb71e",
   "metadata": {},
   "outputs": [],
   "source": [
    "from sklearn.model_selection import GridSearchCV\n",
    "params = {\n",
    "    'n_nodes' : [[20,30,40],[10,20,30]],\n",
    "    'n_layer' : [2,3]\n",
    "}\n",
    "gs = GridSearchCV(k_cl,\n",
    "                  param_grid=params,\n",
    "                  scoring='accuracy',\n",
    "                  verbose=1\n",
    "                 )"
   ]
  },
  {
   "cell_type": "code",
   "execution_count": 230,
   "id": "38e88488",
   "metadata": {
    "scrolled": true
   },
   "outputs": [
    {
     "name": "stdout",
     "output_type": "stream",
     "text": [
      "Fitting 5 folds for each of 4 candidates, totalling 20 fits\n",
      "Epoch 1/10\n",
      "450/450 [==============================] - 4s 6ms/step - loss: 0.4947 - accuracy: 0.7935 - val_loss: 0.4627 - val_accuracy: 0.8186\n",
      "Epoch 2/10\n",
      "450/450 [==============================] - 2s 5ms/step - loss: 0.4493 - accuracy: 0.8193 - val_loss: 0.4499 - val_accuracy: 0.8200\n",
      "Epoch 3/10\n",
      "450/450 [==============================] - 3s 6ms/step - loss: 0.4409 - accuracy: 0.8207 - val_loss: 0.4474 - val_accuracy: 0.8197\n",
      "Epoch 4/10\n",
      "450/450 [==============================] - 2s 5ms/step - loss: 0.4367 - accuracy: 0.8215 - val_loss: 0.4447 - val_accuracy: 0.8228\n",
      "Epoch 5/10\n",
      "450/450 [==============================] - 2s 5ms/step - loss: 0.4328 - accuracy: 0.8222 - val_loss: 0.4446 - val_accuracy: 0.8194\n",
      "Epoch 6/10\n",
      "450/450 [==============================] - 2s 5ms/step - loss: 0.4302 - accuracy: 0.8225 - val_loss: 0.4449 - val_accuracy: 0.8189\n",
      "Epoch 7/10\n",
      "450/450 [==============================] - 2s 5ms/step - loss: 0.4284 - accuracy: 0.8218 - val_loss: 0.4438 - val_accuracy: 0.8194\n",
      "Epoch 8/10\n",
      "450/450 [==============================] - 2s 4ms/step - loss: 0.4270 - accuracy: 0.8226 - val_loss: 0.4435 - val_accuracy: 0.8189\n",
      "Epoch 9/10\n",
      "450/450 [==============================] - 2s 5ms/step - loss: 0.4252 - accuracy: 0.8229 - val_loss: 0.4406 - val_accuracy: 0.8197\n",
      "Epoch 10/10\n",
      "450/450 [==============================] - 2s 5ms/step - loss: 0.4241 - accuracy: 0.8222 - val_loss: 0.4434 - val_accuracy: 0.8189\n",
      "141/141 [==============================] - 1s 3ms/step\n",
      "Epoch 1/10\n",
      "450/450 [==============================] - 4s 6ms/step - loss: 0.4902 - accuracy: 0.7966 - val_loss: 0.4630 - val_accuracy: 0.8153\n",
      "Epoch 2/10\n",
      "450/450 [==============================] - 3s 6ms/step - loss: 0.4406 - accuracy: 0.8232 - val_loss: 0.4515 - val_accuracy: 0.8211\n",
      "Epoch 3/10\n",
      "450/450 [==============================] - 2s 5ms/step - loss: 0.4312 - accuracy: 0.8248 - val_loss: 0.4449 - val_accuracy: 0.8200\n",
      "Epoch 4/10\n",
      "450/450 [==============================] - 2s 5ms/step - loss: 0.4262 - accuracy: 0.8256 - val_loss: 0.4423 - val_accuracy: 0.8214\n",
      "Epoch 5/10\n",
      "450/450 [==============================] - 2s 5ms/step - loss: 0.4228 - accuracy: 0.8275 - val_loss: 0.4417 - val_accuracy: 0.8206\n",
      "Epoch 6/10\n",
      "450/450 [==============================] - 3s 6ms/step - loss: 0.4207 - accuracy: 0.8271 - val_loss: 0.4420 - val_accuracy: 0.8208\n",
      "Epoch 7/10\n",
      "450/450 [==============================] - 2s 5ms/step - loss: 0.4187 - accuracy: 0.8274 - val_loss: 0.4390 - val_accuracy: 0.8197\n",
      "Epoch 8/10\n",
      "450/450 [==============================] - 2s 5ms/step - loss: 0.4175 - accuracy: 0.8286 - val_loss: 0.4400 - val_accuracy: 0.8200\n",
      "Epoch 9/10\n",
      "450/450 [==============================] - 2s 5ms/step - loss: 0.4161 - accuracy: 0.8285 - val_loss: 0.4397 - val_accuracy: 0.8206\n",
      "Epoch 10/10\n",
      "450/450 [==============================] - 4s 9ms/step - loss: 0.4152 - accuracy: 0.8272 - val_loss: 0.4407 - val_accuracy: 0.8206\n",
      "141/141 [==============================] - 1s 4ms/step\n",
      "Epoch 1/10\n",
      "450/450 [==============================] - 4s 7ms/step - loss: 0.4956 - accuracy: 0.7945 - val_loss: 0.4619 - val_accuracy: 0.8172\n",
      "Epoch 2/10\n",
      "450/450 [==============================] - 3s 7ms/step - loss: 0.4462 - accuracy: 0.8204 - val_loss: 0.4503 - val_accuracy: 0.8214\n",
      "Epoch 3/10\n",
      "450/450 [==============================] - 3s 7ms/step - loss: 0.4370 - accuracy: 0.8223 - val_loss: 0.4459 - val_accuracy: 0.8206\n",
      "Epoch 4/10\n",
      "450/450 [==============================] - 4s 8ms/step - loss: 0.4323 - accuracy: 0.8229 - val_loss: 0.4417 - val_accuracy: 0.8203\n",
      "Epoch 5/10\n",
      "450/450 [==============================] - 4s 8ms/step - loss: 0.4286 - accuracy: 0.8232 - val_loss: 0.4437 - val_accuracy: 0.8200\n",
      "Epoch 6/10\n",
      "450/450 [==============================] - 2s 5ms/step - loss: 0.4266 - accuracy: 0.8243 - val_loss: 0.4423 - val_accuracy: 0.8186\n",
      "Epoch 7/10\n",
      "450/450 [==============================] - 2s 5ms/step - loss: 0.4247 - accuracy: 0.8240 - val_loss: 0.4402 - val_accuracy: 0.8178\n",
      "Epoch 8/10\n",
      "450/450 [==============================] - 2s 6ms/step - loss: 0.4232 - accuracy: 0.8238 - val_loss: 0.4415 - val_accuracy: 0.8186\n",
      "Epoch 9/10\n",
      "450/450 [==============================] - 3s 6ms/step - loss: 0.4204 - accuracy: 0.8254 - val_loss: 0.4400 - val_accuracy: 0.8203\n",
      "Epoch 10/10\n",
      "450/450 [==============================] - 2s 4ms/step - loss: 0.4201 - accuracy: 0.8240 - val_loss: 0.4406 - val_accuracy: 0.8203\n",
      "141/141 [==============================] - 0s 2ms/step\n",
      "Epoch 1/10\n",
      "450/450 [==============================] - 4s 6ms/step - loss: 0.4975 - accuracy: 0.7918 - val_loss: 0.4606 - val_accuracy: 0.8161\n",
      "Epoch 2/10\n",
      "450/450 [==============================] - 2s 5ms/step - loss: 0.4509 - accuracy: 0.8159 - val_loss: 0.4482 - val_accuracy: 0.8214\n",
      "Epoch 3/10\n",
      "450/450 [==============================] - 2s 5ms/step - loss: 0.4432 - accuracy: 0.8192 - val_loss: 0.4451 - val_accuracy: 0.8208\n",
      "Epoch 4/10\n",
      "450/450 [==============================] - 2s 5ms/step - loss: 0.4389 - accuracy: 0.8205 - val_loss: 0.4429 - val_accuracy: 0.8228\n",
      "Epoch 5/10\n",
      "450/450 [==============================] - 2s 5ms/step - loss: 0.4364 - accuracy: 0.8201 - val_loss: 0.4415 - val_accuracy: 0.8211\n",
      "Epoch 6/10\n",
      "450/450 [==============================] - 2s 5ms/step - loss: 0.4341 - accuracy: 0.8210 - val_loss: 0.4432 - val_accuracy: 0.8192\n",
      "Epoch 7/10\n",
      "450/450 [==============================] - 2s 5ms/step - loss: 0.4325 - accuracy: 0.8220 - val_loss: 0.4408 - val_accuracy: 0.8192\n",
      "Epoch 8/10\n",
      "450/450 [==============================] - 2s 5ms/step - loss: 0.4307 - accuracy: 0.8221 - val_loss: 0.4413 - val_accuracy: 0.8183\n",
      "Epoch 9/10\n",
      "450/450 [==============================] - 2s 5ms/step - loss: 0.4289 - accuracy: 0.8231 - val_loss: 0.4447 - val_accuracy: 0.8181\n",
      "Epoch 10/10\n",
      "450/450 [==============================] - 3s 6ms/step - loss: 0.4283 - accuracy: 0.8216 - val_loss: 0.4405 - val_accuracy: 0.8186\n",
      "141/141 [==============================] - 1s 4ms/step\n",
      "Epoch 1/10\n",
      "450/450 [==============================] - 4s 6ms/step - loss: 0.4941 - accuracy: 0.7947 - val_loss: 0.4441 - val_accuracy: 0.8278\n",
      "Epoch 2/10\n",
      "450/450 [==============================] - 2s 5ms/step - loss: 0.4478 - accuracy: 0.8189 - val_loss: 0.4312 - val_accuracy: 0.8261\n",
      "Epoch 3/10\n",
      "450/450 [==============================] - 2s 5ms/step - loss: 0.4399 - accuracy: 0.8209 - val_loss: 0.4291 - val_accuracy: 0.8267\n",
      "Epoch 4/10\n",
      "450/450 [==============================] - 2s 5ms/step - loss: 0.4357 - accuracy: 0.8233 - val_loss: 0.4271 - val_accuracy: 0.8281\n",
      "Epoch 5/10\n",
      "450/450 [==============================] - 2s 5ms/step - loss: 0.4338 - accuracy: 0.8231 - val_loss: 0.4204 - val_accuracy: 0.8281\n",
      "Epoch 6/10\n",
      "450/450 [==============================] - 2s 5ms/step - loss: 0.4313 - accuracy: 0.8232 - val_loss: 0.4207 - val_accuracy: 0.8278\n",
      "Epoch 7/10\n",
      "450/450 [==============================] - 2s 5ms/step - loss: 0.4301 - accuracy: 0.8256 - val_loss: 0.4182 - val_accuracy: 0.8286\n",
      "Epoch 8/10\n",
      "450/450 [==============================] - 2s 5ms/step - loss: 0.4284 - accuracy: 0.8245 - val_loss: 0.4187 - val_accuracy: 0.8261\n",
      "Epoch 9/10\n",
      "450/450 [==============================] - 2s 5ms/step - loss: 0.4271 - accuracy: 0.8246 - val_loss: 0.4257 - val_accuracy: 0.8272\n",
      "Epoch 10/10\n",
      "450/450 [==============================] - 3s 6ms/step - loss: 0.4261 - accuracy: 0.8244 - val_loss: 0.4201 - val_accuracy: 0.8261\n",
      "141/141 [==============================] - 1s 3ms/step\n",
      "Epoch 1/10\n",
      "450/450 [==============================] - 4s 6ms/step - loss: 0.5030 - accuracy: 0.7979 - val_loss: 0.4638 - val_accuracy: 0.8142\n",
      "Epoch 2/10\n",
      "450/450 [==============================] - 2s 5ms/step - loss: 0.4515 - accuracy: 0.8158 - val_loss: 0.4503 - val_accuracy: 0.8197\n",
      "Epoch 3/10\n",
      "450/450 [==============================] - 2s 5ms/step - loss: 0.4423 - accuracy: 0.8198 - val_loss: 0.4449 - val_accuracy: 0.8197\n",
      "Epoch 4/10\n",
      "450/450 [==============================] - 2s 5ms/step - loss: 0.4381 - accuracy: 0.8191 - val_loss: 0.4420 - val_accuracy: 0.8211\n",
      "Epoch 5/10\n",
      "450/450 [==============================] - 2s 5ms/step - loss: 0.4348 - accuracy: 0.8213 - val_loss: 0.4417 - val_accuracy: 0.8197\n",
      "Epoch 6/10\n"
     ]
    },
    {
     "name": "stdout",
     "output_type": "stream",
     "text": [
      "450/450 [==============================] - 2s 5ms/step - loss: 0.4326 - accuracy: 0.8222 - val_loss: 0.4413 - val_accuracy: 0.8203\n",
      "Epoch 7/10\n",
      "450/450 [==============================] - 2s 5ms/step - loss: 0.4315 - accuracy: 0.8221 - val_loss: 0.4390 - val_accuracy: 0.8225\n",
      "Epoch 8/10\n",
      "450/450 [==============================] - 2s 4ms/step - loss: 0.4298 - accuracy: 0.8223 - val_loss: 0.4406 - val_accuracy: 0.8181\n",
      "Epoch 9/10\n",
      "450/450 [==============================] - 2s 5ms/step - loss: 0.4282 - accuracy: 0.8224 - val_loss: 0.4389 - val_accuracy: 0.8211\n",
      "Epoch 10/10\n",
      "450/450 [==============================] - 2s 5ms/step - loss: 0.4271 - accuracy: 0.8223 - val_loss: 0.4405 - val_accuracy: 0.8194\n",
      "141/141 [==============================] - 1s 3ms/step\n",
      "Epoch 1/10\n",
      "450/450 [==============================] - 4s 5ms/step - loss: 0.4980 - accuracy: 0.8003 - val_loss: 0.4627 - val_accuracy: 0.8183\n",
      "Epoch 2/10\n",
      "450/450 [==============================] - 2s 5ms/step - loss: 0.4429 - accuracy: 0.8208 - val_loss: 0.4480 - val_accuracy: 0.8181\n",
      "Epoch 3/10\n",
      "450/450 [==============================] - 2s 4ms/step - loss: 0.4328 - accuracy: 0.8233 - val_loss: 0.4430 - val_accuracy: 0.8203\n",
      "Epoch 4/10\n",
      "450/450 [==============================] - 2s 5ms/step - loss: 0.4285 - accuracy: 0.8246 - val_loss: 0.4398 - val_accuracy: 0.8211\n",
      "Epoch 5/10\n",
      "450/450 [==============================] - 2s 5ms/step - loss: 0.4253 - accuracy: 0.8258 - val_loss: 0.4394 - val_accuracy: 0.8181\n",
      "Epoch 6/10\n",
      "450/450 [==============================] - 2s 4ms/step - loss: 0.4232 - accuracy: 0.8255 - val_loss: 0.4396 - val_accuracy: 0.8206\n",
      "Epoch 7/10\n",
      "450/450 [==============================] - 2s 5ms/step - loss: 0.4217 - accuracy: 0.8272 - val_loss: 0.4371 - val_accuracy: 0.8189\n",
      "Epoch 8/10\n",
      "450/450 [==============================] - 2s 4ms/step - loss: 0.4202 - accuracy: 0.8278 - val_loss: 0.4381 - val_accuracy: 0.8172\n",
      "Epoch 9/10\n",
      "450/450 [==============================] - 2s 5ms/step - loss: 0.4188 - accuracy: 0.8280 - val_loss: 0.4367 - val_accuracy: 0.8208\n",
      "Epoch 10/10\n",
      "450/450 [==============================] - 2s 5ms/step - loss: 0.4179 - accuracy: 0.8286 - val_loss: 0.4374 - val_accuracy: 0.8186\n",
      "141/141 [==============================] - 1s 3ms/step\n",
      "Epoch 1/10\n",
      "450/450 [==============================] - 4s 5ms/step - loss: 0.5024 - accuracy: 0.7967 - val_loss: 0.4625 - val_accuracy: 0.8192\n",
      "Epoch 2/10\n",
      "450/450 [==============================] - 2s 5ms/step - loss: 0.4482 - accuracy: 0.8193 - val_loss: 0.4484 - val_accuracy: 0.8175\n",
      "Epoch 3/10\n",
      "450/450 [==============================] - 2s 5ms/step - loss: 0.4382 - accuracy: 0.8213 - val_loss: 0.4434 - val_accuracy: 0.8222\n",
      "Epoch 4/10\n",
      "450/450 [==============================] - 2s 4ms/step - loss: 0.4337 - accuracy: 0.8219 - val_loss: 0.4394 - val_accuracy: 0.8197\n",
      "Epoch 5/10\n",
      "450/450 [==============================] - 2s 5ms/step - loss: 0.4302 - accuracy: 0.8234 - val_loss: 0.4397 - val_accuracy: 0.8192\n",
      "Epoch 6/10\n",
      "450/450 [==============================] - 2s 5ms/step - loss: 0.4281 - accuracy: 0.8240 - val_loss: 0.4395 - val_accuracy: 0.8194\n",
      "Epoch 7/10\n",
      "450/450 [==============================] - 2s 5ms/step - loss: 0.4267 - accuracy: 0.8246 - val_loss: 0.4379 - val_accuracy: 0.8169\n",
      "Epoch 8/10\n",
      "450/450 [==============================] - 2s 5ms/step - loss: 0.4254 - accuracy: 0.8256 - val_loss: 0.4382 - val_accuracy: 0.8178\n",
      "Epoch 9/10\n",
      "450/450 [==============================] - 2s 5ms/step - loss: 0.4238 - accuracy: 0.8247 - val_loss: 0.4376 - val_accuracy: 0.8175\n",
      "Epoch 10/10\n",
      "450/450 [==============================] - 2s 5ms/step - loss: 0.4234 - accuracy: 0.8256 - val_loss: 0.4379 - val_accuracy: 0.8181\n",
      "141/141 [==============================] - 1s 5ms/step\n",
      "Epoch 1/10\n",
      "450/450 [==============================] - 4s 5ms/step - loss: 0.5053 - accuracy: 0.7959 - val_loss: 0.4624 - val_accuracy: 0.8183\n",
      "Epoch 2/10\n",
      "450/450 [==============================] - 2s 5ms/step - loss: 0.4547 - accuracy: 0.8153 - val_loss: 0.4485 - val_accuracy: 0.8181\n",
      "Epoch 3/10\n",
      "450/450 [==============================] - 3s 6ms/step - loss: 0.4456 - accuracy: 0.8183 - val_loss: 0.4448 - val_accuracy: 0.8217\n",
      "Epoch 4/10\n",
      "450/450 [==============================] - 2s 5ms/step - loss: 0.4407 - accuracy: 0.8185 - val_loss: 0.4418 - val_accuracy: 0.8214\n",
      "Epoch 5/10\n",
      "450/450 [==============================] - 2s 5ms/step - loss: 0.4384 - accuracy: 0.8202 - val_loss: 0.4403 - val_accuracy: 0.8233\n",
      "Epoch 6/10\n",
      "450/450 [==============================] - 2s 5ms/step - loss: 0.4362 - accuracy: 0.8211 - val_loss: 0.4405 - val_accuracy: 0.8228\n",
      "Epoch 7/10\n",
      "450/450 [==============================] - 2s 4ms/step - loss: 0.4347 - accuracy: 0.8218 - val_loss: 0.4387 - val_accuracy: 0.8211\n",
      "Epoch 8/10\n",
      "450/450 [==============================] - 2s 5ms/step - loss: 0.4332 - accuracy: 0.8217 - val_loss: 0.4382 - val_accuracy: 0.8225\n",
      "Epoch 9/10\n",
      "450/450 [==============================] - 2s 5ms/step - loss: 0.4314 - accuracy: 0.8226 - val_loss: 0.4418 - val_accuracy: 0.8219\n",
      "Epoch 10/10\n",
      "450/450 [==============================] - 3s 6ms/step - loss: 0.4312 - accuracy: 0.8226 - val_loss: 0.4374 - val_accuracy: 0.8214\n",
      "141/141 [==============================] - 1s 3ms/step\n",
      "Epoch 1/10\n",
      "450/450 [==============================] - 4s 6ms/step - loss: 0.5019 - accuracy: 0.7985 - val_loss: 0.4482 - val_accuracy: 0.8225\n",
      "Epoch 2/10\n",
      "450/450 [==============================] - 2s 5ms/step - loss: 0.4511 - accuracy: 0.8190 - val_loss: 0.4322 - val_accuracy: 0.8256\n",
      "Epoch 3/10\n",
      "450/450 [==============================] - 2s 5ms/step - loss: 0.4424 - accuracy: 0.8213 - val_loss: 0.4287 - val_accuracy: 0.8281\n",
      "Epoch 4/10\n",
      "450/450 [==============================] - 2s 5ms/step - loss: 0.4380 - accuracy: 0.8217 - val_loss: 0.4250 - val_accuracy: 0.8283\n",
      "Epoch 5/10\n",
      "450/450 [==============================] - 2s 5ms/step - loss: 0.4360 - accuracy: 0.8225 - val_loss: 0.4205 - val_accuracy: 0.8294\n",
      "Epoch 6/10\n",
      "450/450 [==============================] - 2s 4ms/step - loss: 0.4336 - accuracy: 0.8239 - val_loss: 0.4196 - val_accuracy: 0.8292\n",
      "Epoch 7/10\n",
      "450/450 [==============================] - 2s 5ms/step - loss: 0.4326 - accuracy: 0.8232 - val_loss: 0.4182 - val_accuracy: 0.8294\n",
      "Epoch 8/10\n",
      "450/450 [==============================] - 2s 5ms/step - loss: 0.4308 - accuracy: 0.8233 - val_loss: 0.4182 - val_accuracy: 0.8303\n",
      "Epoch 9/10\n",
      "450/450 [==============================] - 2s 5ms/step - loss: 0.4293 - accuracy: 0.8258 - val_loss: 0.4248 - val_accuracy: 0.8269\n",
      "Epoch 10/10\n",
      "450/450 [==============================] - 2s 5ms/step - loss: 0.4289 - accuracy: 0.8247 - val_loss: 0.4209 - val_accuracy: 0.8292\n",
      "141/141 [==============================] - 1s 3ms/step\n",
      "Epoch 1/10\n",
      "450/450 [==============================] - 4s 6ms/step - loss: 0.4925 - accuracy: 0.7949 - val_loss: 0.4574 - val_accuracy: 0.8169\n",
      "Epoch 2/10\n",
      "450/450 [==============================] - 2s 5ms/step - loss: 0.4460 - accuracy: 0.8181 - val_loss: 0.4452 - val_accuracy: 0.8208\n",
      "Epoch 3/10\n",
      "450/450 [==============================] - 2s 5ms/step - loss: 0.4384 - accuracy: 0.8201 - val_loss: 0.4442 - val_accuracy: 0.8194\n",
      "Epoch 4/10\n",
      "450/450 [==============================] - 2s 5ms/step - loss: 0.4350 - accuracy: 0.8201 - val_loss: 0.4424 - val_accuracy: 0.8208\n",
      "Epoch 5/10\n",
      "450/450 [==============================] - 2s 5ms/step - loss: 0.4311 - accuracy: 0.8215 - val_loss: 0.4404 - val_accuracy: 0.8206\n",
      "Epoch 6/10\n",
      "450/450 [==============================] - 2s 5ms/step - loss: 0.4285 - accuracy: 0.8214 - val_loss: 0.4421 - val_accuracy: 0.8183\n",
      "Epoch 7/10\n",
      "450/450 [==============================] - 2s 5ms/step - loss: 0.4267 - accuracy: 0.8227 - val_loss: 0.4400 - val_accuracy: 0.8208\n",
      "Epoch 8/10\n",
      "450/450 [==============================] - 2s 5ms/step - loss: 0.4253 - accuracy: 0.8228 - val_loss: 0.4406 - val_accuracy: 0.8186\n",
      "Epoch 9/10\n",
      "450/450 [==============================] - 2s 5ms/step - loss: 0.4232 - accuracy: 0.8243 - val_loss: 0.4372 - val_accuracy: 0.8206\n",
      "Epoch 10/10\n",
      "450/450 [==============================] - 3s 6ms/step - loss: 0.4226 - accuracy: 0.8239 - val_loss: 0.4438 - val_accuracy: 0.8228\n",
      "141/141 [==============================] - 1s 4ms/step\n",
      "Epoch 1/10\n"
     ]
    },
    {
     "name": "stdout",
     "output_type": "stream",
     "text": [
      "450/450 [==============================] - 4s 6ms/step - loss: 0.4856 - accuracy: 0.7991 - val_loss: 0.4591 - val_accuracy: 0.8161\n",
      "Epoch 2/10\n",
      "450/450 [==============================] - 2s 5ms/step - loss: 0.4366 - accuracy: 0.8219 - val_loss: 0.4449 - val_accuracy: 0.8197\n",
      "Epoch 3/10\n",
      "450/450 [==============================] - 2s 5ms/step - loss: 0.4281 - accuracy: 0.8253 - val_loss: 0.4422 - val_accuracy: 0.8175\n",
      "Epoch 4/10\n",
      "450/450 [==============================] - 2s 5ms/step - loss: 0.4244 - accuracy: 0.8252 - val_loss: 0.4392 - val_accuracy: 0.8197\n",
      "Epoch 5/10\n",
      "450/450 [==============================] - 2s 5ms/step - loss: 0.4210 - accuracy: 0.8267 - val_loss: 0.4398 - val_accuracy: 0.8178\n",
      "Epoch 6/10\n",
      "450/450 [==============================] - 2s 5ms/step - loss: 0.4195 - accuracy: 0.8272 - val_loss: 0.4385 - val_accuracy: 0.8197\n",
      "Epoch 7/10\n",
      "450/450 [==============================] - 2s 5ms/step - loss: 0.4171 - accuracy: 0.8285 - val_loss: 0.4367 - val_accuracy: 0.8175\n",
      "Epoch 8/10\n",
      "450/450 [==============================] - 2s 5ms/step - loss: 0.4162 - accuracy: 0.8273 - val_loss: 0.4382 - val_accuracy: 0.8175\n",
      "Epoch 9/10\n",
      "450/450 [==============================] - 2s 5ms/step - loss: 0.4145 - accuracy: 0.8278 - val_loss: 0.4353 - val_accuracy: 0.8175\n",
      "Epoch 10/10\n",
      "450/450 [==============================] - 2s 5ms/step - loss: 0.4138 - accuracy: 0.8282 - val_loss: 0.4399 - val_accuracy: 0.8217\n",
      "141/141 [==============================] - 1s 3ms/step\n",
      "Epoch 1/10\n",
      "450/450 [==============================] - 4s 6ms/step - loss: 0.4911 - accuracy: 0.7962 - val_loss: 0.4554 - val_accuracy: 0.8172\n",
      "Epoch 2/10\n",
      "450/450 [==============================] - 2s 5ms/step - loss: 0.4427 - accuracy: 0.8191 - val_loss: 0.4481 - val_accuracy: 0.8181\n",
      "Epoch 3/10\n",
      "450/450 [==============================] - 2s 5ms/step - loss: 0.4339 - accuracy: 0.8222 - val_loss: 0.4432 - val_accuracy: 0.8186\n",
      "Epoch 4/10\n",
      "450/450 [==============================] - 2s 5ms/step - loss: 0.4301 - accuracy: 0.8229 - val_loss: 0.4383 - val_accuracy: 0.8186\n",
      "Epoch 5/10\n",
      "450/450 [==============================] - 2s 5ms/step - loss: 0.4254 - accuracy: 0.8240 - val_loss: 0.4410 - val_accuracy: 0.8219\n",
      "Epoch 6/10\n",
      "450/450 [==============================] - 2s 5ms/step - loss: 0.4243 - accuracy: 0.8229 - val_loss: 0.4395 - val_accuracy: 0.8189\n",
      "Epoch 7/10\n",
      "450/450 [==============================] - 2s 5ms/step - loss: 0.4229 - accuracy: 0.8237 - val_loss: 0.4380 - val_accuracy: 0.8197\n",
      "Epoch 8/10\n",
      "450/450 [==============================] - 2s 5ms/step - loss: 0.4206 - accuracy: 0.8238 - val_loss: 0.4387 - val_accuracy: 0.8200\n",
      "Epoch 9/10\n",
      "450/450 [==============================] - 2s 5ms/step - loss: 0.4191 - accuracy: 0.8252 - val_loss: 0.4372 - val_accuracy: 0.8200\n",
      "Epoch 10/10\n",
      "450/450 [==============================] - 2s 5ms/step - loss: 0.4177 - accuracy: 0.8266 - val_loss: 0.4436 - val_accuracy: 0.8242\n",
      "141/141 [==============================] - 1s 3ms/step\n",
      "Epoch 1/10\n",
      "450/450 [==============================] - 4s 6ms/step - loss: 0.4939 - accuracy: 0.7922 - val_loss: 0.4552 - val_accuracy: 0.8167\n",
      "Epoch 2/10\n",
      "450/450 [==============================] - 2s 5ms/step - loss: 0.4479 - accuracy: 0.8163 - val_loss: 0.4456 - val_accuracy: 0.8214\n",
      "Epoch 3/10\n",
      "450/450 [==============================] - 2s 5ms/step - loss: 0.4413 - accuracy: 0.8189 - val_loss: 0.4421 - val_accuracy: 0.8197\n",
      "Epoch 4/10\n",
      "450/450 [==============================] - 2s 5ms/step - loss: 0.4370 - accuracy: 0.8205 - val_loss: 0.4392 - val_accuracy: 0.8208\n",
      "Epoch 5/10\n",
      "450/450 [==============================] - 2s 5ms/step - loss: 0.4347 - accuracy: 0.8206 - val_loss: 0.4394 - val_accuracy: 0.8214\n",
      "Epoch 6/10\n",
      "450/450 [==============================] - 2s 5ms/step - loss: 0.4326 - accuracy: 0.8202 - val_loss: 0.4411 - val_accuracy: 0.8211\n",
      "Epoch 7/10\n",
      "450/450 [==============================] - 2s 5ms/step - loss: 0.4309 - accuracy: 0.8216 - val_loss: 0.4401 - val_accuracy: 0.8211\n",
      "141/141 [==============================] - 1s 4ms/step\n",
      "Epoch 1/10\n",
      "450/450 [==============================] - 4s 6ms/step - loss: 0.4899 - accuracy: 0.7947 - val_loss: 0.4380 - val_accuracy: 0.8236\n",
      "Epoch 2/10\n",
      "450/450 [==============================] - 2s 5ms/step - loss: 0.4448 - accuracy: 0.8183 - val_loss: 0.4285 - val_accuracy: 0.8269\n",
      "Epoch 3/10\n",
      "450/450 [==============================] - 2s 5ms/step - loss: 0.4380 - accuracy: 0.8224 - val_loss: 0.4239 - val_accuracy: 0.8294\n",
      "Epoch 4/10\n",
      "450/450 [==============================] - 2s 5ms/step - loss: 0.4342 - accuracy: 0.8238 - val_loss: 0.4218 - val_accuracy: 0.8289\n",
      "Epoch 5/10\n",
      "450/450 [==============================] - 3s 6ms/step - loss: 0.4319 - accuracy: 0.8226 - val_loss: 0.4171 - val_accuracy: 0.8289\n",
      "Epoch 6/10\n",
      "450/450 [==============================] - 2s 5ms/step - loss: 0.4295 - accuracy: 0.8240 - val_loss: 0.4168 - val_accuracy: 0.8289\n",
      "Epoch 7/10\n",
      "450/450 [==============================] - 2s 5ms/step - loss: 0.4276 - accuracy: 0.8256 - val_loss: 0.4146 - val_accuracy: 0.8281\n",
      "Epoch 8/10\n",
      "450/450 [==============================] - 2s 5ms/step - loss: 0.4260 - accuracy: 0.8240 - val_loss: 0.4144 - val_accuracy: 0.8286\n",
      "Epoch 9/10\n",
      "450/450 [==============================] - 2s 5ms/step - loss: 0.4242 - accuracy: 0.8243 - val_loss: 0.4258 - val_accuracy: 0.8264\n",
      "Epoch 10/10\n",
      "450/450 [==============================] - 2s 5ms/step - loss: 0.4229 - accuracy: 0.8254 - val_loss: 0.4200 - val_accuracy: 0.8275\n",
      "141/141 [==============================] - 1s 3ms/step\n",
      "Epoch 1/10\n",
      "450/450 [==============================] - 4s 6ms/step - loss: 0.5158 - accuracy: 0.7803 - val_loss: 0.4750 - val_accuracy: 0.7922\n",
      "Epoch 2/10\n",
      "450/450 [==============================] - 2s 5ms/step - loss: 0.4546 - accuracy: 0.8117 - val_loss: 0.4492 - val_accuracy: 0.8186\n",
      "Epoch 3/10\n",
      "450/450 [==============================] - 2s 5ms/step - loss: 0.4420 - accuracy: 0.8194 - val_loss: 0.4447 - val_accuracy: 0.8192\n",
      "Epoch 4/10\n",
      "450/450 [==============================] - 2s 5ms/step - loss: 0.4370 - accuracy: 0.8197 - val_loss: 0.4447 - val_accuracy: 0.8217\n",
      "Epoch 5/10\n",
      "450/450 [==============================] - 2s 5ms/step - loss: 0.4337 - accuracy: 0.8208 - val_loss: 0.4407 - val_accuracy: 0.8181\n",
      "Epoch 6/10\n",
      "450/450 [==============================] - 2s 5ms/step - loss: 0.4309 - accuracy: 0.8215 - val_loss: 0.4411 - val_accuracy: 0.8206\n",
      "Epoch 7/10\n",
      "450/450 [==============================] - 2s 5ms/step - loss: 0.4287 - accuracy: 0.8219 - val_loss: 0.4392 - val_accuracy: 0.8206\n",
      "Epoch 8/10\n",
      "450/450 [==============================] - 2s 5ms/step - loss: 0.4274 - accuracy: 0.8215 - val_loss: 0.4431 - val_accuracy: 0.8183\n",
      "Epoch 9/10\n",
      "450/450 [==============================] - 2s 5ms/step - loss: 0.4262 - accuracy: 0.8219 - val_loss: 0.4398 - val_accuracy: 0.8208\n",
      "Epoch 10/10\n",
      "450/450 [==============================] - 2s 5ms/step - loss: 0.4251 - accuracy: 0.8220 - val_loss: 0.4457 - val_accuracy: 0.8200\n",
      "141/141 [==============================] - 1s 3ms/step\n",
      "Epoch 1/10\n",
      "450/450 [==============================] - 4s 6ms/step - loss: 0.5117 - accuracy: 0.7828 - val_loss: 0.4773 - val_accuracy: 0.7925\n",
      "Epoch 2/10\n",
      "450/450 [==============================] - 2s 5ms/step - loss: 0.4500 - accuracy: 0.8138 - val_loss: 0.4504 - val_accuracy: 0.8194\n",
      "Epoch 3/10\n",
      "450/450 [==============================] - 2s 5ms/step - loss: 0.4327 - accuracy: 0.8238 - val_loss: 0.4456 - val_accuracy: 0.8175\n",
      "Epoch 4/10\n",
      "450/450 [==============================] - 2s 5ms/step - loss: 0.4272 - accuracy: 0.8249 - val_loss: 0.4420 - val_accuracy: 0.8175\n",
      "Epoch 5/10\n",
      "450/450 [==============================] - 2s 5ms/step - loss: 0.4231 - accuracy: 0.8255 - val_loss: 0.4417 - val_accuracy: 0.8194\n",
      "Epoch 6/10\n",
      "450/450 [==============================] - 2s 5ms/step - loss: 0.4207 - accuracy: 0.8255 - val_loss: 0.4399 - val_accuracy: 0.8186\n",
      "Epoch 7/10\n",
      "450/450 [==============================] - 2s 5ms/step - loss: 0.4185 - accuracy: 0.8286 - val_loss: 0.4388 - val_accuracy: 0.8192\n",
      "Epoch 8/10\n",
      "450/450 [==============================] - 2s 5ms/step - loss: 0.4167 - accuracy: 0.8269 - val_loss: 0.4397 - val_accuracy: 0.8186\n",
      "Epoch 9/10\n",
      "450/450 [==============================] - 2s 5ms/step - loss: 0.4157 - accuracy: 0.8290 - val_loss: 0.4385 - val_accuracy: 0.8178\n"
     ]
    },
    {
     "name": "stdout",
     "output_type": "stream",
     "text": [
      "Epoch 10/10\n",
      "450/450 [==============================] - 2s 5ms/step - loss: 0.4150 - accuracy: 0.8268 - val_loss: 0.4393 - val_accuracy: 0.8214\n",
      "141/141 [==============================] - 1s 3ms/step\n",
      "Epoch 1/10\n",
      "450/450 [==============================] - 4s 6ms/step - loss: 0.5157 - accuracy: 0.7817 - val_loss: 0.4730 - val_accuracy: 0.8094\n",
      "Epoch 2/10\n",
      "450/450 [==============================] - 2s 4ms/step - loss: 0.4504 - accuracy: 0.8142 - val_loss: 0.4511 - val_accuracy: 0.8158\n",
      "Epoch 3/10\n",
      "450/450 [==============================] - 2s 5ms/step - loss: 0.4373 - accuracy: 0.8215 - val_loss: 0.4461 - val_accuracy: 0.8153\n",
      "Epoch 4/10\n",
      "450/450 [==============================] - 2s 5ms/step - loss: 0.4327 - accuracy: 0.8227 - val_loss: 0.4413 - val_accuracy: 0.8175\n",
      "Epoch 5/10\n",
      "450/450 [==============================] - 2s 5ms/step - loss: 0.4287 - accuracy: 0.8242 - val_loss: 0.4424 - val_accuracy: 0.8172\n",
      "Epoch 6/10\n",
      "450/450 [==============================] - 2s 5ms/step - loss: 0.4266 - accuracy: 0.8247 - val_loss: 0.4408 - val_accuracy: 0.8181\n",
      "Epoch 7/10\n",
      "450/450 [==============================] - 2s 5ms/step - loss: 0.4253 - accuracy: 0.8262 - val_loss: 0.4393 - val_accuracy: 0.8194\n",
      "Epoch 8/10\n",
      "450/450 [==============================] - 2s 4ms/step - loss: 0.4238 - accuracy: 0.8244 - val_loss: 0.4397 - val_accuracy: 0.8183\n",
      "Epoch 9/10\n",
      "450/450 [==============================] - 2s 5ms/step - loss: 0.4218 - accuracy: 0.8248 - val_loss: 0.4388 - val_accuracy: 0.8178\n",
      "Epoch 10/10\n",
      "450/450 [==============================] - 2s 5ms/step - loss: 0.4211 - accuracy: 0.8260 - val_loss: 0.4395 - val_accuracy: 0.8203\n",
      "141/141 [==============================] - 1s 3ms/step\n",
      "Epoch 1/10\n",
      "450/450 [==============================] - 4s 6ms/step - loss: 0.5191 - accuracy: 0.7797 - val_loss: 0.4669 - val_accuracy: 0.8042\n",
      "Epoch 2/10\n",
      "450/450 [==============================] - 2s 5ms/step - loss: 0.4551 - accuracy: 0.8103 - val_loss: 0.4481 - val_accuracy: 0.8189\n",
      "Epoch 3/10\n",
      "450/450 [==============================] - 2s 5ms/step - loss: 0.4437 - accuracy: 0.8178 - val_loss: 0.4438 - val_accuracy: 0.8200\n",
      "Epoch 4/10\n",
      "450/450 [==============================] - 2s 5ms/step - loss: 0.4382 - accuracy: 0.8192 - val_loss: 0.4422 - val_accuracy: 0.8206\n",
      "Epoch 5/10\n",
      "450/450 [==============================] - 2s 5ms/step - loss: 0.4354 - accuracy: 0.8194 - val_loss: 0.4414 - val_accuracy: 0.8192\n",
      "Epoch 6/10\n",
      "450/450 [==============================] - 2s 5ms/step - loss: 0.4329 - accuracy: 0.8195 - val_loss: 0.4418 - val_accuracy: 0.8183\n",
      "Epoch 7/10\n",
      "450/450 [==============================] - 2s 5ms/step - loss: 0.4312 - accuracy: 0.8208 - val_loss: 0.4398 - val_accuracy: 0.8197\n",
      "Epoch 8/10\n",
      "450/450 [==============================] - 2s 5ms/step - loss: 0.4295 - accuracy: 0.8208 - val_loss: 0.4392 - val_accuracy: 0.8175\n",
      "Epoch 9/10\n",
      "450/450 [==============================] - 2s 5ms/step - loss: 0.4277 - accuracy: 0.8207 - val_loss: 0.4439 - val_accuracy: 0.8183\n",
      "Epoch 10/10\n",
      "450/450 [==============================] - 2s 5ms/step - loss: 0.4275 - accuracy: 0.8224 - val_loss: 0.4384 - val_accuracy: 0.8161\n",
      "141/141 [==============================] - 1s 3ms/step\n",
      "Epoch 1/10\n",
      "450/450 [==============================] - 4s 6ms/step - loss: 0.5158 - accuracy: 0.7812 - val_loss: 0.4574 - val_accuracy: 0.8044\n",
      "Epoch 2/10\n",
      "450/450 [==============================] - 3s 7ms/step - loss: 0.4530 - accuracy: 0.8140 - val_loss: 0.4315 - val_accuracy: 0.8256\n",
      "Epoch 3/10\n",
      "450/450 [==============================] - 2s 5ms/step - loss: 0.4401 - accuracy: 0.8199 - val_loss: 0.4281 - val_accuracy: 0.8269\n",
      "Epoch 4/10\n",
      "450/450 [==============================] - 3s 6ms/step - loss: 0.4350 - accuracy: 0.8228 - val_loss: 0.4263 - val_accuracy: 0.8261\n",
      "Epoch 5/10\n",
      "450/450 [==============================] - 2s 5ms/step - loss: 0.4323 - accuracy: 0.8241 - val_loss: 0.4213 - val_accuracy: 0.8286\n",
      "Epoch 6/10\n",
      "450/450 [==============================] - 2s 5ms/step - loss: 0.4296 - accuracy: 0.8240 - val_loss: 0.4220 - val_accuracy: 0.8267\n",
      "Epoch 7/10\n",
      "450/450 [==============================] - 2s 5ms/step - loss: 0.4278 - accuracy: 0.8266 - val_loss: 0.4188 - val_accuracy: 0.8264\n",
      "Epoch 8/10\n",
      "450/450 [==============================] - 2s 5ms/step - loss: 0.4266 - accuracy: 0.8249 - val_loss: 0.4203 - val_accuracy: 0.8264\n",
      "Epoch 9/10\n",
      "450/450 [==============================] - 3s 6ms/step - loss: 0.4249 - accuracy: 0.8239 - val_loss: 0.4278 - val_accuracy: 0.8231\n",
      "Epoch 10/10\n",
      "450/450 [==============================] - 3s 7ms/step - loss: 0.4244 - accuracy: 0.8244 - val_loss: 0.4217 - val_accuracy: 0.8236\n",
      "141/141 [==============================] - 1s 3ms/step\n",
      "Epoch 1/10\n",
      "563/563 [==============================] - 5s 7ms/step - loss: 0.4806 - accuracy: 0.8022 - val_loss: 0.4549 - val_accuracy: 0.8153\n",
      "Epoch 2/10\n",
      "563/563 [==============================] - 3s 6ms/step - loss: 0.4401 - accuracy: 0.8208 - val_loss: 0.4458 - val_accuracy: 0.8149\n",
      "Epoch 3/10\n",
      "563/563 [==============================] - 3s 5ms/step - loss: 0.4334 - accuracy: 0.8234 - val_loss: 0.4421 - val_accuracy: 0.8151\n",
      "Epoch 4/10\n",
      "563/563 [==============================] - 3s 5ms/step - loss: 0.4297 - accuracy: 0.8241 - val_loss: 0.4516 - val_accuracy: 0.8087\n",
      "Epoch 5/10\n",
      "563/563 [==============================] - 3s 5ms/step - loss: 0.4269 - accuracy: 0.8254 - val_loss: 0.4421 - val_accuracy: 0.8162\n",
      "Epoch 6/10\n",
      "563/563 [==============================] - 3s 5ms/step - loss: 0.4252 - accuracy: 0.8252 - val_loss: 0.4402 - val_accuracy: 0.8127\n",
      "Epoch 7/10\n",
      "563/563 [==============================] - 3s 5ms/step - loss: 0.4237 - accuracy: 0.8249 - val_loss: 0.4370 - val_accuracy: 0.8160\n",
      "Epoch 8/10\n",
      "563/563 [==============================] - 3s 5ms/step - loss: 0.4221 - accuracy: 0.8257 - val_loss: 0.4384 - val_accuracy: 0.8153\n",
      "Epoch 9/10\n",
      "563/563 [==============================] - 3s 5ms/step - loss: 0.4209 - accuracy: 0.8263 - val_loss: 0.4402 - val_accuracy: 0.8147\n",
      "Epoch 10/10\n",
      "563/563 [==============================] - 3s 5ms/step - loss: 0.4199 - accuracy: 0.8268 - val_loss: 0.4367 - val_accuracy: 0.8196\n"
     ]
    },
    {
     "data": {
      "text/plain": [
       "GridSearchCV(estimator=KerasClassifier(callbacks=[<keras.callbacks.EarlyStopping object at 0x0000029BCDB6CE80>], epochs=10, loss='binary_crossentropy', metrics='accuracy', model=<function get_model at 0x0000029BCC01C670>, n_layer=1, n_nodes=10, optimizer='adam', validation_split=0.2),\n",
       "             param_grid={'n_layer': [2, 3],\n",
       "                         'n_nodes': [[20, 30, 40], [10, 20, 30]]},\n",
       "             scoring='accuracy', verbose=1)"
      ]
     },
     "execution_count": 230,
     "metadata": {},
     "output_type": "execute_result"
    }
   ],
   "source": [
    "gs.fit(card_pca_train_x, card_train_y)"
   ]
  },
  {
   "cell_type": "code",
   "execution_count": 231,
   "id": "c9a12013",
   "metadata": {},
   "outputs": [
    {
     "data": {
      "text/plain": [
       "0.8226222222222223"
      ]
     },
     "execution_count": 231,
     "metadata": {},
     "output_type": "execute_result"
    }
   ],
   "source": [
    "gs.best_score_"
   ]
  },
  {
   "cell_type": "code",
   "execution_count": 239,
   "id": "51cb366f",
   "metadata": {},
   "outputs": [
    {
     "data": {
      "text/plain": [
       "KerasClassifier(\n",
       "\tmodel=<function get_model at 0x0000029BCC01C670>\n",
       "\tbuild_fn=None\n",
       "\twarm_start=False\n",
       "\trandom_state=None\n",
       "\toptimizer=adam\n",
       "\tloss=binary_crossentropy\n",
       "\tmetrics=accuracy\n",
       "\tbatch_size=None\n",
       "\tvalidation_batch_size=None\n",
       "\tverbose=1\n",
       "\tcallbacks=[<keras.callbacks.EarlyStopping object at 0x0000029BD035DA90>]\n",
       "\tvalidation_split=0.2\n",
       "\tshuffle=True\n",
       "\trun_eagerly=False\n",
       "\tepochs=50\n",
       "\tn_nodes=[20, 30, 40]\n",
       "\tn_layer=3\n",
       "\tclass_weight=None\n",
       ")"
      ]
     },
     "execution_count": 239,
     "metadata": {},
     "output_type": "execute_result"
    }
   ],
   "source": [
    "gs.best_estimator_"
   ]
  },
  {
   "cell_type": "code",
   "execution_count": null,
   "id": "80c043e9",
   "metadata": {},
   "outputs": [],
   "source": [
    "set_random_seed(493)\n",
    "es_cb = EarlyStopping(monitor = 'val_loss', patience=3)\n",
    "model = gs.best_estimator_\n",
    "model.fit(train_x, train_y,\n",
    "         callbacks = [es_cb])"
   ]
  },
  {
   "cell_type": "code",
   "execution_count": 245,
   "id": "f4a1a06a",
   "metadata": {
    "scrolled": true
   },
   "outputs": [
    {
     "name": "stdout",
     "output_type": "stream",
     "text": [
      "[<keras.callbacks.EarlyStopping object at 0x0000029BD035DA90>]\n",
      "Epoch 1/50\n",
      "563/563 [==============================] - 5s 6ms/step - loss: 0.4806 - accuracy: 0.8022 - val_loss: 0.4549 - val_accuracy: 0.8153\n",
      "Epoch 2/50\n",
      "563/563 [==============================] - 3s 5ms/step - loss: 0.4401 - accuracy: 0.8208 - val_loss: 0.4458 - val_accuracy: 0.8149\n",
      "Epoch 3/50\n",
      "563/563 [==============================] - 4s 6ms/step - loss: 0.4334 - accuracy: 0.8234 - val_loss: 0.4421 - val_accuracy: 0.8151\n",
      "Epoch 4/50\n",
      "563/563 [==============================] - 4s 8ms/step - loss: 0.4297 - accuracy: 0.8241 - val_loss: 0.4516 - val_accuracy: 0.8087\n",
      "Epoch 5/50\n",
      "563/563 [==============================] - 3s 6ms/step - loss: 0.4269 - accuracy: 0.8254 - val_loss: 0.4421 - val_accuracy: 0.8162\n",
      "Epoch 6/50\n",
      "563/563 [==============================] - 3s 6ms/step - loss: 0.4252 - accuracy: 0.8252 - val_loss: 0.4402 - val_accuracy: 0.8127\n",
      "Epoch 7/50\n",
      "563/563 [==============================] - 3s 6ms/step - loss: 0.4237 - accuracy: 0.8249 - val_loss: 0.4370 - val_accuracy: 0.8160\n",
      "Epoch 8/50\n",
      "563/563 [==============================] - 3s 5ms/step - loss: 0.4221 - accuracy: 0.8257 - val_loss: 0.4384 - val_accuracy: 0.8153\n",
      "Epoch 9/50\n",
      "563/563 [==============================] - 3s 5ms/step - loss: 0.4209 - accuracy: 0.8263 - val_loss: 0.4402 - val_accuracy: 0.8147\n",
      "Epoch 10/50\n",
      "563/563 [==============================] - 3s 5ms/step - loss: 0.4199 - accuracy: 0.8268 - val_loss: 0.4367 - val_accuracy: 0.8196\n",
      "Epoch 11/50\n",
      "563/563 [==============================] - 3s 5ms/step - loss: 0.4186 - accuracy: 0.8274 - val_loss: 0.4402 - val_accuracy: 0.8158\n",
      "Epoch 12/50\n",
      "563/563 [==============================] - 3s 6ms/step - loss: 0.4176 - accuracy: 0.8267 - val_loss: 0.4412 - val_accuracy: 0.8178\n",
      "Epoch 13/50\n",
      "563/563 [==============================] - 3s 5ms/step - loss: 0.4167 - accuracy: 0.8285 - val_loss: 0.4419 - val_accuracy: 0.8180\n"
     ]
    },
    {
     "data": {
      "text/plain": [
       "KerasClassifier(\n",
       "\tmodel=<function get_model at 0x0000029BCC01C670>\n",
       "\tbuild_fn=None\n",
       "\twarm_start=False\n",
       "\trandom_state=None\n",
       "\toptimizer=adam\n",
       "\tloss=binary_crossentropy\n",
       "\tmetrics=accuracy\n",
       "\tbatch_size=None\n",
       "\tvalidation_batch_size=None\n",
       "\tverbose=1\n",
       "\tcallbacks=[<keras.callbacks.EarlyStopping object at 0x0000029BD035DA90>]\n",
       "\tvalidation_split=0.2\n",
       "\tshuffle=True\n",
       "\trun_eagerly=False\n",
       "\tepochs=50\n",
       "\tn_nodes=[20, 30, 40]\n",
       "\tn_layer=3\n",
       "\tclass_weight=None\n",
       ")"
      ]
     },
     "execution_count": 245,
     "metadata": {},
     "output_type": "execute_result"
    }
   ],
   "source": [
    "from tensorflow.keras.utils import plot_model\n",
    "set_random_seed(493)\n",
    "final_model = gs.best_estimator_\n",
    "final_model.epochs = 50\n",
    "print(final_model.callbacks)\n",
    "final_model.fit(card_pca_train_x, card_train_y)"
   ]
  },
  {
   "cell_type": "code",
   "execution_count": 250,
   "id": "ed6a79ee",
   "metadata": {},
   "outputs": [
    {
     "name": "stdout",
     "output_type": "stream",
     "text": [
      "235/235 [==============================] - 1s 4ms/step\n",
      "0.8106666666666666\n",
      "0.6430729353344455\n"
     ]
    }
   ],
   "source": [
    "from sklearn.metrics import accuracy_score, roc_auc_score\n",
    "pred = final_model.predict(card_pca_test_x)\n",
    "print(accuracy_score(card_test_y, pred))\n",
    "print(roc_auc_score(card_test_y, pred))"
   ]
  },
  {
   "cell_type": "code",
   "execution_count": 251,
   "id": "af1b9a56",
   "metadata": {},
   "outputs": [
    {
     "name": "stdout",
     "output_type": "stream",
     "text": [
      "704/704 [==============================] - 3s 4ms/step\n"
     ]
    },
    {
     "data": {
      "text/plain": [
       "0.8258222222222222"
      ]
     },
     "execution_count": 251,
     "metadata": {},
     "output_type": "execute_result"
    }
   ],
   "source": [
    "final_model.score(card_pca_train_x, card_train_y)"
   ]
  },
  {
   "cell_type": "code",
   "execution_count": null,
   "id": "7c19664c",
   "metadata": {},
   "outputs": [],
   "source": []
  }
 ],
 "metadata": {
  "kernelspec": {
   "display_name": "Python 3 (ipykernel)",
   "language": "python",
   "name": "python3"
  },
  "language_info": {
   "codemirror_mode": {
    "name": "ipython",
    "version": 3
   },
   "file_extension": ".py",
   "mimetype": "text/x-python",
   "name": "python",
   "nbconvert_exporter": "python",
   "pygments_lexer": "ipython3",
   "version": "3.9.12"
  }
 },
 "nbformat": 4,
 "nbformat_minor": 5
}
