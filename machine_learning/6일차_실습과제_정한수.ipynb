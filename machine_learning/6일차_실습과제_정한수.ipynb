{
 "cells": [
  {
   "cell_type": "markdown",
   "id": "f4242765",
   "metadata": {},
   "source": [
    "## 버섯"
   ]
  },
  {
   "cell_type": "code",
   "execution_count": 1,
   "id": "c6b9dc32",
   "metadata": {},
   "outputs": [
    {
     "ename": "KeyboardInterrupt",
     "evalue": "",
     "output_type": "error",
     "traceback": [
      "\u001b[1;31m---------------------------------------------------------------------------\u001b[0m",
      "\u001b[1;31mKeyboardInterrupt\u001b[0m                         Traceback (most recent call last)",
      "Input \u001b[1;32mIn [1]\u001b[0m, in \u001b[0;36m<cell line: 22>\u001b[1;34m()\u001b[0m\n\u001b[0;32m     20\u001b[0m rf \u001b[38;5;241m=\u001b[39m RandomForestClassifier()\n\u001b[0;32m     21\u001b[0m gs \u001b[38;5;241m=\u001b[39m GridSearchCV(rf, param_grid\u001b[38;5;241m=\u001b[39mparam_grid,cv \u001b[38;5;241m=\u001b[39m \u001b[38;5;241m10\u001b[39m, return_train_score\u001b[38;5;241m=\u001b[39m\u001b[38;5;28;01mTrue\u001b[39;00m)\n\u001b[1;32m---> 22\u001b[0m \u001b[43mgs\u001b[49m\u001b[38;5;241;43m.\u001b[39;49m\u001b[43mfit\u001b[49m\u001b[43m(\u001b[49m\u001b[43mtrain_x\u001b[49m\u001b[43m,\u001b[49m\u001b[43m \u001b[49m\u001b[43mtrain_y\u001b[49m\u001b[43m)\u001b[49m\n",
      "File \u001b[1;32m~\\anaconda3\\lib\\site-packages\\sklearn\\model_selection\\_search.py:891\u001b[0m, in \u001b[0;36mBaseSearchCV.fit\u001b[1;34m(self, X, y, groups, **fit_params)\u001b[0m\n\u001b[0;32m    885\u001b[0m     results \u001b[38;5;241m=\u001b[39m \u001b[38;5;28mself\u001b[39m\u001b[38;5;241m.\u001b[39m_format_results(\n\u001b[0;32m    886\u001b[0m         all_candidate_params, n_splits, all_out, all_more_results\n\u001b[0;32m    887\u001b[0m     )\n\u001b[0;32m    889\u001b[0m     \u001b[38;5;28;01mreturn\u001b[39;00m results\n\u001b[1;32m--> 891\u001b[0m \u001b[38;5;28;43mself\u001b[39;49m\u001b[38;5;241;43m.\u001b[39;49m\u001b[43m_run_search\u001b[49m\u001b[43m(\u001b[49m\u001b[43mevaluate_candidates\u001b[49m\u001b[43m)\u001b[49m\n\u001b[0;32m    893\u001b[0m \u001b[38;5;66;03m# multimetric is determined here because in the case of a callable\u001b[39;00m\n\u001b[0;32m    894\u001b[0m \u001b[38;5;66;03m# self.scoring the return type is only known after calling\u001b[39;00m\n\u001b[0;32m    895\u001b[0m first_test_score \u001b[38;5;241m=\u001b[39m all_out[\u001b[38;5;241m0\u001b[39m][\u001b[38;5;124m\"\u001b[39m\u001b[38;5;124mtest_scores\u001b[39m\u001b[38;5;124m\"\u001b[39m]\n",
      "File \u001b[1;32m~\\anaconda3\\lib\\site-packages\\sklearn\\model_selection\\_search.py:1392\u001b[0m, in \u001b[0;36mGridSearchCV._run_search\u001b[1;34m(self, evaluate_candidates)\u001b[0m\n\u001b[0;32m   1390\u001b[0m \u001b[38;5;28;01mdef\u001b[39;00m \u001b[38;5;21m_run_search\u001b[39m(\u001b[38;5;28mself\u001b[39m, evaluate_candidates):\n\u001b[0;32m   1391\u001b[0m     \u001b[38;5;124;03m\"\"\"Search all candidates in param_grid\"\"\"\u001b[39;00m\n\u001b[1;32m-> 1392\u001b[0m     \u001b[43mevaluate_candidates\u001b[49m\u001b[43m(\u001b[49m\u001b[43mParameterGrid\u001b[49m\u001b[43m(\u001b[49m\u001b[38;5;28;43mself\u001b[39;49m\u001b[38;5;241;43m.\u001b[39;49m\u001b[43mparam_grid\u001b[49m\u001b[43m)\u001b[49m\u001b[43m)\u001b[49m\n",
      "File \u001b[1;32m~\\anaconda3\\lib\\site-packages\\sklearn\\model_selection\\_search.py:838\u001b[0m, in \u001b[0;36mBaseSearchCV.fit.<locals>.evaluate_candidates\u001b[1;34m(candidate_params, cv, more_results)\u001b[0m\n\u001b[0;32m    830\u001b[0m \u001b[38;5;28;01mif\u001b[39;00m \u001b[38;5;28mself\u001b[39m\u001b[38;5;241m.\u001b[39mverbose \u001b[38;5;241m>\u001b[39m \u001b[38;5;241m0\u001b[39m:\n\u001b[0;32m    831\u001b[0m     \u001b[38;5;28mprint\u001b[39m(\n\u001b[0;32m    832\u001b[0m         \u001b[38;5;124m\"\u001b[39m\u001b[38;5;124mFitting \u001b[39m\u001b[38;5;132;01m{0}\u001b[39;00m\u001b[38;5;124m folds for each of \u001b[39m\u001b[38;5;132;01m{1}\u001b[39;00m\u001b[38;5;124m candidates,\u001b[39m\u001b[38;5;124m\"\u001b[39m\n\u001b[0;32m    833\u001b[0m         \u001b[38;5;124m\"\u001b[39m\u001b[38;5;124m totalling \u001b[39m\u001b[38;5;132;01m{2}\u001b[39;00m\u001b[38;5;124m fits\u001b[39m\u001b[38;5;124m\"\u001b[39m\u001b[38;5;241m.\u001b[39mformat(\n\u001b[0;32m    834\u001b[0m             n_splits, n_candidates, n_candidates \u001b[38;5;241m*\u001b[39m n_splits\n\u001b[0;32m    835\u001b[0m         )\n\u001b[0;32m    836\u001b[0m     )\n\u001b[1;32m--> 838\u001b[0m out \u001b[38;5;241m=\u001b[39m \u001b[43mparallel\u001b[49m\u001b[43m(\u001b[49m\n\u001b[0;32m    839\u001b[0m \u001b[43m    \u001b[49m\u001b[43mdelayed\u001b[49m\u001b[43m(\u001b[49m\u001b[43m_fit_and_score\u001b[49m\u001b[43m)\u001b[49m\u001b[43m(\u001b[49m\n\u001b[0;32m    840\u001b[0m \u001b[43m        \u001b[49m\u001b[43mclone\u001b[49m\u001b[43m(\u001b[49m\u001b[43mbase_estimator\u001b[49m\u001b[43m)\u001b[49m\u001b[43m,\u001b[49m\n\u001b[0;32m    841\u001b[0m \u001b[43m        \u001b[49m\u001b[43mX\u001b[49m\u001b[43m,\u001b[49m\n\u001b[0;32m    842\u001b[0m \u001b[43m        \u001b[49m\u001b[43my\u001b[49m\u001b[43m,\u001b[49m\n\u001b[0;32m    843\u001b[0m \u001b[43m        \u001b[49m\u001b[43mtrain\u001b[49m\u001b[38;5;241;43m=\u001b[39;49m\u001b[43mtrain\u001b[49m\u001b[43m,\u001b[49m\n\u001b[0;32m    844\u001b[0m \u001b[43m        \u001b[49m\u001b[43mtest\u001b[49m\u001b[38;5;241;43m=\u001b[39;49m\u001b[43mtest\u001b[49m\u001b[43m,\u001b[49m\n\u001b[0;32m    845\u001b[0m \u001b[43m        \u001b[49m\u001b[43mparameters\u001b[49m\u001b[38;5;241;43m=\u001b[39;49m\u001b[43mparameters\u001b[49m\u001b[43m,\u001b[49m\n\u001b[0;32m    846\u001b[0m \u001b[43m        \u001b[49m\u001b[43msplit_progress\u001b[49m\u001b[38;5;241;43m=\u001b[39;49m\u001b[43m(\u001b[49m\u001b[43msplit_idx\u001b[49m\u001b[43m,\u001b[49m\u001b[43m \u001b[49m\u001b[43mn_splits\u001b[49m\u001b[43m)\u001b[49m\u001b[43m,\u001b[49m\n\u001b[0;32m    847\u001b[0m \u001b[43m        \u001b[49m\u001b[43mcandidate_progress\u001b[49m\u001b[38;5;241;43m=\u001b[39;49m\u001b[43m(\u001b[49m\u001b[43mcand_idx\u001b[49m\u001b[43m,\u001b[49m\u001b[43m \u001b[49m\u001b[43mn_candidates\u001b[49m\u001b[43m)\u001b[49m\u001b[43m,\u001b[49m\n\u001b[0;32m    848\u001b[0m \u001b[43m        \u001b[49m\u001b[38;5;241;43m*\u001b[39;49m\u001b[38;5;241;43m*\u001b[39;49m\u001b[43mfit_and_score_kwargs\u001b[49m\u001b[43m,\u001b[49m\n\u001b[0;32m    849\u001b[0m \u001b[43m    \u001b[49m\u001b[43m)\u001b[49m\n\u001b[0;32m    850\u001b[0m \u001b[43m    \u001b[49m\u001b[38;5;28;43;01mfor\u001b[39;49;00m\u001b[43m \u001b[49m\u001b[43m(\u001b[49m\u001b[43mcand_idx\u001b[49m\u001b[43m,\u001b[49m\u001b[43m \u001b[49m\u001b[43mparameters\u001b[49m\u001b[43m)\u001b[49m\u001b[43m,\u001b[49m\u001b[43m \u001b[49m\u001b[43m(\u001b[49m\u001b[43msplit_idx\u001b[49m\u001b[43m,\u001b[49m\u001b[43m \u001b[49m\u001b[43m(\u001b[49m\u001b[43mtrain\u001b[49m\u001b[43m,\u001b[49m\u001b[43m \u001b[49m\u001b[43mtest\u001b[49m\u001b[43m)\u001b[49m\u001b[43m)\u001b[49m\u001b[43m \u001b[49m\u001b[38;5;129;43;01min\u001b[39;49;00m\u001b[43m \u001b[49m\u001b[43mproduct\u001b[49m\u001b[43m(\u001b[49m\n\u001b[0;32m    851\u001b[0m \u001b[43m        \u001b[49m\u001b[38;5;28;43menumerate\u001b[39;49m\u001b[43m(\u001b[49m\u001b[43mcandidate_params\u001b[49m\u001b[43m)\u001b[49m\u001b[43m,\u001b[49m\u001b[43m \u001b[49m\u001b[38;5;28;43menumerate\u001b[39;49m\u001b[43m(\u001b[49m\u001b[43mcv\u001b[49m\u001b[38;5;241;43m.\u001b[39;49m\u001b[43msplit\u001b[49m\u001b[43m(\u001b[49m\u001b[43mX\u001b[49m\u001b[43m,\u001b[49m\u001b[43m \u001b[49m\u001b[43my\u001b[49m\u001b[43m,\u001b[49m\u001b[43m \u001b[49m\u001b[43mgroups\u001b[49m\u001b[43m)\u001b[49m\u001b[43m)\u001b[49m\n\u001b[0;32m    852\u001b[0m \u001b[43m    \u001b[49m\u001b[43m)\u001b[49m\n\u001b[0;32m    853\u001b[0m \u001b[43m\u001b[49m\u001b[43m)\u001b[49m\n\u001b[0;32m    855\u001b[0m \u001b[38;5;28;01mif\u001b[39;00m \u001b[38;5;28mlen\u001b[39m(out) \u001b[38;5;241m<\u001b[39m \u001b[38;5;241m1\u001b[39m:\n\u001b[0;32m    856\u001b[0m     \u001b[38;5;28;01mraise\u001b[39;00m \u001b[38;5;167;01mValueError\u001b[39;00m(\n\u001b[0;32m    857\u001b[0m         \u001b[38;5;124m\"\u001b[39m\u001b[38;5;124mNo fits were performed. \u001b[39m\u001b[38;5;124m\"\u001b[39m\n\u001b[0;32m    858\u001b[0m         \u001b[38;5;124m\"\u001b[39m\u001b[38;5;124mWas the CV iterator empty? \u001b[39m\u001b[38;5;124m\"\u001b[39m\n\u001b[0;32m    859\u001b[0m         \u001b[38;5;124m\"\u001b[39m\u001b[38;5;124mWere there no candidates?\u001b[39m\u001b[38;5;124m\"\u001b[39m\n\u001b[0;32m    860\u001b[0m     )\n",
      "File \u001b[1;32m~\\anaconda3\\lib\\site-packages\\joblib\\parallel.py:1043\u001b[0m, in \u001b[0;36mParallel.__call__\u001b[1;34m(self, iterable)\u001b[0m\n\u001b[0;32m   1034\u001b[0m \u001b[38;5;28;01mtry\u001b[39;00m:\n\u001b[0;32m   1035\u001b[0m     \u001b[38;5;66;03m# Only set self._iterating to True if at least a batch\u001b[39;00m\n\u001b[0;32m   1036\u001b[0m     \u001b[38;5;66;03m# was dispatched. In particular this covers the edge\u001b[39;00m\n\u001b[1;32m   (...)\u001b[0m\n\u001b[0;32m   1040\u001b[0m     \u001b[38;5;66;03m# was very quick and its callback already dispatched all the\u001b[39;00m\n\u001b[0;32m   1041\u001b[0m     \u001b[38;5;66;03m# remaining jobs.\u001b[39;00m\n\u001b[0;32m   1042\u001b[0m     \u001b[38;5;28mself\u001b[39m\u001b[38;5;241m.\u001b[39m_iterating \u001b[38;5;241m=\u001b[39m \u001b[38;5;28;01mFalse\u001b[39;00m\n\u001b[1;32m-> 1043\u001b[0m     \u001b[38;5;28;01mif\u001b[39;00m \u001b[38;5;28;43mself\u001b[39;49m\u001b[38;5;241;43m.\u001b[39;49m\u001b[43mdispatch_one_batch\u001b[49m\u001b[43m(\u001b[49m\u001b[43miterator\u001b[49m\u001b[43m)\u001b[49m:\n\u001b[0;32m   1044\u001b[0m         \u001b[38;5;28mself\u001b[39m\u001b[38;5;241m.\u001b[39m_iterating \u001b[38;5;241m=\u001b[39m \u001b[38;5;28mself\u001b[39m\u001b[38;5;241m.\u001b[39m_original_iterator \u001b[38;5;129;01mis\u001b[39;00m \u001b[38;5;129;01mnot\u001b[39;00m \u001b[38;5;28;01mNone\u001b[39;00m\n\u001b[0;32m   1046\u001b[0m     \u001b[38;5;28;01mwhile\u001b[39;00m \u001b[38;5;28mself\u001b[39m\u001b[38;5;241m.\u001b[39mdispatch_one_batch(iterator):\n",
      "File \u001b[1;32m~\\anaconda3\\lib\\site-packages\\joblib\\parallel.py:861\u001b[0m, in \u001b[0;36mParallel.dispatch_one_batch\u001b[1;34m(self, iterator)\u001b[0m\n\u001b[0;32m    859\u001b[0m     \u001b[38;5;28;01mreturn\u001b[39;00m \u001b[38;5;28;01mFalse\u001b[39;00m\n\u001b[0;32m    860\u001b[0m \u001b[38;5;28;01melse\u001b[39;00m:\n\u001b[1;32m--> 861\u001b[0m     \u001b[38;5;28;43mself\u001b[39;49m\u001b[38;5;241;43m.\u001b[39;49m\u001b[43m_dispatch\u001b[49m\u001b[43m(\u001b[49m\u001b[43mtasks\u001b[49m\u001b[43m)\u001b[49m\n\u001b[0;32m    862\u001b[0m     \u001b[38;5;28;01mreturn\u001b[39;00m \u001b[38;5;28;01mTrue\u001b[39;00m\n",
      "File \u001b[1;32m~\\anaconda3\\lib\\site-packages\\joblib\\parallel.py:779\u001b[0m, in \u001b[0;36mParallel._dispatch\u001b[1;34m(self, batch)\u001b[0m\n\u001b[0;32m    777\u001b[0m \u001b[38;5;28;01mwith\u001b[39;00m \u001b[38;5;28mself\u001b[39m\u001b[38;5;241m.\u001b[39m_lock:\n\u001b[0;32m    778\u001b[0m     job_idx \u001b[38;5;241m=\u001b[39m \u001b[38;5;28mlen\u001b[39m(\u001b[38;5;28mself\u001b[39m\u001b[38;5;241m.\u001b[39m_jobs)\n\u001b[1;32m--> 779\u001b[0m     job \u001b[38;5;241m=\u001b[39m \u001b[38;5;28;43mself\u001b[39;49m\u001b[38;5;241;43m.\u001b[39;49m\u001b[43m_backend\u001b[49m\u001b[38;5;241;43m.\u001b[39;49m\u001b[43mapply_async\u001b[49m\u001b[43m(\u001b[49m\u001b[43mbatch\u001b[49m\u001b[43m,\u001b[49m\u001b[43m \u001b[49m\u001b[43mcallback\u001b[49m\u001b[38;5;241;43m=\u001b[39;49m\u001b[43mcb\u001b[49m\u001b[43m)\u001b[49m\n\u001b[0;32m    780\u001b[0m     \u001b[38;5;66;03m# A job can complete so quickly than its callback is\u001b[39;00m\n\u001b[0;32m    781\u001b[0m     \u001b[38;5;66;03m# called before we get here, causing self._jobs to\u001b[39;00m\n\u001b[0;32m    782\u001b[0m     \u001b[38;5;66;03m# grow. To ensure correct results ordering, .insert is\u001b[39;00m\n\u001b[0;32m    783\u001b[0m     \u001b[38;5;66;03m# used (rather than .append) in the following line\u001b[39;00m\n\u001b[0;32m    784\u001b[0m     \u001b[38;5;28mself\u001b[39m\u001b[38;5;241m.\u001b[39m_jobs\u001b[38;5;241m.\u001b[39minsert(job_idx, job)\n",
      "File \u001b[1;32m~\\anaconda3\\lib\\site-packages\\joblib\\_parallel_backends.py:208\u001b[0m, in \u001b[0;36mSequentialBackend.apply_async\u001b[1;34m(self, func, callback)\u001b[0m\n\u001b[0;32m    206\u001b[0m \u001b[38;5;28;01mdef\u001b[39;00m \u001b[38;5;21mapply_async\u001b[39m(\u001b[38;5;28mself\u001b[39m, func, callback\u001b[38;5;241m=\u001b[39m\u001b[38;5;28;01mNone\u001b[39;00m):\n\u001b[0;32m    207\u001b[0m     \u001b[38;5;124;03m\"\"\"Schedule a func to be run\"\"\"\u001b[39;00m\n\u001b[1;32m--> 208\u001b[0m     result \u001b[38;5;241m=\u001b[39m \u001b[43mImmediateResult\u001b[49m\u001b[43m(\u001b[49m\u001b[43mfunc\u001b[49m\u001b[43m)\u001b[49m\n\u001b[0;32m    209\u001b[0m     \u001b[38;5;28;01mif\u001b[39;00m callback:\n\u001b[0;32m    210\u001b[0m         callback(result)\n",
      "File \u001b[1;32m~\\anaconda3\\lib\\site-packages\\joblib\\_parallel_backends.py:572\u001b[0m, in \u001b[0;36mImmediateResult.__init__\u001b[1;34m(self, batch)\u001b[0m\n\u001b[0;32m    569\u001b[0m \u001b[38;5;28;01mdef\u001b[39;00m \u001b[38;5;21m__init__\u001b[39m(\u001b[38;5;28mself\u001b[39m, batch):\n\u001b[0;32m    570\u001b[0m     \u001b[38;5;66;03m# Don't delay the application, to avoid keeping the input\u001b[39;00m\n\u001b[0;32m    571\u001b[0m     \u001b[38;5;66;03m# arguments in memory\u001b[39;00m\n\u001b[1;32m--> 572\u001b[0m     \u001b[38;5;28mself\u001b[39m\u001b[38;5;241m.\u001b[39mresults \u001b[38;5;241m=\u001b[39m \u001b[43mbatch\u001b[49m\u001b[43m(\u001b[49m\u001b[43m)\u001b[49m\n",
      "File \u001b[1;32m~\\anaconda3\\lib\\site-packages\\joblib\\parallel.py:262\u001b[0m, in \u001b[0;36mBatchedCalls.__call__\u001b[1;34m(self)\u001b[0m\n\u001b[0;32m    258\u001b[0m \u001b[38;5;28;01mdef\u001b[39;00m \u001b[38;5;21m__call__\u001b[39m(\u001b[38;5;28mself\u001b[39m):\n\u001b[0;32m    259\u001b[0m     \u001b[38;5;66;03m# Set the default nested backend to self._backend but do not set the\u001b[39;00m\n\u001b[0;32m    260\u001b[0m     \u001b[38;5;66;03m# change the default number of processes to -1\u001b[39;00m\n\u001b[0;32m    261\u001b[0m     \u001b[38;5;28;01mwith\u001b[39;00m parallel_backend(\u001b[38;5;28mself\u001b[39m\u001b[38;5;241m.\u001b[39m_backend, n_jobs\u001b[38;5;241m=\u001b[39m\u001b[38;5;28mself\u001b[39m\u001b[38;5;241m.\u001b[39m_n_jobs):\n\u001b[1;32m--> 262\u001b[0m         \u001b[38;5;28;01mreturn\u001b[39;00m [func(\u001b[38;5;241m*\u001b[39margs, \u001b[38;5;241m*\u001b[39m\u001b[38;5;241m*\u001b[39mkwargs)\n\u001b[0;32m    263\u001b[0m                 \u001b[38;5;28;01mfor\u001b[39;00m func, args, kwargs \u001b[38;5;129;01min\u001b[39;00m \u001b[38;5;28mself\u001b[39m\u001b[38;5;241m.\u001b[39mitems]\n",
      "File \u001b[1;32m~\\anaconda3\\lib\\site-packages\\joblib\\parallel.py:262\u001b[0m, in \u001b[0;36m<listcomp>\u001b[1;34m(.0)\u001b[0m\n\u001b[0;32m    258\u001b[0m \u001b[38;5;28;01mdef\u001b[39;00m \u001b[38;5;21m__call__\u001b[39m(\u001b[38;5;28mself\u001b[39m):\n\u001b[0;32m    259\u001b[0m     \u001b[38;5;66;03m# Set the default nested backend to self._backend but do not set the\u001b[39;00m\n\u001b[0;32m    260\u001b[0m     \u001b[38;5;66;03m# change the default number of processes to -1\u001b[39;00m\n\u001b[0;32m    261\u001b[0m     \u001b[38;5;28;01mwith\u001b[39;00m parallel_backend(\u001b[38;5;28mself\u001b[39m\u001b[38;5;241m.\u001b[39m_backend, n_jobs\u001b[38;5;241m=\u001b[39m\u001b[38;5;28mself\u001b[39m\u001b[38;5;241m.\u001b[39m_n_jobs):\n\u001b[1;32m--> 262\u001b[0m         \u001b[38;5;28;01mreturn\u001b[39;00m [func(\u001b[38;5;241m*\u001b[39margs, \u001b[38;5;241m*\u001b[39m\u001b[38;5;241m*\u001b[39mkwargs)\n\u001b[0;32m    263\u001b[0m                 \u001b[38;5;28;01mfor\u001b[39;00m func, args, kwargs \u001b[38;5;129;01min\u001b[39;00m \u001b[38;5;28mself\u001b[39m\u001b[38;5;241m.\u001b[39mitems]\n",
      "File \u001b[1;32m~\\anaconda3\\lib\\site-packages\\sklearn\\utils\\fixes.py:216\u001b[0m, in \u001b[0;36m_FuncWrapper.__call__\u001b[1;34m(self, *args, **kwargs)\u001b[0m\n\u001b[0;32m    214\u001b[0m \u001b[38;5;28;01mdef\u001b[39;00m \u001b[38;5;21m__call__\u001b[39m(\u001b[38;5;28mself\u001b[39m, \u001b[38;5;241m*\u001b[39margs, \u001b[38;5;241m*\u001b[39m\u001b[38;5;241m*\u001b[39mkwargs):\n\u001b[0;32m    215\u001b[0m     \u001b[38;5;28;01mwith\u001b[39;00m config_context(\u001b[38;5;241m*\u001b[39m\u001b[38;5;241m*\u001b[39m\u001b[38;5;28mself\u001b[39m\u001b[38;5;241m.\u001b[39mconfig):\n\u001b[1;32m--> 216\u001b[0m         \u001b[38;5;28;01mreturn\u001b[39;00m \u001b[38;5;28mself\u001b[39m\u001b[38;5;241m.\u001b[39mfunction(\u001b[38;5;241m*\u001b[39margs, \u001b[38;5;241m*\u001b[39m\u001b[38;5;241m*\u001b[39mkwargs)\n",
      "File \u001b[1;32m~\\anaconda3\\lib\\site-packages\\sklearn\\model_selection\\_validation.py:705\u001b[0m, in \u001b[0;36m_fit_and_score\u001b[1;34m(estimator, X, y, scorer, train, test, verbose, parameters, fit_params, return_train_score, return_parameters, return_n_test_samples, return_times, return_estimator, split_progress, candidate_progress, error_score)\u001b[0m\n\u001b[0;32m    703\u001b[0m     score_time \u001b[38;5;241m=\u001b[39m time\u001b[38;5;241m.\u001b[39mtime() \u001b[38;5;241m-\u001b[39m start_time \u001b[38;5;241m-\u001b[39m fit_time\n\u001b[0;32m    704\u001b[0m     \u001b[38;5;28;01mif\u001b[39;00m return_train_score:\n\u001b[1;32m--> 705\u001b[0m         train_scores \u001b[38;5;241m=\u001b[39m \u001b[43m_score\u001b[49m\u001b[43m(\u001b[49m\u001b[43mestimator\u001b[49m\u001b[43m,\u001b[49m\u001b[43m \u001b[49m\u001b[43mX_train\u001b[49m\u001b[43m,\u001b[49m\u001b[43m \u001b[49m\u001b[43my_train\u001b[49m\u001b[43m,\u001b[49m\u001b[43m \u001b[49m\u001b[43mscorer\u001b[49m\u001b[43m,\u001b[49m\u001b[43m \u001b[49m\u001b[43merror_score\u001b[49m\u001b[43m)\u001b[49m\n\u001b[0;32m    707\u001b[0m \u001b[38;5;28;01mif\u001b[39;00m verbose \u001b[38;5;241m>\u001b[39m \u001b[38;5;241m1\u001b[39m:\n\u001b[0;32m    708\u001b[0m     total_time \u001b[38;5;241m=\u001b[39m score_time \u001b[38;5;241m+\u001b[39m fit_time\n",
      "File \u001b[1;32m~\\anaconda3\\lib\\site-packages\\sklearn\\model_selection\\_validation.py:761\u001b[0m, in \u001b[0;36m_score\u001b[1;34m(estimator, X_test, y_test, scorer, error_score)\u001b[0m\n\u001b[0;32m    759\u001b[0m         scores \u001b[38;5;241m=\u001b[39m scorer(estimator, X_test)\n\u001b[0;32m    760\u001b[0m     \u001b[38;5;28;01melse\u001b[39;00m:\n\u001b[1;32m--> 761\u001b[0m         scores \u001b[38;5;241m=\u001b[39m \u001b[43mscorer\u001b[49m\u001b[43m(\u001b[49m\u001b[43mestimator\u001b[49m\u001b[43m,\u001b[49m\u001b[43m \u001b[49m\u001b[43mX_test\u001b[49m\u001b[43m,\u001b[49m\u001b[43m \u001b[49m\u001b[43my_test\u001b[49m\u001b[43m)\u001b[49m\n\u001b[0;32m    762\u001b[0m \u001b[38;5;28;01mexcept\u001b[39;00m \u001b[38;5;167;01mException\u001b[39;00m:\n\u001b[0;32m    763\u001b[0m     \u001b[38;5;28;01mif\u001b[39;00m error_score \u001b[38;5;241m==\u001b[39m \u001b[38;5;124m\"\u001b[39m\u001b[38;5;124mraise\u001b[39m\u001b[38;5;124m\"\u001b[39m:\n",
      "File \u001b[1;32m~\\anaconda3\\lib\\site-packages\\sklearn\\metrics\\_scorer.py:418\u001b[0m, in \u001b[0;36m_passthrough_scorer\u001b[1;34m(estimator, *args, **kwargs)\u001b[0m\n\u001b[0;32m    416\u001b[0m \u001b[38;5;28;01mdef\u001b[39;00m \u001b[38;5;21m_passthrough_scorer\u001b[39m(estimator, \u001b[38;5;241m*\u001b[39margs, \u001b[38;5;241m*\u001b[39m\u001b[38;5;241m*\u001b[39mkwargs):\n\u001b[0;32m    417\u001b[0m     \u001b[38;5;124;03m\"\"\"Function that wraps estimator.score\"\"\"\u001b[39;00m\n\u001b[1;32m--> 418\u001b[0m     \u001b[38;5;28;01mreturn\u001b[39;00m estimator\u001b[38;5;241m.\u001b[39mscore(\u001b[38;5;241m*\u001b[39margs, \u001b[38;5;241m*\u001b[39m\u001b[38;5;241m*\u001b[39mkwargs)\n",
      "File \u001b[1;32m~\\anaconda3\\lib\\site-packages\\sklearn\\base.py:651\u001b[0m, in \u001b[0;36mClassifierMixin.score\u001b[1;34m(self, X, y, sample_weight)\u001b[0m\n\u001b[0;32m    626\u001b[0m \u001b[38;5;124;03m\"\"\"\u001b[39;00m\n\u001b[0;32m    627\u001b[0m \u001b[38;5;124;03mReturn the mean accuracy on the given test data and labels.\u001b[39;00m\n\u001b[0;32m    628\u001b[0m \n\u001b[1;32m   (...)\u001b[0m\n\u001b[0;32m    647\u001b[0m \u001b[38;5;124;03m    Mean accuracy of ``self.predict(X)`` wrt. `y`.\u001b[39;00m\n\u001b[0;32m    648\u001b[0m \u001b[38;5;124;03m\"\"\"\u001b[39;00m\n\u001b[0;32m    649\u001b[0m \u001b[38;5;28;01mfrom\u001b[39;00m \u001b[38;5;21;01m.\u001b[39;00m\u001b[38;5;21;01mmetrics\u001b[39;00m \u001b[38;5;28;01mimport\u001b[39;00m accuracy_score\n\u001b[1;32m--> 651\u001b[0m \u001b[38;5;28;01mreturn\u001b[39;00m accuracy_score(y, \u001b[38;5;28;43mself\u001b[39;49m\u001b[38;5;241;43m.\u001b[39;49m\u001b[43mpredict\u001b[49m\u001b[43m(\u001b[49m\u001b[43mX\u001b[49m\u001b[43m)\u001b[49m, sample_weight\u001b[38;5;241m=\u001b[39msample_weight)\n",
      "File \u001b[1;32m~\\anaconda3\\lib\\site-packages\\sklearn\\ensemble\\_forest.py:808\u001b[0m, in \u001b[0;36mForestClassifier.predict\u001b[1;34m(self, X)\u001b[0m\n\u001b[0;32m    787\u001b[0m \u001b[38;5;28;01mdef\u001b[39;00m \u001b[38;5;21mpredict\u001b[39m(\u001b[38;5;28mself\u001b[39m, X):\n\u001b[0;32m    788\u001b[0m     \u001b[38;5;124;03m\"\"\"\u001b[39;00m\n\u001b[0;32m    789\u001b[0m \u001b[38;5;124;03m    Predict class for X.\u001b[39;00m\n\u001b[0;32m    790\u001b[0m \n\u001b[1;32m   (...)\u001b[0m\n\u001b[0;32m    806\u001b[0m \u001b[38;5;124;03m        The predicted classes.\u001b[39;00m\n\u001b[0;32m    807\u001b[0m \u001b[38;5;124;03m    \"\"\"\u001b[39;00m\n\u001b[1;32m--> 808\u001b[0m     proba \u001b[38;5;241m=\u001b[39m \u001b[38;5;28;43mself\u001b[39;49m\u001b[38;5;241;43m.\u001b[39;49m\u001b[43mpredict_proba\u001b[49m\u001b[43m(\u001b[49m\u001b[43mX\u001b[49m\u001b[43m)\u001b[49m\n\u001b[0;32m    810\u001b[0m     \u001b[38;5;28;01mif\u001b[39;00m \u001b[38;5;28mself\u001b[39m\u001b[38;5;241m.\u001b[39mn_outputs_ \u001b[38;5;241m==\u001b[39m \u001b[38;5;241m1\u001b[39m:\n\u001b[0;32m    811\u001b[0m         \u001b[38;5;28;01mreturn\u001b[39;00m \u001b[38;5;28mself\u001b[39m\u001b[38;5;241m.\u001b[39mclasses_\u001b[38;5;241m.\u001b[39mtake(np\u001b[38;5;241m.\u001b[39margmax(proba, axis\u001b[38;5;241m=\u001b[39m\u001b[38;5;241m1\u001b[39m), axis\u001b[38;5;241m=\u001b[39m\u001b[38;5;241m0\u001b[39m)\n",
      "File \u001b[1;32m~\\anaconda3\\lib\\site-packages\\sklearn\\ensemble\\_forest.py:861\u001b[0m, in \u001b[0;36mForestClassifier.predict_proba\u001b[1;34m(self, X)\u001b[0m\n\u001b[0;32m    856\u001b[0m all_proba \u001b[38;5;241m=\u001b[39m [\n\u001b[0;32m    857\u001b[0m     np\u001b[38;5;241m.\u001b[39mzeros((X\u001b[38;5;241m.\u001b[39mshape[\u001b[38;5;241m0\u001b[39m], j), dtype\u001b[38;5;241m=\u001b[39mnp\u001b[38;5;241m.\u001b[39mfloat64)\n\u001b[0;32m    858\u001b[0m     \u001b[38;5;28;01mfor\u001b[39;00m j \u001b[38;5;129;01min\u001b[39;00m np\u001b[38;5;241m.\u001b[39matleast_1d(\u001b[38;5;28mself\u001b[39m\u001b[38;5;241m.\u001b[39mn_classes_)\n\u001b[0;32m    859\u001b[0m ]\n\u001b[0;32m    860\u001b[0m lock \u001b[38;5;241m=\u001b[39m threading\u001b[38;5;241m.\u001b[39mLock()\n\u001b[1;32m--> 861\u001b[0m \u001b[43mParallel\u001b[49m\u001b[43m(\u001b[49m\n\u001b[0;32m    862\u001b[0m \u001b[43m    \u001b[49m\u001b[43mn_jobs\u001b[49m\u001b[38;5;241;43m=\u001b[39;49m\u001b[43mn_jobs\u001b[49m\u001b[43m,\u001b[49m\n\u001b[0;32m    863\u001b[0m \u001b[43m    \u001b[49m\u001b[43mverbose\u001b[49m\u001b[38;5;241;43m=\u001b[39;49m\u001b[38;5;28;43mself\u001b[39;49m\u001b[38;5;241;43m.\u001b[39;49m\u001b[43mverbose\u001b[49m\u001b[43m,\u001b[49m\n\u001b[0;32m    864\u001b[0m \u001b[43m    \u001b[49m\u001b[38;5;241;43m*\u001b[39;49m\u001b[38;5;241;43m*\u001b[39;49m\u001b[43m_joblib_parallel_args\u001b[49m\u001b[43m(\u001b[49m\u001b[43mrequire\u001b[49m\u001b[38;5;241;43m=\u001b[39;49m\u001b[38;5;124;43m\"\u001b[39;49m\u001b[38;5;124;43msharedmem\u001b[39;49m\u001b[38;5;124;43m\"\u001b[39;49m\u001b[43m)\u001b[49m\u001b[43m,\u001b[49m\n\u001b[0;32m    865\u001b[0m \u001b[43m\u001b[49m\u001b[43m)\u001b[49m\u001b[43m(\u001b[49m\n\u001b[0;32m    866\u001b[0m \u001b[43m    \u001b[49m\u001b[43mdelayed\u001b[49m\u001b[43m(\u001b[49m\u001b[43m_accumulate_prediction\u001b[49m\u001b[43m)\u001b[49m\u001b[43m(\u001b[49m\u001b[43me\u001b[49m\u001b[38;5;241;43m.\u001b[39;49m\u001b[43mpredict_proba\u001b[49m\u001b[43m,\u001b[49m\u001b[43m \u001b[49m\u001b[43mX\u001b[49m\u001b[43m,\u001b[49m\u001b[43m \u001b[49m\u001b[43mall_proba\u001b[49m\u001b[43m,\u001b[49m\u001b[43m \u001b[49m\u001b[43mlock\u001b[49m\u001b[43m)\u001b[49m\n\u001b[0;32m    867\u001b[0m \u001b[43m    \u001b[49m\u001b[38;5;28;43;01mfor\u001b[39;49;00m\u001b[43m \u001b[49m\u001b[43me\u001b[49m\u001b[43m \u001b[49m\u001b[38;5;129;43;01min\u001b[39;49;00m\u001b[43m \u001b[49m\u001b[38;5;28;43mself\u001b[39;49m\u001b[38;5;241;43m.\u001b[39;49m\u001b[43mestimators_\u001b[49m\n\u001b[0;32m    868\u001b[0m \u001b[43m\u001b[49m\u001b[43m)\u001b[49m\n\u001b[0;32m    870\u001b[0m \u001b[38;5;28;01mfor\u001b[39;00m proba \u001b[38;5;129;01min\u001b[39;00m all_proba:\n\u001b[0;32m    871\u001b[0m     proba \u001b[38;5;241m/\u001b[39m\u001b[38;5;241m=\u001b[39m \u001b[38;5;28mlen\u001b[39m(\u001b[38;5;28mself\u001b[39m\u001b[38;5;241m.\u001b[39mestimators_)\n",
      "File \u001b[1;32m~\\anaconda3\\lib\\site-packages\\joblib\\parallel.py:1046\u001b[0m, in \u001b[0;36mParallel.__call__\u001b[1;34m(self, iterable)\u001b[0m\n\u001b[0;32m   1043\u001b[0m \u001b[38;5;28;01mif\u001b[39;00m \u001b[38;5;28mself\u001b[39m\u001b[38;5;241m.\u001b[39mdispatch_one_batch(iterator):\n\u001b[0;32m   1044\u001b[0m     \u001b[38;5;28mself\u001b[39m\u001b[38;5;241m.\u001b[39m_iterating \u001b[38;5;241m=\u001b[39m \u001b[38;5;28mself\u001b[39m\u001b[38;5;241m.\u001b[39m_original_iterator \u001b[38;5;129;01mis\u001b[39;00m \u001b[38;5;129;01mnot\u001b[39;00m \u001b[38;5;28;01mNone\u001b[39;00m\n\u001b[1;32m-> 1046\u001b[0m \u001b[38;5;28;01mwhile\u001b[39;00m \u001b[38;5;28;43mself\u001b[39;49m\u001b[38;5;241;43m.\u001b[39;49m\u001b[43mdispatch_one_batch\u001b[49m\u001b[43m(\u001b[49m\u001b[43miterator\u001b[49m\u001b[43m)\u001b[49m:\n\u001b[0;32m   1047\u001b[0m     \u001b[38;5;28;01mpass\u001b[39;00m\n\u001b[0;32m   1049\u001b[0m \u001b[38;5;28;01mif\u001b[39;00m pre_dispatch \u001b[38;5;241m==\u001b[39m \u001b[38;5;124m\"\u001b[39m\u001b[38;5;124mall\u001b[39m\u001b[38;5;124m\"\u001b[39m \u001b[38;5;129;01mor\u001b[39;00m n_jobs \u001b[38;5;241m==\u001b[39m \u001b[38;5;241m1\u001b[39m:\n\u001b[0;32m   1050\u001b[0m     \u001b[38;5;66;03m# The iterable was consumed all at once by the above for loop.\u001b[39;00m\n\u001b[0;32m   1051\u001b[0m     \u001b[38;5;66;03m# No need to wait for async callbacks to trigger to\u001b[39;00m\n\u001b[0;32m   1052\u001b[0m     \u001b[38;5;66;03m# consumption.\u001b[39;00m\n",
      "File \u001b[1;32m~\\anaconda3\\lib\\site-packages\\joblib\\parallel.py:861\u001b[0m, in \u001b[0;36mParallel.dispatch_one_batch\u001b[1;34m(self, iterator)\u001b[0m\n\u001b[0;32m    859\u001b[0m     \u001b[38;5;28;01mreturn\u001b[39;00m \u001b[38;5;28;01mFalse\u001b[39;00m\n\u001b[0;32m    860\u001b[0m \u001b[38;5;28;01melse\u001b[39;00m:\n\u001b[1;32m--> 861\u001b[0m     \u001b[38;5;28;43mself\u001b[39;49m\u001b[38;5;241;43m.\u001b[39;49m\u001b[43m_dispatch\u001b[49m\u001b[43m(\u001b[49m\u001b[43mtasks\u001b[49m\u001b[43m)\u001b[49m\n\u001b[0;32m    862\u001b[0m     \u001b[38;5;28;01mreturn\u001b[39;00m \u001b[38;5;28;01mTrue\u001b[39;00m\n",
      "File \u001b[1;32m~\\anaconda3\\lib\\site-packages\\joblib\\parallel.py:779\u001b[0m, in \u001b[0;36mParallel._dispatch\u001b[1;34m(self, batch)\u001b[0m\n\u001b[0;32m    777\u001b[0m \u001b[38;5;28;01mwith\u001b[39;00m \u001b[38;5;28mself\u001b[39m\u001b[38;5;241m.\u001b[39m_lock:\n\u001b[0;32m    778\u001b[0m     job_idx \u001b[38;5;241m=\u001b[39m \u001b[38;5;28mlen\u001b[39m(\u001b[38;5;28mself\u001b[39m\u001b[38;5;241m.\u001b[39m_jobs)\n\u001b[1;32m--> 779\u001b[0m     job \u001b[38;5;241m=\u001b[39m \u001b[38;5;28;43mself\u001b[39;49m\u001b[38;5;241;43m.\u001b[39;49m\u001b[43m_backend\u001b[49m\u001b[38;5;241;43m.\u001b[39;49m\u001b[43mapply_async\u001b[49m\u001b[43m(\u001b[49m\u001b[43mbatch\u001b[49m\u001b[43m,\u001b[49m\u001b[43m \u001b[49m\u001b[43mcallback\u001b[49m\u001b[38;5;241;43m=\u001b[39;49m\u001b[43mcb\u001b[49m\u001b[43m)\u001b[49m\n\u001b[0;32m    780\u001b[0m     \u001b[38;5;66;03m# A job can complete so quickly than its callback is\u001b[39;00m\n\u001b[0;32m    781\u001b[0m     \u001b[38;5;66;03m# called before we get here, causing self._jobs to\u001b[39;00m\n\u001b[0;32m    782\u001b[0m     \u001b[38;5;66;03m# grow. To ensure correct results ordering, .insert is\u001b[39;00m\n\u001b[0;32m    783\u001b[0m     \u001b[38;5;66;03m# used (rather than .append) in the following line\u001b[39;00m\n\u001b[0;32m    784\u001b[0m     \u001b[38;5;28mself\u001b[39m\u001b[38;5;241m.\u001b[39m_jobs\u001b[38;5;241m.\u001b[39minsert(job_idx, job)\n",
      "File \u001b[1;32m~\\anaconda3\\lib\\site-packages\\joblib\\_parallel_backends.py:208\u001b[0m, in \u001b[0;36mSequentialBackend.apply_async\u001b[1;34m(self, func, callback)\u001b[0m\n\u001b[0;32m    206\u001b[0m \u001b[38;5;28;01mdef\u001b[39;00m \u001b[38;5;21mapply_async\u001b[39m(\u001b[38;5;28mself\u001b[39m, func, callback\u001b[38;5;241m=\u001b[39m\u001b[38;5;28;01mNone\u001b[39;00m):\n\u001b[0;32m    207\u001b[0m     \u001b[38;5;124;03m\"\"\"Schedule a func to be run\"\"\"\u001b[39;00m\n\u001b[1;32m--> 208\u001b[0m     result \u001b[38;5;241m=\u001b[39m \u001b[43mImmediateResult\u001b[49m\u001b[43m(\u001b[49m\u001b[43mfunc\u001b[49m\u001b[43m)\u001b[49m\n\u001b[0;32m    209\u001b[0m     \u001b[38;5;28;01mif\u001b[39;00m callback:\n\u001b[0;32m    210\u001b[0m         callback(result)\n",
      "File \u001b[1;32m~\\anaconda3\\lib\\site-packages\\joblib\\_parallel_backends.py:572\u001b[0m, in \u001b[0;36mImmediateResult.__init__\u001b[1;34m(self, batch)\u001b[0m\n\u001b[0;32m    569\u001b[0m \u001b[38;5;28;01mdef\u001b[39;00m \u001b[38;5;21m__init__\u001b[39m(\u001b[38;5;28mself\u001b[39m, batch):\n\u001b[0;32m    570\u001b[0m     \u001b[38;5;66;03m# Don't delay the application, to avoid keeping the input\u001b[39;00m\n\u001b[0;32m    571\u001b[0m     \u001b[38;5;66;03m# arguments in memory\u001b[39;00m\n\u001b[1;32m--> 572\u001b[0m     \u001b[38;5;28mself\u001b[39m\u001b[38;5;241m.\u001b[39mresults \u001b[38;5;241m=\u001b[39m \u001b[43mbatch\u001b[49m\u001b[43m(\u001b[49m\u001b[43m)\u001b[49m\n",
      "File \u001b[1;32m~\\anaconda3\\lib\\site-packages\\joblib\\parallel.py:262\u001b[0m, in \u001b[0;36mBatchedCalls.__call__\u001b[1;34m(self)\u001b[0m\n\u001b[0;32m    258\u001b[0m \u001b[38;5;28;01mdef\u001b[39;00m \u001b[38;5;21m__call__\u001b[39m(\u001b[38;5;28mself\u001b[39m):\n\u001b[0;32m    259\u001b[0m     \u001b[38;5;66;03m# Set the default nested backend to self._backend but do not set the\u001b[39;00m\n\u001b[0;32m    260\u001b[0m     \u001b[38;5;66;03m# change the default number of processes to -1\u001b[39;00m\n\u001b[0;32m    261\u001b[0m     \u001b[38;5;28;01mwith\u001b[39;00m parallel_backend(\u001b[38;5;28mself\u001b[39m\u001b[38;5;241m.\u001b[39m_backend, n_jobs\u001b[38;5;241m=\u001b[39m\u001b[38;5;28mself\u001b[39m\u001b[38;5;241m.\u001b[39m_n_jobs):\n\u001b[1;32m--> 262\u001b[0m         \u001b[38;5;28;01mreturn\u001b[39;00m [func(\u001b[38;5;241m*\u001b[39margs, \u001b[38;5;241m*\u001b[39m\u001b[38;5;241m*\u001b[39mkwargs)\n\u001b[0;32m    263\u001b[0m                 \u001b[38;5;28;01mfor\u001b[39;00m func, args, kwargs \u001b[38;5;129;01min\u001b[39;00m \u001b[38;5;28mself\u001b[39m\u001b[38;5;241m.\u001b[39mitems]\n",
      "File \u001b[1;32m~\\anaconda3\\lib\\site-packages\\joblib\\parallel.py:262\u001b[0m, in \u001b[0;36m<listcomp>\u001b[1;34m(.0)\u001b[0m\n\u001b[0;32m    258\u001b[0m \u001b[38;5;28;01mdef\u001b[39;00m \u001b[38;5;21m__call__\u001b[39m(\u001b[38;5;28mself\u001b[39m):\n\u001b[0;32m    259\u001b[0m     \u001b[38;5;66;03m# Set the default nested backend to self._backend but do not set the\u001b[39;00m\n\u001b[0;32m    260\u001b[0m     \u001b[38;5;66;03m# change the default number of processes to -1\u001b[39;00m\n\u001b[0;32m    261\u001b[0m     \u001b[38;5;28;01mwith\u001b[39;00m parallel_backend(\u001b[38;5;28mself\u001b[39m\u001b[38;5;241m.\u001b[39m_backend, n_jobs\u001b[38;5;241m=\u001b[39m\u001b[38;5;28mself\u001b[39m\u001b[38;5;241m.\u001b[39m_n_jobs):\n\u001b[1;32m--> 262\u001b[0m         \u001b[38;5;28;01mreturn\u001b[39;00m [func(\u001b[38;5;241m*\u001b[39margs, \u001b[38;5;241m*\u001b[39m\u001b[38;5;241m*\u001b[39mkwargs)\n\u001b[0;32m    263\u001b[0m                 \u001b[38;5;28;01mfor\u001b[39;00m func, args, kwargs \u001b[38;5;129;01min\u001b[39;00m \u001b[38;5;28mself\u001b[39m\u001b[38;5;241m.\u001b[39mitems]\n",
      "File \u001b[1;32m~\\anaconda3\\lib\\site-packages\\sklearn\\utils\\fixes.py:216\u001b[0m, in \u001b[0;36m_FuncWrapper.__call__\u001b[1;34m(self, *args, **kwargs)\u001b[0m\n\u001b[0;32m    214\u001b[0m \u001b[38;5;28;01mdef\u001b[39;00m \u001b[38;5;21m__call__\u001b[39m(\u001b[38;5;28mself\u001b[39m, \u001b[38;5;241m*\u001b[39margs, \u001b[38;5;241m*\u001b[39m\u001b[38;5;241m*\u001b[39mkwargs):\n\u001b[0;32m    215\u001b[0m     \u001b[38;5;28;01mwith\u001b[39;00m config_context(\u001b[38;5;241m*\u001b[39m\u001b[38;5;241m*\u001b[39m\u001b[38;5;28mself\u001b[39m\u001b[38;5;241m.\u001b[39mconfig):\n\u001b[1;32m--> 216\u001b[0m         \u001b[38;5;28;01mreturn\u001b[39;00m \u001b[38;5;28mself\u001b[39m\u001b[38;5;241m.\u001b[39mfunction(\u001b[38;5;241m*\u001b[39margs, \u001b[38;5;241m*\u001b[39m\u001b[38;5;241m*\u001b[39mkwargs)\n",
      "File \u001b[1;32m~\\anaconda3\\lib\\site-packages\\sklearn\\ensemble\\_forest.py:640\u001b[0m, in \u001b[0;36m_accumulate_prediction\u001b[1;34m(predict, X, out, lock)\u001b[0m\n\u001b[0;32m    633\u001b[0m \u001b[38;5;28;01mdef\u001b[39;00m \u001b[38;5;21m_accumulate_prediction\u001b[39m(predict, X, out, lock):\n\u001b[0;32m    634\u001b[0m     \u001b[38;5;124;03m\"\"\"\u001b[39;00m\n\u001b[0;32m    635\u001b[0m \u001b[38;5;124;03m    This is a utility function for joblib's Parallel.\u001b[39;00m\n\u001b[0;32m    636\u001b[0m \n\u001b[0;32m    637\u001b[0m \u001b[38;5;124;03m    It can't go locally in ForestClassifier or ForestRegressor, because joblib\u001b[39;00m\n\u001b[0;32m    638\u001b[0m \u001b[38;5;124;03m    complains that it cannot pickle it when placed there.\u001b[39;00m\n\u001b[0;32m    639\u001b[0m \u001b[38;5;124;03m    \"\"\"\u001b[39;00m\n\u001b[1;32m--> 640\u001b[0m     prediction \u001b[38;5;241m=\u001b[39m \u001b[43mpredict\u001b[49m\u001b[43m(\u001b[49m\u001b[43mX\u001b[49m\u001b[43m,\u001b[49m\u001b[43m \u001b[49m\u001b[43mcheck_input\u001b[49m\u001b[38;5;241;43m=\u001b[39;49m\u001b[38;5;28;43;01mFalse\u001b[39;49;00m\u001b[43m)\u001b[49m\n\u001b[0;32m    641\u001b[0m     \u001b[38;5;28;01mwith\u001b[39;00m lock:\n\u001b[0;32m    642\u001b[0m         \u001b[38;5;28;01mif\u001b[39;00m \u001b[38;5;28mlen\u001b[39m(out) \u001b[38;5;241m==\u001b[39m \u001b[38;5;241m1\u001b[39m:\n",
      "File \u001b[1;32m~\\anaconda3\\lib\\site-packages\\sklearn\\tree\\_classes.py:972\u001b[0m, in \u001b[0;36mDecisionTreeClassifier.predict_proba\u001b[1;34m(self, X, check_input)\u001b[0m\n\u001b[0;32m    970\u001b[0m check_is_fitted(\u001b[38;5;28mself\u001b[39m)\n\u001b[0;32m    971\u001b[0m X \u001b[38;5;241m=\u001b[39m \u001b[38;5;28mself\u001b[39m\u001b[38;5;241m.\u001b[39m_validate_X_predict(X, check_input)\n\u001b[1;32m--> 972\u001b[0m proba \u001b[38;5;241m=\u001b[39m \u001b[38;5;28;43mself\u001b[39;49m\u001b[38;5;241;43m.\u001b[39;49m\u001b[43mtree_\u001b[49m\u001b[38;5;241;43m.\u001b[39;49m\u001b[43mpredict\u001b[49m\u001b[43m(\u001b[49m\u001b[43mX\u001b[49m\u001b[43m)\u001b[49m\n\u001b[0;32m    974\u001b[0m \u001b[38;5;28;01mif\u001b[39;00m \u001b[38;5;28mself\u001b[39m\u001b[38;5;241m.\u001b[39mn_outputs_ \u001b[38;5;241m==\u001b[39m \u001b[38;5;241m1\u001b[39m:\n\u001b[0;32m    975\u001b[0m     proba \u001b[38;5;241m=\u001b[39m proba[:, : \u001b[38;5;28mself\u001b[39m\u001b[38;5;241m.\u001b[39mn_classes_]\n",
      "File \u001b[1;32msklearn\\tree\\_tree.pyx:753\u001b[0m, in \u001b[0;36msklearn.tree._tree.Tree.predict\u001b[1;34m()\u001b[0m\n",
      "File \u001b[1;32msklearn\\tree\\_tree.pyx:758\u001b[0m, in \u001b[0;36msklearn.tree._tree.Tree.predict\u001b[1;34m()\u001b[0m\n",
      "File \u001b[1;32m~\\anaconda3\\lib\\site-packages\\scipy\\sparse\\base.py:80\u001b[0m, in \u001b[0;36mspmatrix.get_shape\u001b[1;34m(self)\u001b[0m\n\u001b[0;32m     77\u001b[0m     new_matrix \u001b[38;5;241m=\u001b[39m \u001b[38;5;28mself\u001b[39m\u001b[38;5;241m.\u001b[39mreshape(shape, copy\u001b[38;5;241m=\u001b[39m\u001b[38;5;28;01mFalse\u001b[39;00m)\u001b[38;5;241m.\u001b[39masformat(\u001b[38;5;28mself\u001b[39m\u001b[38;5;241m.\u001b[39mformat)\n\u001b[0;32m     78\u001b[0m     \u001b[38;5;28mself\u001b[39m\u001b[38;5;241m.\u001b[39m\u001b[38;5;18m__dict__\u001b[39m \u001b[38;5;241m=\u001b[39m new_matrix\u001b[38;5;241m.\u001b[39m\u001b[38;5;18m__dict__\u001b[39m\n\u001b[1;32m---> 80\u001b[0m \u001b[38;5;28;01mdef\u001b[39;00m \u001b[38;5;21mget_shape\u001b[39m(\u001b[38;5;28mself\u001b[39m):\n\u001b[0;32m     81\u001b[0m     \u001b[38;5;124;03m\"\"\"Get shape of a matrix.\"\"\"\u001b[39;00m\n\u001b[0;32m     82\u001b[0m     \u001b[38;5;28;01mreturn\u001b[39;00m \u001b[38;5;28mself\u001b[39m\u001b[38;5;241m.\u001b[39m_shape\n",
      "\u001b[1;31mKeyboardInterrupt\u001b[0m: "
     ]
    }
   ],
   "source": [
    "import pandas as pd\n",
    "import numpy as np\n",
    "from sklearn.model_selection import train_test_split,GridSearchCV\n",
    "from sklearn.preprocessing import OneHotEncoder\n",
    "from sklearn.ensemble import RandomForestClassifier\n",
    "\n",
    "data = pd.read_csv('./mushroom.csv')\n",
    "input_data, target = data.drop('p',axis = 1), data['p']\n",
    "train_x, test_x, train_y, test_y = train_test_split(input_data, target, stratify= target, random_state=493)\n",
    "encoder = OneHotEncoder()\n",
    "train_x = encoder.fit_transform(train_x)\n",
    "test_x = encoder.transform(test_x)\n",
    "\n",
    "param_grid = {'criterion':['gini'],\n",
    "              'max_depth':[8,9],\n",
    "              'min_samples_split':[3,4],\n",
    "              'max_features':[5,6],\n",
    "              'random_state':[493]\n",
    "             }\n",
    "rf = RandomForestClassifier()\n",
    "gs = GridSearchCV(rf, param_grid=param_grid,cv = 10, return_train_score=True)\n",
    "gs.fit(train_x, train_y)"
   ]
  },
  {
   "cell_type": "code",
   "execution_count": 30,
   "id": "8d8cd154",
   "metadata": {},
   "outputs": [
    {
     "data": {
      "text/plain": [
       "{'criterion': 'gini',\n",
       " 'max_depth': 8,\n",
       " 'max_features': 5,\n",
       " 'min_samples_split': 3,\n",
       " 'random_state': 493}"
      ]
     },
     "execution_count": 30,
     "metadata": {},
     "output_type": "execute_result"
    }
   ],
   "source": [
    "gs.best_params_"
   ]
  },
  {
   "cell_type": "code",
   "execution_count": 31,
   "id": "94e354d3",
   "metadata": {},
   "outputs": [],
   "source": [
    "rf = gs.best_estimator_"
   ]
  },
  {
   "cell_type": "code",
   "execution_count": 32,
   "id": "e12d6b5b",
   "metadata": {},
   "outputs": [
    {
     "name": "stdout",
     "output_type": "stream",
     "text": [
      "1.0 1.0\n"
     ]
    }
   ],
   "source": [
    "rf = gs.best_estimator_\n",
    "rf.fit(train_x, train_y)\n",
    "\n",
    "train_score = rf.score(train_x, train_y)\n",
    "test_score = rf.score(test_x, test_y)\n",
    "print(train_score, test_score)"
   ]
  },
  {
   "cell_type": "code",
   "execution_count": 26,
   "id": "6262a491",
   "metadata": {},
   "outputs": [
    {
     "data": {
      "text/html": [
       "<div>\n",
       "<style scoped>\n",
       "    .dataframe tbody tr th:only-of-type {\n",
       "        vertical-align: middle;\n",
       "    }\n",
       "\n",
       "    .dataframe tbody tr th {\n",
       "        vertical-align: top;\n",
       "    }\n",
       "\n",
       "    .dataframe thead th {\n",
       "        text-align: right;\n",
       "    }\n",
       "</style>\n",
       "<table border=\"1\" class=\"dataframe\">\n",
       "  <thead>\n",
       "    <tr style=\"text-align: right;\">\n",
       "      <th></th>\n",
       "      <th>x</th>\n",
       "      <th>s</th>\n",
       "      <th>n</th>\n",
       "      <th>t</th>\n",
       "      <th>p.1</th>\n",
       "      <th>f</th>\n",
       "      <th>c</th>\n",
       "      <th>n.1</th>\n",
       "      <th>k</th>\n",
       "      <th>e</th>\n",
       "      <th>...</th>\n",
       "      <th>s.2</th>\n",
       "      <th>w</th>\n",
       "      <th>w.1</th>\n",
       "      <th>p.2</th>\n",
       "      <th>w.2</th>\n",
       "      <th>o</th>\n",
       "      <th>p.3</th>\n",
       "      <th>k.1</th>\n",
       "      <th>s.3</th>\n",
       "      <th>u</th>\n",
       "    </tr>\n",
       "  </thead>\n",
       "  <tbody>\n",
       "    <tr>\n",
       "      <th>6190</th>\n",
       "      <td>x</td>\n",
       "      <td>s</td>\n",
       "      <td>n</td>\n",
       "      <td>f</td>\n",
       "      <td>f</td>\n",
       "      <td>f</td>\n",
       "      <td>c</td>\n",
       "      <td>n</td>\n",
       "      <td>b</td>\n",
       "      <td>t</td>\n",
       "      <td>...</td>\n",
       "      <td>k</td>\n",
       "      <td>p</td>\n",
       "      <td>w</td>\n",
       "      <td>p</td>\n",
       "      <td>w</td>\n",
       "      <td>o</td>\n",
       "      <td>e</td>\n",
       "      <td>w</td>\n",
       "      <td>v</td>\n",
       "      <td>l</td>\n",
       "    </tr>\n",
       "    <tr>\n",
       "      <th>5988</th>\n",
       "      <td>x</td>\n",
       "      <td>y</td>\n",
       "      <td>n</td>\n",
       "      <td>f</td>\n",
       "      <td>s</td>\n",
       "      <td>f</td>\n",
       "      <td>c</td>\n",
       "      <td>n</td>\n",
       "      <td>b</td>\n",
       "      <td>t</td>\n",
       "      <td>...</td>\n",
       "      <td>k</td>\n",
       "      <td>w</td>\n",
       "      <td>w</td>\n",
       "      <td>p</td>\n",
       "      <td>w</td>\n",
       "      <td>o</td>\n",
       "      <td>e</td>\n",
       "      <td>w</td>\n",
       "      <td>v</td>\n",
       "      <td>d</td>\n",
       "    </tr>\n",
       "    <tr>\n",
       "      <th>6554</th>\n",
       "      <td>k</td>\n",
       "      <td>s</td>\n",
       "      <td>e</td>\n",
       "      <td>f</td>\n",
       "      <td>f</td>\n",
       "      <td>f</td>\n",
       "      <td>c</td>\n",
       "      <td>n</td>\n",
       "      <td>b</td>\n",
       "      <td>t</td>\n",
       "      <td>...</td>\n",
       "      <td>k</td>\n",
       "      <td>w</td>\n",
       "      <td>p</td>\n",
       "      <td>p</td>\n",
       "      <td>w</td>\n",
       "      <td>o</td>\n",
       "      <td>e</td>\n",
       "      <td>w</td>\n",
       "      <td>v</td>\n",
       "      <td>p</td>\n",
       "    </tr>\n",
       "    <tr>\n",
       "      <th>3131</th>\n",
       "      <td>f</td>\n",
       "      <td>y</td>\n",
       "      <td>g</td>\n",
       "      <td>t</td>\n",
       "      <td>n</td>\n",
       "      <td>f</td>\n",
       "      <td>c</td>\n",
       "      <td>b</td>\n",
       "      <td>p</td>\n",
       "      <td>t</td>\n",
       "      <td>...</td>\n",
       "      <td>s</td>\n",
       "      <td>w</td>\n",
       "      <td>p</td>\n",
       "      <td>p</td>\n",
       "      <td>w</td>\n",
       "      <td>o</td>\n",
       "      <td>p</td>\n",
       "      <td>k</td>\n",
       "      <td>y</td>\n",
       "      <td>d</td>\n",
       "    </tr>\n",
       "    <tr>\n",
       "      <th>3767</th>\n",
       "      <td>f</td>\n",
       "      <td>y</td>\n",
       "      <td>e</td>\n",
       "      <td>t</td>\n",
       "      <td>n</td>\n",
       "      <td>f</td>\n",
       "      <td>c</td>\n",
       "      <td>b</td>\n",
       "      <td>w</td>\n",
       "      <td>t</td>\n",
       "      <td>...</td>\n",
       "      <td>s</td>\n",
       "      <td>w</td>\n",
       "      <td>p</td>\n",
       "      <td>p</td>\n",
       "      <td>w</td>\n",
       "      <td>o</td>\n",
       "      <td>p</td>\n",
       "      <td>n</td>\n",
       "      <td>y</td>\n",
       "      <td>d</td>\n",
       "    </tr>\n",
       "    <tr>\n",
       "      <th>...</th>\n",
       "      <td>...</td>\n",
       "      <td>...</td>\n",
       "      <td>...</td>\n",
       "      <td>...</td>\n",
       "      <td>...</td>\n",
       "      <td>...</td>\n",
       "      <td>...</td>\n",
       "      <td>...</td>\n",
       "      <td>...</td>\n",
       "      <td>...</td>\n",
       "      <td>...</td>\n",
       "      <td>...</td>\n",
       "      <td>...</td>\n",
       "      <td>...</td>\n",
       "      <td>...</td>\n",
       "      <td>...</td>\n",
       "      <td>...</td>\n",
       "      <td>...</td>\n",
       "      <td>...</td>\n",
       "      <td>...</td>\n",
       "      <td>...</td>\n",
       "    </tr>\n",
       "    <tr>\n",
       "      <th>7059</th>\n",
       "      <td>x</td>\n",
       "      <td>s</td>\n",
       "      <td>e</td>\n",
       "      <td>f</td>\n",
       "      <td>y</td>\n",
       "      <td>f</td>\n",
       "      <td>c</td>\n",
       "      <td>n</td>\n",
       "      <td>b</td>\n",
       "      <td>t</td>\n",
       "      <td>...</td>\n",
       "      <td>s</td>\n",
       "      <td>w</td>\n",
       "      <td>w</td>\n",
       "      <td>p</td>\n",
       "      <td>w</td>\n",
       "      <td>o</td>\n",
       "      <td>e</td>\n",
       "      <td>w</td>\n",
       "      <td>v</td>\n",
       "      <td>d</td>\n",
       "    </tr>\n",
       "    <tr>\n",
       "      <th>3348</th>\n",
       "      <td>x</td>\n",
       "      <td>f</td>\n",
       "      <td>g</td>\n",
       "      <td>f</td>\n",
       "      <td>f</td>\n",
       "      <td>f</td>\n",
       "      <td>c</td>\n",
       "      <td>b</td>\n",
       "      <td>h</td>\n",
       "      <td>e</td>\n",
       "      <td>...</td>\n",
       "      <td>k</td>\n",
       "      <td>n</td>\n",
       "      <td>b</td>\n",
       "      <td>p</td>\n",
       "      <td>w</td>\n",
       "      <td>o</td>\n",
       "      <td>l</td>\n",
       "      <td>h</td>\n",
       "      <td>y</td>\n",
       "      <td>p</td>\n",
       "    </tr>\n",
       "    <tr>\n",
       "      <th>2655</th>\n",
       "      <td>x</td>\n",
       "      <td>y</td>\n",
       "      <td>e</td>\n",
       "      <td>t</td>\n",
       "      <td>n</td>\n",
       "      <td>f</td>\n",
       "      <td>c</td>\n",
       "      <td>b</td>\n",
       "      <td>u</td>\n",
       "      <td>t</td>\n",
       "      <td>...</td>\n",
       "      <td>s</td>\n",
       "      <td>w</td>\n",
       "      <td>w</td>\n",
       "      <td>p</td>\n",
       "      <td>w</td>\n",
       "      <td>o</td>\n",
       "      <td>p</td>\n",
       "      <td>k</td>\n",
       "      <td>y</td>\n",
       "      <td>d</td>\n",
       "    </tr>\n",
       "    <tr>\n",
       "      <th>1841</th>\n",
       "      <td>x</td>\n",
       "      <td>y</td>\n",
       "      <td>g</td>\n",
       "      <td>t</td>\n",
       "      <td>n</td>\n",
       "      <td>f</td>\n",
       "      <td>c</td>\n",
       "      <td>b</td>\n",
       "      <td>p</td>\n",
       "      <td>t</td>\n",
       "      <td>...</td>\n",
       "      <td>s</td>\n",
       "      <td>w</td>\n",
       "      <td>p</td>\n",
       "      <td>p</td>\n",
       "      <td>w</td>\n",
       "      <td>o</td>\n",
       "      <td>p</td>\n",
       "      <td>k</td>\n",
       "      <td>v</td>\n",
       "      <td>d</td>\n",
       "    </tr>\n",
       "    <tr>\n",
       "      <th>4475</th>\n",
       "      <td>x</td>\n",
       "      <td>y</td>\n",
       "      <td>y</td>\n",
       "      <td>f</td>\n",
       "      <td>f</td>\n",
       "      <td>f</td>\n",
       "      <td>c</td>\n",
       "      <td>b</td>\n",
       "      <td>p</td>\n",
       "      <td>e</td>\n",
       "      <td>...</td>\n",
       "      <td>k</td>\n",
       "      <td>b</td>\n",
       "      <td>n</td>\n",
       "      <td>p</td>\n",
       "      <td>w</td>\n",
       "      <td>o</td>\n",
       "      <td>l</td>\n",
       "      <td>h</td>\n",
       "      <td>v</td>\n",
       "      <td>p</td>\n",
       "    </tr>\n",
       "  </tbody>\n",
       "</table>\n",
       "<p>6092 rows × 22 columns</p>\n",
       "</div>"
      ],
      "text/plain": [
       "      x  s  n  t p.1  f  c n.1  k  e  ... s.2  w w.1 p.2 w.2  o p.3 k.1 s.3  u\n",
       "6190  x  s  n  f   f  f  c   n  b  t  ...   k  p   w   p   w  o   e   w   v  l\n",
       "5988  x  y  n  f   s  f  c   n  b  t  ...   k  w   w   p   w  o   e   w   v  d\n",
       "6554  k  s  e  f   f  f  c   n  b  t  ...   k  w   p   p   w  o   e   w   v  p\n",
       "3131  f  y  g  t   n  f  c   b  p  t  ...   s  w   p   p   w  o   p   k   y  d\n",
       "3767  f  y  e  t   n  f  c   b  w  t  ...   s  w   p   p   w  o   p   n   y  d\n",
       "...  .. .. .. ..  .. .. ..  .. .. ..  ...  .. ..  ..  ..  .. ..  ..  ..  .. ..\n",
       "7059  x  s  e  f   y  f  c   n  b  t  ...   s  w   w   p   w  o   e   w   v  d\n",
       "3348  x  f  g  f   f  f  c   b  h  e  ...   k  n   b   p   w  o   l   h   y  p\n",
       "2655  x  y  e  t   n  f  c   b  u  t  ...   s  w   w   p   w  o   p   k   y  d\n",
       "1841  x  y  g  t   n  f  c   b  p  t  ...   s  w   p   p   w  o   p   k   v  d\n",
       "4475  x  y  y  f   f  f  c   b  p  e  ...   k  b   n   p   w  o   l   h   v  p\n",
       "\n",
       "[6092 rows x 22 columns]"
      ]
     },
     "execution_count": 26,
     "metadata": {},
     "output_type": "execute_result"
    }
   ],
   "source": [
    "train_x"
   ]
  },
  {
   "cell_type": "markdown",
   "id": "ee15dc01",
   "metadata": {},
   "source": [
    "## 이미지 분류 모델\n",
    "- Fashioin-mnist\n",
    "- 교차검증, 최적의 하이퍼 파라미터 설정, 새로운 데이터로 예측"
   ]
  },
  {
   "cell_type": "code",
   "execution_count": 2,
   "id": "bfe474ee",
   "metadata": {},
   "outputs": [
    {
     "data": {
      "text/plain": [
       "((array([[[0, 0, 0, ..., 0, 0, 0],\n",
       "          [0, 0, 0, ..., 0, 0, 0],\n",
       "          [0, 0, 0, ..., 0, 0, 0],\n",
       "          ...,\n",
       "          [0, 0, 0, ..., 0, 0, 0],\n",
       "          [0, 0, 0, ..., 0, 0, 0],\n",
       "          [0, 0, 0, ..., 0, 0, 0]],\n",
       "  \n",
       "         [[0, 0, 0, ..., 0, 0, 0],\n",
       "          [0, 0, 0, ..., 0, 0, 0],\n",
       "          [0, 0, 0, ..., 0, 0, 0],\n",
       "          ...,\n",
       "          [0, 0, 0, ..., 0, 0, 0],\n",
       "          [0, 0, 0, ..., 0, 0, 0],\n",
       "          [0, 0, 0, ..., 0, 0, 0]],\n",
       "  \n",
       "         [[0, 0, 0, ..., 0, 0, 0],\n",
       "          [0, 0, 0, ..., 0, 0, 0],\n",
       "          [0, 0, 0, ..., 0, 0, 0],\n",
       "          ...,\n",
       "          [0, 0, 0, ..., 0, 0, 0],\n",
       "          [0, 0, 0, ..., 0, 0, 0],\n",
       "          [0, 0, 0, ..., 0, 0, 0]],\n",
       "  \n",
       "         ...,\n",
       "  \n",
       "         [[0, 0, 0, ..., 0, 0, 0],\n",
       "          [0, 0, 0, ..., 0, 0, 0],\n",
       "          [0, 0, 0, ..., 0, 0, 0],\n",
       "          ...,\n",
       "          [0, 0, 0, ..., 0, 0, 0],\n",
       "          [0, 0, 0, ..., 0, 0, 0],\n",
       "          [0, 0, 0, ..., 0, 0, 0]],\n",
       "  \n",
       "         [[0, 0, 0, ..., 0, 0, 0],\n",
       "          [0, 0, 0, ..., 0, 0, 0],\n",
       "          [0, 0, 0, ..., 0, 0, 0],\n",
       "          ...,\n",
       "          [0, 0, 0, ..., 0, 0, 0],\n",
       "          [0, 0, 0, ..., 0, 0, 0],\n",
       "          [0, 0, 0, ..., 0, 0, 0]],\n",
       "  \n",
       "         [[0, 0, 0, ..., 0, 0, 0],\n",
       "          [0, 0, 0, ..., 0, 0, 0],\n",
       "          [0, 0, 0, ..., 0, 0, 0],\n",
       "          ...,\n",
       "          [0, 0, 0, ..., 0, 0, 0],\n",
       "          [0, 0, 0, ..., 0, 0, 0],\n",
       "          [0, 0, 0, ..., 0, 0, 0]]], dtype=uint8),\n",
       "  array([9, 0, 0, ..., 3, 0, 5], dtype=uint8)),\n",
       " (array([[[0, 0, 0, ..., 0, 0, 0],\n",
       "          [0, 0, 0, ..., 0, 0, 0],\n",
       "          [0, 0, 0, ..., 0, 0, 0],\n",
       "          ...,\n",
       "          [0, 0, 0, ..., 0, 0, 0],\n",
       "          [0, 0, 0, ..., 0, 0, 0],\n",
       "          [0, 0, 0, ..., 0, 0, 0]],\n",
       "  \n",
       "         [[0, 0, 0, ..., 0, 0, 0],\n",
       "          [0, 0, 0, ..., 0, 0, 0],\n",
       "          [0, 0, 0, ..., 0, 0, 0],\n",
       "          ...,\n",
       "          [0, 0, 0, ..., 0, 0, 0],\n",
       "          [0, 0, 0, ..., 0, 0, 0],\n",
       "          [0, 0, 0, ..., 0, 0, 0]],\n",
       "  \n",
       "         [[0, 0, 0, ..., 0, 0, 0],\n",
       "          [0, 0, 0, ..., 0, 0, 0],\n",
       "          [0, 0, 0, ..., 0, 0, 0],\n",
       "          ...,\n",
       "          [0, 0, 0, ..., 0, 0, 0],\n",
       "          [0, 0, 0, ..., 0, 0, 0],\n",
       "          [0, 0, 0, ..., 0, 0, 0]],\n",
       "  \n",
       "         ...,\n",
       "  \n",
       "         [[0, 0, 0, ..., 0, 0, 0],\n",
       "          [0, 0, 0, ..., 0, 0, 0],\n",
       "          [0, 0, 0, ..., 0, 0, 0],\n",
       "          ...,\n",
       "          [0, 0, 0, ..., 0, 0, 0],\n",
       "          [0, 0, 0, ..., 0, 0, 0],\n",
       "          [0, 0, 0, ..., 0, 0, 0]],\n",
       "  \n",
       "         [[0, 0, 0, ..., 0, 0, 0],\n",
       "          [0, 0, 0, ..., 0, 0, 0],\n",
       "          [0, 0, 0, ..., 0, 0, 0],\n",
       "          ...,\n",
       "          [0, 0, 0, ..., 0, 0, 0],\n",
       "          [0, 0, 0, ..., 0, 0, 0],\n",
       "          [0, 0, 0, ..., 0, 0, 0]],\n",
       "  \n",
       "         [[0, 0, 0, ..., 0, 0, 0],\n",
       "          [0, 0, 0, ..., 0, 0, 0],\n",
       "          [0, 0, 0, ..., 0, 0, 0],\n",
       "          ...,\n",
       "          [0, 0, 0, ..., 0, 0, 0],\n",
       "          [0, 0, 0, ..., 0, 0, 0],\n",
       "          [0, 0, 0, ..., 0, 0, 0]]], dtype=uint8),\n",
       "  array([9, 2, 1, ..., 8, 1, 5], dtype=uint8)))"
      ]
     },
     "execution_count": 2,
     "metadata": {},
     "output_type": "execute_result"
    }
   ],
   "source": [
    "import tensorflow as tf\n",
    "data = tf.keras.datasets.fashion_mnist.load_data()\n",
    "data"
   ]
  },
  {
   "cell_type": "code",
   "execution_count": 3,
   "id": "62fc77b0",
   "metadata": {},
   "outputs": [],
   "source": [
    "train_x, train_y, test_x, test_y = data[0][0], data[0][1],data[1][0],data[1][1]"
   ]
  },
  {
   "cell_type": "code",
   "execution_count": 4,
   "id": "cbf86c6c",
   "metadata": {},
   "outputs": [
    {
     "data": {
      "image/png": "[encoded data removed]",
      "text/plain": [
       "<Figure size 432x288 with 1 Axes>"
      ]
     },
     "metadata": {
      "needs_background": "light"
     },
     "output_type": "display_data"
    }
   ],
   "source": [
    "import matplotlib.pyplot as plt\n",
    "plt.imshow(train_x[0],cmap = 'gray')\n",
    "plt.show()"
   ]
  },
  {
   "cell_type": "code",
   "execution_count": 5,
   "id": "fa91e79b",
   "metadata": {},
   "outputs": [
    {
     "data": {
      "text/plain": [
       "0"
      ]
     },
     "execution_count": 5,
     "metadata": {},
     "output_type": "execute_result"
    }
   ],
   "source": [
    "train_y[48]"
   ]
  },
  {
   "cell_type": "code",
   "execution_count": 6,
   "id": "5c008fb9",
   "metadata": {},
   "outputs": [
    {
     "data": {
      "image/png": "[encoded data removed]",
      "text/plain": [
       "<Figure size 432x288 with 1 Axes>"
      ]
     },
     "metadata": {
      "needs_background": "light"
     },
     "output_type": "display_data"
    }
   ],
   "source": [
    "plt.gray()\n",
    "plt.imshow(train_x[48])\n",
    "plt.show()"
   ]
  },
  {
   "cell_type": "code",
   "execution_count": 7,
   "id": "7560e609",
   "metadata": {},
   "outputs": [
    {
     "data": {
      "text/plain": [
       "28"
      ]
     },
     "execution_count": 7,
     "metadata": {},
     "output_type": "execute_result"
    }
   ],
   "source": [
    "len(train_x[0])"
   ]
  },
  {
   "cell_type": "code",
   "execution_count": null,
   "id": "c2a2034e",
   "metadata": {},
   "outputs": [],
   "source": []
  },
  {
   "cell_type": "code",
   "execution_count": 8,
   "id": "1b40337c",
   "metadata": {},
   "outputs": [],
   "source": [
    "flat_train_x = train_x.reshape(-1,28**2)\n",
    "flat_test_x = test_x.reshape(-1,28**2)"
   ]
  },
  {
   "cell_type": "code",
   "execution_count": 9,
   "id": "d4f60bfd",
   "metadata": {},
   "outputs": [],
   "source": [
    "np.random.seed(493)\n",
    "rand_ind = np.random.choice(len(flat_train_x),size = 500,replace = False)\n",
    "sample_train_x = flat_train_x[rand_ind]\n",
    "sample_train_y = train_y[rand_ind]"
   ]
  },
  {
   "cell_type": "code",
   "execution_count": 10,
   "id": "78934e9f",
   "metadata": {},
   "outputs": [
    {
     "data": {
      "text/plain": [
       "array([0, 1, 2, 3, 4, 5, 6, 7, 8, 9], dtype=uint8)"
      ]
     },
     "execution_count": 10,
     "metadata": {},
     "output_type": "execute_result"
    }
   ],
   "source": [
    "np.unique(sample_train_y)"
   ]
  },
  {
   "cell_type": "markdown",
   "id": "90419866",
   "metadata": {},
   "source": [
    "#### RandomForest"
   ]
  },
  {
   "cell_type": "code",
   "execution_count": 74,
   "id": "4af2e48f",
   "metadata": {},
   "outputs": [
    {
     "name": "stdout",
     "output_type": "stream",
     "text": [
      "Fitting 5 folds for each of 16 candidates, totalling 80 fits\n",
      "[CV] END criterion=gini, max_depth=15, max_features=20, min_samples_split=10, random_state=493; total time=   0.6s\n",
      "[CV] END criterion=gini, max_depth=15, max_features=20, min_samples_split=10, random_state=493; total time=   1.2s\n",
      "[CV] END criterion=gini, max_depth=15, max_features=20, min_samples_split=10, random_state=493; total time=   0.6s\n",
      "[CV] END criterion=gini, max_depth=15, max_features=20, min_samples_split=10, random_state=493; total time=   0.5s\n",
      "[CV] END criterion=gini, max_depth=15, max_features=20, min_samples_split=10, random_state=493; total time=   0.6s\n",
      "[CV] END criterion=gini, max_depth=15, max_features=20, min_samples_split=15, random_state=493; total time=   0.7s\n",
      "[CV] END criterion=gini, max_depth=15, max_features=20, min_samples_split=15, random_state=493; total time=   0.5s\n",
      "[CV] END criterion=gini, max_depth=15, max_features=20, min_samples_split=15, random_state=493; total time=   0.5s\n",
      "[CV] END criterion=gini, max_depth=15, max_features=20, min_samples_split=15, random_state=493; total time=   0.5s\n",
      "[CV] END criterion=gini, max_depth=15, max_features=20, min_samples_split=15, random_state=493; total time=   0.6s\n",
      "[CV] END criterion=gini, max_depth=15, max_features=25, min_samples_split=10, random_state=493; total time=   0.8s\n",
      "[CV] END criterion=gini, max_depth=15, max_features=25, min_samples_split=10, random_state=493; total time=   0.7s\n",
      "[CV] END criterion=gini, max_depth=15, max_features=25, min_samples_split=10, random_state=493; total time=   0.6s\n",
      "[CV] END criterion=gini, max_depth=15, max_features=25, min_samples_split=10, random_state=493; total time=   0.7s\n",
      "[CV] END criterion=gini, max_depth=15, max_features=25, min_samples_split=10, random_state=493; total time=   0.6s\n",
      "[CV] END criterion=gini, max_depth=15, max_features=25, min_samples_split=15, random_state=493; total time=   0.6s\n",
      "[CV] END criterion=gini, max_depth=15, max_features=25, min_samples_split=15, random_state=493; total time=   0.6s\n",
      "[CV] END criterion=gini, max_depth=15, max_features=25, min_samples_split=15, random_state=493; total time=   0.6s\n",
      "[CV] END criterion=gini, max_depth=15, max_features=25, min_samples_split=15, random_state=493; total time=   0.7s\n",
      "[CV] END criterion=gini, max_depth=15, max_features=25, min_samples_split=15, random_state=493; total time=   0.6s\n",
      "[CV] END criterion=gini, max_depth=20, max_features=20, min_samples_split=10, random_state=493; total time=   0.5s\n",
      "[CV] END criterion=gini, max_depth=20, max_features=20, min_samples_split=10, random_state=493; total time=   0.5s\n",
      "[CV] END criterion=gini, max_depth=20, max_features=20, min_samples_split=10, random_state=493; total time=   0.6s\n",
      "[CV] END criterion=gini, max_depth=20, max_features=20, min_samples_split=10, random_state=493; total time=   0.6s\n",
      "[CV] END criterion=gini, max_depth=20, max_features=20, min_samples_split=10, random_state=493; total time=   0.7s\n",
      "[CV] END criterion=gini, max_depth=20, max_features=20, min_samples_split=15, random_state=493; total time=   0.6s\n",
      "[CV] END criterion=gini, max_depth=20, max_features=20, min_samples_split=15, random_state=493; total time=   0.6s\n",
      "[CV] END criterion=gini, max_depth=20, max_features=20, min_samples_split=15, random_state=493; total time=   0.6s\n",
      "[CV] END criterion=gini, max_depth=20, max_features=20, min_samples_split=15, random_state=493; total time=   0.7s\n",
      "[CV] END criterion=gini, max_depth=20, max_features=20, min_samples_split=15, random_state=493; total time=   0.5s\n",
      "[CV] END criterion=gini, max_depth=20, max_features=25, min_samples_split=10, random_state=493; total time=   0.6s\n",
      "[CV] END criterion=gini, max_depth=20, max_features=25, min_samples_split=10, random_state=493; total time=   0.6s\n",
      "[CV] END criterion=gini, max_depth=20, max_features=25, min_samples_split=10, random_state=493; total time=   0.6s\n",
      "[CV] END criterion=gini, max_depth=20, max_features=25, min_samples_split=10, random_state=493; total time=   0.6s\n",
      "[CV] END criterion=gini, max_depth=20, max_features=25, min_samples_split=10, random_state=493; total time=   0.7s\n",
      "[CV] END criterion=gini, max_depth=20, max_features=25, min_samples_split=15, random_state=493; total time=   0.6s\n",
      "[CV] END criterion=gini, max_depth=20, max_features=25, min_samples_split=15, random_state=493; total time=   0.6s\n",
      "[CV] END criterion=gini, max_depth=20, max_features=25, min_samples_split=15, random_state=493; total time=   0.6s\n",
      "[CV] END criterion=gini, max_depth=20, max_features=25, min_samples_split=15, random_state=493; total time=   0.6s\n",
      "[CV] END criterion=gini, max_depth=20, max_features=25, min_samples_split=15, random_state=493; total time=   0.6s\n",
      "[CV] END criterion=entropy, max_depth=15, max_features=20, min_samples_split=10, random_state=493; total time=   1.2s\n",
      "[CV] END criterion=entropy, max_depth=15, max_features=20, min_samples_split=10, random_state=493; total time=   1.2s\n",
      "[CV] END criterion=entropy, max_depth=15, max_features=20, min_samples_split=10, random_state=493; total time=   1.2s\n",
      "[CV] END criterion=entropy, max_depth=15, max_features=20, min_samples_split=10, random_state=493; total time=   1.2s\n",
      "[CV] END criterion=entropy, max_depth=15, max_features=20, min_samples_split=10, random_state=493; total time=   1.6s\n",
      "[CV] END criterion=entropy, max_depth=15, max_features=20, min_samples_split=15, random_state=493; total time=   1.0s\n",
      "[CV] END criterion=entropy, max_depth=15, max_features=20, min_samples_split=15, random_state=493; total time=   1.0s\n",
      "[CV] END criterion=entropy, max_depth=15, max_features=20, min_samples_split=15, random_state=493; total time=   0.9s\n",
      "[CV] END criterion=entropy, max_depth=15, max_features=20, min_samples_split=15, random_state=493; total time=   1.0s\n",
      "[CV] END criterion=entropy, max_depth=15, max_features=20, min_samples_split=15, random_state=493; total time=   1.0s\n",
      "[CV] END criterion=entropy, max_depth=15, max_features=25, min_samples_split=10, random_state=493; total time=   1.1s\n",
      "[CV] END criterion=entropy, max_depth=15, max_features=25, min_samples_split=10, random_state=493; total time=   1.1s\n",
      "[CV] END criterion=entropy, max_depth=15, max_features=25, min_samples_split=10, random_state=493; total time=   1.2s\n",
      "[CV] END criterion=entropy, max_depth=15, max_features=25, min_samples_split=10, random_state=493; total time=   1.2s\n",
      "[CV] END criterion=entropy, max_depth=15, max_features=25, min_samples_split=10, random_state=493; total time=   1.2s\n",
      "[CV] END criterion=entropy, max_depth=15, max_features=25, min_samples_split=15, random_state=493; total time=   1.1s\n",
      "[CV] END criterion=entropy, max_depth=15, max_features=25, min_samples_split=15, random_state=493; total time=   1.2s\n",
      "[CV] END criterion=entropy, max_depth=15, max_features=25, min_samples_split=15, random_state=493; total time=   1.1s\n",
      "[CV] END criterion=entropy, max_depth=15, max_features=25, min_samples_split=15, random_state=493; total time=   1.1s\n",
      "[CV] END criterion=entropy, max_depth=15, max_features=25, min_samples_split=15, random_state=493; total time=   1.2s\n",
      "[CV] END criterion=entropy, max_depth=20, max_features=20, min_samples_split=10, random_state=493; total time=   1.0s\n",
      "[CV] END criterion=entropy, max_depth=20, max_features=20, min_samples_split=10, random_state=493; total time=   1.0s\n",
      "[CV] END criterion=entropy, max_depth=20, max_features=20, min_samples_split=10, random_state=493; total time=   1.2s\n",
      "[CV] END criterion=entropy, max_depth=20, max_features=20, min_samples_split=10, random_state=493; total time=   1.0s\n",
      "[CV] END criterion=entropy, max_depth=20, max_features=20, min_samples_split=10, random_state=493; total time=   1.1s\n",
      "[CV] END criterion=entropy, max_depth=20, max_features=20, min_samples_split=15, random_state=493; total time=   0.9s\n",
      "[CV] END criterion=entropy, max_depth=20, max_features=20, min_samples_split=15, random_state=493; total time=   0.9s\n",
      "[CV] END criterion=entropy, max_depth=20, max_features=20, min_samples_split=15, random_state=493; total time=   1.0s\n",
      "[CV] END criterion=entropy, max_depth=20, max_features=20, min_samples_split=15, random_state=493; total time=   0.9s\n",
      "[CV] END criterion=entropy, max_depth=20, max_features=20, min_samples_split=15, random_state=493; total time=   1.3s\n"
     ]
    },
    {
     "name": "stdout",
     "output_type": "stream",
     "text": [
      "[CV] END criterion=entropy, max_depth=20, max_features=25, min_samples_split=10, random_state=493; total time=   1.4s\n",
      "[CV] END criterion=entropy, max_depth=20, max_features=25, min_samples_split=10, random_state=493; total time=   1.5s\n",
      "[CV] END criterion=entropy, max_depth=20, max_features=25, min_samples_split=10, random_state=493; total time=   1.4s\n",
      "[CV] END criterion=entropy, max_depth=20, max_features=25, min_samples_split=10, random_state=493; total time=   1.5s\n",
      "[CV] END criterion=entropy, max_depth=20, max_features=25, min_samples_split=10, random_state=493; total time=   1.2s\n",
      "[CV] END criterion=entropy, max_depth=20, max_features=25, min_samples_split=15, random_state=493; total time=   1.3s\n",
      "[CV] END criterion=entropy, max_depth=20, max_features=25, min_samples_split=15, random_state=493; total time=   1.3s\n",
      "[CV] END criterion=entropy, max_depth=20, max_features=25, min_samples_split=15, random_state=493; total time=   1.3s\n",
      "[CV] END criterion=entropy, max_depth=20, max_features=25, min_samples_split=15, random_state=493; total time=   1.5s\n",
      "[CV] END criterion=entropy, max_depth=20, max_features=25, min_samples_split=15, random_state=493; total time=   1.3s\n"
     ]
    },
    {
     "data": {
      "text/plain": [
       "GridSearchCV(cv=5, estimator=RandomForestClassifier(),\n",
       "             param_grid={'criterion': ['gini', 'entropy'],\n",
       "                         'max_depth': [15, 20], 'max_features': [20, 25],\n",
       "                         'min_samples_split': [10, 15], 'random_state': [493]},\n",
       "             return_train_score=True, verbose=2)"
      ]
     },
     "execution_count": 74,
     "metadata": {},
     "output_type": "execute_result"
    }
   ],
   "source": [
    "from sklearn.model_selection import GridSearchCV\n",
    "from sklearn.ensemble import RandomForestClassifier\n",
    "\n",
    "param_grid = {'criterion':['gini', 'entropy'],\n",
    "              'max_depth':[15,20],\n",
    "              'min_samples_split':[10,15],\n",
    "              'max_features':[20, 25],\n",
    "              'random_state':[493]\n",
    "             }\n",
    "rf = RandomForestClassifier()\n",
    "gs = GridSearchCV(rf,verbose=1, param_grid=param_grid,cv = 5, return_train_score=True)\n",
    "gs.fit(sample_train_x, sample_train_y)\n",
    "\n"
   ]
  },
  {
   "cell_type": "code",
   "execution_count": 75,
   "id": "992d49d7",
   "metadata": {},
   "outputs": [
    {
     "data": {
      "text/plain": [
       "RandomForestClassifier(max_depth=15, max_features=20, min_samples_split=10,\n",
       "                       random_state=493)"
      ]
     },
     "execution_count": 75,
     "metadata": {},
     "output_type": "execute_result"
    }
   ],
   "source": [
    "gs.best_estimator_"
   ]
  },
  {
   "cell_type": "code",
   "execution_count": 76,
   "id": "f99da03f",
   "metadata": {
    "scrolled": true
   },
   "outputs": [
    {
     "name": "stdout",
     "output_type": "stream",
     "text": [
      "Fitting 5 folds for each of 36 candidates, totalling 180 fits\n",
      "[CV] END criterion=gini, max_depth=9, max_features=5, min_samples_split=5, random_state=493; total time=   0.5s\n",
      "[CV] END criterion=gini, max_depth=9, max_features=5, min_samples_split=5, random_state=493; total time=   0.6s\n",
      "[CV] END criterion=gini, max_depth=9, max_features=5, min_samples_split=5, random_state=493; total time=   0.6s\n",
      "[CV] END criterion=gini, max_depth=9, max_features=5, min_samples_split=5, random_state=493; total time=   0.4s\n",
      "[CV] END criterion=gini, max_depth=9, max_features=5, min_samples_split=5, random_state=493; total time=   0.4s\n",
      "[CV] END criterion=gini, max_depth=9, max_features=5, min_samples_split=7, random_state=493; total time=   0.4s\n",
      "[CV] END criterion=gini, max_depth=9, max_features=5, min_samples_split=7, random_state=493; total time=   0.4s\n",
      "[CV] END criterion=gini, max_depth=9, max_features=5, min_samples_split=7, random_state=493; total time=   0.3s\n",
      "[CV] END criterion=gini, max_depth=9, max_features=5, min_samples_split=7, random_state=493; total time=   0.4s\n",
      "[CV] END criterion=gini, max_depth=9, max_features=5, min_samples_split=7, random_state=493; total time=   0.3s\n",
      "[CV] END criterion=gini, max_depth=9, max_features=7, min_samples_split=5, random_state=493; total time=   0.5s\n",
      "[CV] END criterion=gini, max_depth=9, max_features=7, min_samples_split=5, random_state=493; total time=   0.6s\n",
      "[CV] END criterion=gini, max_depth=9, max_features=7, min_samples_split=5, random_state=493; total time=   0.4s\n",
      "[CV] END criterion=gini, max_depth=9, max_features=7, min_samples_split=5, random_state=493; total time=   0.4s\n",
      "[CV] END criterion=gini, max_depth=9, max_features=7, min_samples_split=5, random_state=493; total time=   0.4s\n",
      "[CV] END criterion=gini, max_depth=9, max_features=7, min_samples_split=7, random_state=493; total time=   0.5s\n",
      "[CV] END criterion=gini, max_depth=9, max_features=7, min_samples_split=7, random_state=493; total time=   0.4s\n",
      "[CV] END criterion=gini, max_depth=9, max_features=7, min_samples_split=7, random_state=493; total time=   0.5s\n",
      "[CV] END criterion=gini, max_depth=9, max_features=7, min_samples_split=7, random_state=493; total time=   0.4s\n",
      "[CV] END criterion=gini, max_depth=9, max_features=7, min_samples_split=7, random_state=493; total time=   0.4s\n",
      "[CV] END criterion=gini, max_depth=9, max_features=10, min_samples_split=5, random_state=493; total time=   0.4s\n",
      "[CV] END criterion=gini, max_depth=9, max_features=10, min_samples_split=5, random_state=493; total time=   0.4s\n",
      "[CV] END criterion=gini, max_depth=9, max_features=10, min_samples_split=5, random_state=493; total time=   0.5s\n",
      "[CV] END criterion=gini, max_depth=9, max_features=10, min_samples_split=5, random_state=493; total time=   0.4s\n",
      "[CV] END criterion=gini, max_depth=9, max_features=10, min_samples_split=5, random_state=493; total time=   0.4s\n",
      "[CV] END criterion=gini, max_depth=9, max_features=10, min_samples_split=7, random_state=493; total time=   0.4s\n",
      "[CV] END criterion=gini, max_depth=9, max_features=10, min_samples_split=7, random_state=493; total time=   0.4s\n",
      "[CV] END criterion=gini, max_depth=9, max_features=10, min_samples_split=7, random_state=493; total time=   0.4s\n",
      "[CV] END criterion=gini, max_depth=9, max_features=10, min_samples_split=7, random_state=493; total time=   0.5s\n",
      "[CV] END criterion=gini, max_depth=9, max_features=10, min_samples_split=7, random_state=493; total time=   0.4s\n",
      "[CV] END criterion=gini, max_depth=11, max_features=5, min_samples_split=5, random_state=493; total time=   0.3s\n",
      "[CV] END criterion=gini, max_depth=11, max_features=5, min_samples_split=5, random_state=493; total time=   0.3s\n",
      "[CV] END criterion=gini, max_depth=11, max_features=5, min_samples_split=5, random_state=493; total time=   0.3s\n",
      "[CV] END criterion=gini, max_depth=11, max_features=5, min_samples_split=5, random_state=493; total time=   0.3s\n",
      "[CV] END criterion=gini, max_depth=11, max_features=5, min_samples_split=5, random_state=493; total time=   0.3s\n",
      "[CV] END criterion=gini, max_depth=11, max_features=5, min_samples_split=7, random_state=493; total time=   0.4s\n",
      "[CV] END criterion=gini, max_depth=11, max_features=5, min_samples_split=7, random_state=493; total time=   0.3s\n",
      "[CV] END criterion=gini, max_depth=11, max_features=5, min_samples_split=7, random_state=493; total time=   0.3s\n",
      "[CV] END criterion=gini, max_depth=11, max_features=5, min_samples_split=7, random_state=493; total time=   0.3s\n",
      "[CV] END criterion=gini, max_depth=11, max_features=5, min_samples_split=7, random_state=493; total time=   0.3s\n",
      "[CV] END criterion=gini, max_depth=11, max_features=7, min_samples_split=5, random_state=493; total time=   0.3s\n",
      "[CV] END criterion=gini, max_depth=11, max_features=7, min_samples_split=5, random_state=493; total time=   0.4s\n",
      "[CV] END criterion=gini, max_depth=11, max_features=7, min_samples_split=5, random_state=493; total time=   0.4s\n",
      "[CV] END criterion=gini, max_depth=11, max_features=7, min_samples_split=5, random_state=493; total time=   0.3s\n",
      "[CV] END criterion=gini, max_depth=11, max_features=7, min_samples_split=5, random_state=493; total time=   0.3s\n",
      "[CV] END criterion=gini, max_depth=11, max_features=7, min_samples_split=7, random_state=493; total time=   0.3s\n",
      "[CV] END criterion=gini, max_depth=11, max_features=7, min_samples_split=7, random_state=493; total time=   0.3s\n",
      "[CV] END criterion=gini, max_depth=11, max_features=7, min_samples_split=7, random_state=493; total time=   0.3s\n",
      "[CV] END criterion=gini, max_depth=11, max_features=7, min_samples_split=7, random_state=493; total time=   0.4s\n",
      "[CV] END criterion=gini, max_depth=11, max_features=7, min_samples_split=7, random_state=493; total time=   0.3s\n",
      "[CV] END criterion=gini, max_depth=11, max_features=10, min_samples_split=5, random_state=493; total time=   0.4s\n",
      "[CV] END criterion=gini, max_depth=11, max_features=10, min_samples_split=5, random_state=493; total time=   0.5s\n",
      "[CV] END criterion=gini, max_depth=11, max_features=10, min_samples_split=5, random_state=493; total time=   0.6s\n",
      "[CV] END criterion=gini, max_depth=11, max_features=10, min_samples_split=5, random_state=493; total time=   0.7s\n",
      "[CV] END criterion=gini, max_depth=11, max_features=10, min_samples_split=5, random_state=493; total time=   0.4s\n",
      "[CV] END criterion=gini, max_depth=11, max_features=10, min_samples_split=7, random_state=493; total time=   0.4s\n",
      "[CV] END criterion=gini, max_depth=11, max_features=10, min_samples_split=7, random_state=493; total time=   0.4s\n",
      "[CV] END criterion=gini, max_depth=11, max_features=10, min_samples_split=7, random_state=493; total time=   0.4s\n",
      "[CV] END criterion=gini, max_depth=11, max_features=10, min_samples_split=7, random_state=493; total time=   0.5s\n",
      "[CV] END criterion=gini, max_depth=11, max_features=10, min_samples_split=7, random_state=493; total time=   0.5s\n",
      "[CV] END criterion=gini, max_depth=13, max_features=5, min_samples_split=5, random_state=493; total time=   0.4s\n",
      "[CV] END criterion=gini, max_depth=13, max_features=5, min_samples_split=5, random_state=493; total time=   0.4s\n",
      "[CV] END criterion=gini, max_depth=13, max_features=5, min_samples_split=5, random_state=493; total time=   0.3s\n",
      "[CV] END criterion=gini, max_depth=13, max_features=5, min_samples_split=5, random_state=493; total time=   0.3s\n",
      "[CV] END criterion=gini, max_depth=13, max_features=5, min_samples_split=5, random_state=493; total time=   0.3s\n",
      "[CV] END criterion=gini, max_depth=13, max_features=5, min_samples_split=7, random_state=493; total time=   0.5s\n",
      "[CV] END criterion=gini, max_depth=13, max_features=5, min_samples_split=7, random_state=493; total time=   0.3s\n",
      "[CV] END criterion=gini, max_depth=13, max_features=5, min_samples_split=7, random_state=493; total time=   0.4s\n",
      "[CV] END criterion=gini, max_depth=13, max_features=5, min_samples_split=7, random_state=493; total time=   0.3s\n",
      "[CV] END criterion=gini, max_depth=13, max_features=5, min_samples_split=7, random_state=493; total time=   0.4s\n",
      "[CV] END criterion=gini, max_depth=13, max_features=7, min_samples_split=5, random_state=493; total time=   0.4s\n",
      "[CV] END criterion=gini, max_depth=13, max_features=7, min_samples_split=5, random_state=493; total time=   0.5s\n",
      "[CV] END criterion=gini, max_depth=13, max_features=7, min_samples_split=5, random_state=493; total time=   0.4s\n"
     ]
    },
    {
     "name": "stdout",
     "output_type": "stream",
     "text": [
      "[CV] END criterion=gini, max_depth=13, max_features=7, min_samples_split=5, random_state=493; total time=   0.4s\n",
      "[CV] END criterion=gini, max_depth=13, max_features=7, min_samples_split=5, random_state=493; total time=   0.4s\n",
      "[CV] END criterion=gini, max_depth=13, max_features=7, min_samples_split=7, random_state=493; total time=   0.3s\n",
      "[CV] END criterion=gini, max_depth=13, max_features=7, min_samples_split=7, random_state=493; total time=   0.3s\n",
      "[CV] END criterion=gini, max_depth=13, max_features=7, min_samples_split=7, random_state=493; total time=   0.5s\n",
      "[CV] END criterion=gini, max_depth=13, max_features=7, min_samples_split=7, random_state=493; total time=   0.4s\n",
      "[CV] END criterion=gini, max_depth=13, max_features=7, min_samples_split=7, random_state=493; total time=   0.4s\n",
      "[CV] END criterion=gini, max_depth=13, max_features=10, min_samples_split=5, random_state=493; total time=   0.4s\n",
      "[CV] END criterion=gini, max_depth=13, max_features=10, min_samples_split=5, random_state=493; total time=   0.4s\n",
      "[CV] END criterion=gini, max_depth=13, max_features=10, min_samples_split=5, random_state=493; total time=   0.4s\n",
      "[CV] END criterion=gini, max_depth=13, max_features=10, min_samples_split=5, random_state=493; total time=   0.7s\n",
      "[CV] END criterion=gini, max_depth=13, max_features=10, min_samples_split=5, random_state=493; total time=   0.5s\n",
      "[CV] END criterion=gini, max_depth=13, max_features=10, min_samples_split=7, random_state=493; total time=   0.4s\n",
      "[CV] END criterion=gini, max_depth=13, max_features=10, min_samples_split=7, random_state=493; total time=   0.5s\n",
      "[CV] END criterion=gini, max_depth=13, max_features=10, min_samples_split=7, random_state=493; total time=   0.8s\n",
      "[CV] END criterion=gini, max_depth=13, max_features=10, min_samples_split=7, random_state=493; total time=   0.4s\n",
      "[CV] END criterion=gini, max_depth=13, max_features=10, min_samples_split=7, random_state=493; total time=   0.5s\n",
      "[CV] END criterion=entropy, max_depth=9, max_features=5, min_samples_split=5, random_state=493; total time=   0.5s\n",
      "[CV] END criterion=entropy, max_depth=9, max_features=5, min_samples_split=5, random_state=493; total time=   0.5s\n",
      "[CV] END criterion=entropy, max_depth=9, max_features=5, min_samples_split=5, random_state=493; total time=   0.5s\n",
      "[CV] END criterion=entropy, max_depth=9, max_features=5, min_samples_split=5, random_state=493; total time=   0.4s\n",
      "[CV] END criterion=entropy, max_depth=9, max_features=5, min_samples_split=5, random_state=493; total time=   0.4s\n",
      "[CV] END criterion=entropy, max_depth=9, max_features=5, min_samples_split=7, random_state=493; total time=   0.4s\n",
      "[CV] END criterion=entropy, max_depth=9, max_features=5, min_samples_split=7, random_state=493; total time=   0.4s\n",
      "[CV] END criterion=entropy, max_depth=9, max_features=5, min_samples_split=7, random_state=493; total time=   0.5s\n",
      "[CV] END criterion=entropy, max_depth=9, max_features=5, min_samples_split=7, random_state=493; total time=   0.6s\n",
      "[CV] END criterion=entropy, max_depth=9, max_features=5, min_samples_split=7, random_state=493; total time=   0.5s\n",
      "[CV] END criterion=entropy, max_depth=9, max_features=7, min_samples_split=5, random_state=493; total time=   0.5s\n",
      "[CV] END criterion=entropy, max_depth=9, max_features=7, min_samples_split=5, random_state=493; total time=   0.6s\n",
      "[CV] END criterion=entropy, max_depth=9, max_features=7, min_samples_split=5, random_state=493; total time=   0.7s\n",
      "[CV] END criterion=entropy, max_depth=9, max_features=7, min_samples_split=5, random_state=493; total time=   0.6s\n",
      "[CV] END criterion=entropy, max_depth=9, max_features=7, min_samples_split=5, random_state=493; total time=   0.6s\n",
      "[CV] END criterion=entropy, max_depth=9, max_features=7, min_samples_split=7, random_state=493; total time=   0.6s\n",
      "[CV] END criterion=entropy, max_depth=9, max_features=7, min_samples_split=7, random_state=493; total time=   0.7s\n",
      "[CV] END criterion=entropy, max_depth=9, max_features=7, min_samples_split=7, random_state=493; total time=   0.5s\n",
      "[CV] END criterion=entropy, max_depth=9, max_features=7, min_samples_split=7, random_state=493; total time=   0.5s\n",
      "[CV] END criterion=entropy, max_depth=9, max_features=7, min_samples_split=7, random_state=493; total time=   0.5s\n",
      "[CV] END criterion=entropy, max_depth=9, max_features=10, min_samples_split=5, random_state=493; total time=   0.6s\n",
      "[CV] END criterion=entropy, max_depth=9, max_features=10, min_samples_split=5, random_state=493; total time=   0.6s\n",
      "[CV] END criterion=entropy, max_depth=9, max_features=10, min_samples_split=5, random_state=493; total time=   0.7s\n",
      "[CV] END criterion=entropy, max_depth=9, max_features=10, min_samples_split=5, random_state=493; total time=   0.6s\n",
      "[CV] END criterion=entropy, max_depth=9, max_features=10, min_samples_split=5, random_state=493; total time=   0.7s\n",
      "[CV] END criterion=entropy, max_depth=9, max_features=10, min_samples_split=7, random_state=493; total time=   0.6s\n",
      "[CV] END criterion=entropy, max_depth=9, max_features=10, min_samples_split=7, random_state=493; total time=   0.6s\n",
      "[CV] END criterion=entropy, max_depth=9, max_features=10, min_samples_split=7, random_state=493; total time=   0.6s\n",
      "[CV] END criterion=entropy, max_depth=9, max_features=10, min_samples_split=7, random_state=493; total time=   0.6s\n",
      "[CV] END criterion=entropy, max_depth=9, max_features=10, min_samples_split=7, random_state=493; total time=   0.7s\n",
      "[CV] END criterion=entropy, max_depth=11, max_features=5, min_samples_split=5, random_state=493; total time=   0.4s\n",
      "[CV] END criterion=entropy, max_depth=11, max_features=5, min_samples_split=5, random_state=493; total time=   0.4s\n",
      "[CV] END criterion=entropy, max_depth=11, max_features=5, min_samples_split=5, random_state=493; total time=   0.4s\n",
      "[CV] END criterion=entropy, max_depth=11, max_features=5, min_samples_split=5, random_state=493; total time=   0.4s\n",
      "[CV] END criterion=entropy, max_depth=11, max_features=5, min_samples_split=5, random_state=493; total time=   0.5s\n",
      "[CV] END criterion=entropy, max_depth=11, max_features=5, min_samples_split=7, random_state=493; total time=   0.4s\n",
      "[CV] END criterion=entropy, max_depth=11, max_features=5, min_samples_split=7, random_state=493; total time=   0.4s\n",
      "[CV] END criterion=entropy, max_depth=11, max_features=5, min_samples_split=7, random_state=493; total time=   0.4s\n",
      "[CV] END criterion=entropy, max_depth=11, max_features=5, min_samples_split=7, random_state=493; total time=   0.4s\n",
      "[CV] END criterion=entropy, max_depth=11, max_features=5, min_samples_split=7, random_state=493; total time=   0.5s\n",
      "[CV] END criterion=entropy, max_depth=11, max_features=7, min_samples_split=5, random_state=493; total time=   0.5s\n",
      "[CV] END criterion=entropy, max_depth=11, max_features=7, min_samples_split=5, random_state=493; total time=   0.5s\n",
      "[CV] END criterion=entropy, max_depth=11, max_features=7, min_samples_split=5, random_state=493; total time=   0.5s\n",
      "[CV] END criterion=entropy, max_depth=11, max_features=7, min_samples_split=5, random_state=493; total time=   0.5s\n",
      "[CV] END criterion=entropy, max_depth=11, max_features=7, min_samples_split=5, random_state=493; total time=   0.6s\n",
      "[CV] END criterion=entropy, max_depth=11, max_features=7, min_samples_split=7, random_state=493; total time=   0.5s\n",
      "[CV] END criterion=entropy, max_depth=11, max_features=7, min_samples_split=7, random_state=493; total time=   0.5s\n",
      "[CV] END criterion=entropy, max_depth=11, max_features=7, min_samples_split=7, random_state=493; total time=   0.5s\n",
      "[CV] END criterion=entropy, max_depth=11, max_features=7, min_samples_split=7, random_state=493; total time=   0.5s\n",
      "[CV] END criterion=entropy, max_depth=11, max_features=7, min_samples_split=7, random_state=493; total time=   0.5s\n",
      "[CV] END criterion=entropy, max_depth=11, max_features=10, min_samples_split=5, random_state=493; total time=   0.9s\n",
      "[CV] END criterion=entropy, max_depth=11, max_features=10, min_samples_split=5, random_state=493; total time=   0.7s\n",
      "[CV] END criterion=entropy, max_depth=11, max_features=10, min_samples_split=5, random_state=493; total time=   0.8s\n",
      "[CV] END criterion=entropy, max_depth=11, max_features=10, min_samples_split=5, random_state=493; total time=   0.6s\n",
      "[CV] END criterion=entropy, max_depth=11, max_features=10, min_samples_split=5, random_state=493; total time=   0.6s\n"
     ]
    },
    {
     "name": "stdout",
     "output_type": "stream",
     "text": [
      "[CV] END criterion=entropy, max_depth=11, max_features=10, min_samples_split=7, random_state=493; total time=   0.6s\n",
      "[CV] END criterion=entropy, max_depth=11, max_features=10, min_samples_split=7, random_state=493; total time=   0.7s\n",
      "[CV] END criterion=entropy, max_depth=11, max_features=10, min_samples_split=7, random_state=493; total time=   0.6s\n",
      "[CV] END criterion=entropy, max_depth=11, max_features=10, min_samples_split=7, random_state=493; total time=   0.6s\n",
      "[CV] END criterion=entropy, max_depth=11, max_features=10, min_samples_split=7, random_state=493; total time=   0.6s\n",
      "[CV] END criterion=entropy, max_depth=13, max_features=5, min_samples_split=5, random_state=493; total time=   0.4s\n",
      "[CV] END criterion=entropy, max_depth=13, max_features=5, min_samples_split=5, random_state=493; total time=   0.5s\n",
      "[CV] END criterion=entropy, max_depth=13, max_features=5, min_samples_split=5, random_state=493; total time=   0.4s\n",
      "[CV] END criterion=entropy, max_depth=13, max_features=5, min_samples_split=5, random_state=493; total time=   0.4s\n",
      "[CV] END criterion=entropy, max_depth=13, max_features=5, min_samples_split=5, random_state=493; total time=   0.4s\n",
      "[CV] END criterion=entropy, max_depth=13, max_features=5, min_samples_split=7, random_state=493; total time=   0.4s\n",
      "[CV] END criterion=entropy, max_depth=13, max_features=5, min_samples_split=7, random_state=493; total time=   0.5s\n",
      "[CV] END criterion=entropy, max_depth=13, max_features=5, min_samples_split=7, random_state=493; total time=   0.5s\n",
      "[CV] END criterion=entropy, max_depth=13, max_features=5, min_samples_split=7, random_state=493; total time=   0.4s\n",
      "[CV] END criterion=entropy, max_depth=13, max_features=5, min_samples_split=7, random_state=493; total time=   0.4s\n",
      "[CV] END criterion=entropy, max_depth=13, max_features=7, min_samples_split=5, random_state=493; total time=   0.5s\n",
      "[CV] END criterion=entropy, max_depth=13, max_features=7, min_samples_split=5, random_state=493; total time=   0.8s\n",
      "[CV] END criterion=entropy, max_depth=13, max_features=7, min_samples_split=5, random_state=493; total time=   0.6s\n",
      "[CV] END criterion=entropy, max_depth=13, max_features=7, min_samples_split=5, random_state=493; total time=   0.6s\n",
      "[CV] END criterion=entropy, max_depth=13, max_features=7, min_samples_split=5, random_state=493; total time=   0.5s\n",
      "[CV] END criterion=entropy, max_depth=13, max_features=7, min_samples_split=7, random_state=493; total time=   0.6s\n",
      "[CV] END criterion=entropy, max_depth=13, max_features=7, min_samples_split=7, random_state=493; total time=   0.5s\n",
      "[CV] END criterion=entropy, max_depth=13, max_features=7, min_samples_split=7, random_state=493; total time=   0.5s\n",
      "[CV] END criterion=entropy, max_depth=13, max_features=7, min_samples_split=7, random_state=493; total time=   0.5s\n",
      "[CV] END criterion=entropy, max_depth=13, max_features=7, min_samples_split=7, random_state=493; total time=   0.5s\n",
      "[CV] END criterion=entropy, max_depth=13, max_features=10, min_samples_split=5, random_state=493; total time=   0.8s\n",
      "[CV] END criterion=entropy, max_depth=13, max_features=10, min_samples_split=5, random_state=493; total time=   0.6s\n",
      "[CV] END criterion=entropy, max_depth=13, max_features=10, min_samples_split=5, random_state=493; total time=   0.6s\n",
      "[CV] END criterion=entropy, max_depth=13, max_features=10, min_samples_split=5, random_state=493; total time=   0.6s\n",
      "[CV] END criterion=entropy, max_depth=13, max_features=10, min_samples_split=5, random_state=493; total time=   0.7s\n",
      "[CV] END criterion=entropy, max_depth=13, max_features=10, min_samples_split=7, random_state=493; total time=   0.7s\n",
      "[CV] END criterion=entropy, max_depth=13, max_features=10, min_samples_split=7, random_state=493; total time=   0.7s\n",
      "[CV] END criterion=entropy, max_depth=13, max_features=10, min_samples_split=7, random_state=493; total time=   0.8s\n",
      "[CV] END criterion=entropy, max_depth=13, max_features=10, min_samples_split=7, random_state=493; total time=   0.6s\n",
      "[CV] END criterion=entropy, max_depth=13, max_features=10, min_samples_split=7, random_state=493; total time=   0.6s\n"
     ]
    },
    {
     "data": {
      "text/plain": [
       "GridSearchCV(cv=5, estimator=RandomForestClassifier(),\n",
       "             param_grid={'criterion': ['gini', 'entropy'],\n",
       "                         'max_depth': [9, 11, 13], 'max_features': [5, 7, 10],\n",
       "                         'min_samples_split': [5, 7], 'random_state': [493]},\n",
       "             return_train_score=True, verbose=2)"
      ]
     },
     "execution_count": 76,
     "metadata": {},
     "output_type": "execute_result"
    }
   ],
   "source": [
    "param_grid = {'criterion':['gini', 'entropy'],\n",
    "              'max_depth':[9,11,13],\n",
    "              'min_samples_split':[5,7],\n",
    "              'max_features':[5,7,10],\n",
    "              'random_state':[493]\n",
    "             }\n",
    "rf = RandomForestClassifier()\n",
    "gs = GridSearchCV(rf,verbose=1, param_grid=param_grid,cv = 5, return_train_score=True)\n",
    "gs.fit(sample_train_x, sample_train_y)\n"
   ]
  },
  {
   "cell_type": "code",
   "execution_count": 77,
   "id": "8990c724",
   "metadata": {},
   "outputs": [
    {
     "data": {
      "text/plain": [
       "RandomForestClassifier(criterion='entropy', max_depth=13, max_features=10,\n",
       "                       min_samples_split=5, random_state=493)"
      ]
     },
     "execution_count": 77,
     "metadata": {},
     "output_type": "execute_result"
    }
   ],
   "source": [
    "gs.best_estimator_"
   ]
  },
  {
   "cell_type": "code",
   "execution_count": 78,
   "id": "f590dab1",
   "metadata": {
    "scrolled": true
   },
   "outputs": [
    {
     "name": "stdout",
     "output_type": "stream",
     "text": [
      "Fitting 5 folds for each of 36 candidates, totalling 180 fits\n"
     ]
    },
    {
     "data": {
      "text/plain": [
       "GridSearchCV(cv=5, estimator=RandomForestClassifier(),\n",
       "             param_grid={'criterion': ['gini', 'entropy'],\n",
       "                         'max_depth': [13, 14, 15], 'max_features': [10, 11],\n",
       "                         'min_samples_split': [3, 4, 5],\n",
       "                         'random_state': [493]},\n",
       "             return_train_score=True, verbose=1)"
      ]
     },
     "execution_count": 78,
     "metadata": {},
     "output_type": "execute_result"
    }
   ],
   "source": [
    "param_grid = {'criterion':['gini', 'entropy'],\n",
    "              'max_depth':[13, 14, 15],\n",
    "              'min_samples_split':[3,4,5],\n",
    "              'max_features':[10,11],\n",
    "              'random_state':[493]\n",
    "             }\n",
    "rf = RandomForestClassifier()\n",
    "gs = GridSearchCV(rf,verbose=1, param_grid=param_grid,cv = 5, return_train_score=True)\n",
    "gs.fit(sample_train_x, sample_train_y)\n"
   ]
  },
  {
   "cell_type": "code",
   "execution_count": 79,
   "id": "aade4d95",
   "metadata": {},
   "outputs": [
    {
     "data": {
      "text/plain": [
       "RandomForestClassifier(criterion='entropy', max_depth=13, max_features=10,\n",
       "                       min_samples_split=5, random_state=493)"
      ]
     },
     "execution_count": 79,
     "metadata": {},
     "output_type": "execute_result"
    }
   ],
   "source": [
    "gs.best_estimator_"
   ]
  },
  {
   "cell_type": "code",
   "execution_count": 81,
   "id": "d0418d7a",
   "metadata": {},
   "outputs": [],
   "source": [
    "from sklearn.model_selection import cross_validate, StratifiedKFold\n",
    "randforest =  RandomForestClassifier(criterion='entropy', max_depth=13, max_features=10,\n",
    "                       min_samples_split=5, random_state=493)\n",
    "cv = StratifiedKFold(n_splits=5, shuffle=True, random_state=493)\n",
    "result = cross_validate(randforest,flat_train_x, train_y, cv = cv)\n",
    "val_score = np.mean(result['test_score'])\n",
    "\n"
   ]
  },
  {
   "cell_type": "code",
   "execution_count": 84,
   "id": "9e281327",
   "metadata": {},
   "outputs": [
    {
     "data": {
      "text/html": [
       "<div>\n",
       "<style scoped>\n",
       "    .dataframe tbody tr th:only-of-type {\n",
       "        vertical-align: middle;\n",
       "    }\n",
       "\n",
       "    .dataframe tbody tr th {\n",
       "        vertical-align: top;\n",
       "    }\n",
       "\n",
       "    .dataframe thead th {\n",
       "        text-align: right;\n",
       "    }\n",
       "</style>\n",
       "<table border=\"1\" class=\"dataframe\">\n",
       "  <thead>\n",
       "    <tr style=\"text-align: right;\">\n",
       "      <th></th>\n",
       "      <th>fit_time</th>\n",
       "      <th>score_time</th>\n",
       "      <th>test_score</th>\n",
       "    </tr>\n",
       "  </thead>\n",
       "  <tbody>\n",
       "    <tr>\n",
       "      <th>0</th>\n",
       "      <td>59.783178</td>\n",
       "      <td>1.246703</td>\n",
       "      <td>0.863750</td>\n",
       "    </tr>\n",
       "    <tr>\n",
       "      <th>1</th>\n",
       "      <td>60.595180</td>\n",
       "      <td>0.814860</td>\n",
       "      <td>0.864750</td>\n",
       "    </tr>\n",
       "    <tr>\n",
       "      <th>2</th>\n",
       "      <td>61.680727</td>\n",
       "      <td>0.792692</td>\n",
       "      <td>0.861917</td>\n",
       "    </tr>\n",
       "    <tr>\n",
       "      <th>3</th>\n",
       "      <td>58.251771</td>\n",
       "      <td>0.882160</td>\n",
       "      <td>0.864417</td>\n",
       "    </tr>\n",
       "    <tr>\n",
       "      <th>4</th>\n",
       "      <td>56.785636</td>\n",
       "      <td>0.817104</td>\n",
       "      <td>0.860333</td>\n",
       "    </tr>\n",
       "  </tbody>\n",
       "</table>\n",
       "</div>"
      ],
      "text/plain": [
       "    fit_time  score_time  test_score\n",
       "0  59.783178    1.246703    0.863750\n",
       "1  60.595180    0.814860    0.864750\n",
       "2  61.680727    0.792692    0.861917\n",
       "3  58.251771    0.882160    0.864417\n",
       "4  56.785636    0.817104    0.860333"
      ]
     },
     "execution_count": 84,
     "metadata": {},
     "output_type": "execute_result"
    }
   ],
   "source": [
    "pd.DataFrame(result)"
   ]
  },
  {
   "cell_type": "code",
   "execution_count": 87,
   "id": "823ab857",
   "metadata": {},
   "outputs": [],
   "source": [
    "\n",
    "randforest.fit(flat_train_x, train_y)\n",
    "train_score = randforest.score(flat_train_x, train_y)\n",
    "test_score = randforest.score(flat_test_x, test_y)\n"
   ]
  },
  {
   "cell_type": "code",
   "execution_count": 88,
   "id": "a29ccfb2",
   "metadata": {},
   "outputs": [
    {
     "data": {
      "text/html": [
       "<div>\n",
       "<style scoped>\n",
       "    .dataframe tbody tr th:only-of-type {\n",
       "        vertical-align: middle;\n",
       "    }\n",
       "\n",
       "    .dataframe tbody tr th {\n",
       "        vertical-align: top;\n",
       "    }\n",
       "\n",
       "    .dataframe thead th {\n",
       "        text-align: right;\n",
       "    }\n",
       "</style>\n",
       "<table border=\"1\" class=\"dataframe\">\n",
       "  <thead>\n",
       "    <tr style=\"text-align: right;\">\n",
       "      <th></th>\n",
       "      <th>train_score</th>\n",
       "      <th>val_score</th>\n",
       "      <th>test_score</th>\n",
       "    </tr>\n",
       "  </thead>\n",
       "  <tbody>\n",
       "    <tr>\n",
       "      <th>0</th>\n",
       "      <td>0.92695</td>\n",
       "      <td>0.863033</td>\n",
       "      <td>0.8553</td>\n",
       "    </tr>\n",
       "  </tbody>\n",
       "</table>\n",
       "</div>"
      ],
      "text/plain": [
       "   train_score  val_score  test_score\n",
       "0      0.92695   0.863033      0.8553"
      ]
     },
     "execution_count": 88,
     "metadata": {},
     "output_type": "execute_result"
    }
   ],
   "source": [
    "pd.DataFrame({'train_score':[train_score],\n",
    "              'val_score':[val_score],\n",
    "              'test_score':[test_score]})"
   ]
  },
  {
   "cell_type": "markdown",
   "id": "efd38b7f",
   "metadata": {},
   "source": [
    "#### GradientBoosting"
   ]
  },
  {
   "cell_type": "code",
   "execution_count": null,
   "id": "e7767801",
   "metadata": {},
   "outputs": [],
   "source": [
    "from sklearn.ensemble import GradientBoostingClassifier\n",
    "from sklearn.model_selection import cross_validate, StratifiedKFold\n",
    "gbrt = GradientBoostingClassifier(random_state=493)\n",
    "\n",
    "cv = StratifiedKFold(n_splits=5, shuffle=True, random_state=493)\n",
    "result = cross_validate(gbrt,sample_train_x, sample_train_y, cv = cv)\n",
    "pd.DataFrame(result)\n"
   ]
  },
  {
   "cell_type": "code",
   "execution_count": null,
   "id": "4d745c29",
   "metadata": {},
   "outputs": [],
   "source": []
  },
  {
   "cell_type": "code",
   "execution_count": null,
   "id": "ab5d825c",
   "metadata": {},
   "outputs": [],
   "source": [
    "from sklearn.ensemble import GradientBoostingClassifier\n",
    "from sklearn.model_selection import cross_validate, StratifiedKFold\n",
    "gbrt = GradientBoostingClassifier(random_state=493)\n",
    "\n",
    "\n",
    "\n",
    "# cv = StratifiedKFold(n_splits=5, shuffle=True, random_state=493)\n",
    "# result = cross_validate(gbrt,sample_train_x, sample_train_y, cv = cv,verbose= 2)\n",
    "# pd.DataFrame(result)\n"
   ]
  },
  {
   "cell_type": "markdown",
   "id": "09e0e4b1",
   "metadata": {},
   "source": [
    "#### 신경망"
   ]
  },
  {
   "cell_type": "code",
   "execution_count": 16,
   "id": "daa94511",
   "metadata": {},
   "outputs": [],
   "source": [
    "from sklearn.neural_network import MLPClassifier\n",
    "mlp = MLPClassifier(solver='lbfgs', random_state=493)"
   ]
  },
  {
   "cell_type": "code",
   "execution_count": 17,
   "id": "ecc5b3fa",
   "metadata": {},
   "outputs": [
    {
     "data": {
      "text/plain": [
       "MLPClassifier(random_state=493, solver='lbfgs')"
      ]
     },
     "execution_count": 17,
     "metadata": {},
     "output_type": "execute_result"
    }
   ],
   "source": [
    "mlp.fit(sample_train_x, sample_train_y)"
   ]
  },
  {
   "cell_type": "code",
   "execution_count": 20,
   "id": "3b1ea466",
   "metadata": {},
   "outputs": [],
   "source": []
  },
  {
   "cell_type": "code",
   "execution_count": null,
   "id": "b25ee64e",
   "metadata": {},
   "outputs": [],
   "source": []
  }
 ],
 "metadata": {
  "kernelspec": {
   "display_name": "Python 3 (ipykernel)",
   "language": "python",
   "name": "python3"
  },
  "language_info": {
   "codemirror_mode": {
    "name": "ipython",
    "version": 3
   },
   "file_extension": ".py",
   "mimetype": "text/x-python",
   "name": "python",
   "nbconvert_exporter": "python",
   "pygments_lexer": "ipython3",
   "version": "3.9.12"
  }
 },
 "nbformat": 4,
 "nbformat_minor": 5
}
