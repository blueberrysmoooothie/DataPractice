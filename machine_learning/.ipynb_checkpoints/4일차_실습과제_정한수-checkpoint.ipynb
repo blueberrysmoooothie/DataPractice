{
 "cells": [
  {
   "cell_type": "code",
   "execution_count": 99,
   "id": "ad749869",
   "metadata": {},
   "outputs": [
    {
     "name": "stdout",
     "output_type": "stream",
     "text": [
      "7\n",
      "0.8235294117647058\n",
      "0.875\n"
     ]
    }
   ],
   "source": [
    "# 최적화 경사하강법 변경 (BGD > SGD) 손실함수\n",
    "sc = SGDClassifier(loss = 'log',\n",
    "                  random_state = 493,\n",
    "                  early_stopping= True, # 미 개선시 조기 종료\n",
    "                  n_iter_no_change= 5, # 미 개선 상한\n",
    "                  tol = 0.1)# 개선정도\n",
    "sc.fit(train_ss, train_y)\n",
    "\n",
    "print(sc.n_iter_)\n",
    "print(sc.score(train_ss, train_y))\n",
    "print(sc.score(test_ss, test_y))"
   ]
  },
  {
   "cell_type": "markdown",
   "id": "24714f11",
   "metadata": {},
   "source": [
    "### svm\n"
   ]
  },
  {
   "cell_type": "code",
   "execution_count": 1,
   "id": "7f770d60",
   "metadata": {},
   "outputs": [],
   "source": [
    "import pandas as pd\n",
    "import numpy as np\n",
    "import matplotlib.pyplot as plt\n",
    "from sklearn.datasets import load_digits\n",
    "digit, target  = load_digits(as_frame=True, return_X_y=True)\n",
    "digit_img = load_digits()['images']"
   ]
  },
  {
   "cell_type": "code",
   "execution_count": 2,
   "id": "9dbfc7be",
   "metadata": {},
   "outputs": [
    {
     "data": {
      "image/png": "[encoded data removed]",
      "text/plain": [
       "<Figure size 288x288 with 1 Axes>"
      ]
     },
     "metadata": {
      "needs_background": "light"
     },
     "output_type": "display_data"
    }
   ],
   "source": [
    "plt.matshow(digit_img[70])\n",
    "plt.show()"
   ]
  },
  {
   "cell_type": "code",
   "execution_count": 3,
   "id": "2d893c32",
   "metadata": {},
   "outputs": [
    {
     "data": {
      "text/plain": [
       "array([[ 0.,  0.,  5., 13.,  9.,  1.,  0.,  0.],\n",
       "       [ 0.,  0., 13., 15., 10., 15.,  5.,  0.],\n",
       "       [ 0.,  3., 15.,  2.,  0., 11.,  8.,  0.],\n",
       "       [ 0.,  4., 12.,  0.,  0.,  8.,  8.,  0.],\n",
       "       [ 0.,  5.,  8.,  0.,  0.,  9.,  8.,  0.],\n",
       "       [ 0.,  4., 11.,  0.,  1., 12.,  7.,  0.],\n",
       "       [ 0.,  2., 14.,  5., 10., 12.,  0.,  0.],\n",
       "       [ 0.,  0.,  6., 13., 10.,  0.,  0.,  0.]])"
      ]
     },
     "execution_count": 3,
     "metadata": {},
     "output_type": "execute_result"
    }
   ],
   "source": [
    "digit_img[0]"
   ]
  },
  {
   "cell_type": "code",
   "execution_count": 4,
   "id": "599ab9cc",
   "metadata": {},
   "outputs": [
    {
     "name": "stdout",
     "output_type": "stream",
     "text": [
      "(1797, 64), (1797,) \n"
     ]
    }
   ],
   "source": [
    "print(f'{digit.shape}, {target.shape} ')"
   ]
  },
  {
   "cell_type": "code",
   "execution_count": 5,
   "id": "635630ad",
   "metadata": {},
   "outputs": [],
   "source": [
    "from sklearn.preprocessing import StandardScaler\n",
    "from sklearn.model_selection import train_test_split\n",
    "train_x, test_x, train_y, test_y = train_test_split(digit, target,\n",
    "                                                   random_state=493,\n",
    "                                                   stratify = target)\n",
    "ss = StandardScaler()\n",
    "ss.fit(train_x)\n",
    "train_ss = ss.transform(train_x)\n",
    "test_ss = ss.transform(test_x)\n"
   ]
  },
  {
   "cell_type": "code",
   "execution_count": 6,
   "id": "3821dc23",
   "metadata": {
    "scrolled": true
   },
   "outputs": [
    {
     "name": "stdout",
     "output_type": "stream",
     "text": [
      "비 정규화 --------------\n",
      "0.9948032665181886\n",
      "0.9866666666666667\n",
      "   정규화 --------------\n",
      "0.9970304380103935\n",
      "0.98\n"
     ]
    }
   ],
   "source": [
    "\n",
    "from sklearn.svm import SVC\n",
    "svc = SVC()\n",
    "svc.fit(train_x, train_y)\n",
    "\n",
    "svc_ss = SVC()\n",
    "svc_ss.fit(train_ss, train_y)\n",
    "\n",
    "print('비 정규화 --------------')\n",
    "print(svc.score(train_x, train_y))\n",
    "print(svc.score(test_x, test_y))\n",
    "\n",
    "print('   정규화 --------------')\n",
    "print(svc_ss.score(train_ss, train_y))\n",
    "print(svc_ss.score(test_ss, test_y))\n"
   ]
  },
  {
   "cell_type": "markdown",
   "id": "5cdfc415",
   "metadata": {},
   "source": [
    "###### 파라미터 튜닝"
   ]
  },
  {
   "cell_type": "code",
   "execution_count": 7,
   "id": "be7b9ba7",
   "metadata": {},
   "outputs": [
    {
     "data": {
      "text/plain": [
       "{'C': 1.0,\n",
       " 'break_ties': False,\n",
       " 'cache_size': 200,\n",
       " 'class_weight': None,\n",
       " 'coef0': 0.0,\n",
       " 'decision_function_shape': 'ovr',\n",
       " 'degree': 3,\n",
       " 'gamma': 'scale',\n",
       " 'kernel': 'rbf',\n",
       " 'max_iter': -1,\n",
       " 'probability': False,\n",
       " 'random_state': None,\n",
       " 'shrinking': True,\n",
       " 'tol': 0.001,\n",
       " 'verbose': False}"
      ]
     },
     "execution_count": 7,
     "metadata": {},
     "output_type": "execute_result"
    }
   ],
   "source": [
    "svc.get_params()"
   ]
  },
  {
   "cell_type": "code",
   "execution_count": 8,
   "id": "2977ff0b",
   "metadata": {},
   "outputs": [],
   "source": [
    "# from sklearn.model_selection import GridSearchCV\n",
    "# param_range = [0.0001, 0.001, 0.01, 1, 10, 100, 1000]\n",
    "# param_grid = [\n",
    "#     {'C': param_range, 'kernel': ['linear']},\n",
    "#     {'C': param_range, 'gamma': param_range, 'kernel': ['rbf']}\n",
    "# ]\n",
    "# svc = SVC()\n",
    "# gs = GridSearchCV(estimator=svc, \n",
    "#                  param_grid=param_grid,\n",
    "#                  scoring='accuracy',\n",
    "#                  cv = 10)\n",
    "# gs.fit(train_x, train_y)\n",
    "\n",
    "# print(gs.best_params_)"
   ]
  },
  {
   "cell_type": "code",
   "execution_count": 9,
   "id": "e1b7a26c",
   "metadata": {},
   "outputs": [
    {
     "name": "stdout",
     "output_type": "stream",
     "text": [
      "비 정규화 --------------\n",
      "1.0\n",
      "0.9933333333333333\n"
     ]
    }
   ],
   "source": [
    "svc = SVC(C = 10, gamma=0.001, kernel = 'rbf')\n",
    "svc.fit(train_x, train_y)\n",
    "\n",
    "print('비 정규화 --------------')\n",
    "print(svc.score(train_x, train_y))\n",
    "print(svc.score(test_x, test_y))\n"
   ]
  },
  {
   "cell_type": "code",
   "execution_count": 139,
   "id": "6146adea",
   "metadata": {},
   "outputs": [
    {
     "name": "stdout",
     "output_type": "stream",
     "text": [
      "{'C': 10, 'gamma': 0.01, 'kernel': 'rbf'}\n"
     ]
    }
   ],
   "source": [
    "# # 정규화\n",
    "# svc_ss = SVC()\n",
    "# gs_ss = GridSearchCV(estimator=svc_ss, \n",
    "#                  param_grid=param_grid,\n",
    "#                  scoring='accuracy',\n",
    "#                  cv = 10)\n",
    "# gs_ss.fit(train_ss, train_y)\n",
    "\n",
    "# print(gs_ss.best_params_)"
   ]
  },
  {
   "cell_type": "code",
   "execution_count": 10,
   "id": "dd2922f7",
   "metadata": {},
   "outputs": [
    {
     "name": "stdout",
     "output_type": "stream",
     "text": [
      "비 정규화 --------------\n",
      "1.0\n",
      "0.9822222222222222\n"
     ]
    }
   ],
   "source": [
    "# svc_ss = gs_ss.best_estimator_\n",
    "svc_ss = SVC(C = 10, gamma=0.01, kernel = 'rbf')\n",
    "svc_ss.fit(train_ss, train_y)\n",
    "\n",
    "print('비 정규화 --------------')\n",
    "print(svc_ss.score(train_ss, train_y))\n",
    "print(svc_ss.score(test_ss, test_y))\n"
   ]
  },
  {
   "cell_type": "markdown",
   "id": "454e31de",
   "metadata": {},
   "source": [
    "### LogisticRegression"
   ]
  },
  {
   "cell_type": "code",
   "execution_count": 16,
   "id": "bfc48edf",
   "metadata": {},
   "outputs": [
    {
     "name": "stdout",
     "output_type": "stream",
     "text": [
      "비 정규화 --------------\n",
      "1.0\n",
      "0.9733333333333334\n",
      "   정규화 --------------\n",
      "0.9985152190051967\n",
      "0.9755555555555555\n"
     ]
    }
   ],
   "source": [
    "from sklearn.linear_model import LogisticRegression\n",
    "max_iter = 3200\n",
    "logit_model = LogisticRegression(max_iter = max_iter)\n",
    "logit_model.fit(train_x, train_y)\n",
    "\n",
    "logit_model_ss = LogisticRegression(max_iter = max_iter)\n",
    "logit_model_ss.fit(train_ss, train_y)\n",
    "\n",
    "print('비 정규화 --------------')\n",
    "print(logit_model.score(train_x, train_y))\n",
    "print(logit_model.score(test_x, test_y))\n",
    "\n",
    "print('   정규화 --------------')\n",
    "print(logit_model_ss.score(train_ss, train_y))\n",
    "print(logit_model_ss.score(test_ss, test_y))\n"
   ]
  },
  {
   "cell_type": "code",
   "execution_count": 17,
   "id": "dc01d95f",
   "metadata": {},
   "outputs": [
    {
     "name": "stderr",
     "output_type": "stream",
     "text": [
      "C:\\Users\\jhs85\\anaconda3\\lib\\site-packages\\sklearn\\linear_model\\_logistic.py:814: ConvergenceWarning: lbfgs failed to converge (status=1):\n",
      "STOP: TOTAL NO. of ITERATIONS REACHED LIMIT.\n",
      "\n",
      "Increase the number of iterations (max_iter) or scale the data as shown in:\n",
      "    https://scikit-learn.org/stable/modules/preprocessing.html\n",
      "Please also refer to the documentation for alternative solver options:\n",
      "    https://scikit-learn.org/stable/modules/linear_model.html#logistic-regression\n",
      "  n_iter_i = _check_optimize_result(\n",
      "C:\\Users\\jhs85\\anaconda3\\lib\\site-packages\\sklearn\\linear_model\\_logistic.py:814: ConvergenceWarning: lbfgs failed to converge (status=1):\n",
      "STOP: TOTAL NO. of ITERATIONS REACHED LIMIT.\n",
      "\n",
      "Increase the number of iterations (max_iter) or scale the data as shown in:\n",
      "    https://scikit-learn.org/stable/modules/preprocessing.html\n",
      "Please also refer to the documentation for alternative solver options:\n",
      "    https://scikit-learn.org/stable/modules/linear_model.html#logistic-regression\n",
      "  n_iter_i = _check_optimize_result(\n"
     ]
    },
    {
     "name": "stdout",
     "output_type": "stream",
     "text": [
      "{'C': 0.01}\n"
     ]
    }
   ],
   "source": [
    "# from sklearn.model_selection import GridSearchCV\n",
    "# param_range = [0.0001, 0.001, 0.01, 1, 10, 100, 1000]\n",
    "# param_grid = [\n",
    "#     {'C': param_range}\n",
    "# ]\n",
    "# logit_model = LogisticRegression(max_iter = max_iter)\n",
    "# gs = GridSearchCV(estimator=logit_model, \n",
    "#                  param_grid=param_grid,\n",
    "#                  scoring='accuracy',\n",
    "#                  cv = 10)\n",
    "# gs.fit(train_x, train_y)\n",
    "\n",
    "# print(gs.best_params_)"
   ]
  },
  {
   "cell_type": "code",
   "execution_count": 20,
   "id": "4214c4af",
   "metadata": {},
   "outputs": [
    {
     "name": "stdout",
     "output_type": "stream",
     "text": [
      "비 정규화 --------------\n",
      "0.9933184855233853\n",
      "0.9755555555555555\n"
     ]
    }
   ],
   "source": [
    "logit_model = LogisticRegression(max_iter = max_iter, C= 0.01)\n",
    "logit_model.fit(train_x, train_y)\n",
    "\n",
    "print('비 정규화 --------------')\n",
    "print(logit_model.score(train_x, train_y))\n",
    "print(logit_model.score(test_x, test_y))"
   ]
  },
  {
   "cell_type": "code",
   "execution_count": 18,
   "id": "76585410",
   "metadata": {},
   "outputs": [
    {
     "name": "stdout",
     "output_type": "stream",
     "text": [
      "{'C': 1}\n"
     ]
    }
   ],
   "source": [
    "# from sklearn.model_selection import GridSearchCV\n",
    "# param_range = [0.0001, 0.001, 0.01, 1, 10, 100, 1000]\n",
    "# param_grid = [\n",
    "#     {'C': param_range}\n",
    "# ]\n",
    "# logit_model_ss = LogisticRegression(max_iter = max_iter)\n",
    "# gs_ss = GridSearchCV(estimator=logit_model_ss, \n",
    "#                  param_grid=param_grid,\n",
    "#                  scoring='accuracy',\n",
    "#                  cv = 10)\n",
    "# gs_ss.fit(train_ss, train_y)\n",
    "\n",
    "# print(gs_ss.best_params_)"
   ]
  },
  {
   "cell_type": "code",
   "execution_count": 19,
   "id": "230d157c",
   "metadata": {},
   "outputs": [
    {
     "name": "stdout",
     "output_type": "stream",
     "text": [
      "   정규화 --------------\n",
      "0.9985152190051967\n",
      "0.9755555555555555\n"
     ]
    }
   ],
   "source": [
    "logit_model_ss = LogisticRegression(max_iter = max_iter, C = 1)\n",
    "logit_model_ss.fit(train_ss, train_y)\n",
    "\n",
    "print('   정규화 --------------')\n",
    "print(logit_model_ss.score(train_ss, train_y))\n",
    "print(logit_model_ss.score(test_ss, test_y))\n"
   ]
  },
  {
   "cell_type": "code",
   "execution_count": 29,
   "id": "07a67211",
   "metadata": {},
   "outputs": [
    {
     "name": "stdout",
     "output_type": "stream",
     "text": [
      "비 정규화 --------------\n",
      "svc 예측 : [0 1 2 3 4 9 6 7 8 9]\n",
      "logit 예측 : [0 1 2 3 4 9 6 7 8 9]\n"
     ]
    }
   ],
   "source": [
    "test_img =digit.iloc[0:10]\n",
    "print('비 정규화 --------------')\n",
    "print('svc 예측 :', svc.predict(test_img))\n",
    "print('logit 예측 :', logit_model.predict(test_img))"
   ]
  },
  {
   "cell_type": "code",
   "execution_count": 30,
   "id": "626b3e4e",
   "metadata": {},
   "outputs": [
    {
     "name": "stdout",
     "output_type": "stream",
     "text": [
      "   정규화 --------------\n",
      "svc 예측 : [0 1 2 3 4 9 6 7 8 9]\n",
      "logit 예측 : [0 1 2 3 4 9 6 7 8 9]\n"
     ]
    }
   ],
   "source": [
    "test_img = ss.transform(digit.iloc[0:10])\n",
    "print('   정규화 --------------')\n",
    "print('svc 예측 :', svc_ss.predict(test_img))\n",
    "print('logit 예측 :', logit_model_ss.predict(test_img))"
   ]
  },
  {
   "cell_type": "code",
   "execution_count": 63,
   "id": "23aae82d",
   "metadata": {},
   "outputs": [],
   "source": [
    "\n",
    "def draw_predict( test_img_num, models,scale = [False,False]):\n",
    "    plt.matshow(digit_img[test_img_num])\n",
    "    plt.show()\n",
    "    img = digit.iloc[[test_img_num]]\n",
    "    print('실제 값 : ', target.iloc[test_img_num])\n",
    "    for i in range(len(models)):\n",
    "        if scale[i]:\n",
    "            mimg = ss.transform(img)\n",
    "        else:\n",
    "            mimg = img\n",
    "        print('예측 값 :', models[i].predict(mimg))\n",
    "    "
   ]
  },
  {
   "cell_type": "code",
   "execution_count": 70,
   "id": "99c6440f",
   "metadata": {
    "scrolled": false
   },
   "outputs": [
    {
     "data": {
      "image/png": "[encoded data removed]",
      "text/plain": [
       "<Figure size 288x288 with 1 Axes>"
      ]
     },
     "metadata": {
      "needs_background": "light"
     },
     "output_type": "display_data"
    },
    {
     "name": "stdout",
     "output_type": "stream",
     "text": [
      "실제 값 :  3\n",
      "예측 값 : [3]\n",
      "예측 값 : [3]\n"
     ]
    },
    {
     "data": {
      "image/png": "[encoded data removed]",
      "text/plain": [
       "<Figure size 288x288 with 1 Axes>"
      ]
     },
     "metadata": {
      "needs_background": "light"
     },
     "output_type": "display_data"
    },
    {
     "name": "stdout",
     "output_type": "stream",
     "text": [
      "실제 값 :  8\n",
      "예측 값 : [8]\n",
      "예측 값 : [8]\n"
     ]
    },
    {
     "data": {
      "image/png": "[encoded data removed]",
      "text/plain": [
       "<Figure size 288x288 with 1 Axes>"
      ]
     },
     "metadata": {
      "needs_background": "light"
     },
     "output_type": "display_data"
    },
    {
     "name": "stdout",
     "output_type": "stream",
     "text": [
      "실제 값 :  6\n",
      "예측 값 : [6]\n",
      "예측 값 : [6]\n"
     ]
    },
    {
     "data": {
      "image/png": "[encoded data removed]",
      "text/plain": [
       "<Figure size 288x288 with 1 Axes>"
      ]
     },
     "metadata": {
      "needs_background": "light"
     },
     "output_type": "display_data"
    },
    {
     "name": "stdout",
     "output_type": "stream",
     "text": [
      "실제 값 :  5\n",
      "예측 값 : [5]\n",
      "예측 값 : [5]\n"
     ]
    },
    {
     "data": {
      "image/png": "[encoded data removed]",
      "text/plain": [
       "<Figure size 288x288 with 1 Axes>"
      ]
     },
     "metadata": {
      "needs_background": "light"
     },
     "output_type": "display_data"
    },
    {
     "name": "stdout",
     "output_type": "stream",
     "text": [
      "실제 값 :  8\n",
      "예측 값 : [8]\n",
      "예측 값 : [8]\n"
     ]
    },
    {
     "data": {
      "image/png": "[encoded data removed]",
      "text/plain": [
       "<Figure size 288x288 with 1 Axes>"
      ]
     },
     "metadata": {
      "needs_background": "light"
     },
     "output_type": "display_data"
    },
    {
     "name": "stdout",
     "output_type": "stream",
     "text": [
      "실제 값 :  7\n",
      "예측 값 : [7]\n",
      "예측 값 : [7]\n"
     ]
    },
    {
     "data": {
      "image/png": "[encoded data removed]",
      "text/plain": [
       "<Figure size 288x288 with 1 Axes>"
      ]
     },
     "metadata": {
      "needs_background": "light"
     },
     "output_type": "display_data"
    },
    {
     "name": "stdout",
     "output_type": "stream",
     "text": [
      "실제 값 :  3\n",
      "예측 값 : [3]\n",
      "예측 값 : [3]\n"
     ]
    },
    {
     "data": {
      "image/png": "[encoded data removed]",
      "text/plain": [
       "<Figure size 288x288 with 1 Axes>"
      ]
     },
     "metadata": {
      "needs_background": "light"
     },
     "output_type": "display_data"
    },
    {
     "name": "stdout",
     "output_type": "stream",
     "text": [
      "실제 값 :  0\n",
      "예측 값 : [0]\n",
      "예측 값 : [0]\n"
     ]
    },
    {
     "data": {
      "image/png": "[encoded data removed]",
      "text/plain": [
       "<Figure size 288x288 with 1 Axes>"
      ]
     },
     "metadata": {
      "needs_background": "light"
     },
     "output_type": "display_data"
    },
    {
     "name": "stdout",
     "output_type": "stream",
     "text": [
      "실제 값 :  3\n",
      "예측 값 : [3]\n",
      "예측 값 : [3]\n"
     ]
    },
    {
     "data": {
      "image/png": "[encoded data removed]",
      "text/plain": [
       "<Figure size 288x288 with 1 Axes>"
      ]
     },
     "metadata": {
      "needs_background": "light"
     },
     "output_type": "display_data"
    },
    {
     "name": "stdout",
     "output_type": "stream",
     "text": [
      "실제 값 :  6\n",
      "예측 값 : [6]\n",
      "예측 값 : [6]\n"
     ]
    }
   ],
   "source": [
    "for i in np.random.randint(0,1700,10):\n",
    "    draw_predict(i, [svc, svc_ss], scale = [False,True])"
   ]
  },
  {
   "cell_type": "code",
   "execution_count": null,
   "id": "762a7405",
   "metadata": {},
   "outputs": [],
   "source": []
  }
 ],
 "metadata": {
  "kernelspec": {
   "display_name": "Python 3 (ipykernel)",
   "language": "python",
   "name": "python3"
  },
  "language_info": {
   "codemirror_mode": {
    "name": "ipython",
    "version": 3
   },
   "file_extension": ".py",
   "mimetype": "text/x-python",
   "name": "python",
   "nbconvert_exporter": "python",
   "pygments_lexer": "ipython3",
   "version": "3.9.12"
  }
 },
 "nbformat": 4,
 "nbformat_minor": 5
}
