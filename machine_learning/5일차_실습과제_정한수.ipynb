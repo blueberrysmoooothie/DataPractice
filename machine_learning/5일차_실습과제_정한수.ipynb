{
 "cells": [
  {
   "cell_type": "code",
   "execution_count": 1,
   "id": "39d1749e",
   "metadata": {},
   "outputs": [
    {
     "data": {
      "text/plain": [
       "['en', 'fr', 'id', 'tl']"
      ]
     },
     "execution_count": 1,
     "metadata": {},
     "output_type": "execute_result"
    }
   ],
   "source": [
    "import pandas as pd\n",
    "import numpy as np\n",
    "import os \n",
    "train_txt_list = os.listdir('./lang/train/')\n",
    "test_txt_list = os.listdir('./lang/test/')\n",
    "contry_name = [x[:2] for x in train_txt_list]\n",
    "contry_name = list(pd.unique(contry_name))\n",
    "contry_name"
   ]
  },
  {
   "cell_type": "code",
   "execution_count": 2,
   "id": "154672f8",
   "metadata": {
    "scrolled": true
   },
   "outputs": [
    {
     "data": {
      "text/plain": [
       "20"
      ]
     },
     "execution_count": 2,
     "metadata": {},
     "output_type": "execute_result"
    }
   ],
   "source": [
    "len(train_txt_list)"
   ]
  },
  {
   "cell_type": "code",
   "execution_count": 3,
   "id": "3baa59a2",
   "metadata": {},
   "outputs": [],
   "source": [
    "alpha = list('abcdefghijklmnopqrstuvwxyzàêèé')+['à', 'â', 'ä', 'å', 'ç', 'è', 'é', 'ê', 'î', 'ï', 'ô', 'ö', 'ø', 'ù', 'û', 'ü', 'œ']+['à', 'á', 'â', 'é', 'í', 'ñ', 'ó', 'ô', 'ú', 'ŋ', 'ɐ', 'ɔ', 'ə', 'ɛ', 'ɡ', 'ɪ', 'ɰ', 'ɲ', 'ɾ', 'ʃ', 'ʊ', 'ʒ', 'ʔ', 'ː']\n",
    "alpha = np.unique(alpha)"
   ]
  },
  {
   "cell_type": "code",
   "execution_count": 4,
   "id": "8a44f8a5",
   "metadata": {},
   "outputs": [
    {
     "data": {
      "text/plain": [
       "['en-1.txt',\n",
       " 'en-2.txt',\n",
       " 'en-3.txt',\n",
       " 'en-4.txt',\n",
       " 'en-5.txt',\n",
       " 'fr-10.txt',\n",
       " 'fr-6.txt',\n",
       " 'fr-7.txt',\n",
       " 'fr-8.txt',\n",
       " 'fr-9.txt',\n",
       " 'id-11.txt',\n",
       " 'id-12.txt',\n",
       " 'id-13.txt',\n",
       " 'id-14.txt',\n",
       " 'id-15.txt',\n",
       " 'tl-16.txt',\n",
       " 'tl-17.txt',\n",
       " 'tl-18.txt',\n",
       " 'tl-19.txt',\n",
       " 'tl-20.txt']"
      ]
     },
     "execution_count": 4,
     "metadata": {},
     "output_type": "execute_result"
    }
   ],
   "source": [
    "train_txt_list"
   ]
  },
  {
   "cell_type": "code",
   "execution_count": 5,
   "id": "80e22046",
   "metadata": {},
   "outputs": [],
   "source": [
    "def get_alpha_count(ty, txt_name):\n",
    "    with open('./lang/'+ty+'/' +txt_name, 'r', encoding = 'utf-8') as f:\n",
    "        text = f.read().lower()\n",
    "\n",
    "    \n",
    "    target = txt_name[:2]\n",
    "\n",
    "    count_list = []\n",
    "    for a in alpha:\n",
    "        count_list.append(text.count(a))\n",
    "    count_list = list(map(lambda x : x/(sum(count_list)), count_list))\n",
    "    return target, count_list\n"
   ]
  },
  {
   "cell_type": "code",
   "execution_count": 6,
   "id": "6b79e8ea",
   "metadata": {},
   "outputs": [],
   "source": [
    "train_x, train_y = [],[]\n",
    "for i in range(len(train_txt_list)):\n",
    "    target, count_list = get_alpha_count('train',train_txt_list[i])\n",
    "    train_x.append(count_list)\n",
    "    train_y.append(target)"
   ]
  },
  {
   "cell_type": "code",
   "execution_count": 7,
   "id": "2682e5fa",
   "metadata": {},
   "outputs": [],
   "source": [
    "test_x, test_y = [],[]\n",
    "for i in range(len(test_txt_list)):\n",
    "    target, count_list = get_alpha_count('test',test_txt_list[i])\n",
    "    test_x.append(count_list)\n",
    "    test_y.append(target)"
   ]
  },
  {
   "cell_type": "code",
   "execution_count": 8,
   "id": "0a138198",
   "metadata": {},
   "outputs": [
    {
     "data": {
      "text/plain": [
       "(20, 20)"
      ]
     },
     "execution_count": 8,
     "metadata": {},
     "output_type": "execute_result"
    }
   ],
   "source": [
    "len(train_x), len(train_y)"
   ]
  },
  {
   "cell_type": "code",
   "execution_count": 9,
   "id": "406da971",
   "metadata": {},
   "outputs": [
    {
     "data": {
      "text/plain": [
       "(8, 8)"
      ]
     },
     "execution_count": 9,
     "metadata": {},
     "output_type": "execute_result"
    }
   ],
   "source": [
    "len(test_x), len(test_y)"
   ]
  },
  {
   "cell_type": "code",
   "execution_count": 10,
   "id": "b53afde5",
   "metadata": {},
   "outputs": [
    {
     "name": "stdout",
     "output_type": "stream",
     "text": [
      "1.0\n",
      "1.0\n"
     ]
    }
   ],
   "source": [
    "from sklearn.ensemble import RandomForestClassifier\n",
    "rf = RandomForestClassifier(max_depth=5,\n",
    "                            min_samples_split=3,\n",
    "                            random_state= 493\n",
    "                           )\n",
    "\n",
    "rf.fit(train_x, train_y)\n",
    "print(rf.score(train_x, train_y))\n",
    "print(rf.score(test_x, test_y))"
   ]
  },
  {
   "cell_type": "code",
   "execution_count": 11,
   "id": "09653375",
   "metadata": {},
   "outputs": [
    {
     "name": "stderr",
     "output_type": "stream",
     "text": [
      "C:\\Users\\jhs85\\anaconda3\\lib\\site-packages\\sklearn\\semi_supervised\\_label_propagation.py:259: FutureWarning: elementwise comparison failed; returning scalar instead, but in the future will perform elementwise comparison\n",
      "  classes = classes[classes != -1]\n",
      "C:\\Users\\jhs85\\anaconda3\\lib\\site-packages\\sklearn\\semi_supervised\\_label_propagation.py:273: FutureWarning: elementwise comparison failed; returning scalar instead, but in the future will perform elementwise comparison\n",
      "  unlabeled = y == -1\n",
      "C:\\Users\\jhs85\\anaconda3\\lib\\site-packages\\sklearn\\semi_supervised\\_label_propagation.py:259: FutureWarning: elementwise comparison failed; returning scalar instead, but in the future will perform elementwise comparison\n",
      "  classes = classes[classes != -1]\n",
      "C:\\Users\\jhs85\\anaconda3\\lib\\site-packages\\sklearn\\semi_supervised\\_label_propagation.py:273: FutureWarning: elementwise comparison failed; returning scalar instead, but in the future will perform elementwise comparison\n",
      "  unlabeled = y == -1\n",
      "C:\\Users\\jhs85\\anaconda3\\lib\\site-packages\\sklearn\\neural_network\\_multilayer_perceptron.py:692: ConvergenceWarning: Stochastic Optimizer: Maximum iterations (200) reached and the optimization hasn't converged yet.\n",
      "  warnings.warn(\n",
      "C:\\Users\\jhs85\\anaconda3\\lib\\site-packages\\sklearn\\discriminant_analysis.py:878: UserWarning: Variables are collinear\n",
      "  warnings.warn(\"Variables are collinear\")\n"
     ]
    }
   ],
   "source": [
    "from sklearn.utils import all_estimators\n",
    "estimators =  all_estimators('classifier')\n",
    "scores = []\n",
    "\n",
    "for name, estimator in estimators:\n",
    "    try:\n",
    "        model = estimator()\n",
    "        model.fit(train_x, train_y)\n",
    "        scores.append((name, np.round(model.score(test_x, test_y),3)))\n",
    "    except:\n",
    "        pass"
   ]
  },
  {
   "cell_type": "code",
   "execution_count": 12,
   "id": "5776f3ef",
   "metadata": {},
   "outputs": [
    {
     "data": {
      "text/plain": [
       "[('AdaBoostClassifier', 0.75),\n",
       " ('BaggingClassifier', 1.0),\n",
       " ('BernoulliNB', 0.375),\n",
       " ('CalibratedClassifierCV', 0.875),\n",
       " ('CategoricalNB', 0.25),\n",
       " ('ComplementNB', 0.875),\n",
       " ('DecisionTreeClassifier', 0.875),\n",
       " ('DummyClassifier', 0.25),\n",
       " ('ExtraTreeClassifier', 0.5),\n",
       " ('ExtraTreesClassifier', 1.0),\n",
       " ('GaussianNB', 0.625),\n",
       " ('GaussianProcessClassifier', 0.75),\n",
       " ('GradientBoostingClassifier', 1.0),\n",
       " ('HistGradientBoostingClassifier', 0.25),\n",
       " ('KNeighborsClassifier', 0.75),\n",
       " ('LinearDiscriminantAnalysis', 0.75),\n",
       " ('LinearSVC', 0.75),\n",
       " ('LogisticRegression', 0.75),\n",
       " ('LogisticRegressionCV', 1.0),\n",
       " ('MLPClassifier', 0.875),\n",
       " ('MultinomialNB', 0.875),\n",
       " ('NearestCentroid', 1.0),\n",
       " ('NuSVC', 1.0),\n",
       " ('PassiveAggressiveClassifier', 0.25),\n",
       " ('Perceptron', 0.625),\n",
       " ('QuadraticDiscriminantAnalysis', 0.375),\n",
       " ('RadiusNeighborsClassifier', 0.25),\n",
       " ('RandomForestClassifier', 1.0),\n",
       " ('RidgeClassifier', 0.75),\n",
       " ('RidgeClassifierCV', 0.875),\n",
       " ('SGDClassifier', 0.25),\n",
       " ('SVC', 1.0)]"
      ]
     },
     "execution_count": 12,
     "metadata": {},
     "output_type": "execute_result"
    }
   ],
   "source": [
    "scores"
   ]
  },
  {
   "cell_type": "code",
   "execution_count": null,
   "id": "067f7a6c",
   "metadata": {},
   "outputs": [],
   "source": []
  }
 ],
 "metadata": {
  "kernelspec": {
   "display_name": "Python 3 (ipykernel)",
   "language": "python",
   "name": "python3"
  },
  "language_info": {
   "codemirror_mode": {
    "name": "ipython",
    "version": 3
   },
   "file_extension": ".py",
   "mimetype": "text/x-python",
   "name": "python",
   "nbconvert_exporter": "python",
   "pygments_lexer": "ipython3",
   "version": "3.9.12"
  }
 },
 "nbformat": 4,
 "nbformat_minor": 5
}
