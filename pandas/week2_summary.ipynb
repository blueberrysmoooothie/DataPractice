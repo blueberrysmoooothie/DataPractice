{
 "cells": [
  {
   "cell_type": "markdown",
   "id": "4e472e2d",
   "metadata": {},
   "source": [
    "### Week2 Pandas"
   ]
  },
  {
   "cell_type": "code",
   "execution_count": 1,
   "id": "5194fb3f",
   "metadata": {},
   "outputs": [],
   "source": [
    "import pandas as pd\n",
    "import numpy as np"
   ]
  },
  {
   "cell_type": "markdown",
   "id": "76a69e33",
   "metadata": {},
   "source": [
    "##### pandas.Series"
   ]
  },
  {
   "cell_type": "code",
   "execution_count": 2,
   "id": "61ccaa56",
   "metadata": {},
   "outputs": [
    {
     "data": {
      "text/plain": [
       "a    0.546601\n",
       "b    1.112190\n",
       "c   -1.421912\n",
       "d   -0.189116\n",
       "e   -1.450768\n",
       "f    1.599249\n",
       "g   -0.739297\n",
       "h   -0.007186\n",
       "i   -1.174957\n",
       "j    0.017067\n",
       "dtype: float64"
      ]
     },
     "execution_count": 2,
     "metadata": {},
     "output_type": "execute_result"
    }
   ],
   "source": [
    "sr = pd.Series(np.random.randn(10), index = list('abcdefghij'))\n",
    "sr"
   ]
  },
  {
   "cell_type": "code",
   "execution_count": 3,
   "id": "de241bdb",
   "metadata": {},
   "outputs": [
    {
     "data": {
      "text/plain": [
       "pandas.core.series.Series"
      ]
     },
     "execution_count": 3,
     "metadata": {},
     "output_type": "execute_result"
    }
   ],
   "source": [
    "type(sr)"
   ]
  },
  {
   "cell_type": "code",
   "execution_count": 4,
   "id": "c7983af1",
   "metadata": {},
   "outputs": [
    {
     "name": "stdout",
     "output_type": "stream",
     "text": [
      "\n",
      "Series.type \n",
      ":<class 'pandas.core.series.Series'>\n",
      "\n",
      "Series.index\n",
      ":Index(['a', 'b', 'c', 'd', 'e', 'f', 'g', 'h', 'i', 'j'], dtype='object')\n",
      "\n",
      "Series.index[2]\n",
      ":c\n",
      "\n",
      "Series.values\n",
      ":[ 0.54660126  1.11218969 -1.42191171 -0.18911608 -1.45076806  1.59924881\n",
      " -0.73929696 -0.00718621 -1.1749569   0.01706707]\n",
      "\n",
      "\n",
      "Series[sr.index[2]]\n",
      ":-1.4219117130964694\n",
      "\n",
      "\n"
     ]
    }
   ],
   "source": [
    "print(f'''\n",
    "Series.type \n",
    ":{type(sr)}\n",
    "\n",
    "Series.index\n",
    ":{sr.index}\n",
    "\n",
    "Series.index[2]\n",
    ":{sr.index[2]}\n",
    "\n",
    "Series.values\n",
    ":{sr.values}\n",
    "\n",
    "\n",
    "Series[sr.index[2]]\n",
    ":{sr[sr.index[2]]}\n",
    "\n",
    "''')"
   ]
  },
  {
   "cell_type": "code",
   "execution_count": 5,
   "id": "ce2fa71b",
   "metadata": {},
   "outputs": [
    {
     "data": {
      "text/plain": [
       "0    291032\n",
       "1      3.34\n",
       "2        df\n",
       "3      True\n",
       "4        19\n",
       "dtype: object"
      ]
     },
     "execution_count": 5,
     "metadata": {},
     "output_type": "execute_result"
    }
   ],
   "source": [
    "li = ['291032', 3.34, 'df', True, 19]\n",
    "pd.Series(li)"
   ]
  },
  {
   "cell_type": "markdown",
   "id": "75f491c5",
   "metadata": {},
   "source": [
    "##### pandas.DataFrame"
   ]
  },
  {
   "cell_type": "code",
   "execution_count": 6,
   "id": "443b1c9d",
   "metadata": {},
   "outputs": [
    {
     "data": {
      "text/html": [
       "<div>\n",
       "<style scoped>\n",
       "    .dataframe tbody tr th:only-of-type {\n",
       "        vertical-align: middle;\n",
       "    }\n",
       "\n",
       "    .dataframe tbody tr th {\n",
       "        vertical-align: top;\n",
       "    }\n",
       "\n",
       "    .dataframe thead th {\n",
       "        text-align: right;\n",
       "    }\n",
       "</style>\n",
       "<table border=\"1\" class=\"dataframe\">\n",
       "  <thead>\n",
       "    <tr style=\"text-align: right;\">\n",
       "      <th></th>\n",
       "      <th>A</th>\n",
       "      <th>B</th>\n",
       "      <th>C</th>\n",
       "      <th>D</th>\n",
       "      <th>E</th>\n",
       "    </tr>\n",
       "  </thead>\n",
       "  <tbody>\n",
       "    <tr>\n",
       "      <th>0</th>\n",
       "      <td>0.399884</td>\n",
       "      <td>0.744170</td>\n",
       "      <td>0.928760</td>\n",
       "      <td>-0.706435</td>\n",
       "      <td>0.213507</td>\n",
       "    </tr>\n",
       "    <tr>\n",
       "      <th>1</th>\n",
       "      <td>1.636950</td>\n",
       "      <td>0.179815</td>\n",
       "      <td>0.404065</td>\n",
       "      <td>-0.552845</td>\n",
       "      <td>0.425256</td>\n",
       "    </tr>\n",
       "    <tr>\n",
       "      <th>2</th>\n",
       "      <td>0.349904</td>\n",
       "      <td>-1.681212</td>\n",
       "      <td>1.644946</td>\n",
       "      <td>0.566041</td>\n",
       "      <td>0.055192</td>\n",
       "    </tr>\n",
       "    <tr>\n",
       "      <th>3</th>\n",
       "      <td>-1.499696</td>\n",
       "      <td>-0.710046</td>\n",
       "      <td>0.357840</td>\n",
       "      <td>-0.217726</td>\n",
       "      <td>0.728887</td>\n",
       "    </tr>\n",
       "  </tbody>\n",
       "</table>\n",
       "</div>"
      ],
      "text/plain": [
       "          A         B         C         D         E\n",
       "0  0.399884  0.744170  0.928760 -0.706435  0.213507\n",
       "1  1.636950  0.179815  0.404065 -0.552845  0.425256\n",
       "2  0.349904 -1.681212  1.644946  0.566041  0.055192\n",
       "3 -1.499696 -0.710046  0.357840 -0.217726  0.728887"
      ]
     },
     "execution_count": 6,
     "metadata": {},
     "output_type": "execute_result"
    }
   ],
   "source": [
    "df = pd.DataFrame(np.array(np.random.randn(20)).reshape(4,5),\n",
    "                 columns = list('ABCDE'))\n",
    "df"
   ]
  },
  {
   "cell_type": "code",
   "execution_count": 7,
   "id": "1f27bb7d",
   "metadata": {},
   "outputs": [
    {
     "name": "stdout",
     "output_type": "stream",
     "text": [
      "\n",
      "DataFrame.type \n",
      ":<class 'pandas.core.frame.DataFrame'>\n",
      "\n",
      "DataFrame.index\n",
      ":RangeIndex(start=0, stop=4, step=1)\n",
      "\n",
      "DataFrame.index[2]\n",
      ":2\n",
      "\n",
      "DataFrame.columns\n",
      ":Index(['A', 'B', 'C', 'D', 'E'], dtype='object')\n",
      "\n",
      "DataFrame.values\n",
      ":[[ 0.39988398  0.74416971  0.92876035 -0.70643473  0.21350671]\n",
      " [ 1.6369502   0.17981496  0.40406488 -0.55284498  0.42525566]\n",
      " [ 0.34990445 -1.68121185  1.64494591  0.56604058  0.05519162]\n",
      " [-1.49969643 -0.71004558  0.35784036 -0.21772559  0.72888709]]\n",
      "\n",
      "\n",
      "Series[sr.index[2]]\n",
      ":-1.4219117130964694\n",
      "\n",
      "\n"
     ]
    }
   ],
   "source": [
    "print(f'''\n",
    "DataFrame.type \n",
    ":{type(df)}\n",
    "\n",
    "DataFrame.index\n",
    ":{df.index}\n",
    "\n",
    "DataFrame.index[2]\n",
    ":{df.index[2]}\n",
    "\n",
    "DataFrame.columns\n",
    ":{df.columns}\n",
    "\n",
    "DataFrame.values\n",
    ":{df.values}\n",
    "\n",
    "\n",
    "Series[sr.index[2]]\n",
    ":{sr[sr.index[2]]}\n",
    "\n",
    "''')"
   ]
  },
  {
   "cell_type": "markdown",
   "id": "54488d05",
   "metadata": {},
   "source": [
    "drop row/ column in df"
   ]
  },
  {
   "cell_type": "code",
   "execution_count": 8,
   "id": "68975876",
   "metadata": {},
   "outputs": [
    {
     "data": {
      "text/html": [
       "<div>\n",
       "<style scoped>\n",
       "    .dataframe tbody tr th:only-of-type {\n",
       "        vertical-align: middle;\n",
       "    }\n",
       "\n",
       "    .dataframe tbody tr th {\n",
       "        vertical-align: top;\n",
       "    }\n",
       "\n",
       "    .dataframe thead th {\n",
       "        text-align: right;\n",
       "    }\n",
       "</style>\n",
       "<table border=\"1\" class=\"dataframe\">\n",
       "  <thead>\n",
       "    <tr style=\"text-align: right;\">\n",
       "      <th></th>\n",
       "      <th>A</th>\n",
       "      <th>B</th>\n",
       "      <th>C</th>\n",
       "      <th>D</th>\n",
       "      <th>E</th>\n",
       "    </tr>\n",
       "  </thead>\n",
       "  <tbody>\n",
       "    <tr>\n",
       "      <th>1</th>\n",
       "      <td>1.636950</td>\n",
       "      <td>0.179815</td>\n",
       "      <td>0.404065</td>\n",
       "      <td>-0.552845</td>\n",
       "      <td>0.425256</td>\n",
       "    </tr>\n",
       "    <tr>\n",
       "      <th>2</th>\n",
       "      <td>0.349904</td>\n",
       "      <td>-1.681212</td>\n",
       "      <td>1.644946</td>\n",
       "      <td>0.566041</td>\n",
       "      <td>0.055192</td>\n",
       "    </tr>\n",
       "    <tr>\n",
       "      <th>3</th>\n",
       "      <td>-1.499696</td>\n",
       "      <td>-0.710046</td>\n",
       "      <td>0.357840</td>\n",
       "      <td>-0.217726</td>\n",
       "      <td>0.728887</td>\n",
       "    </tr>\n",
       "  </tbody>\n",
       "</table>\n",
       "</div>"
      ],
      "text/plain": [
       "          A         B         C         D         E\n",
       "1  1.636950  0.179815  0.404065 -0.552845  0.425256\n",
       "2  0.349904 -1.681212  1.644946  0.566041  0.055192\n",
       "3 -1.499696 -0.710046  0.357840 -0.217726  0.728887"
      ]
     },
     "execution_count": 8,
     "metadata": {},
     "output_type": "execute_result"
    }
   ],
   "source": [
    "df.drop(0)"
   ]
  },
  {
   "cell_type": "code",
   "execution_count": 9,
   "id": "9649a4a7",
   "metadata": {},
   "outputs": [
    {
     "data": {
      "text/html": [
       "<div>\n",
       "<style scoped>\n",
       "    .dataframe tbody tr th:only-of-type {\n",
       "        vertical-align: middle;\n",
       "    }\n",
       "\n",
       "    .dataframe tbody tr th {\n",
       "        vertical-align: top;\n",
       "    }\n",
       "\n",
       "    .dataframe thead th {\n",
       "        text-align: right;\n",
       "    }\n",
       "</style>\n",
       "<table border=\"1\" class=\"dataframe\">\n",
       "  <thead>\n",
       "    <tr style=\"text-align: right;\">\n",
       "      <th></th>\n",
       "      <th>B</th>\n",
       "      <th>C</th>\n",
       "      <th>D</th>\n",
       "      <th>E</th>\n",
       "    </tr>\n",
       "  </thead>\n",
       "  <tbody>\n",
       "    <tr>\n",
       "      <th>0</th>\n",
       "      <td>0.744170</td>\n",
       "      <td>0.928760</td>\n",
       "      <td>-0.706435</td>\n",
       "      <td>0.213507</td>\n",
       "    </tr>\n",
       "    <tr>\n",
       "      <th>1</th>\n",
       "      <td>0.179815</td>\n",
       "      <td>0.404065</td>\n",
       "      <td>-0.552845</td>\n",
       "      <td>0.425256</td>\n",
       "    </tr>\n",
       "    <tr>\n",
       "      <th>2</th>\n",
       "      <td>-1.681212</td>\n",
       "      <td>1.644946</td>\n",
       "      <td>0.566041</td>\n",
       "      <td>0.055192</td>\n",
       "    </tr>\n",
       "    <tr>\n",
       "      <th>3</th>\n",
       "      <td>-0.710046</td>\n",
       "      <td>0.357840</td>\n",
       "      <td>-0.217726</td>\n",
       "      <td>0.728887</td>\n",
       "    </tr>\n",
       "  </tbody>\n",
       "</table>\n",
       "</div>"
      ],
      "text/plain": [
       "          B         C         D         E\n",
       "0  0.744170  0.928760 -0.706435  0.213507\n",
       "1  0.179815  0.404065 -0.552845  0.425256\n",
       "2 -1.681212  1.644946  0.566041  0.055192\n",
       "3 -0.710046  0.357840 -0.217726  0.728887"
      ]
     },
     "execution_count": 9,
     "metadata": {},
     "output_type": "execute_result"
    }
   ],
   "source": [
    "df.drop('A', axis = 1)"
   ]
  },
  {
   "cell_type": "markdown",
   "id": "b30c1275",
   "metadata": {},
   "source": [
    "indexing row/ column in df"
   ]
  },
  {
   "cell_type": "code",
   "execution_count": 10,
   "id": "c5291110",
   "metadata": {},
   "outputs": [
    {
     "data": {
      "text/html": [
       "<div>\n",
       "<style scoped>\n",
       "    .dataframe tbody tr th:only-of-type {\n",
       "        vertical-align: middle;\n",
       "    }\n",
       "\n",
       "    .dataframe tbody tr th {\n",
       "        vertical-align: top;\n",
       "    }\n",
       "\n",
       "    .dataframe thead th {\n",
       "        text-align: right;\n",
       "    }\n",
       "</style>\n",
       "<table border=\"1\" class=\"dataframe\">\n",
       "  <thead>\n",
       "    <tr style=\"text-align: right;\">\n",
       "      <th></th>\n",
       "      <th>A</th>\n",
       "      <th>B</th>\n",
       "      <th>C</th>\n",
       "      <th>D</th>\n",
       "      <th>E</th>\n",
       "    </tr>\n",
       "  </thead>\n",
       "  <tbody>\n",
       "    <tr>\n",
       "      <th>2</th>\n",
       "      <td>1.636950</td>\n",
       "      <td>0.179815</td>\n",
       "      <td>0.404065</td>\n",
       "      <td>-0.552845</td>\n",
       "      <td>0.425256</td>\n",
       "    </tr>\n",
       "    <tr>\n",
       "      <th>3</th>\n",
       "      <td>0.349904</td>\n",
       "      <td>-1.681212</td>\n",
       "      <td>1.644946</td>\n",
       "      <td>0.566041</td>\n",
       "      <td>0.055192</td>\n",
       "    </tr>\n",
       "    <tr>\n",
       "      <th>4</th>\n",
       "      <td>-1.499696</td>\n",
       "      <td>-0.710046</td>\n",
       "      <td>0.357840</td>\n",
       "      <td>-0.217726</td>\n",
       "      <td>0.728887</td>\n",
       "    </tr>\n",
       "  </tbody>\n",
       "</table>\n",
       "</div>"
      ],
      "text/plain": [
       "          A         B         C         D         E\n",
       "2  1.636950  0.179815  0.404065 -0.552845  0.425256\n",
       "3  0.349904 -1.681212  1.644946  0.566041  0.055192\n",
       "4 -1.499696 -0.710046  0.357840 -0.217726  0.728887"
      ]
     },
     "execution_count": 10,
     "metadata": {},
     "output_type": "execute_result"
    }
   ],
   "source": [
    "df.index = range(1,5)\n",
    "df.loc[2:]"
   ]
  },
  {
   "cell_type": "code",
   "execution_count": 11,
   "id": "be093a5c",
   "metadata": {},
   "outputs": [
    {
     "data": {
      "text/html": [
       "<div>\n",
       "<style scoped>\n",
       "    .dataframe tbody tr th:only-of-type {\n",
       "        vertical-align: middle;\n",
       "    }\n",
       "\n",
       "    .dataframe tbody tr th {\n",
       "        vertical-align: top;\n",
       "    }\n",
       "\n",
       "    .dataframe thead th {\n",
       "        text-align: right;\n",
       "    }\n",
       "</style>\n",
       "<table border=\"1\" class=\"dataframe\">\n",
       "  <thead>\n",
       "    <tr style=\"text-align: right;\">\n",
       "      <th></th>\n",
       "      <th>A</th>\n",
       "      <th>B</th>\n",
       "      <th>C</th>\n",
       "      <th>D</th>\n",
       "      <th>E</th>\n",
       "    </tr>\n",
       "  </thead>\n",
       "  <tbody>\n",
       "    <tr>\n",
       "      <th>3</th>\n",
       "      <td>0.349904</td>\n",
       "      <td>-1.681212</td>\n",
       "      <td>1.644946</td>\n",
       "      <td>0.566041</td>\n",
       "      <td>0.055192</td>\n",
       "    </tr>\n",
       "    <tr>\n",
       "      <th>4</th>\n",
       "      <td>-1.499696</td>\n",
       "      <td>-0.710046</td>\n",
       "      <td>0.357840</td>\n",
       "      <td>-0.217726</td>\n",
       "      <td>0.728887</td>\n",
       "    </tr>\n",
       "  </tbody>\n",
       "</table>\n",
       "</div>"
      ],
      "text/plain": [
       "          A         B         C         D         E\n",
       "3  0.349904 -1.681212  1.644946  0.566041  0.055192\n",
       "4 -1.499696 -0.710046  0.357840 -0.217726  0.728887"
      ]
     },
     "execution_count": 11,
     "metadata": {},
     "output_type": "execute_result"
    }
   ],
   "source": [
    "df.iloc[2:]"
   ]
  },
  {
   "cell_type": "code",
   "execution_count": 12,
   "id": "76ee907e",
   "metadata": {},
   "outputs": [
    {
     "data": {
      "text/html": [
       "<div>\n",
       "<style scoped>\n",
       "    .dataframe tbody tr th:only-of-type {\n",
       "        vertical-align: middle;\n",
       "    }\n",
       "\n",
       "    .dataframe tbody tr th {\n",
       "        vertical-align: top;\n",
       "    }\n",
       "\n",
       "    .dataframe thead th {\n",
       "        text-align: right;\n",
       "    }\n",
       "</style>\n",
       "<table border=\"1\" class=\"dataframe\">\n",
       "  <thead>\n",
       "    <tr style=\"text-align: right;\">\n",
       "      <th></th>\n",
       "      <th>A</th>\n",
       "      <th>C</th>\n",
       "    </tr>\n",
       "  </thead>\n",
       "  <tbody>\n",
       "    <tr>\n",
       "      <th>2</th>\n",
       "      <td>1.636950</td>\n",
       "      <td>0.404065</td>\n",
       "    </tr>\n",
       "    <tr>\n",
       "      <th>3</th>\n",
       "      <td>0.349904</td>\n",
       "      <td>1.644946</td>\n",
       "    </tr>\n",
       "    <tr>\n",
       "      <th>4</th>\n",
       "      <td>-1.499696</td>\n",
       "      <td>0.357840</td>\n",
       "    </tr>\n",
       "  </tbody>\n",
       "</table>\n",
       "</div>"
      ],
      "text/plain": [
       "          A         C\n",
       "2  1.636950  0.404065\n",
       "3  0.349904  1.644946\n",
       "4 -1.499696  0.357840"
      ]
     },
     "execution_count": 12,
     "metadata": {},
     "output_type": "execute_result"
    }
   ],
   "source": [
    "df.loc[2:,['A',\"C\"]]"
   ]
  },
  {
   "cell_type": "code",
   "execution_count": 13,
   "id": "fed84e8b",
   "metadata": {},
   "outputs": [
    {
     "data": {
      "text/html": [
       "<div>\n",
       "<style scoped>\n",
       "    .dataframe tbody tr th:only-of-type {\n",
       "        vertical-align: middle;\n",
       "    }\n",
       "\n",
       "    .dataframe tbody tr th {\n",
       "        vertical-align: top;\n",
       "    }\n",
       "\n",
       "    .dataframe thead th {\n",
       "        text-align: right;\n",
       "    }\n",
       "</style>\n",
       "<table border=\"1\" class=\"dataframe\">\n",
       "  <thead>\n",
       "    <tr style=\"text-align: right;\">\n",
       "      <th></th>\n",
       "      <th>C</th>\n",
       "      <th>D</th>\n",
       "      <th>E</th>\n",
       "    </tr>\n",
       "  </thead>\n",
       "  <tbody>\n",
       "    <tr>\n",
       "      <th>3</th>\n",
       "      <td>1.644946</td>\n",
       "      <td>0.566041</td>\n",
       "      <td>0.055192</td>\n",
       "    </tr>\n",
       "    <tr>\n",
       "      <th>4</th>\n",
       "      <td>0.357840</td>\n",
       "      <td>-0.217726</td>\n",
       "      <td>0.728887</td>\n",
       "    </tr>\n",
       "  </tbody>\n",
       "</table>\n",
       "</div>"
      ],
      "text/plain": [
       "          C         D         E\n",
       "3  1.644946  0.566041  0.055192\n",
       "4  0.357840 -0.217726  0.728887"
      ]
     },
     "execution_count": 13,
     "metadata": {},
     "output_type": "execute_result"
    }
   ],
   "source": [
    "df.iloc[2:,2:]"
   ]
  },
  {
   "cell_type": "code",
   "execution_count": 14,
   "id": "c3c379fd",
   "metadata": {},
   "outputs": [
    {
     "data": {
      "text/html": [
       "<div>\n",
       "<style scoped>\n",
       "    .dataframe tbody tr th:only-of-type {\n",
       "        vertical-align: middle;\n",
       "    }\n",
       "\n",
       "    .dataframe tbody tr th {\n",
       "        vertical-align: top;\n",
       "    }\n",
       "\n",
       "    .dataframe thead th {\n",
       "        text-align: right;\n",
       "    }\n",
       "</style>\n",
       "<table border=\"1\" class=\"dataframe\">\n",
       "  <thead>\n",
       "    <tr style=\"text-align: right;\">\n",
       "      <th></th>\n",
       "      <th>A</th>\n",
       "      <th>B</th>\n",
       "      <th>C</th>\n",
       "      <th>D</th>\n",
       "      <th>E</th>\n",
       "    </tr>\n",
       "  </thead>\n",
       "  <tbody>\n",
       "    <tr>\n",
       "      <th>1</th>\n",
       "      <td>0.399884</td>\n",
       "      <td>0.744170</td>\n",
       "      <td>0.928760</td>\n",
       "      <td>-0.706435</td>\n",
       "      <td>0.213507</td>\n",
       "    </tr>\n",
       "    <tr>\n",
       "      <th>2</th>\n",
       "      <td>1.636950</td>\n",
       "      <td>0.179815</td>\n",
       "      <td>0.404065</td>\n",
       "      <td>-0.552845</td>\n",
       "      <td>0.425256</td>\n",
       "    </tr>\n",
       "    <tr>\n",
       "      <th>3</th>\n",
       "      <td>0.349904</td>\n",
       "      <td>-1.681212</td>\n",
       "      <td>1.644946</td>\n",
       "      <td>0.566041</td>\n",
       "      <td>0.055192</td>\n",
       "    </tr>\n",
       "    <tr>\n",
       "      <th>4</th>\n",
       "      <td>-1.499696</td>\n",
       "      <td>-0.710046</td>\n",
       "      <td>0.357840</td>\n",
       "      <td>-0.217726</td>\n",
       "      <td>0.728887</td>\n",
       "    </tr>\n",
       "    <tr>\n",
       "      <th>5</th>\n",
       "      <td>0.749281</td>\n",
       "      <td>-1.009259</td>\n",
       "      <td>-0.037939</td>\n",
       "      <td>-0.205304</td>\n",
       "      <td>1.385346</td>\n",
       "    </tr>\n",
       "  </tbody>\n",
       "</table>\n",
       "</div>"
      ],
      "text/plain": [
       "          A         B         C         D         E\n",
       "1  0.399884  0.744170  0.928760 -0.706435  0.213507\n",
       "2  1.636950  0.179815  0.404065 -0.552845  0.425256\n",
       "3  0.349904 -1.681212  1.644946  0.566041  0.055192\n",
       "4 -1.499696 -0.710046  0.357840 -0.217726  0.728887\n",
       "5  0.749281 -1.009259 -0.037939 -0.205304  1.385346"
      ]
     },
     "execution_count": 14,
     "metadata": {},
     "output_type": "execute_result"
    }
   ],
   "source": [
    "df.loc[5] = np.random.randn(5)\n",
    "df"
   ]
  },
  {
   "cell_type": "markdown",
   "id": "08ac12f4",
   "metadata": {},
   "source": [
    "setting index in df"
   ]
  },
  {
   "cell_type": "code",
   "execution_count": 15,
   "id": "6073a3eb",
   "metadata": {},
   "outputs": [
    {
     "data": {
      "text/html": [
       "<div>\n",
       "<style scoped>\n",
       "    .dataframe tbody tr th:only-of-type {\n",
       "        vertical-align: middle;\n",
       "    }\n",
       "\n",
       "    .dataframe tbody tr th {\n",
       "        vertical-align: top;\n",
       "    }\n",
       "\n",
       "    .dataframe thead th {\n",
       "        text-align: right;\n",
       "    }\n",
       "</style>\n",
       "<table border=\"1\" class=\"dataframe\">\n",
       "  <thead>\n",
       "    <tr style=\"text-align: right;\">\n",
       "      <th></th>\n",
       "      <th>B</th>\n",
       "      <th>C</th>\n",
       "      <th>D</th>\n",
       "      <th>E</th>\n",
       "    </tr>\n",
       "    <tr>\n",
       "      <th>A</th>\n",
       "      <th></th>\n",
       "      <th></th>\n",
       "      <th></th>\n",
       "      <th></th>\n",
       "    </tr>\n",
       "  </thead>\n",
       "  <tbody>\n",
       "    <tr>\n",
       "      <th>0.399884</th>\n",
       "      <td>0.744170</td>\n",
       "      <td>0.928760</td>\n",
       "      <td>-0.706435</td>\n",
       "      <td>0.213507</td>\n",
       "    </tr>\n",
       "    <tr>\n",
       "      <th>1.636950</th>\n",
       "      <td>0.179815</td>\n",
       "      <td>0.404065</td>\n",
       "      <td>-0.552845</td>\n",
       "      <td>0.425256</td>\n",
       "    </tr>\n",
       "    <tr>\n",
       "      <th>0.349904</th>\n",
       "      <td>-1.681212</td>\n",
       "      <td>1.644946</td>\n",
       "      <td>0.566041</td>\n",
       "      <td>0.055192</td>\n",
       "    </tr>\n",
       "    <tr>\n",
       "      <th>-1.499696</th>\n",
       "      <td>-0.710046</td>\n",
       "      <td>0.357840</td>\n",
       "      <td>-0.217726</td>\n",
       "      <td>0.728887</td>\n",
       "    </tr>\n",
       "    <tr>\n",
       "      <th>0.749281</th>\n",
       "      <td>-1.009259</td>\n",
       "      <td>-0.037939</td>\n",
       "      <td>-0.205304</td>\n",
       "      <td>1.385346</td>\n",
       "    </tr>\n",
       "  </tbody>\n",
       "</table>\n",
       "</div>"
      ],
      "text/plain": [
       "                  B         C         D         E\n",
       "A                                                \n",
       " 0.399884  0.744170  0.928760 -0.706435  0.213507\n",
       " 1.636950  0.179815  0.404065 -0.552845  0.425256\n",
       " 0.349904 -1.681212  1.644946  0.566041  0.055192\n",
       "-1.499696 -0.710046  0.357840 -0.217726  0.728887\n",
       " 0.749281 -1.009259 -0.037939 -0.205304  1.385346"
      ]
     },
     "execution_count": 15,
     "metadata": {},
     "output_type": "execute_result"
    }
   ],
   "source": [
    "df.set_index('A')"
   ]
  },
  {
   "cell_type": "code",
   "execution_count": 16,
   "id": "6df9c327",
   "metadata": {},
   "outputs": [
    {
     "data": {
      "text/html": [
       "<div>\n",
       "<style scoped>\n",
       "    .dataframe tbody tr th:only-of-type {\n",
       "        vertical-align: middle;\n",
       "    }\n",
       "\n",
       "    .dataframe tbody tr th {\n",
       "        vertical-align: top;\n",
       "    }\n",
       "\n",
       "    .dataframe thead th {\n",
       "        text-align: right;\n",
       "    }\n",
       "</style>\n",
       "<table border=\"1\" class=\"dataframe\">\n",
       "  <thead>\n",
       "    <tr style=\"text-align: right;\">\n",
       "      <th></th>\n",
       "      <th>A</th>\n",
       "      <th>B</th>\n",
       "      <th>C</th>\n",
       "      <th>D</th>\n",
       "      <th>E</th>\n",
       "    </tr>\n",
       "  </thead>\n",
       "  <tbody>\n",
       "    <tr>\n",
       "      <th>2</th>\n",
       "      <td>1.636950</td>\n",
       "      <td>0.179815</td>\n",
       "      <td>0.404065</td>\n",
       "      <td>-0.552845</td>\n",
       "      <td>0.425256</td>\n",
       "    </tr>\n",
       "    <tr>\n",
       "      <th>3</th>\n",
       "      <td>0.349904</td>\n",
       "      <td>-1.681212</td>\n",
       "      <td>1.644946</td>\n",
       "      <td>0.566041</td>\n",
       "      <td>0.055192</td>\n",
       "    </tr>\n",
       "    <tr>\n",
       "      <th>1</th>\n",
       "      <td>0.399884</td>\n",
       "      <td>0.744170</td>\n",
       "      <td>0.928760</td>\n",
       "      <td>-0.706435</td>\n",
       "      <td>0.213507</td>\n",
       "    </tr>\n",
       "    <tr>\n",
       "      <th>4</th>\n",
       "      <td>-1.499696</td>\n",
       "      <td>-0.710046</td>\n",
       "      <td>0.357840</td>\n",
       "      <td>-0.217726</td>\n",
       "      <td>0.728887</td>\n",
       "    </tr>\n",
       "    <tr>\n",
       "      <th>5</th>\n",
       "      <td>0.749281</td>\n",
       "      <td>-1.009259</td>\n",
       "      <td>-0.037939</td>\n",
       "      <td>-0.205304</td>\n",
       "      <td>1.385346</td>\n",
       "    </tr>\n",
       "  </tbody>\n",
       "</table>\n",
       "</div>"
      ],
      "text/plain": [
       "          A         B         C         D         E\n",
       "2  1.636950  0.179815  0.404065 -0.552845  0.425256\n",
       "3  0.349904 -1.681212  1.644946  0.566041  0.055192\n",
       "1  0.399884  0.744170  0.928760 -0.706435  0.213507\n",
       "4 -1.499696 -0.710046  0.357840 -0.217726  0.728887\n",
       "5  0.749281 -1.009259 -0.037939 -0.205304  1.385346"
      ]
     },
     "execution_count": 16,
     "metadata": {},
     "output_type": "execute_result"
    }
   ],
   "source": [
    "df.reindex([2,3,1,4,5])"
   ]
  },
  {
   "cell_type": "code",
   "execution_count": 17,
   "id": "fa99be60",
   "metadata": {
    "scrolled": true
   },
   "outputs": [
    {
     "data": {
      "text/html": [
       "<div>\n",
       "<style scoped>\n",
       "    .dataframe tbody tr th:only-of-type {\n",
       "        vertical-align: middle;\n",
       "    }\n",
       "\n",
       "    .dataframe tbody tr th {\n",
       "        vertical-align: top;\n",
       "    }\n",
       "\n",
       "    .dataframe thead th {\n",
       "        text-align: right;\n",
       "    }\n",
       "</style>\n",
       "<table border=\"1\" class=\"dataframe\">\n",
       "  <thead>\n",
       "    <tr style=\"text-align: right;\">\n",
       "      <th></th>\n",
       "      <th>index</th>\n",
       "      <th>A</th>\n",
       "      <th>B</th>\n",
       "      <th>C</th>\n",
       "      <th>D</th>\n",
       "      <th>E</th>\n",
       "    </tr>\n",
       "  </thead>\n",
       "  <tbody>\n",
       "    <tr>\n",
       "      <th>0</th>\n",
       "      <td>1</td>\n",
       "      <td>0.399884</td>\n",
       "      <td>0.744170</td>\n",
       "      <td>0.928760</td>\n",
       "      <td>-0.706435</td>\n",
       "      <td>0.213507</td>\n",
       "    </tr>\n",
       "    <tr>\n",
       "      <th>1</th>\n",
       "      <td>2</td>\n",
       "      <td>1.636950</td>\n",
       "      <td>0.179815</td>\n",
       "      <td>0.404065</td>\n",
       "      <td>-0.552845</td>\n",
       "      <td>0.425256</td>\n",
       "    </tr>\n",
       "    <tr>\n",
       "      <th>2</th>\n",
       "      <td>3</td>\n",
       "      <td>0.349904</td>\n",
       "      <td>-1.681212</td>\n",
       "      <td>1.644946</td>\n",
       "      <td>0.566041</td>\n",
       "      <td>0.055192</td>\n",
       "    </tr>\n",
       "    <tr>\n",
       "      <th>3</th>\n",
       "      <td>4</td>\n",
       "      <td>-1.499696</td>\n",
       "      <td>-0.710046</td>\n",
       "      <td>0.357840</td>\n",
       "      <td>-0.217726</td>\n",
       "      <td>0.728887</td>\n",
       "    </tr>\n",
       "    <tr>\n",
       "      <th>4</th>\n",
       "      <td>5</td>\n",
       "      <td>0.749281</td>\n",
       "      <td>-1.009259</td>\n",
       "      <td>-0.037939</td>\n",
       "      <td>-0.205304</td>\n",
       "      <td>1.385346</td>\n",
       "    </tr>\n",
       "  </tbody>\n",
       "</table>\n",
       "</div>"
      ],
      "text/plain": [
       "   index         A         B         C         D         E\n",
       "0      1  0.399884  0.744170  0.928760 -0.706435  0.213507\n",
       "1      2  1.636950  0.179815  0.404065 -0.552845  0.425256\n",
       "2      3  0.349904 -1.681212  1.644946  0.566041  0.055192\n",
       "3      4 -1.499696 -0.710046  0.357840 -0.217726  0.728887\n",
       "4      5  0.749281 -1.009259 -0.037939 -0.205304  1.385346"
      ]
     },
     "execution_count": 17,
     "metadata": {},
     "output_type": "execute_result"
    }
   ],
   "source": [
    "df.reset_index()"
   ]
  },
  {
   "cell_type": "code",
   "execution_count": 18,
   "id": "397141a6",
   "metadata": {},
   "outputs": [
    {
     "data": {
      "text/html": [
       "<div>\n",
       "<style scoped>\n",
       "    .dataframe tbody tr th:only-of-type {\n",
       "        vertical-align: middle;\n",
       "    }\n",
       "\n",
       "    .dataframe tbody tr th {\n",
       "        vertical-align: top;\n",
       "    }\n",
       "\n",
       "    .dataframe thead th {\n",
       "        text-align: right;\n",
       "    }\n",
       "</style>\n",
       "<table border=\"1\" class=\"dataframe\">\n",
       "  <thead>\n",
       "    <tr style=\"text-align: right;\">\n",
       "      <th></th>\n",
       "      <th>A</th>\n",
       "      <th>B</th>\n",
       "      <th>C</th>\n",
       "      <th>D</th>\n",
       "      <th>E</th>\n",
       "    </tr>\n",
       "  </thead>\n",
       "  <tbody>\n",
       "    <tr>\n",
       "      <th>1</th>\n",
       "      <td>0.399884</td>\n",
       "      <td>0.744170</td>\n",
       "      <td>0.928760</td>\n",
       "      <td>-0.706435</td>\n",
       "      <td>0.213507</td>\n",
       "    </tr>\n",
       "    <tr>\n",
       "      <th>2</th>\n",
       "      <td>1.636950</td>\n",
       "      <td>0.179815</td>\n",
       "      <td>0.404065</td>\n",
       "      <td>-0.552845</td>\n",
       "      <td>0.425256</td>\n",
       "    </tr>\n",
       "    <tr>\n",
       "      <th>3</th>\n",
       "      <td>0.349904</td>\n",
       "      <td>-1.681212</td>\n",
       "      <td>1.644946</td>\n",
       "      <td>0.566041</td>\n",
       "      <td>0.055192</td>\n",
       "    </tr>\n",
       "    <tr>\n",
       "      <th>4</th>\n",
       "      <td>-1.499696</td>\n",
       "      <td>-0.710046</td>\n",
       "      <td>0.357840</td>\n",
       "      <td>-0.217726</td>\n",
       "      <td>0.728887</td>\n",
       "    </tr>\n",
       "    <tr>\n",
       "      <th>5</th>\n",
       "      <td>0.749281</td>\n",
       "      <td>-1.009259</td>\n",
       "      <td>-0.037939</td>\n",
       "      <td>-0.205304</td>\n",
       "      <td>1.385346</td>\n",
       "    </tr>\n",
       "  </tbody>\n",
       "</table>\n",
       "</div>"
      ],
      "text/plain": [
       "          A         B         C         D         E\n",
       "1  0.399884  0.744170  0.928760 -0.706435  0.213507\n",
       "2  1.636950  0.179815  0.404065 -0.552845  0.425256\n",
       "3  0.349904 -1.681212  1.644946  0.566041  0.055192\n",
       "4 -1.499696 -0.710046  0.357840 -0.217726  0.728887\n",
       "5  0.749281 -1.009259 -0.037939 -0.205304  1.385346"
      ]
     },
     "execution_count": 18,
     "metadata": {},
     "output_type": "execute_result"
    }
   ],
   "source": [
    "df.sort_index()"
   ]
  },
  {
   "cell_type": "code",
   "execution_count": 19,
   "id": "84373c9c",
   "metadata": {},
   "outputs": [
    {
     "data": {
      "text/html": [
       "<div>\n",
       "<style scoped>\n",
       "    .dataframe tbody tr th:only-of-type {\n",
       "        vertical-align: middle;\n",
       "    }\n",
       "\n",
       "    .dataframe tbody tr th {\n",
       "        vertical-align: top;\n",
       "    }\n",
       "\n",
       "    .dataframe thead th {\n",
       "        text-align: right;\n",
       "    }\n",
       "</style>\n",
       "<table border=\"1\" class=\"dataframe\">\n",
       "  <thead>\n",
       "    <tr style=\"text-align: right;\">\n",
       "      <th></th>\n",
       "      <th>A</th>\n",
       "      <th>B</th>\n",
       "      <th>C</th>\n",
       "      <th>D</th>\n",
       "      <th>E</th>\n",
       "    </tr>\n",
       "  </thead>\n",
       "  <tbody>\n",
       "    <tr>\n",
       "      <th>4</th>\n",
       "      <td>-1.499696</td>\n",
       "      <td>-0.710046</td>\n",
       "      <td>0.357840</td>\n",
       "      <td>-0.217726</td>\n",
       "      <td>0.728887</td>\n",
       "    </tr>\n",
       "    <tr>\n",
       "      <th>2</th>\n",
       "      <td>1.636950</td>\n",
       "      <td>0.179815</td>\n",
       "      <td>0.404065</td>\n",
       "      <td>-0.552845</td>\n",
       "      <td>0.425256</td>\n",
       "    </tr>\n",
       "    <tr>\n",
       "      <th>1</th>\n",
       "      <td>0.399884</td>\n",
       "      <td>0.744170</td>\n",
       "      <td>0.928760</td>\n",
       "      <td>-0.706435</td>\n",
       "      <td>0.213507</td>\n",
       "    </tr>\n",
       "    <tr>\n",
       "      <th>3</th>\n",
       "      <td>0.349904</td>\n",
       "      <td>-1.681212</td>\n",
       "      <td>1.644946</td>\n",
       "      <td>0.566041</td>\n",
       "      <td>0.055192</td>\n",
       "    </tr>\n",
       "    <tr>\n",
       "      <th>5</th>\n",
       "      <td>0.749281</td>\n",
       "      <td>-1.009259</td>\n",
       "      <td>-0.037939</td>\n",
       "      <td>-0.205304</td>\n",
       "      <td>1.385346</td>\n",
       "    </tr>\n",
       "  </tbody>\n",
       "</table>\n",
       "</div>"
      ],
      "text/plain": [
       "          A         B         C         D         E\n",
       "4 -1.499696 -0.710046  0.357840 -0.217726  0.728887\n",
       "2  1.636950  0.179815  0.404065 -0.552845  0.425256\n",
       "1  0.399884  0.744170  0.928760 -0.706435  0.213507\n",
       "3  0.349904 -1.681212  1.644946  0.566041  0.055192\n",
       "5  0.749281 -1.009259 -0.037939 -0.205304  1.385346"
      ]
     },
     "execution_count": 19,
     "metadata": {},
     "output_type": "execute_result"
    }
   ],
   "source": [
    "df.reindex([4,2,1,3,5])"
   ]
  },
  {
   "cell_type": "markdown",
   "id": "00633b76",
   "metadata": {},
   "source": [
    "pd.Series"
   ]
  },
  {
   "cell_type": "code",
   "execution_count": 22,
   "id": "e59994ad",
   "metadata": {},
   "outputs": [
    {
     "data": {
      "text/plain": [
       "0    10\n",
       "1    20\n",
       "2    30\n",
       "3    40\n",
       "dtype: int64"
      ]
     },
     "execution_count": 22,
     "metadata": {},
     "output_type": "execute_result"
    }
   ],
   "source": [
    "import pandas as pd\n",
    "sr = pd.Series([10,20,30,40])\n",
    "sr"
   ]
  },
  {
   "cell_type": "code",
   "execution_count": 23,
   "id": "e4bc822b",
   "metadata": {},
   "outputs": [
    {
     "data": {
      "text/plain": [
       "0    15\n",
       "1    25\n",
       "2    35\n",
       "3    45\n",
       "dtype: int64"
      ]
     },
     "execution_count": 23,
     "metadata": {},
     "output_type": "execute_result"
    }
   ],
   "source": [
    "# broad casting\n",
    "sr+5"
   ]
  },
  {
   "cell_type": "code",
   "execution_count": 24,
   "id": "586bc768",
   "metadata": {},
   "outputs": [
    {
     "data": {
      "text/plain": [
       "0    20\n",
       "1    40\n",
       "2    60\n",
       "3    80\n",
       "dtype: int64"
      ]
     },
     "execution_count": 24,
     "metadata": {},
     "output_type": "execute_result"
    }
   ],
   "source": [
    "sr+sr"
   ]
  },
  {
   "cell_type": "code",
   "execution_count": 25,
   "id": "c8362ded",
   "metadata": {},
   "outputs": [
    {
     "data": {
      "text/plain": [
       "국어    190\n",
       "수학    170\n",
       "영어    160\n",
       "dtype: int64"
      ]
     },
     "execution_count": 25,
     "metadata": {},
     "output_type": "execute_result"
    }
   ],
   "source": [
    "# 인덱스 기준 연산\n",
    "student1 = pd.Series({'국어':100, '영어':80, '수학':90})\n",
    "student2 = pd.Series({'수학':80, '국어':90, '영어':80})\n",
    "student1 +student2"
   ]
  },
  {
   "cell_type": "code",
   "execution_count": 26,
   "id": "9a2c8fdd",
   "metadata": {},
   "outputs": [
    {
     "data": {
      "text/plain": [
       "국어    190.0\n",
       "수학    170.0\n",
       "영어      NaN\n",
       "dtype: float64"
      ]
     },
     "execution_count": 26,
     "metadata": {},
     "output_type": "execute_result"
    }
   ],
   "source": [
    "# 동일 인덱스가 없는 경우 연산 수행 안함\n",
    "student3 = pd.Series({'수학':80, '국어':90})\n",
    "student1 + student3"
   ]
  },
  {
   "cell_type": "markdown",
   "id": "46523202",
   "metadata": {},
   "source": [
    "기본 데이터 정보 확인"
   ]
  },
  {
   "cell_type": "code",
   "execution_count": 28,
   "id": "703dc642",
   "metadata": {},
   "outputs": [
    {
     "data": {
      "text/plain": [
       "A    0\n",
       "B    0\n",
       "C    0\n",
       "D    0\n",
       "E    0\n",
       "dtype: int64"
      ]
     },
     "execution_count": 28,
     "metadata": {},
     "output_type": "execute_result"
    }
   ],
   "source": [
    "df.isnull().sum()"
   ]
  },
  {
   "cell_type": "code",
   "execution_count": 30,
   "id": "47094eeb",
   "metadata": {},
   "outputs": [
    {
     "data": {
      "text/html": [
       "<div>\n",
       "<style scoped>\n",
       "    .dataframe tbody tr th:only-of-type {\n",
       "        vertical-align: middle;\n",
       "    }\n",
       "\n",
       "    .dataframe tbody tr th {\n",
       "        vertical-align: top;\n",
       "    }\n",
       "\n",
       "    .dataframe thead th {\n",
       "        text-align: right;\n",
       "    }\n",
       "</style>\n",
       "<table border=\"1\" class=\"dataframe\">\n",
       "  <thead>\n",
       "    <tr style=\"text-align: right;\">\n",
       "      <th></th>\n",
       "      <th>A</th>\n",
       "      <th>B</th>\n",
       "      <th>C</th>\n",
       "      <th>D</th>\n",
       "      <th>E</th>\n",
       "      <th>obj</th>\n",
       "    </tr>\n",
       "  </thead>\n",
       "  <tbody>\n",
       "    <tr>\n",
       "      <th>count</th>\n",
       "      <td>5.000000</td>\n",
       "      <td>5.000000</td>\n",
       "      <td>5.000000</td>\n",
       "      <td>5.000000</td>\n",
       "      <td>5.000000</td>\n",
       "      <td>5</td>\n",
       "    </tr>\n",
       "    <tr>\n",
       "      <th>unique</th>\n",
       "      <td>NaN</td>\n",
       "      <td>NaN</td>\n",
       "      <td>NaN</td>\n",
       "      <td>NaN</td>\n",
       "      <td>NaN</td>\n",
       "      <td>2</td>\n",
       "    </tr>\n",
       "    <tr>\n",
       "      <th>top</th>\n",
       "      <td>NaN</td>\n",
       "      <td>NaN</td>\n",
       "      <td>NaN</td>\n",
       "      <td>NaN</td>\n",
       "      <td>NaN</td>\n",
       "      <td>A</td>\n",
       "    </tr>\n",
       "    <tr>\n",
       "      <th>freq</th>\n",
       "      <td>NaN</td>\n",
       "      <td>NaN</td>\n",
       "      <td>NaN</td>\n",
       "      <td>NaN</td>\n",
       "      <td>NaN</td>\n",
       "      <td>3</td>\n",
       "    </tr>\n",
       "    <tr>\n",
       "      <th>mean</th>\n",
       "      <td>0.327265</td>\n",
       "      <td>-0.495306</td>\n",
       "      <td>0.659535</td>\n",
       "      <td>-0.223254</td>\n",
       "      <td>0.561637</td>\n",
       "      <td>NaN</td>\n",
       "    </tr>\n",
       "    <tr>\n",
       "      <th>std</th>\n",
       "      <td>1.144219</td>\n",
       "      <td>0.962902</td>\n",
       "      <td>0.649283</td>\n",
       "      <td>0.491282</td>\n",
       "      <td>0.525060</td>\n",
       "      <td>NaN</td>\n",
       "    </tr>\n",
       "    <tr>\n",
       "      <th>min</th>\n",
       "      <td>-1.499696</td>\n",
       "      <td>-1.681212</td>\n",
       "      <td>-0.037939</td>\n",
       "      <td>-0.706435</td>\n",
       "      <td>0.055192</td>\n",
       "      <td>NaN</td>\n",
       "    </tr>\n",
       "    <tr>\n",
       "      <th>25%</th>\n",
       "      <td>0.349904</td>\n",
       "      <td>-1.009259</td>\n",
       "      <td>0.357840</td>\n",
       "      <td>-0.552845</td>\n",
       "      <td>0.213507</td>\n",
       "      <td>NaN</td>\n",
       "    </tr>\n",
       "    <tr>\n",
       "      <th>50%</th>\n",
       "      <td>0.399884</td>\n",
       "      <td>-0.710046</td>\n",
       "      <td>0.404065</td>\n",
       "      <td>-0.217726</td>\n",
       "      <td>0.425256</td>\n",
       "      <td>NaN</td>\n",
       "    </tr>\n",
       "    <tr>\n",
       "      <th>75%</th>\n",
       "      <td>0.749281</td>\n",
       "      <td>0.179815</td>\n",
       "      <td>0.928760</td>\n",
       "      <td>-0.205304</td>\n",
       "      <td>0.728887</td>\n",
       "      <td>NaN</td>\n",
       "    </tr>\n",
       "    <tr>\n",
       "      <th>max</th>\n",
       "      <td>1.636950</td>\n",
       "      <td>0.744170</td>\n",
       "      <td>1.644946</td>\n",
       "      <td>0.566041</td>\n",
       "      <td>1.385346</td>\n",
       "      <td>NaN</td>\n",
       "    </tr>\n",
       "  </tbody>\n",
       "</table>\n",
       "</div>"
      ],
      "text/plain": [
       "               A         B         C         D         E  obj\n",
       "count   5.000000  5.000000  5.000000  5.000000  5.000000    5\n",
       "unique       NaN       NaN       NaN       NaN       NaN    2\n",
       "top          NaN       NaN       NaN       NaN       NaN    A\n",
       "freq         NaN       NaN       NaN       NaN       NaN    3\n",
       "mean    0.327265 -0.495306  0.659535 -0.223254  0.561637  NaN\n",
       "std     1.144219  0.962902  0.649283  0.491282  0.525060  NaN\n",
       "min    -1.499696 -1.681212 -0.037939 -0.706435  0.055192  NaN\n",
       "25%     0.349904 -1.009259  0.357840 -0.552845  0.213507  NaN\n",
       "50%     0.399884 -0.710046  0.404065 -0.217726  0.425256  NaN\n",
       "75%     0.749281  0.179815  0.928760 -0.205304  0.728887  NaN\n",
       "max     1.636950  0.744170  1.644946  0.566041  1.385346  NaN"
      ]
     },
     "execution_count": 30,
     "metadata": {},
     "output_type": "execute_result"
    }
   ],
   "source": [
    "df['obj'] = list('AABBA')\n",
    "df.describe(include = 'all')"
   ]
  },
  {
   "cell_type": "code",
   "execution_count": 31,
   "id": "bb566d9f",
   "metadata": {},
   "outputs": [
    {
     "name": "stdout",
     "output_type": "stream",
     "text": [
      "<class 'pandas.core.frame.DataFrame'>\n",
      "Int64Index: 5 entries, 1 to 5\n",
      "Data columns (total 6 columns):\n",
      " #   Column  Non-Null Count  Dtype  \n",
      "---  ------  --------------  -----  \n",
      " 0   A       5 non-null      float64\n",
      " 1   B       5 non-null      float64\n",
      " 2   C       5 non-null      float64\n",
      " 3   D       5 non-null      float64\n",
      " 4   E       5 non-null      float64\n",
      " 5   obj     5 non-null      object \n",
      "dtypes: float64(5), object(1)\n",
      "memory usage: 452.0+ bytes\n"
     ]
    }
   ],
   "source": [
    "df.info()"
   ]
  },
  {
   "cell_type": "code",
   "execution_count": 32,
   "id": "d0b4fd3e",
   "metadata": {},
   "outputs": [
    {
     "data": {
      "text/plain": [
       "(Index(['A', 'B', 'C', 'D', 'E', 'obj'], dtype='object'),\n",
       " Int64Index([1, 2, 3, 4, 5], dtype='int64'))"
      ]
     },
     "execution_count": 32,
     "metadata": {},
     "output_type": "execute_result"
    }
   ],
   "source": [
    "df.columns, df.index"
   ]
  },
  {
   "cell_type": "code",
   "execution_count": 33,
   "id": "1b978899",
   "metadata": {},
   "outputs": [
    {
     "data": {
      "text/plain": [
       "((5, 6), 2)"
      ]
     },
     "execution_count": 33,
     "metadata": {},
     "output_type": "execute_result"
    }
   ],
   "source": [
    "df.shape, df.ndim"
   ]
  },
  {
   "cell_type": "code",
   "execution_count": 34,
   "id": "74df3dbe",
   "metadata": {},
   "outputs": [
    {
     "data": {
      "text/plain": [
       "5"
      ]
     },
     "execution_count": 34,
     "metadata": {},
     "output_type": "execute_result"
    }
   ],
   "source": [
    "df.obj.count()"
   ]
  },
  {
   "cell_type": "code",
   "execution_count": 36,
   "id": "1fcf4ecc",
   "metadata": {},
   "outputs": [
    {
     "data": {
      "text/plain": [
       "array(['A', 'B'], dtype=object)"
      ]
     },
     "execution_count": 36,
     "metadata": {},
     "output_type": "execute_result"
    }
   ],
   "source": [
    "df.obj.unique()"
   ]
  },
  {
   "cell_type": "code",
   "execution_count": 37,
   "id": "2a75f4e0",
   "metadata": {},
   "outputs": [
    {
     "data": {
      "text/plain": [
       "A    3\n",
       "B    2\n",
       "Name: obj, dtype: int64"
      ]
     },
     "execution_count": 37,
     "metadata": {},
     "output_type": "execute_result"
    }
   ],
   "source": [
    "df.obj.value_counts()"
   ]
  },
  {
   "cell_type": "code",
   "execution_count": 38,
   "id": "56847fad",
   "metadata": {},
   "outputs": [
    {
     "data": {
      "text/plain": [
       "0"
      ]
     },
     "execution_count": 38,
     "metadata": {},
     "output_type": "execute_result"
    }
   ],
   "source": [
    "df.obj.value_counts().argmax()"
   ]
  },
  {
   "cell_type": "code",
   "execution_count": 39,
   "id": "708ad312",
   "metadata": {},
   "outputs": [
    {
     "data": {
      "text/html": [
       "<div>\n",
       "<style scoped>\n",
       "    .dataframe tbody tr th:only-of-type {\n",
       "        vertical-align: middle;\n",
       "    }\n",
       "\n",
       "    .dataframe tbody tr th {\n",
       "        vertical-align: top;\n",
       "    }\n",
       "\n",
       "    .dataframe thead th {\n",
       "        text-align: right;\n",
       "    }\n",
       "</style>\n",
       "<table border=\"1\" class=\"dataframe\">\n",
       "  <thead>\n",
       "    <tr style=\"text-align: right;\">\n",
       "      <th></th>\n",
       "      <th>A</th>\n",
       "      <th>B</th>\n",
       "      <th>C</th>\n",
       "      <th>D</th>\n",
       "      <th>E</th>\n",
       "    </tr>\n",
       "  </thead>\n",
       "  <tbody>\n",
       "    <tr>\n",
       "      <th>A</th>\n",
       "      <td>1.000000</td>\n",
       "      <td>0.254767</td>\n",
       "      <td>-0.012076</td>\n",
       "      <td>-0.200755</td>\n",
       "      <td>-0.072116</td>\n",
       "    </tr>\n",
       "    <tr>\n",
       "      <th>B</th>\n",
       "      <td>0.254767</td>\n",
       "      <td>1.000000</td>\n",
       "      <td>-0.233577</td>\n",
       "      <td>-0.934268</td>\n",
       "      <td>-0.189010</td>\n",
       "    </tr>\n",
       "    <tr>\n",
       "      <th>C</th>\n",
       "      <td>-0.012076</td>\n",
       "      <td>-0.233577</td>\n",
       "      <td>1.000000</td>\n",
       "      <td>0.562501</td>\n",
       "      <td>-0.867463</td>\n",
       "    </tr>\n",
       "    <tr>\n",
       "      <th>D</th>\n",
       "      <td>-0.200755</td>\n",
       "      <td>-0.934268</td>\n",
       "      <td>0.562501</td>\n",
       "      <td>1.000000</td>\n",
       "      <td>-0.165597</td>\n",
       "    </tr>\n",
       "    <tr>\n",
       "      <th>E</th>\n",
       "      <td>-0.072116</td>\n",
       "      <td>-0.189010</td>\n",
       "      <td>-0.867463</td>\n",
       "      <td>-0.165597</td>\n",
       "      <td>1.000000</td>\n",
       "    </tr>\n",
       "  </tbody>\n",
       "</table>\n",
       "</div>"
      ],
      "text/plain": [
       "          A         B         C         D         E\n",
       "A  1.000000  0.254767 -0.012076 -0.200755 -0.072116\n",
       "B  0.254767  1.000000 -0.233577 -0.934268 -0.189010\n",
       "C -0.012076 -0.233577  1.000000  0.562501 -0.867463\n",
       "D -0.200755 -0.934268  0.562501  1.000000 -0.165597\n",
       "E -0.072116 -0.189010 -0.867463 -0.165597  1.000000"
      ]
     },
     "execution_count": 39,
     "metadata": {},
     "output_type": "execute_result"
    }
   ],
   "source": [
    "df.corr()"
   ]
  },
  {
   "cell_type": "markdown",
   "id": "8f07d2ae",
   "metadata": {},
   "source": [
    "pd.read_csv('경로', header = None, names = column_names)"
   ]
  },
  {
   "cell_type": "markdown",
   "id": "e2850787",
   "metadata": {},
   "source": [
    "결측치 처리"
   ]
  },
  {
   "cell_type": "code",
   "execution_count": 40,
   "id": "a01e92f2",
   "metadata": {},
   "outputs": [
    {
     "data": {
      "text/html": [
       "<div>\n",
       "<style scoped>\n",
       "    .dataframe tbody tr th:only-of-type {\n",
       "        vertical-align: middle;\n",
       "    }\n",
       "\n",
       "    .dataframe tbody tr th {\n",
       "        vertical-align: top;\n",
       "    }\n",
       "\n",
       "    .dataframe thead th {\n",
       "        text-align: right;\n",
       "    }\n",
       "</style>\n",
       "<table border=\"1\" class=\"dataframe\">\n",
       "  <thead>\n",
       "    <tr style=\"text-align: right;\">\n",
       "      <th></th>\n",
       "      <th>A</th>\n",
       "      <th>B</th>\n",
       "      <th>C</th>\n",
       "      <th>D</th>\n",
       "      <th>E</th>\n",
       "      <th>obj</th>\n",
       "    </tr>\n",
       "  </thead>\n",
       "  <tbody>\n",
       "    <tr>\n",
       "      <th>1</th>\n",
       "      <td>0.399884</td>\n",
       "      <td>0.744170</td>\n",
       "      <td>0.928760</td>\n",
       "      <td>-0.706435</td>\n",
       "      <td>0.213507</td>\n",
       "      <td>A</td>\n",
       "    </tr>\n",
       "    <tr>\n",
       "      <th>2</th>\n",
       "      <td>1.636950</td>\n",
       "      <td>0.179815</td>\n",
       "      <td>0.404065</td>\n",
       "      <td>-0.552845</td>\n",
       "      <td>0.425256</td>\n",
       "      <td>A</td>\n",
       "    </tr>\n",
       "    <tr>\n",
       "      <th>3</th>\n",
       "      <td>NaN</td>\n",
       "      <td>NaN</td>\n",
       "      <td>1.644946</td>\n",
       "      <td>NaN</td>\n",
       "      <td>0.055192</td>\n",
       "      <td>B</td>\n",
       "    </tr>\n",
       "    <tr>\n",
       "      <th>4</th>\n",
       "      <td>NaN</td>\n",
       "      <td>NaN</td>\n",
       "      <td>0.357840</td>\n",
       "      <td>NaN</td>\n",
       "      <td>0.728887</td>\n",
       "      <td>B</td>\n",
       "    </tr>\n",
       "    <tr>\n",
       "      <th>5</th>\n",
       "      <td>NaN</td>\n",
       "      <td>NaN</td>\n",
       "      <td>-0.037939</td>\n",
       "      <td>NaN</td>\n",
       "      <td>1.385346</td>\n",
       "      <td>A</td>\n",
       "    </tr>\n",
       "  </tbody>\n",
       "</table>\n",
       "</div>"
      ],
      "text/plain": [
       "          A         B         C         D         E obj\n",
       "1  0.399884  0.744170  0.928760 -0.706435  0.213507   A\n",
       "2  1.636950  0.179815  0.404065 -0.552845  0.425256   A\n",
       "3       NaN       NaN  1.644946       NaN  0.055192   B\n",
       "4       NaN       NaN  0.357840       NaN  0.728887   B\n",
       "5       NaN       NaN -0.037939       NaN  1.385346   A"
      ]
     },
     "execution_count": 40,
     "metadata": {},
     "output_type": "execute_result"
    }
   ],
   "source": [
    "import numpy as np\n",
    "df.iloc[[3,4,2], [1,0,3]] = np.nan\n",
    "df"
   ]
  },
  {
   "cell_type": "code",
   "execution_count": 42,
   "id": "e99312b3",
   "metadata": {},
   "outputs": [
    {
     "data": {
      "text/html": [
       "<div>\n",
       "<style scoped>\n",
       "    .dataframe tbody tr th:only-of-type {\n",
       "        vertical-align: middle;\n",
       "    }\n",
       "\n",
       "    .dataframe tbody tr th {\n",
       "        vertical-align: top;\n",
       "    }\n",
       "\n",
       "    .dataframe thead th {\n",
       "        text-align: right;\n",
       "    }\n",
       "</style>\n",
       "<table border=\"1\" class=\"dataframe\">\n",
       "  <thead>\n",
       "    <tr style=\"text-align: right;\">\n",
       "      <th></th>\n",
       "      <th>A</th>\n",
       "      <th>B</th>\n",
       "      <th>C</th>\n",
       "      <th>D</th>\n",
       "      <th>E</th>\n",
       "      <th>obj</th>\n",
       "    </tr>\n",
       "  </thead>\n",
       "  <tbody>\n",
       "    <tr>\n",
       "      <th>1</th>\n",
       "      <td>0.399884</td>\n",
       "      <td>0.744170</td>\n",
       "      <td>0.928760</td>\n",
       "      <td>-0.706435</td>\n",
       "      <td>0.213507</td>\n",
       "      <td>A</td>\n",
       "    </tr>\n",
       "    <tr>\n",
       "      <th>2</th>\n",
       "      <td>1.636950</td>\n",
       "      <td>0.179815</td>\n",
       "      <td>0.404065</td>\n",
       "      <td>-0.552845</td>\n",
       "      <td>0.425256</td>\n",
       "      <td>A</td>\n",
       "    </tr>\n",
       "    <tr>\n",
       "      <th>3</th>\n",
       "      <td>0.000000</td>\n",
       "      <td>0.000000</td>\n",
       "      <td>1.644946</td>\n",
       "      <td>0.000000</td>\n",
       "      <td>0.055192</td>\n",
       "      <td>B</td>\n",
       "    </tr>\n",
       "    <tr>\n",
       "      <th>4</th>\n",
       "      <td>0.000000</td>\n",
       "      <td>0.000000</td>\n",
       "      <td>0.357840</td>\n",
       "      <td>0.000000</td>\n",
       "      <td>0.728887</td>\n",
       "      <td>B</td>\n",
       "    </tr>\n",
       "    <tr>\n",
       "      <th>5</th>\n",
       "      <td>0.000000</td>\n",
       "      <td>0.000000</td>\n",
       "      <td>-0.037939</td>\n",
       "      <td>0.000000</td>\n",
       "      <td>1.385346</td>\n",
       "      <td>A</td>\n",
       "    </tr>\n",
       "  </tbody>\n",
       "</table>\n",
       "</div>"
      ],
      "text/plain": [
       "          A         B         C         D         E obj\n",
       "1  0.399884  0.744170  0.928760 -0.706435  0.213507   A\n",
       "2  1.636950  0.179815  0.404065 -0.552845  0.425256   A\n",
       "3  0.000000  0.000000  1.644946  0.000000  0.055192   B\n",
       "4  0.000000  0.000000  0.357840  0.000000  0.728887   B\n",
       "5  0.000000  0.000000 -0.037939  0.000000  1.385346   A"
      ]
     },
     "execution_count": 42,
     "metadata": {},
     "output_type": "execute_result"
    }
   ],
   "source": [
    "df.fillna(0)"
   ]
  },
  {
   "cell_type": "code",
   "execution_count": 43,
   "id": "6156687e",
   "metadata": {},
   "outputs": [
    {
     "data": {
      "text/html": [
       "<div>\n",
       "<style scoped>\n",
       "    .dataframe tbody tr th:only-of-type {\n",
       "        vertical-align: middle;\n",
       "    }\n",
       "\n",
       "    .dataframe tbody tr th {\n",
       "        vertical-align: top;\n",
       "    }\n",
       "\n",
       "    .dataframe thead th {\n",
       "        text-align: right;\n",
       "    }\n",
       "</style>\n",
       "<table border=\"1\" class=\"dataframe\">\n",
       "  <thead>\n",
       "    <tr style=\"text-align: right;\">\n",
       "      <th></th>\n",
       "      <th>A</th>\n",
       "      <th>B</th>\n",
       "      <th>C</th>\n",
       "      <th>D</th>\n",
       "      <th>E</th>\n",
       "      <th>obj</th>\n",
       "    </tr>\n",
       "  </thead>\n",
       "  <tbody>\n",
       "    <tr>\n",
       "      <th>1</th>\n",
       "      <td>False</td>\n",
       "      <td>False</td>\n",
       "      <td>False</td>\n",
       "      <td>False</td>\n",
       "      <td>False</td>\n",
       "      <td>False</td>\n",
       "    </tr>\n",
       "    <tr>\n",
       "      <th>2</th>\n",
       "      <td>False</td>\n",
       "      <td>False</td>\n",
       "      <td>False</td>\n",
       "      <td>False</td>\n",
       "      <td>False</td>\n",
       "      <td>False</td>\n",
       "    </tr>\n",
       "    <tr>\n",
       "      <th>3</th>\n",
       "      <td>True</td>\n",
       "      <td>True</td>\n",
       "      <td>False</td>\n",
       "      <td>True</td>\n",
       "      <td>False</td>\n",
       "      <td>False</td>\n",
       "    </tr>\n",
       "    <tr>\n",
       "      <th>4</th>\n",
       "      <td>True</td>\n",
       "      <td>True</td>\n",
       "      <td>False</td>\n",
       "      <td>True</td>\n",
       "      <td>False</td>\n",
       "      <td>False</td>\n",
       "    </tr>\n",
       "    <tr>\n",
       "      <th>5</th>\n",
       "      <td>True</td>\n",
       "      <td>True</td>\n",
       "      <td>False</td>\n",
       "      <td>True</td>\n",
       "      <td>False</td>\n",
       "      <td>False</td>\n",
       "    </tr>\n",
       "  </tbody>\n",
       "</table>\n",
       "</div>"
      ],
      "text/plain": [
       "       A      B      C      D      E    obj\n",
       "1  False  False  False  False  False  False\n",
       "2  False  False  False  False  False  False\n",
       "3   True   True  False   True  False  False\n",
       "4   True   True  False   True  False  False\n",
       "5   True   True  False   True  False  False"
      ]
     },
     "execution_count": 43,
     "metadata": {},
     "output_type": "execute_result"
    }
   ],
   "source": [
    "df.isnull()"
   ]
  },
  {
   "cell_type": "code",
   "execution_count": 44,
   "id": "8e6fdf50",
   "metadata": {},
   "outputs": [
    {
     "data": {
      "text/html": [
       "<div>\n",
       "<style scoped>\n",
       "    .dataframe tbody tr th:only-of-type {\n",
       "        vertical-align: middle;\n",
       "    }\n",
       "\n",
       "    .dataframe tbody tr th {\n",
       "        vertical-align: top;\n",
       "    }\n",
       "\n",
       "    .dataframe thead th {\n",
       "        text-align: right;\n",
       "    }\n",
       "</style>\n",
       "<table border=\"1\" class=\"dataframe\">\n",
       "  <thead>\n",
       "    <tr style=\"text-align: right;\">\n",
       "      <th></th>\n",
       "      <th>A</th>\n",
       "      <th>B</th>\n",
       "      <th>C</th>\n",
       "      <th>D</th>\n",
       "      <th>E</th>\n",
       "      <th>obj</th>\n",
       "    </tr>\n",
       "  </thead>\n",
       "  <tbody>\n",
       "    <tr>\n",
       "      <th>1</th>\n",
       "      <td>0.399884</td>\n",
       "      <td>0.744170</td>\n",
       "      <td>0.928760</td>\n",
       "      <td>-0.706435</td>\n",
       "      <td>0.213507</td>\n",
       "      <td>A</td>\n",
       "    </tr>\n",
       "    <tr>\n",
       "      <th>2</th>\n",
       "      <td>1.636950</td>\n",
       "      <td>0.179815</td>\n",
       "      <td>0.404065</td>\n",
       "      <td>-0.552845</td>\n",
       "      <td>0.425256</td>\n",
       "      <td>A</td>\n",
       "    </tr>\n",
       "  </tbody>\n",
       "</table>\n",
       "</div>"
      ],
      "text/plain": [
       "          A         B         C         D         E obj\n",
       "1  0.399884  0.744170  0.928760 -0.706435  0.213507   A\n",
       "2  1.636950  0.179815  0.404065 -0.552845  0.425256   A"
      ]
     },
     "execution_count": 44,
     "metadata": {},
     "output_type": "execute_result"
    }
   ],
   "source": [
    "df.dropna()"
   ]
  },
  {
   "cell_type": "code",
   "execution_count": 45,
   "id": "f9eeb9c2",
   "metadata": {},
   "outputs": [
    {
     "data": {
      "text/html": [
       "<div>\n",
       "<style scoped>\n",
       "    .dataframe tbody tr th:only-of-type {\n",
       "        vertical-align: middle;\n",
       "    }\n",
       "\n",
       "    .dataframe tbody tr th {\n",
       "        vertical-align: top;\n",
       "    }\n",
       "\n",
       "    .dataframe thead th {\n",
       "        text-align: right;\n",
       "    }\n",
       "</style>\n",
       "<table border=\"1\" class=\"dataframe\">\n",
       "  <thead>\n",
       "    <tr style=\"text-align: right;\">\n",
       "      <th></th>\n",
       "      <th>C</th>\n",
       "      <th>E</th>\n",
       "      <th>obj</th>\n",
       "    </tr>\n",
       "  </thead>\n",
       "  <tbody>\n",
       "    <tr>\n",
       "      <th>1</th>\n",
       "      <td>0.928760</td>\n",
       "      <td>0.213507</td>\n",
       "      <td>A</td>\n",
       "    </tr>\n",
       "    <tr>\n",
       "      <th>2</th>\n",
       "      <td>0.404065</td>\n",
       "      <td>0.425256</td>\n",
       "      <td>A</td>\n",
       "    </tr>\n",
       "    <tr>\n",
       "      <th>3</th>\n",
       "      <td>1.644946</td>\n",
       "      <td>0.055192</td>\n",
       "      <td>B</td>\n",
       "    </tr>\n",
       "    <tr>\n",
       "      <th>4</th>\n",
       "      <td>0.357840</td>\n",
       "      <td>0.728887</td>\n",
       "      <td>B</td>\n",
       "    </tr>\n",
       "    <tr>\n",
       "      <th>5</th>\n",
       "      <td>-0.037939</td>\n",
       "      <td>1.385346</td>\n",
       "      <td>A</td>\n",
       "    </tr>\n",
       "  </tbody>\n",
       "</table>\n",
       "</div>"
      ],
      "text/plain": [
       "          C         E obj\n",
       "1  0.928760  0.213507   A\n",
       "2  0.404065  0.425256   A\n",
       "3  1.644946  0.055192   B\n",
       "4  0.357840  0.728887   B\n",
       "5 -0.037939  1.385346   A"
      ]
     },
     "execution_count": 45,
     "metadata": {},
     "output_type": "execute_result"
    }
   ],
   "source": [
    "df.dropna(axis = 1)"
   ]
  },
  {
   "cell_type": "code",
   "execution_count": 46,
   "id": "af1a1ec7",
   "metadata": {},
   "outputs": [
    {
     "data": {
      "text/html": [
       "<div>\n",
       "<style scoped>\n",
       "    .dataframe tbody tr th:only-of-type {\n",
       "        vertical-align: middle;\n",
       "    }\n",
       "\n",
       "    .dataframe tbody tr th {\n",
       "        vertical-align: top;\n",
       "    }\n",
       "\n",
       "    .dataframe thead th {\n",
       "        text-align: right;\n",
       "    }\n",
       "</style>\n",
       "<table border=\"1\" class=\"dataframe\">\n",
       "  <thead>\n",
       "    <tr style=\"text-align: right;\">\n",
       "      <th></th>\n",
       "      <th>A</th>\n",
       "      <th>B</th>\n",
       "      <th>C</th>\n",
       "      <th>D</th>\n",
       "      <th>E</th>\n",
       "      <th>obj</th>\n",
       "    </tr>\n",
       "  </thead>\n",
       "  <tbody>\n",
       "    <tr>\n",
       "      <th>1</th>\n",
       "      <td>0.399884</td>\n",
       "      <td>0.744170</td>\n",
       "      <td>0.928760</td>\n",
       "      <td>-0.706435</td>\n",
       "      <td>0.213507</td>\n",
       "      <td>A</td>\n",
       "    </tr>\n",
       "    <tr>\n",
       "      <th>2</th>\n",
       "      <td>1.636950</td>\n",
       "      <td>0.179815</td>\n",
       "      <td>0.404065</td>\n",
       "      <td>-0.552845</td>\n",
       "      <td>0.425256</td>\n",
       "      <td>A</td>\n",
       "    </tr>\n",
       "    <tr>\n",
       "      <th>3</th>\n",
       "      <td>1.636950</td>\n",
       "      <td>0.179815</td>\n",
       "      <td>1.644946</td>\n",
       "      <td>-0.552845</td>\n",
       "      <td>0.055192</td>\n",
       "      <td>B</td>\n",
       "    </tr>\n",
       "    <tr>\n",
       "      <th>4</th>\n",
       "      <td>1.636950</td>\n",
       "      <td>0.179815</td>\n",
       "      <td>0.357840</td>\n",
       "      <td>-0.552845</td>\n",
       "      <td>0.728887</td>\n",
       "      <td>B</td>\n",
       "    </tr>\n",
       "    <tr>\n",
       "      <th>5</th>\n",
       "      <td>1.636950</td>\n",
       "      <td>0.179815</td>\n",
       "      <td>-0.037939</td>\n",
       "      <td>-0.552845</td>\n",
       "      <td>1.385346</td>\n",
       "      <td>A</td>\n",
       "    </tr>\n",
       "  </tbody>\n",
       "</table>\n",
       "</div>"
      ],
      "text/plain": [
       "          A         B         C         D         E obj\n",
       "1  0.399884  0.744170  0.928760 -0.706435  0.213507   A\n",
       "2  1.636950  0.179815  0.404065 -0.552845  0.425256   A\n",
       "3  1.636950  0.179815  1.644946 -0.552845  0.055192   B\n",
       "4  1.636950  0.179815  0.357840 -0.552845  0.728887   B\n",
       "5  1.636950  0.179815 -0.037939 -0.552845  1.385346   A"
      ]
     },
     "execution_count": 46,
     "metadata": {},
     "output_type": "execute_result"
    }
   ],
   "source": [
    "df.fillna(method = 'ffill')"
   ]
  },
  {
   "cell_type": "code",
   "execution_count": 47,
   "id": "362f7772",
   "metadata": {},
   "outputs": [
    {
     "data": {
      "text/html": [
       "<div>\n",
       "<style scoped>\n",
       "    .dataframe tbody tr th:only-of-type {\n",
       "        vertical-align: middle;\n",
       "    }\n",
       "\n",
       "    .dataframe tbody tr th {\n",
       "        vertical-align: top;\n",
       "    }\n",
       "\n",
       "    .dataframe thead th {\n",
       "        text-align: right;\n",
       "    }\n",
       "</style>\n",
       "<table border=\"1\" class=\"dataframe\">\n",
       "  <thead>\n",
       "    <tr style=\"text-align: right;\">\n",
       "      <th></th>\n",
       "      <th>A</th>\n",
       "      <th>B</th>\n",
       "      <th>C</th>\n",
       "      <th>D</th>\n",
       "      <th>E</th>\n",
       "      <th>obj</th>\n",
       "    </tr>\n",
       "  </thead>\n",
       "  <tbody>\n",
       "    <tr>\n",
       "      <th>1</th>\n",
       "      <td>0.399884</td>\n",
       "      <td>0.744170</td>\n",
       "      <td>0.928760</td>\n",
       "      <td>-0.706435</td>\n",
       "      <td>0.213507</td>\n",
       "      <td>A</td>\n",
       "    </tr>\n",
       "    <tr>\n",
       "      <th>2</th>\n",
       "      <td>1.636950</td>\n",
       "      <td>0.179815</td>\n",
       "      <td>0.404065</td>\n",
       "      <td>-0.552845</td>\n",
       "      <td>0.425256</td>\n",
       "      <td>A</td>\n",
       "    </tr>\n",
       "    <tr>\n",
       "      <th>3</th>\n",
       "      <td>1.636950</td>\n",
       "      <td>0.179815</td>\n",
       "      <td>1.644946</td>\n",
       "      <td>-0.552845</td>\n",
       "      <td>0.055192</td>\n",
       "      <td>B</td>\n",
       "    </tr>\n",
       "    <tr>\n",
       "      <th>4</th>\n",
       "      <td>NaN</td>\n",
       "      <td>NaN</td>\n",
       "      <td>0.357840</td>\n",
       "      <td>NaN</td>\n",
       "      <td>0.728887</td>\n",
       "      <td>B</td>\n",
       "    </tr>\n",
       "    <tr>\n",
       "      <th>5</th>\n",
       "      <td>NaN</td>\n",
       "      <td>NaN</td>\n",
       "      <td>-0.037939</td>\n",
       "      <td>NaN</td>\n",
       "      <td>1.385346</td>\n",
       "      <td>A</td>\n",
       "    </tr>\n",
       "  </tbody>\n",
       "</table>\n",
       "</div>"
      ],
      "text/plain": [
       "          A         B         C         D         E obj\n",
       "1  0.399884  0.744170  0.928760 -0.706435  0.213507   A\n",
       "2  1.636950  0.179815  0.404065 -0.552845  0.425256   A\n",
       "3  1.636950  0.179815  1.644946 -0.552845  0.055192   B\n",
       "4       NaN       NaN  0.357840       NaN  0.728887   B\n",
       "5       NaN       NaN -0.037939       NaN  1.385346   A"
      ]
     },
     "execution_count": 47,
     "metadata": {},
     "output_type": "execute_result"
    }
   ],
   "source": [
    "df.fillna(method = 'ffill', limit = 1)"
   ]
  },
  {
   "cell_type": "markdown",
   "id": "38c15a2a",
   "metadata": {},
   "source": [
    "자료 연결, 추가"
   ]
  },
  {
   "cell_type": "code",
   "execution_count": 53,
   "id": "cd38db64",
   "metadata": {},
   "outputs": [],
   "source": [
    "import pandas as pd\n",
    "df1 = pd.DataFrame(np.random.randn(6).reshape(3,2))\n",
    "df2 = pd.DataFrame(np.random.randn(6).reshape(3,2))\n",
    "df3 = pd.DataFrame(np.random.randn(6).reshape(3,2))\n",
    "df2['df2'] = ['a','b','c']\n",
    "df3['df3'] = ['ㄱ','ㄴ','ㄷ']"
   ]
  },
  {
   "cell_type": "code",
   "execution_count": 54,
   "id": "879d2222",
   "metadata": {},
   "outputs": [
    {
     "data": {
      "text/html": [
       "<div>\n",
       "<style scoped>\n",
       "    .dataframe tbody tr th:only-of-type {\n",
       "        vertical-align: middle;\n",
       "    }\n",
       "\n",
       "    .dataframe tbody tr th {\n",
       "        vertical-align: top;\n",
       "    }\n",
       "\n",
       "    .dataframe thead th {\n",
       "        text-align: right;\n",
       "    }\n",
       "</style>\n",
       "<table border=\"1\" class=\"dataframe\">\n",
       "  <thead>\n",
       "    <tr style=\"text-align: right;\">\n",
       "      <th></th>\n",
       "      <th>0</th>\n",
       "      <th>1</th>\n",
       "      <th>df2</th>\n",
       "    </tr>\n",
       "  </thead>\n",
       "  <tbody>\n",
       "    <tr>\n",
       "      <th>0</th>\n",
       "      <td>0.311480</td>\n",
       "      <td>0.675558</td>\n",
       "      <td>NaN</td>\n",
       "    </tr>\n",
       "    <tr>\n",
       "      <th>1</th>\n",
       "      <td>-0.141245</td>\n",
       "      <td>0.141860</td>\n",
       "      <td>NaN</td>\n",
       "    </tr>\n",
       "    <tr>\n",
       "      <th>2</th>\n",
       "      <td>1.140803</td>\n",
       "      <td>-0.198209</td>\n",
       "      <td>NaN</td>\n",
       "    </tr>\n",
       "    <tr>\n",
       "      <th>0</th>\n",
       "      <td>-1.768202</td>\n",
       "      <td>-2.042891</td>\n",
       "      <td>a</td>\n",
       "    </tr>\n",
       "    <tr>\n",
       "      <th>1</th>\n",
       "      <td>0.020219</td>\n",
       "      <td>-0.478681</td>\n",
       "      <td>b</td>\n",
       "    </tr>\n",
       "    <tr>\n",
       "      <th>2</th>\n",
       "      <td>-0.643211</td>\n",
       "      <td>-1.183979</td>\n",
       "      <td>c</td>\n",
       "    </tr>\n",
       "  </tbody>\n",
       "</table>\n",
       "</div>"
      ],
      "text/plain": [
       "          0         1  df2\n",
       "0  0.311480  0.675558  NaN\n",
       "1 -0.141245  0.141860  NaN\n",
       "2  1.140803 -0.198209  NaN\n",
       "0 -1.768202 -2.042891    a\n",
       "1  0.020219 -0.478681    b\n",
       "2 -0.643211 -1.183979    c"
      ]
     },
     "execution_count": 54,
     "metadata": {},
     "output_type": "execute_result"
    }
   ],
   "source": [
    "pd.concat([df1,df2])"
   ]
  },
  {
   "cell_type": "code",
   "execution_count": 56,
   "id": "fa28e77d",
   "metadata": {},
   "outputs": [
    {
     "data": {
      "text/html": [
       "<div>\n",
       "<style scoped>\n",
       "    .dataframe tbody tr th:only-of-type {\n",
       "        vertical-align: middle;\n",
       "    }\n",
       "\n",
       "    .dataframe tbody tr th {\n",
       "        vertical-align: top;\n",
       "    }\n",
       "\n",
       "    .dataframe thead th {\n",
       "        text-align: right;\n",
       "    }\n",
       "</style>\n",
       "<table border=\"1\" class=\"dataframe\">\n",
       "  <thead>\n",
       "    <tr style=\"text-align: right;\">\n",
       "      <th></th>\n",
       "      <th>0</th>\n",
       "      <th>1</th>\n",
       "    </tr>\n",
       "  </thead>\n",
       "  <tbody>\n",
       "    <tr>\n",
       "      <th>0</th>\n",
       "      <td>0.311480</td>\n",
       "      <td>0.675558</td>\n",
       "    </tr>\n",
       "    <tr>\n",
       "      <th>1</th>\n",
       "      <td>-0.141245</td>\n",
       "      <td>0.141860</td>\n",
       "    </tr>\n",
       "    <tr>\n",
       "      <th>2</th>\n",
       "      <td>1.140803</td>\n",
       "      <td>-0.198209</td>\n",
       "    </tr>\n",
       "    <tr>\n",
       "      <th>3</th>\n",
       "      <td>-1.768202</td>\n",
       "      <td>-2.042891</td>\n",
       "    </tr>\n",
       "    <tr>\n",
       "      <th>4</th>\n",
       "      <td>0.020219</td>\n",
       "      <td>-0.478681</td>\n",
       "    </tr>\n",
       "    <tr>\n",
       "      <th>5</th>\n",
       "      <td>-0.643211</td>\n",
       "      <td>-1.183979</td>\n",
       "    </tr>\n",
       "  </tbody>\n",
       "</table>\n",
       "</div>"
      ],
      "text/plain": [
       "          0         1\n",
       "0  0.311480  0.675558\n",
       "1 -0.141245  0.141860\n",
       "2  1.140803 -0.198209\n",
       "3 -1.768202 -2.042891\n",
       "4  0.020219 -0.478681\n",
       "5 -0.643211 -1.183979"
      ]
     },
     "execution_count": 56,
     "metadata": {},
     "output_type": "execute_result"
    }
   ],
   "source": [
    "pd.concat([df1,df2], ignore_index = True, join = 'inner')"
   ]
  },
  {
   "cell_type": "code",
   "execution_count": 62,
   "id": "d3ecbc59",
   "metadata": {},
   "outputs": [
    {
     "data": {
      "text/html": [
       "<div>\n",
       "<style scoped>\n",
       "    .dataframe tbody tr th:only-of-type {\n",
       "        vertical-align: middle;\n",
       "    }\n",
       "\n",
       "    .dataframe tbody tr th {\n",
       "        vertical-align: top;\n",
       "    }\n",
       "\n",
       "    .dataframe thead th {\n",
       "        text-align: right;\n",
       "    }\n",
       "</style>\n",
       "<table border=\"1\" class=\"dataframe\">\n",
       "  <thead>\n",
       "    <tr style=\"text-align: right;\">\n",
       "      <th></th>\n",
       "      <th>0</th>\n",
       "      <th>1</th>\n",
       "      <th>2</th>\n",
       "      <th>3</th>\n",
       "      <th>4</th>\n",
       "      <th>5</th>\n",
       "      <th>6</th>\n",
       "      <th>7</th>\n",
       "    </tr>\n",
       "  </thead>\n",
       "  <tbody>\n",
       "    <tr>\n",
       "      <th>0</th>\n",
       "      <td>0.311480</td>\n",
       "      <td>0.675558</td>\n",
       "      <td>-1.768202</td>\n",
       "      <td>-2.042891</td>\n",
       "      <td>a</td>\n",
       "      <td>0.640369</td>\n",
       "      <td>1.110132</td>\n",
       "      <td>ㄱ</td>\n",
       "    </tr>\n",
       "    <tr>\n",
       "      <th>1</th>\n",
       "      <td>-0.141245</td>\n",
       "      <td>0.141860</td>\n",
       "      <td>0.020219</td>\n",
       "      <td>-0.478681</td>\n",
       "      <td>b</td>\n",
       "      <td>0.468578</td>\n",
       "      <td>0.677858</td>\n",
       "      <td>ㄴ</td>\n",
       "    </tr>\n",
       "    <tr>\n",
       "      <th>2</th>\n",
       "      <td>1.140803</td>\n",
       "      <td>-0.198209</td>\n",
       "      <td>-0.643211</td>\n",
       "      <td>-1.183979</td>\n",
       "      <td>c</td>\n",
       "      <td>0.195395</td>\n",
       "      <td>-0.352686</td>\n",
       "      <td>ㄷ</td>\n",
       "    </tr>\n",
       "  </tbody>\n",
       "</table>\n",
       "</div>"
      ],
      "text/plain": [
       "          0         1         2         3  4         5         6  7\n",
       "0  0.311480  0.675558 -1.768202 -2.042891  a  0.640369  1.110132  ㄱ\n",
       "1 -0.141245  0.141860  0.020219 -0.478681  b  0.468578  0.677858  ㄴ\n",
       "2  1.140803 -0.198209 -0.643211 -1.183979  c  0.195395 -0.352686  ㄷ"
      ]
     },
     "execution_count": 62,
     "metadata": {},
     "output_type": "execute_result"
    }
   ],
   "source": [
    "pd.concat([df1,df2, df3], ignore_index = True, axis = 1, keys = ['d1', 'd2', 'd3'])"
   ]
  },
  {
   "cell_type": "code",
   "execution_count": 65,
   "id": "2cfc12e6",
   "metadata": {},
   "outputs": [
    {
     "data": {
      "text/html": [
       "<div>\n",
       "<style scoped>\n",
       "    .dataframe tbody tr th:only-of-type {\n",
       "        vertical-align: middle;\n",
       "    }\n",
       "\n",
       "    .dataframe tbody tr th {\n",
       "        vertical-align: top;\n",
       "    }\n",
       "\n",
       "    .dataframe thead th {\n",
       "        text-align: right;\n",
       "    }\n",
       "</style>\n",
       "<table border=\"1\" class=\"dataframe\">\n",
       "  <thead>\n",
       "    <tr style=\"text-align: right;\">\n",
       "      <th></th>\n",
       "      <th>0</th>\n",
       "      <th>1_1</th>\n",
       "      <th>1_2</th>\n",
       "      <th>df2</th>\n",
       "    </tr>\n",
       "  </thead>\n",
       "  <tbody>\n",
       "    <tr>\n",
       "      <th>0</th>\n",
       "      <td>0.311480</td>\n",
       "      <td>0.675558</td>\n",
       "      <td>NaN</td>\n",
       "      <td>NaN</td>\n",
       "    </tr>\n",
       "    <tr>\n",
       "      <th>1</th>\n",
       "      <td>-0.141245</td>\n",
       "      <td>0.141860</td>\n",
       "      <td>NaN</td>\n",
       "      <td>NaN</td>\n",
       "    </tr>\n",
       "    <tr>\n",
       "      <th>2</th>\n",
       "      <td>1.140803</td>\n",
       "      <td>-0.198209</td>\n",
       "      <td>NaN</td>\n",
       "      <td>NaN</td>\n",
       "    </tr>\n",
       "    <tr>\n",
       "      <th>3</th>\n",
       "      <td>-1.768202</td>\n",
       "      <td>NaN</td>\n",
       "      <td>-2.042891</td>\n",
       "      <td>a</td>\n",
       "    </tr>\n",
       "    <tr>\n",
       "      <th>4</th>\n",
       "      <td>0.020219</td>\n",
       "      <td>NaN</td>\n",
       "      <td>-0.478681</td>\n",
       "      <td>b</td>\n",
       "    </tr>\n",
       "    <tr>\n",
       "      <th>5</th>\n",
       "      <td>-0.643211</td>\n",
       "      <td>NaN</td>\n",
       "      <td>-1.183979</td>\n",
       "      <td>c</td>\n",
       "    </tr>\n",
       "  </tbody>\n",
       "</table>\n",
       "</div>"
      ],
      "text/plain": [
       "          0       1_1       1_2  df2\n",
       "0  0.311480  0.675558       NaN  NaN\n",
       "1 -0.141245  0.141860       NaN  NaN\n",
       "2  1.140803 -0.198209       NaN  NaN\n",
       "3 -1.768202       NaN -2.042891    a\n",
       "4  0.020219       NaN -0.478681    b\n",
       "5 -0.643211       NaN -1.183979    c"
      ]
     },
     "execution_count": 65,
     "metadata": {},
     "output_type": "execute_result"
    }
   ],
   "source": [
    "df1.merge(df2, how = 'outer',suffixes=('_1','_2'), on = 0)"
   ]
  },
  {
   "cell_type": "code",
   "execution_count": 66,
   "id": "30b4edc7",
   "metadata": {},
   "outputs": [
    {
     "data": {
      "text/html": [
       "<div>\n",
       "<style scoped>\n",
       "    .dataframe tbody tr th:only-of-type {\n",
       "        vertical-align: middle;\n",
       "    }\n",
       "\n",
       "    .dataframe tbody tr th {\n",
       "        vertical-align: top;\n",
       "    }\n",
       "\n",
       "    .dataframe thead th {\n",
       "        text-align: right;\n",
       "    }\n",
       "</style>\n",
       "<table border=\"1\" class=\"dataframe\">\n",
       "  <thead>\n",
       "    <tr style=\"text-align: right;\">\n",
       "      <th></th>\n",
       "      <th>0_L</th>\n",
       "      <th>1_L</th>\n",
       "      <th>0_R</th>\n",
       "      <th>1_R</th>\n",
       "      <th>df2</th>\n",
       "    </tr>\n",
       "  </thead>\n",
       "  <tbody>\n",
       "    <tr>\n",
       "      <th>0</th>\n",
       "      <td>0.311480</td>\n",
       "      <td>0.675558</td>\n",
       "      <td>-1.768202</td>\n",
       "      <td>-2.042891</td>\n",
       "      <td>a</td>\n",
       "    </tr>\n",
       "    <tr>\n",
       "      <th>1</th>\n",
       "      <td>-0.141245</td>\n",
       "      <td>0.141860</td>\n",
       "      <td>0.020219</td>\n",
       "      <td>-0.478681</td>\n",
       "      <td>b</td>\n",
       "    </tr>\n",
       "    <tr>\n",
       "      <th>2</th>\n",
       "      <td>1.140803</td>\n",
       "      <td>-0.198209</td>\n",
       "      <td>-0.643211</td>\n",
       "      <td>-1.183979</td>\n",
       "      <td>c</td>\n",
       "    </tr>\n",
       "  </tbody>\n",
       "</table>\n",
       "</div>"
      ],
      "text/plain": [
       "        0_L       1_L       0_R       1_R df2\n",
       "0  0.311480  0.675558 -1.768202 -2.042891   a\n",
       "1 -0.141245  0.141860  0.020219 -0.478681   b\n",
       "2  1.140803 -0.198209 -0.643211 -1.183979   c"
      ]
     },
     "execution_count": 66,
     "metadata": {},
     "output_type": "execute_result"
    }
   ],
   "source": [
    "df1.join(df2,lsuffix='_L', rsuffix='_R')"
   ]
  },
  {
   "cell_type": "markdown",
   "id": "4d620c3b",
   "metadata": {},
   "source": [
    "복제"
   ]
  },
  {
   "cell_type": "code",
   "execution_count": 67,
   "id": "5eca4b9f",
   "metadata": {},
   "outputs": [],
   "source": [
    "data = pd.DataFrame([[1,2,3], [1,1,3],[1,2,3]],\n",
    "                   columns = list('ABC'))"
   ]
  },
  {
   "cell_type": "code",
   "execution_count": 70,
   "id": "ce822aa8",
   "metadata": {},
   "outputs": [
    {
     "data": {
      "text/html": [
       "<div>\n",
       "<style scoped>\n",
       "    .dataframe tbody tr th:only-of-type {\n",
       "        vertical-align: middle;\n",
       "    }\n",
       "\n",
       "    .dataframe tbody tr th {\n",
       "        vertical-align: top;\n",
       "    }\n",
       "\n",
       "    .dataframe thead th {\n",
       "        text-align: right;\n",
       "    }\n",
       "</style>\n",
       "<table border=\"1\" class=\"dataframe\">\n",
       "  <thead>\n",
       "    <tr style=\"text-align: right;\">\n",
       "      <th></th>\n",
       "      <th>A</th>\n",
       "      <th>B</th>\n",
       "      <th>C</th>\n",
       "    </tr>\n",
       "  </thead>\n",
       "  <tbody>\n",
       "    <tr>\n",
       "      <th>0</th>\n",
       "      <td>1</td>\n",
       "      <td>2</td>\n",
       "      <td>3</td>\n",
       "    </tr>\n",
       "    <tr>\n",
       "      <th>1</th>\n",
       "      <td>1</td>\n",
       "      <td>1</td>\n",
       "      <td>3</td>\n",
       "    </tr>\n",
       "    <tr>\n",
       "      <th>2</th>\n",
       "      <td>1</td>\n",
       "      <td>2</td>\n",
       "      <td>3</td>\n",
       "    </tr>\n",
       "  </tbody>\n",
       "</table>\n",
       "</div>"
      ],
      "text/plain": [
       "   A  B  C\n",
       "0  1  2  3\n",
       "1  1  1  3\n",
       "2  1  2  3"
      ]
     },
     "execution_count": 70,
     "metadata": {},
     "output_type": "execute_result"
    }
   ],
   "source": [
    "data"
   ]
  },
  {
   "cell_type": "code",
   "execution_count": 68,
   "id": "dd4a5cce",
   "metadata": {
    "scrolled": true
   },
   "outputs": [
    {
     "data": {
      "text/plain": [
       "0    False\n",
       "1    False\n",
       "2     True\n",
       "dtype: bool"
      ]
     },
     "execution_count": 68,
     "metadata": {},
     "output_type": "execute_result"
    }
   ],
   "source": [
    "data.duplicated()"
   ]
  },
  {
   "cell_type": "code",
   "execution_count": 69,
   "id": "88c74adb",
   "metadata": {},
   "outputs": [
    {
     "data": {
      "text/plain": [
       "0     True\n",
       "1    False\n",
       "2    False\n",
       "dtype: bool"
      ]
     },
     "execution_count": 69,
     "metadata": {},
     "output_type": "execute_result"
    }
   ],
   "source": [
    "data.duplicated(keep = 'last')"
   ]
  },
  {
   "cell_type": "code",
   "execution_count": 71,
   "id": "28d48f9e",
   "metadata": {},
   "outputs": [
    {
     "data": {
      "text/plain": [
       "0    False\n",
       "1    False\n",
       "2     True\n",
       "dtype: bool"
      ]
     },
     "execution_count": 71,
     "metadata": {},
     "output_type": "execute_result"
    }
   ],
   "source": [
    "data.duplicated(subset = ['A','B'])"
   ]
  },
  {
   "cell_type": "code",
   "execution_count": 72,
   "id": "f669be96",
   "metadata": {},
   "outputs": [
    {
     "name": "stderr",
     "output_type": "stream",
     "text": [
      "C:\\Users\\jhs85\\AppData\\Local\\Temp\\ipykernel_8472\\2528223665.py:1: FutureWarning: The frame.append method is deprecated and will be removed from pandas in a future version. Use pandas.concat instead.\n",
      "  data = data.append({'A':1, 'B':1, 'C':1},ignore_index = True)\n"
     ]
    }
   ],
   "source": [
    "data = data.append({'A':1, 'B':1, 'C':1},ignore_index = True)"
   ]
  },
  {
   "cell_type": "code",
   "execution_count": 73,
   "id": "112b0e25",
   "metadata": {},
   "outputs": [
    {
     "data": {
      "text/html": [
       "<div>\n",
       "<style scoped>\n",
       "    .dataframe tbody tr th:only-of-type {\n",
       "        vertical-align: middle;\n",
       "    }\n",
       "\n",
       "    .dataframe tbody tr th {\n",
       "        vertical-align: top;\n",
       "    }\n",
       "\n",
       "    .dataframe thead th {\n",
       "        text-align: right;\n",
       "    }\n",
       "</style>\n",
       "<table border=\"1\" class=\"dataframe\">\n",
       "  <thead>\n",
       "    <tr style=\"text-align: right;\">\n",
       "      <th></th>\n",
       "      <th>A</th>\n",
       "      <th>B</th>\n",
       "      <th>C</th>\n",
       "    </tr>\n",
       "  </thead>\n",
       "  <tbody>\n",
       "    <tr>\n",
       "      <th>0</th>\n",
       "      <td>1</td>\n",
       "      <td>2</td>\n",
       "      <td>3</td>\n",
       "    </tr>\n",
       "    <tr>\n",
       "      <th>1</th>\n",
       "      <td>1</td>\n",
       "      <td>1</td>\n",
       "      <td>3</td>\n",
       "    </tr>\n",
       "    <tr>\n",
       "      <th>2</th>\n",
       "      <td>1</td>\n",
       "      <td>2</td>\n",
       "      <td>3</td>\n",
       "    </tr>\n",
       "    <tr>\n",
       "      <th>3</th>\n",
       "      <td>1</td>\n",
       "      <td>1</td>\n",
       "      <td>1</td>\n",
       "    </tr>\n",
       "  </tbody>\n",
       "</table>\n",
       "</div>"
      ],
      "text/plain": [
       "   A  B  C\n",
       "0  1  2  3\n",
       "1  1  1  3\n",
       "2  1  2  3\n",
       "3  1  1  1"
      ]
     },
     "execution_count": 73,
     "metadata": {},
     "output_type": "execute_result"
    }
   ],
   "source": [
    "data"
   ]
  },
  {
   "cell_type": "code",
   "execution_count": 74,
   "id": "bdfc4e07",
   "metadata": {},
   "outputs": [
    {
     "data": {
      "text/plain": [
       "0    False\n",
       "1    False\n",
       "2     True\n",
       "3     True\n",
       "dtype: bool"
      ]
     },
     "execution_count": 74,
     "metadata": {},
     "output_type": "execute_result"
    }
   ],
   "source": [
    "data.duplicated(subset = ['A','B'])"
   ]
  },
  {
   "cell_type": "code",
   "execution_count": 75,
   "id": "db198f9b",
   "metadata": {},
   "outputs": [
    {
     "data": {
      "text/html": [
       "<div>\n",
       "<style scoped>\n",
       "    .dataframe tbody tr th:only-of-type {\n",
       "        vertical-align: middle;\n",
       "    }\n",
       "\n",
       "    .dataframe tbody tr th {\n",
       "        vertical-align: top;\n",
       "    }\n",
       "\n",
       "    .dataframe thead th {\n",
       "        text-align: right;\n",
       "    }\n",
       "</style>\n",
       "<table border=\"1\" class=\"dataframe\">\n",
       "  <thead>\n",
       "    <tr style=\"text-align: right;\">\n",
       "      <th></th>\n",
       "      <th>A</th>\n",
       "      <th>B</th>\n",
       "      <th>C</th>\n",
       "    </tr>\n",
       "  </thead>\n",
       "  <tbody>\n",
       "    <tr>\n",
       "      <th>0</th>\n",
       "      <td>1</td>\n",
       "      <td>2</td>\n",
       "      <td>3</td>\n",
       "    </tr>\n",
       "    <tr>\n",
       "      <th>1</th>\n",
       "      <td>1</td>\n",
       "      <td>1</td>\n",
       "      <td>3</td>\n",
       "    </tr>\n",
       "    <tr>\n",
       "      <th>3</th>\n",
       "      <td>1</td>\n",
       "      <td>1</td>\n",
       "      <td>1</td>\n",
       "    </tr>\n",
       "  </tbody>\n",
       "</table>\n",
       "</div>"
      ],
      "text/plain": [
       "   A  B  C\n",
       "0  1  2  3\n",
       "1  1  1  3\n",
       "3  1  1  1"
      ]
     },
     "execution_count": 75,
     "metadata": {},
     "output_type": "execute_result"
    }
   ],
   "source": [
    "# 중복 제거\n",
    "data.drop_duplicates()"
   ]
  },
  {
   "cell_type": "markdown",
   "id": "a59cf5d3",
   "metadata": {},
   "source": [
    "시계열 "
   ]
  },
  {
   "cell_type": "code",
   "execution_count": 76,
   "id": "de73005f",
   "metadata": {},
   "outputs": [],
   "source": [
    "from datetime import datetime as dt"
   ]
  },
  {
   "cell_type": "code",
   "execution_count": 77,
   "id": "ee20f476",
   "metadata": {},
   "outputs": [
    {
     "data": {
      "text/plain": [
       "datetime.datetime(2022, 7, 18, 16, 47, 41, 780183)"
      ]
     },
     "execution_count": 77,
     "metadata": {},
     "output_type": "execute_result"
    }
   ],
   "source": [
    "dt.now()"
   ]
  },
  {
   "cell_type": "code",
   "execution_count": 78,
   "id": "ad9e6b9c",
   "metadata": {},
   "outputs": [
    {
     "data": {
      "text/plain": [
       "datetime.datetime(2022, 7, 7, 0, 0)"
      ]
     },
     "execution_count": 78,
     "metadata": {},
     "output_type": "execute_result"
    }
   ],
   "source": [
    "dt.strptime('2022-07-07', '%Y-%m-%d')"
   ]
  },
  {
   "cell_type": "code",
   "execution_count": 80,
   "id": "46a6ea14",
   "metadata": {},
   "outputs": [
    {
     "data": {
      "text/plain": [
       "'2022-07-18'"
      ]
     },
     "execution_count": 80,
     "metadata": {},
     "output_type": "execute_result"
    }
   ],
   "source": [
    "dt.strftime(dt.now(),'%Y-%m-%d')"
   ]
  },
  {
   "cell_type": "code",
   "execution_count": 81,
   "id": "2287defc",
   "metadata": {},
   "outputs": [
    {
     "name": "stdout",
     "output_type": "stream",
     "text": [
      "<class 'pandas.core.frame.DataFrame'>\n",
      "RangeIndex: 2 entries, 0 to 1\n",
      "Data columns (total 3 columns):\n",
      " #   Column  Non-Null Count  Dtype\n",
      "---  ------  --------------  -----\n",
      " 0   year    2 non-null      int64\n",
      " 1   month   2 non-null      int64\n",
      " 2   day     2 non-null      int64\n",
      "dtypes: int64(3)\n",
      "memory usage: 176.0 bytes\n"
     ]
    }
   ],
   "source": [
    "import pandas as pd\n",
    "\n",
    "df = pd.DataFrame({'year' : [2015, 2016],\n",
    "                  'month' : [11,12],\n",
    "                  'day' : [1,17]})\n",
    "\n",
    "df.info()"
   ]
  },
  {
   "cell_type": "code",
   "execution_count": 82,
   "id": "c9cf91d0",
   "metadata": {},
   "outputs": [
    {
     "data": {
      "text/plain": [
       "0   2015-11-01\n",
       "1   2016-12-17\n",
       "dtype: datetime64[ns]"
      ]
     },
     "execution_count": 82,
     "metadata": {},
     "output_type": "execute_result"
    }
   ],
   "source": [
    "result = pd.to_datetime(df)\n",
    "result"
   ]
  },
  {
   "cell_type": "code",
   "execution_count": 83,
   "id": "0e635172",
   "metadata": {},
   "outputs": [
    {
     "data": {
      "text/html": [
       "<div>\n",
       "<style scoped>\n",
       "    .dataframe tbody tr th:only-of-type {\n",
       "        vertical-align: middle;\n",
       "    }\n",
       "\n",
       "    .dataframe tbody tr th {\n",
       "        vertical-align: top;\n",
       "    }\n",
       "\n",
       "    .dataframe thead th {\n",
       "        text-align: right;\n",
       "    }\n",
       "</style>\n",
       "<table border=\"1\" class=\"dataframe\">\n",
       "  <thead>\n",
       "    <tr style=\"text-align: right;\">\n",
       "      <th></th>\n",
       "      <th>0</th>\n",
       "    </tr>\n",
       "  </thead>\n",
       "  <tbody>\n",
       "    <tr>\n",
       "      <th>0</th>\n",
       "      <td>2015-11-01</td>\n",
       "    </tr>\n",
       "    <tr>\n",
       "      <th>1</th>\n",
       "      <td>2016-12-17</td>\n",
       "    </tr>\n",
       "  </tbody>\n",
       "</table>\n",
       "</div>"
      ],
      "text/plain": [
       "           0\n",
       "0 2015-11-01\n",
       "1 2016-12-17"
      ]
     },
     "execution_count": 83,
     "metadata": {},
     "output_type": "execute_result"
    }
   ],
   "source": [
    "result.to_frame()"
   ]
  },
  {
   "cell_type": "code",
   "execution_count": 84,
   "id": "c9007de9",
   "metadata": {},
   "outputs": [
    {
     "data": {
      "text/plain": [
       "0    2015\n",
       "1    2016\n",
       "dtype: int64"
      ]
     },
     "execution_count": 84,
     "metadata": {},
     "output_type": "execute_result"
    }
   ],
   "source": [
    "result.dt.year"
   ]
  },
  {
   "cell_type": "code",
   "execution_count": 86,
   "id": "a83a6c8c",
   "metadata": {},
   "outputs": [
    {
     "data": {
      "text/plain": [
       "0    False\n",
       "1     True\n",
       "dtype: bool"
      ]
     },
     "execution_count": 86,
     "metadata": {},
     "output_type": "execute_result"
    }
   ],
   "source": [
    "result.dt.year>2015"
   ]
  },
  {
   "cell_type": "code",
   "execution_count": 87,
   "id": "80ac0e0f",
   "metadata": {},
   "outputs": [
    {
     "data": {
      "text/plain": [
       "DatetimeIndex(['2016-12-31', '2017-12-31', '2018-12-31', '2019-12-31',\n",
       "               '2020-12-31', '2021-12-31', '2022-12-31'],\n",
       "              dtype='datetime64[ns]', freq='A-DEC')"
      ]
     },
     "execution_count": 87,
     "metadata": {},
     "output_type": "execute_result"
    }
   ],
   "source": [
    "pd.date_range('2016-01-01', periods = 7, freq = 'A')"
   ]
  },
  {
   "cell_type": "code",
   "execution_count": 88,
   "id": "d4d5953e",
   "metadata": {},
   "outputs": [
    {
     "name": "stdout",
     "output_type": "stream",
     "text": [
      "DatetimeIndex(['2016-01-01', '2017-01-01', '2018-01-01', '2019-01-01',\n",
      "               '2020-01-01', '2021-01-01', '2022-01-01'],\n",
      "              dtype='datetime64[ns]', freq='AS-JAN')\n"
     ]
    }
   ],
   "source": [
    "print(pd.date_range('2016-01-01', '2022-12-31', freq = 'Ys'))"
   ]
  },
  {
   "cell_type": "code",
   "execution_count": 89,
   "id": "ca923cae",
   "metadata": {},
   "outputs": [],
   "source": [
    "N = 12\n",
    "df = pd.Series(1000+40 * np.array(range(N)) + 10 *np.random.randn(N),\n",
    "              index = pd.date_range('2022-01-01', periods = N, freq = 'BMS'))"
   ]
  },
  {
   "cell_type": "code",
   "execution_count": 90,
   "id": "c94ac24a",
   "metadata": {},
   "outputs": [
    {
     "data": {
      "text/plain": [
       "2022-01-03    1018.998481\n",
       "2022-02-01    1042.407748\n",
       "2022-03-01    1082.233650\n",
       "2022-04-01    1125.319074\n",
       "2022-05-02    1149.084129\n",
       "2022-06-01    1214.407957\n",
       "2022-07-01    1248.373235\n",
       "2022-08-01    1302.207089\n",
       "2022-09-01    1306.653349\n",
       "2022-10-03    1375.414313\n",
       "2022-11-01    1421.318208\n",
       "2022-12-01    1449.916052\n",
       "Freq: BMS, dtype: float64"
      ]
     },
     "execution_count": 90,
     "metadata": {},
     "output_type": "execute_result"
    }
   ],
   "source": [
    "df"
   ]
  },
  {
   "cell_type": "code",
   "execution_count": 92,
   "id": "b8142341",
   "metadata": {},
   "outputs": [
    {
     "data": {
      "text/html": [
       "<div>\n",
       "<style scoped>\n",
       "    .dataframe tbody tr th:only-of-type {\n",
       "        vertical-align: middle;\n",
       "    }\n",
       "\n",
       "    .dataframe tbody tr th {\n",
       "        vertical-align: top;\n",
       "    }\n",
       "\n",
       "    .dataframe thead th {\n",
       "        text-align: right;\n",
       "    }\n",
       "</style>\n",
       "<table border=\"1\" class=\"dataframe\">\n",
       "  <thead>\n",
       "    <tr style=\"text-align: right;\">\n",
       "      <th></th>\n",
       "      <th>0</th>\n",
       "    </tr>\n",
       "  </thead>\n",
       "  <tbody>\n",
       "    <tr>\n",
       "      <th>2022-01</th>\n",
       "      <td>1018.998481</td>\n",
       "    </tr>\n",
       "    <tr>\n",
       "      <th>2022-02</th>\n",
       "      <td>1042.407748</td>\n",
       "    </tr>\n",
       "    <tr>\n",
       "      <th>2022-03</th>\n",
       "      <td>1082.233650</td>\n",
       "    </tr>\n",
       "    <tr>\n",
       "      <th>2022-04</th>\n",
       "      <td>1125.319074</td>\n",
       "    </tr>\n",
       "    <tr>\n",
       "      <th>2022-05</th>\n",
       "      <td>1149.084129</td>\n",
       "    </tr>\n",
       "    <tr>\n",
       "      <th>2022-06</th>\n",
       "      <td>1214.407957</td>\n",
       "    </tr>\n",
       "    <tr>\n",
       "      <th>2022-07</th>\n",
       "      <td>1248.373235</td>\n",
       "    </tr>\n",
       "    <tr>\n",
       "      <th>2022-08</th>\n",
       "      <td>1302.207089</td>\n",
       "    </tr>\n",
       "    <tr>\n",
       "      <th>2022-09</th>\n",
       "      <td>1306.653349</td>\n",
       "    </tr>\n",
       "    <tr>\n",
       "      <th>2022-10</th>\n",
       "      <td>1375.414313</td>\n",
       "    </tr>\n",
       "    <tr>\n",
       "      <th>2022-11</th>\n",
       "      <td>1421.318208</td>\n",
       "    </tr>\n",
       "    <tr>\n",
       "      <th>2022-12</th>\n",
       "      <td>1449.916052</td>\n",
       "    </tr>\n",
       "  </tbody>\n",
       "</table>\n",
       "</div>"
      ],
      "text/plain": [
       "                   0\n",
       "2022-01  1018.998481\n",
       "2022-02  1042.407748\n",
       "2022-03  1082.233650\n",
       "2022-04  1125.319074\n",
       "2022-05  1149.084129\n",
       "2022-06  1214.407957\n",
       "2022-07  1248.373235\n",
       "2022-08  1302.207089\n",
       "2022-09  1306.653349\n",
       "2022-10  1375.414313\n",
       "2022-11  1421.318208\n",
       "2022-12  1449.916052"
      ]
     },
     "execution_count": 92,
     "metadata": {},
     "output_type": "execute_result"
    }
   ],
   "source": [
    "df.to_frame().to_period('m')"
   ]
  },
  {
   "cell_type": "code",
   "execution_count": 93,
   "id": "add728bf",
   "metadata": {},
   "outputs": [
    {
     "data": {
      "text/plain": [
       "<AxesSubplot:>"
      ]
     },
     "execution_count": 93,
     "metadata": {},
     "output_type": "execute_result"
    },
    {
     "data": {
      "image/png": "[encoded data removed]",
      "text/plain": [
       "<Figure size 432x288 with 1 Axes>"
      ]
     },
     "metadata": {
      "needs_background": "light"
     },
     "output_type": "display_data"
    }
   ],
   "source": [
    "df.to_frame().to_period('m').plot()"
   ]
  },
  {
   "cell_type": "markdown",
   "id": "01126ec7",
   "metadata": {},
   "source": [
    "apply"
   ]
  },
  {
   "cell_type": "code",
   "execution_count": 95,
   "id": "2bf15cca",
   "metadata": {},
   "outputs": [
    {
     "data": {
      "text/html": [
       "<div>\n",
       "<style scoped>\n",
       "    .dataframe tbody tr th:only-of-type {\n",
       "        vertical-align: middle;\n",
       "    }\n",
       "\n",
       "    .dataframe tbody tr th {\n",
       "        vertical-align: top;\n",
       "    }\n",
       "\n",
       "    .dataframe thead th {\n",
       "        text-align: right;\n",
       "    }\n",
       "</style>\n",
       "<table border=\"1\" class=\"dataframe\">\n",
       "  <thead>\n",
       "    <tr style=\"text-align: right;\">\n",
       "      <th></th>\n",
       "      <th>A</th>\n",
       "      <th>B</th>\n",
       "      <th>C</th>\n",
       "      <th>D</th>\n",
       "      <th>E</th>\n",
       "    </tr>\n",
       "  </thead>\n",
       "  <tbody>\n",
       "    <tr>\n",
       "      <th>0</th>\n",
       "      <td>0.932258</td>\n",
       "      <td>0.448547</td>\n",
       "      <td>-0.202733</td>\n",
       "      <td>0.562239</td>\n",
       "      <td>-0.100035</td>\n",
       "    </tr>\n",
       "    <tr>\n",
       "      <th>1</th>\n",
       "      <td>-0.062063</td>\n",
       "      <td>1.254186</td>\n",
       "      <td>0.462348</td>\n",
       "      <td>-0.528025</td>\n",
       "      <td>-0.519269</td>\n",
       "    </tr>\n",
       "    <tr>\n",
       "      <th>2</th>\n",
       "      <td>0.009409</td>\n",
       "      <td>-0.799646</td>\n",
       "      <td>-0.569947</td>\n",
       "      <td>-0.436332</td>\n",
       "      <td>0.060549</td>\n",
       "    </tr>\n",
       "    <tr>\n",
       "      <th>3</th>\n",
       "      <td>-1.165949</td>\n",
       "      <td>0.634677</td>\n",
       "      <td>-1.348328</td>\n",
       "      <td>-2.101294</td>\n",
       "      <td>-0.428775</td>\n",
       "    </tr>\n",
       "  </tbody>\n",
       "</table>\n",
       "</div>"
      ],
      "text/plain": [
       "          A         B         C         D         E\n",
       "0  0.932258  0.448547 -0.202733  0.562239 -0.100035\n",
       "1 -0.062063  1.254186  0.462348 -0.528025 -0.519269\n",
       "2  0.009409 -0.799646 -0.569947 -0.436332  0.060549\n",
       "3 -1.165949  0.634677 -1.348328 -2.101294 -0.428775"
      ]
     },
     "execution_count": 95,
     "metadata": {},
     "output_type": "execute_result"
    }
   ],
   "source": [
    "df = pd.DataFrame(np.array(np.random.randn(20)).reshape(4,5),\n",
    "                 columns = list('ABCDE'))\n",
    "df"
   ]
  },
  {
   "cell_type": "code",
   "execution_count": 96,
   "id": "60c22726",
   "metadata": {},
   "outputs": [
    {
     "data": {
      "text/plain": [
       "A   -0.286345\n",
       "B    1.537764\n",
       "C   -1.658660\n",
       "D   -2.503412\n",
       "E   -0.987529\n",
       "dtype: float64"
      ]
     },
     "execution_count": 96,
     "metadata": {},
     "output_type": "execute_result"
    }
   ],
   "source": [
    "df.apply(np.sum) # na 처리 가능"
   ]
  },
  {
   "cell_type": "code",
   "execution_count": 97,
   "id": "a583de6a",
   "metadata": {},
   "outputs": [
    {
     "data": {
      "text/plain": [
       "0    1.640276\n",
       "1    0.607177\n",
       "2   -1.735967\n",
       "3   -4.409669\n",
       "dtype: float64"
      ]
     },
     "execution_count": 97,
     "metadata": {},
     "output_type": "execute_result"
    }
   ],
   "source": [
    "df.apply(np.sum, axis = 1)"
   ]
  },
  {
   "cell_type": "code",
   "execution_count": 98,
   "id": "8fdaec2d",
   "metadata": {},
   "outputs": [],
   "source": [
    "def my_func(ds):\n",
    "    print(f'\\n func called with -------------\\n{ds}')\n",
    "    return ds+ds"
   ]
  },
  {
   "cell_type": "code",
   "execution_count": 99,
   "id": "beb10d99",
   "metadata": {},
   "outputs": [
    {
     "name": "stdout",
     "output_type": "stream",
     "text": [
      "\n",
      " func called with -------------\n",
      "0    0.932258\n",
      "1   -0.062063\n",
      "2    0.009409\n",
      "3   -1.165949\n",
      "Name: A, dtype: float64\n",
      "\n",
      " func called with -------------\n",
      "0    0.448547\n",
      "1    1.254186\n",
      "2   -0.799646\n",
      "3    0.634677\n",
      "Name: B, dtype: float64\n",
      "\n",
      " func called with -------------\n",
      "0   -0.202733\n",
      "1    0.462348\n",
      "2   -0.569947\n",
      "3   -1.348328\n",
      "Name: C, dtype: float64\n",
      "\n",
      " func called with -------------\n",
      "0    0.562239\n",
      "1   -0.528025\n",
      "2   -0.436332\n",
      "3   -2.101294\n",
      "Name: D, dtype: float64\n",
      "\n",
      " func called with -------------\n",
      "0   -0.100035\n",
      "1   -0.519269\n",
      "2    0.060549\n",
      "3   -0.428775\n",
      "Name: E, dtype: float64\n"
     ]
    },
    {
     "data": {
      "text/html": [
       "<div>\n",
       "<style scoped>\n",
       "    .dataframe tbody tr th:only-of-type {\n",
       "        vertical-align: middle;\n",
       "    }\n",
       "\n",
       "    .dataframe tbody tr th {\n",
       "        vertical-align: top;\n",
       "    }\n",
       "\n",
       "    .dataframe thead th {\n",
       "        text-align: right;\n",
       "    }\n",
       "</style>\n",
       "<table border=\"1\" class=\"dataframe\">\n",
       "  <thead>\n",
       "    <tr style=\"text-align: right;\">\n",
       "      <th></th>\n",
       "      <th>A</th>\n",
       "      <th>B</th>\n",
       "      <th>C</th>\n",
       "      <th>D</th>\n",
       "      <th>E</th>\n",
       "    </tr>\n",
       "  </thead>\n",
       "  <tbody>\n",
       "    <tr>\n",
       "      <th>0</th>\n",
       "      <td>1.864515</td>\n",
       "      <td>0.897094</td>\n",
       "      <td>-0.405466</td>\n",
       "      <td>1.124479</td>\n",
       "      <td>-0.200069</td>\n",
       "    </tr>\n",
       "    <tr>\n",
       "      <th>1</th>\n",
       "      <td>-0.124126</td>\n",
       "      <td>2.508373</td>\n",
       "      <td>0.924696</td>\n",
       "      <td>-1.056050</td>\n",
       "      <td>-1.038538</td>\n",
       "    </tr>\n",
       "    <tr>\n",
       "      <th>2</th>\n",
       "      <td>0.018819</td>\n",
       "      <td>-1.599293</td>\n",
       "      <td>-1.139894</td>\n",
       "      <td>-0.872665</td>\n",
       "      <td>0.121099</td>\n",
       "    </tr>\n",
       "    <tr>\n",
       "      <th>3</th>\n",
       "      <td>-2.331897</td>\n",
       "      <td>1.269354</td>\n",
       "      <td>-2.696657</td>\n",
       "      <td>-4.202588</td>\n",
       "      <td>-0.857549</td>\n",
       "    </tr>\n",
       "  </tbody>\n",
       "</table>\n",
       "</div>"
      ],
      "text/plain": [
       "          A         B         C         D         E\n",
       "0  1.864515  0.897094 -0.405466  1.124479 -0.200069\n",
       "1 -0.124126  2.508373  0.924696 -1.056050 -1.038538\n",
       "2  0.018819 -1.599293 -1.139894 -0.872665  0.121099\n",
       "3 -2.331897  1.269354 -2.696657 -4.202588 -0.857549"
      ]
     },
     "execution_count": 99,
     "metadata": {},
     "output_type": "execute_result"
    }
   ],
   "source": [
    "df.apply(my_func)"
   ]
  },
  {
   "cell_type": "code",
   "execution_count": 100,
   "id": "dafbb9ec",
   "metadata": {
    "scrolled": true
   },
   "outputs": [
    {
     "data": {
      "text/plain": [
       "A    0.870194\n",
       "B    1.702733\n",
       "C    0.259615\n",
       "D    0.034214\n",
       "E   -0.619304\n",
       "dtype: float64"
      ]
     },
     "execution_count": 100,
     "metadata": {},
     "output_type": "execute_result"
    }
   ],
   "source": [
    "def my_func2(x1, x2):\n",
    "    return(x1+x2)\n",
    "\n",
    "df.apply(lambda x: my_func2(x[0], x[1]))"
   ]
  },
  {
   "cell_type": "markdown",
   "id": "eec25687",
   "metadata": {},
   "source": [
    "- apply : df > series / series > 원소\n",
    "- applymap : df > 원소 / series > 원소\n",
    "- pipe : df > df"
   ]
  },
  {
   "cell_type": "code",
   "execution_count": 102,
   "id": "53d677e6",
   "metadata": {
    "scrolled": true
   },
   "outputs": [
    {
     "name": "stdout",
     "output_type": "stream",
     "text": [
      "\n",
      " func called with -------------\n",
      "0.9322575360970492\n",
      "\n",
      " func called with -------------\n",
      "-0.06206310002542764\n",
      "\n",
      " func called with -------------\n",
      "0.009409321370141275\n",
      "\n",
      " func called with -------------\n",
      "-1.165948544579554\n",
      "\n",
      " func called with -------------\n",
      "0.4485468970668154\n",
      "\n",
      " func called with -------------\n",
      "1.2541864457375973\n",
      "\n",
      " func called with -------------\n",
      "-0.7996464422989009\n",
      "\n",
      " func called with -------------\n",
      "0.6346768465521438\n",
      "\n",
      " func called with -------------\n",
      "-0.20273282141720453\n",
      "\n",
      " func called with -------------\n",
      "0.4623480382241128\n",
      "\n",
      " func called with -------------\n",
      "-0.5699467714119637\n",
      "\n",
      " func called with -------------\n",
      "-1.34832834465007\n",
      "\n",
      " func called with -------------\n",
      "0.5622393733636453\n",
      "\n",
      " func called with -------------\n",
      "-0.5280251252993151\n",
      "\n",
      " func called with -------------\n",
      "-0.4363322597771471\n",
      "\n",
      " func called with -------------\n",
      "-2.1012940489834824\n",
      "\n",
      " func called with -------------\n",
      "-0.10003454678888213\n",
      "\n",
      " func called with -------------\n",
      "-0.5192690477047018\n",
      "\n",
      " func called with -------------\n",
      "0.06054943642124959\n",
      "\n",
      " func called with -------------\n",
      "-0.4287745245621803\n"
     ]
    },
    {
     "data": {
      "text/html": [
       "<div>\n",
       "<style scoped>\n",
       "    .dataframe tbody tr th:only-of-type {\n",
       "        vertical-align: middle;\n",
       "    }\n",
       "\n",
       "    .dataframe tbody tr th {\n",
       "        vertical-align: top;\n",
       "    }\n",
       "\n",
       "    .dataframe thead th {\n",
       "        text-align: right;\n",
       "    }\n",
       "</style>\n",
       "<table border=\"1\" class=\"dataframe\">\n",
       "  <thead>\n",
       "    <tr style=\"text-align: right;\">\n",
       "      <th></th>\n",
       "      <th>A</th>\n",
       "      <th>B</th>\n",
       "      <th>C</th>\n",
       "      <th>D</th>\n",
       "      <th>E</th>\n",
       "    </tr>\n",
       "  </thead>\n",
       "  <tbody>\n",
       "    <tr>\n",
       "      <th>0</th>\n",
       "      <td>1.864515</td>\n",
       "      <td>0.897094</td>\n",
       "      <td>-0.405466</td>\n",
       "      <td>1.124479</td>\n",
       "      <td>-0.200069</td>\n",
       "    </tr>\n",
       "    <tr>\n",
       "      <th>1</th>\n",
       "      <td>-0.124126</td>\n",
       "      <td>2.508373</td>\n",
       "      <td>0.924696</td>\n",
       "      <td>-1.056050</td>\n",
       "      <td>-1.038538</td>\n",
       "    </tr>\n",
       "    <tr>\n",
       "      <th>2</th>\n",
       "      <td>0.018819</td>\n",
       "      <td>-1.599293</td>\n",
       "      <td>-1.139894</td>\n",
       "      <td>-0.872665</td>\n",
       "      <td>0.121099</td>\n",
       "    </tr>\n",
       "    <tr>\n",
       "      <th>3</th>\n",
       "      <td>-2.331897</td>\n",
       "      <td>1.269354</td>\n",
       "      <td>-2.696657</td>\n",
       "      <td>-4.202588</td>\n",
       "      <td>-0.857549</td>\n",
       "    </tr>\n",
       "  </tbody>\n",
       "</table>\n",
       "</div>"
      ],
      "text/plain": [
       "          A         B         C         D         E\n",
       "0  1.864515  0.897094 -0.405466  1.124479 -0.200069\n",
       "1 -0.124126  2.508373  0.924696 -1.056050 -1.038538\n",
       "2  0.018819 -1.599293 -1.139894 -0.872665  0.121099\n",
       "3 -2.331897  1.269354 -2.696657 -4.202588 -0.857549"
      ]
     },
     "execution_count": 102,
     "metadata": {},
     "output_type": "execute_result"
    }
   ],
   "source": [
    "df.applymap(my_func)"
   ]
  },
  {
   "cell_type": "code",
   "execution_count": 103,
   "id": "32015605",
   "metadata": {},
   "outputs": [
    {
     "name": "stdout",
     "output_type": "stream",
     "text": [
      "\n",
      " func called with -------------\n",
      "          A         B         C         D         E\n",
      "0  0.932258  0.448547 -0.202733  0.562239 -0.100035\n",
      "1 -0.062063  1.254186  0.462348 -0.528025 -0.519269\n",
      "2  0.009409 -0.799646 -0.569947 -0.436332  0.060549\n",
      "3 -1.165949  0.634677 -1.348328 -2.101294 -0.428775\n"
     ]
    },
    {
     "data": {
      "text/html": [
       "<div>\n",
       "<style scoped>\n",
       "    .dataframe tbody tr th:only-of-type {\n",
       "        vertical-align: middle;\n",
       "    }\n",
       "\n",
       "    .dataframe tbody tr th {\n",
       "        vertical-align: top;\n",
       "    }\n",
       "\n",
       "    .dataframe thead th {\n",
       "        text-align: right;\n",
       "    }\n",
       "</style>\n",
       "<table border=\"1\" class=\"dataframe\">\n",
       "  <thead>\n",
       "    <tr style=\"text-align: right;\">\n",
       "      <th></th>\n",
       "      <th>A</th>\n",
       "      <th>B</th>\n",
       "      <th>C</th>\n",
       "      <th>D</th>\n",
       "      <th>E</th>\n",
       "    </tr>\n",
       "  </thead>\n",
       "  <tbody>\n",
       "    <tr>\n",
       "      <th>0</th>\n",
       "      <td>1.864515</td>\n",
       "      <td>0.897094</td>\n",
       "      <td>-0.405466</td>\n",
       "      <td>1.124479</td>\n",
       "      <td>-0.200069</td>\n",
       "    </tr>\n",
       "    <tr>\n",
       "      <th>1</th>\n",
       "      <td>-0.124126</td>\n",
       "      <td>2.508373</td>\n",
       "      <td>0.924696</td>\n",
       "      <td>-1.056050</td>\n",
       "      <td>-1.038538</td>\n",
       "    </tr>\n",
       "    <tr>\n",
       "      <th>2</th>\n",
       "      <td>0.018819</td>\n",
       "      <td>-1.599293</td>\n",
       "      <td>-1.139894</td>\n",
       "      <td>-0.872665</td>\n",
       "      <td>0.121099</td>\n",
       "    </tr>\n",
       "    <tr>\n",
       "      <th>3</th>\n",
       "      <td>-2.331897</td>\n",
       "      <td>1.269354</td>\n",
       "      <td>-2.696657</td>\n",
       "      <td>-4.202588</td>\n",
       "      <td>-0.857549</td>\n",
       "    </tr>\n",
       "  </tbody>\n",
       "</table>\n",
       "</div>"
      ],
      "text/plain": [
       "          A         B         C         D         E\n",
       "0  1.864515  0.897094 -0.405466  1.124479 -0.200069\n",
       "1 -0.124126  2.508373  0.924696 -1.056050 -1.038538\n",
       "2  0.018819 -1.599293 -1.139894 -0.872665  0.121099\n",
       "3 -2.331897  1.269354 -2.696657 -4.202588 -0.857549"
      ]
     },
     "execution_count": 103,
     "metadata": {},
     "output_type": "execute_result"
    }
   ],
   "source": [
    "df.pipe(my_func)"
   ]
  },
  {
   "cell_type": "code",
   "execution_count": null,
   "id": "a2899a75",
   "metadata": {},
   "outputs": [],
   "source": []
  }
 ],
 "metadata": {
  "kernelspec": {
   "display_name": "Python 3 (ipykernel)",
   "language": "python",
   "name": "python3"
  },
  "language_info": {
   "codemirror_mode": {
    "name": "ipython",
    "version": 3
   },
   "file_extension": ".py",
   "mimetype": "text/x-python",
   "name": "python",
   "nbconvert_exporter": "python",
   "pygments_lexer": "ipython3",
   "version": "3.9.12"
  }
 },
 "nbformat": 4,
 "nbformat_minor": 5
}
