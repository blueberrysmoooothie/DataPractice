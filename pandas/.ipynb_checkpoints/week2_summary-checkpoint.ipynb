{
 "cells": [
  {
   "cell_type": "markdown",
   "id": "4e472e2d",
   "metadata": {},
   "source": [
    "### Week2 Pandas"
   ]
  },
  {
   "cell_type": "code",
   "execution_count": 2,
   "id": "5194fb3f",
   "metadata": {},
   "outputs": [],
   "source": [
    "import pandas as pd\n",
    "import numpy as np"
   ]
  },
  {
   "cell_type": "markdown",
   "id": "76a69e33",
   "metadata": {},
   "source": [
    "##### pandas.Series"
   ]
  },
  {
   "cell_type": "code",
   "execution_count": 8,
   "id": "61ccaa56",
   "metadata": {},
   "outputs": [
    {
     "data": {
      "text/plain": [
       "a    2.133856\n",
       "b   -1.777709\n",
       "c   -0.776784\n",
       "d   -0.951830\n",
       "e   -0.187814\n",
       "f   -0.595315\n",
       "g    1.694050\n",
       "h    0.044629\n",
       "i   -0.954038\n",
       "j    0.434577\n",
       "dtype: float64"
      ]
     },
     "execution_count": 8,
     "metadata": {},
     "output_type": "execute_result"
    }
   ],
   "source": [
    "sr = pd.Series(np.random.randn(10), index = list('abcdefghij'))\n",
    "sr"
   ]
  },
  {
   "cell_type": "code",
   "execution_count": 9,
   "id": "de241bdb",
   "metadata": {},
   "outputs": [
    {
     "data": {
      "text/plain": [
       "pandas.core.series.Series"
      ]
     },
     "execution_count": 9,
     "metadata": {},
     "output_type": "execute_result"
    }
   ],
   "source": [
    "type(sr)"
   ]
  },
  {
   "cell_type": "code",
   "execution_count": 11,
   "id": "c7983af1",
   "metadata": {},
   "outputs": [
    {
     "name": "stdout",
     "output_type": "stream",
     "text": [
      "\n",
      "Series.type \n",
      ":<class 'pandas.core.series.Series'>\n",
      "\n",
      "Series.index\n",
      ":Index(['a', 'b', 'c', 'd', 'e', 'f', 'g', 'h', 'i', 'j'], dtype='object')\n",
      "\n",
      "Series.index[2]\n",
      ":c\n",
      "\n",
      "Series.values\n",
      ":[ 2.13385641 -1.77770868 -0.77678442 -0.95183029 -0.1878141  -0.59531535\n",
      "  1.69405002  0.04462935 -0.95403838  0.43457664]\n",
      "\n",
      "\n",
      "Series[sr.index[2]]\n",
      ":-0.7767844247374543\n",
      "\n",
      "\n"
     ]
    }
   ],
   "source": [
    "print(f'''\n",
    "Series.type \n",
    ":{type(sr)}\n",
    "\n",
    "Series.index\n",
    ":{sr.index}\n",
    "\n",
    "Series.index[2]\n",
    ":{sr.index[2]}\n",
    "\n",
    "Series.values\n",
    ":{sr.values}\n",
    "\n",
    "\n",
    "Series[sr.index[2]]\n",
    ":{sr[sr.index[2]]}\n",
    "\n",
    "''')"
   ]
  },
  {
   "cell_type": "code",
   "execution_count": 12,
   "id": "ce2fa71b",
   "metadata": {},
   "outputs": [
    {
     "data": {
      "text/plain": [
       "0    291032\n",
       "1      3.34\n",
       "2        df\n",
       "3      True\n",
       "4        19\n",
       "dtype: object"
      ]
     },
     "execution_count": 12,
     "metadata": {},
     "output_type": "execute_result"
    }
   ],
   "source": [
    "li = ['291032', 3.34, 'df', True, 19]\n",
    "pd.Series(li)"
   ]
  },
  {
   "cell_type": "markdown",
   "id": "75f491c5",
   "metadata": {},
   "source": [
    "##### pandas.DataFrame"
   ]
  },
  {
   "cell_type": "code",
   "execution_count": 15,
   "id": "443b1c9d",
   "metadata": {},
   "outputs": [
    {
     "data": {
      "text/html": [
       "<div>\n",
       "<style scoped>\n",
       "    .dataframe tbody tr th:only-of-type {\n",
       "        vertical-align: middle;\n",
       "    }\n",
       "\n",
       "    .dataframe tbody tr th {\n",
       "        vertical-align: top;\n",
       "    }\n",
       "\n",
       "    .dataframe thead th {\n",
       "        text-align: right;\n",
       "    }\n",
       "</style>\n",
       "<table border=\"1\" class=\"dataframe\">\n",
       "  <thead>\n",
       "    <tr style=\"text-align: right;\">\n",
       "      <th></th>\n",
       "      <th>A</th>\n",
       "      <th>B</th>\n",
       "      <th>C</th>\n",
       "      <th>D</th>\n",
       "      <th>E</th>\n",
       "    </tr>\n",
       "  </thead>\n",
       "  <tbody>\n",
       "    <tr>\n",
       "      <th>0</th>\n",
       "      <td>0.169560</td>\n",
       "      <td>0.875891</td>\n",
       "      <td>3.542626</td>\n",
       "      <td>-2.034773</td>\n",
       "      <td>0.797755</td>\n",
       "    </tr>\n",
       "    <tr>\n",
       "      <th>1</th>\n",
       "      <td>-0.805976</td>\n",
       "      <td>0.890172</td>\n",
       "      <td>-0.329776</td>\n",
       "      <td>-0.093916</td>\n",
       "      <td>-0.240540</td>\n",
       "    </tr>\n",
       "    <tr>\n",
       "      <th>2</th>\n",
       "      <td>-0.067726</td>\n",
       "      <td>0.827684</td>\n",
       "      <td>-0.491403</td>\n",
       "      <td>0.129598</td>\n",
       "      <td>-1.185854</td>\n",
       "    </tr>\n",
       "    <tr>\n",
       "      <th>3</th>\n",
       "      <td>-1.032956</td>\n",
       "      <td>-0.539257</td>\n",
       "      <td>0.062250</td>\n",
       "      <td>0.799433</td>\n",
       "      <td>1.017169</td>\n",
       "    </tr>\n",
       "  </tbody>\n",
       "</table>\n",
       "</div>"
      ],
      "text/plain": [
       "          A         B         C         D         E\n",
       "0  0.169560  0.875891  3.542626 -2.034773  0.797755\n",
       "1 -0.805976  0.890172 -0.329776 -0.093916 -0.240540\n",
       "2 -0.067726  0.827684 -0.491403  0.129598 -1.185854\n",
       "3 -1.032956 -0.539257  0.062250  0.799433  1.017169"
      ]
     },
     "execution_count": 15,
     "metadata": {},
     "output_type": "execute_result"
    }
   ],
   "source": [
    "df = pd.DataFrame(np.array(np.random.randn(20)).reshape(4,5),\n",
    "                 columns = list('ABCDE'))\n",
    "df"
   ]
  },
  {
   "cell_type": "code",
   "execution_count": 17,
   "id": "1f27bb7d",
   "metadata": {},
   "outputs": [
    {
     "name": "stdout",
     "output_type": "stream",
     "text": [
      "\n",
      "DataFrame.type \n",
      ":<class 'pandas.core.frame.DataFrame'>\n",
      "\n",
      "DataFrame.index\n",
      ":RangeIndex(start=0, stop=4, step=1)\n",
      "\n",
      "DataFrame.index[2]\n",
      ":2\n",
      "\n",
      "DataFrame.columns\n",
      ":Index(['A', 'B', 'C', 'D', 'E'], dtype='object')\n",
      "\n",
      "DataFrame.values\n",
      ":[[ 0.16955991  0.87589068  3.54262627 -2.03477321  0.79775496]\n",
      " [-0.80597578  0.89017169 -0.32977643 -0.09391564 -0.24053969]\n",
      " [-0.06772644  0.82768431 -0.49140301  0.12959768 -1.18585389]\n",
      " [-1.03295569 -0.53925661  0.06225029  0.79943313  1.01716942]]\n",
      "\n",
      "\n",
      "Series[sr.index[2]]\n",
      ":-0.7767844247374543\n",
      "\n",
      "\n"
     ]
    }
   ],
   "source": [
    "print(f'''\n",
    "DataFrame.type \n",
    ":{type(df)}\n",
    "\n",
    "DataFrame.index\n",
    ":{df.index}\n",
    "\n",
    "DataFrame.index[2]\n",
    ":{df.index[2]}\n",
    "\n",
    "DataFrame.columns\n",
    ":{df.columns}\n",
    "\n",
    "DataFrame.values\n",
    ":{df.values}\n",
    "\n",
    "\n",
    "Series[sr.index[2]]\n",
    ":{sr[sr.index[2]]}\n",
    "\n",
    "''')"
   ]
  },
  {
   "cell_type": "markdown",
   "id": "54488d05",
   "metadata": {},
   "source": [
    "drop row/ column in df"
   ]
  },
  {
   "cell_type": "code",
   "execution_count": 20,
   "id": "68975876",
   "metadata": {},
   "outputs": [
    {
     "data": {
      "text/html": [
       "<div>\n",
       "<style scoped>\n",
       "    .dataframe tbody tr th:only-of-type {\n",
       "        vertical-align: middle;\n",
       "    }\n",
       "\n",
       "    .dataframe tbody tr th {\n",
       "        vertical-align: top;\n",
       "    }\n",
       "\n",
       "    .dataframe thead th {\n",
       "        text-align: right;\n",
       "    }\n",
       "</style>\n",
       "<table border=\"1\" class=\"dataframe\">\n",
       "  <thead>\n",
       "    <tr style=\"text-align: right;\">\n",
       "      <th></th>\n",
       "      <th>A</th>\n",
       "      <th>B</th>\n",
       "      <th>C</th>\n",
       "      <th>D</th>\n",
       "      <th>E</th>\n",
       "    </tr>\n",
       "  </thead>\n",
       "  <tbody>\n",
       "    <tr>\n",
       "      <th>1</th>\n",
       "      <td>-0.805976</td>\n",
       "      <td>0.890172</td>\n",
       "      <td>-0.329776</td>\n",
       "      <td>-0.093916</td>\n",
       "      <td>-0.240540</td>\n",
       "    </tr>\n",
       "    <tr>\n",
       "      <th>2</th>\n",
       "      <td>-0.067726</td>\n",
       "      <td>0.827684</td>\n",
       "      <td>-0.491403</td>\n",
       "      <td>0.129598</td>\n",
       "      <td>-1.185854</td>\n",
       "    </tr>\n",
       "    <tr>\n",
       "      <th>3</th>\n",
       "      <td>-1.032956</td>\n",
       "      <td>-0.539257</td>\n",
       "      <td>0.062250</td>\n",
       "      <td>0.799433</td>\n",
       "      <td>1.017169</td>\n",
       "    </tr>\n",
       "  </tbody>\n",
       "</table>\n",
       "</div>"
      ],
      "text/plain": [
       "          A         B         C         D         E\n",
       "1 -0.805976  0.890172 -0.329776 -0.093916 -0.240540\n",
       "2 -0.067726  0.827684 -0.491403  0.129598 -1.185854\n",
       "3 -1.032956 -0.539257  0.062250  0.799433  1.017169"
      ]
     },
     "execution_count": 20,
     "metadata": {},
     "output_type": "execute_result"
    }
   ],
   "source": [
    "df.drop(0)"
   ]
  },
  {
   "cell_type": "code",
   "execution_count": 21,
   "id": "9649a4a7",
   "metadata": {},
   "outputs": [
    {
     "data": {
      "text/html": [
       "<div>\n",
       "<style scoped>\n",
       "    .dataframe tbody tr th:only-of-type {\n",
       "        vertical-align: middle;\n",
       "    }\n",
       "\n",
       "    .dataframe tbody tr th {\n",
       "        vertical-align: top;\n",
       "    }\n",
       "\n",
       "    .dataframe thead th {\n",
       "        text-align: right;\n",
       "    }\n",
       "</style>\n",
       "<table border=\"1\" class=\"dataframe\">\n",
       "  <thead>\n",
       "    <tr style=\"text-align: right;\">\n",
       "      <th></th>\n",
       "      <th>B</th>\n",
       "      <th>C</th>\n",
       "      <th>D</th>\n",
       "      <th>E</th>\n",
       "    </tr>\n",
       "  </thead>\n",
       "  <tbody>\n",
       "    <tr>\n",
       "      <th>0</th>\n",
       "      <td>0.875891</td>\n",
       "      <td>3.542626</td>\n",
       "      <td>-2.034773</td>\n",
       "      <td>0.797755</td>\n",
       "    </tr>\n",
       "    <tr>\n",
       "      <th>1</th>\n",
       "      <td>0.890172</td>\n",
       "      <td>-0.329776</td>\n",
       "      <td>-0.093916</td>\n",
       "      <td>-0.240540</td>\n",
       "    </tr>\n",
       "    <tr>\n",
       "      <th>2</th>\n",
       "      <td>0.827684</td>\n",
       "      <td>-0.491403</td>\n",
       "      <td>0.129598</td>\n",
       "      <td>-1.185854</td>\n",
       "    </tr>\n",
       "    <tr>\n",
       "      <th>3</th>\n",
       "      <td>-0.539257</td>\n",
       "      <td>0.062250</td>\n",
       "      <td>0.799433</td>\n",
       "      <td>1.017169</td>\n",
       "    </tr>\n",
       "  </tbody>\n",
       "</table>\n",
       "</div>"
      ],
      "text/plain": [
       "          B         C         D         E\n",
       "0  0.875891  3.542626 -2.034773  0.797755\n",
       "1  0.890172 -0.329776 -0.093916 -0.240540\n",
       "2  0.827684 -0.491403  0.129598 -1.185854\n",
       "3 -0.539257  0.062250  0.799433  1.017169"
      ]
     },
     "execution_count": 21,
     "metadata": {},
     "output_type": "execute_result"
    }
   ],
   "source": [
    "df.drop('A', axis = 1)"
   ]
  },
  {
   "cell_type": "markdown",
   "id": "b30c1275",
   "metadata": {},
   "source": [
    "indexing row/ column in df"
   ]
  },
  {
   "cell_type": "code",
   "execution_count": 25,
   "id": "c5291110",
   "metadata": {},
   "outputs": [
    {
     "data": {
      "text/html": [
       "<div>\n",
       "<style scoped>\n",
       "    .dataframe tbody tr th:only-of-type {\n",
       "        vertical-align: middle;\n",
       "    }\n",
       "\n",
       "    .dataframe tbody tr th {\n",
       "        vertical-align: top;\n",
       "    }\n",
       "\n",
       "    .dataframe thead th {\n",
       "        text-align: right;\n",
       "    }\n",
       "</style>\n",
       "<table border=\"1\" class=\"dataframe\">\n",
       "  <thead>\n",
       "    <tr style=\"text-align: right;\">\n",
       "      <th></th>\n",
       "      <th>A</th>\n",
       "      <th>B</th>\n",
       "      <th>C</th>\n",
       "      <th>D</th>\n",
       "      <th>E</th>\n",
       "    </tr>\n",
       "  </thead>\n",
       "  <tbody>\n",
       "    <tr>\n",
       "      <th>2</th>\n",
       "      <td>-0.805976</td>\n",
       "      <td>0.890172</td>\n",
       "      <td>-0.329776</td>\n",
       "      <td>-0.093916</td>\n",
       "      <td>-0.240540</td>\n",
       "    </tr>\n",
       "    <tr>\n",
       "      <th>3</th>\n",
       "      <td>-0.067726</td>\n",
       "      <td>0.827684</td>\n",
       "      <td>-0.491403</td>\n",
       "      <td>0.129598</td>\n",
       "      <td>-1.185854</td>\n",
       "    </tr>\n",
       "    <tr>\n",
       "      <th>4</th>\n",
       "      <td>-1.032956</td>\n",
       "      <td>-0.539257</td>\n",
       "      <td>0.062250</td>\n",
       "      <td>0.799433</td>\n",
       "      <td>1.017169</td>\n",
       "    </tr>\n",
       "  </tbody>\n",
       "</table>\n",
       "</div>"
      ],
      "text/plain": [
       "          A         B         C         D         E\n",
       "2 -0.805976  0.890172 -0.329776 -0.093916 -0.240540\n",
       "3 -0.067726  0.827684 -0.491403  0.129598 -1.185854\n",
       "4 -1.032956 -0.539257  0.062250  0.799433  1.017169"
      ]
     },
     "execution_count": 25,
     "metadata": {},
     "output_type": "execute_result"
    }
   ],
   "source": [
    "df.index = range(1,5)\n",
    "df.loc[2:]"
   ]
  },
  {
   "cell_type": "code",
   "execution_count": 26,
   "id": "be093a5c",
   "metadata": {},
   "outputs": [
    {
     "data": {
      "text/html": [
       "<div>\n",
       "<style scoped>\n",
       "    .dataframe tbody tr th:only-of-type {\n",
       "        vertical-align: middle;\n",
       "    }\n",
       "\n",
       "    .dataframe tbody tr th {\n",
       "        vertical-align: top;\n",
       "    }\n",
       "\n",
       "    .dataframe thead th {\n",
       "        text-align: right;\n",
       "    }\n",
       "</style>\n",
       "<table border=\"1\" class=\"dataframe\">\n",
       "  <thead>\n",
       "    <tr style=\"text-align: right;\">\n",
       "      <th></th>\n",
       "      <th>A</th>\n",
       "      <th>B</th>\n",
       "      <th>C</th>\n",
       "      <th>D</th>\n",
       "      <th>E</th>\n",
       "    </tr>\n",
       "  </thead>\n",
       "  <tbody>\n",
       "    <tr>\n",
       "      <th>3</th>\n",
       "      <td>-0.067726</td>\n",
       "      <td>0.827684</td>\n",
       "      <td>-0.491403</td>\n",
       "      <td>0.129598</td>\n",
       "      <td>-1.185854</td>\n",
       "    </tr>\n",
       "    <tr>\n",
       "      <th>4</th>\n",
       "      <td>-1.032956</td>\n",
       "      <td>-0.539257</td>\n",
       "      <td>0.062250</td>\n",
       "      <td>0.799433</td>\n",
       "      <td>1.017169</td>\n",
       "    </tr>\n",
       "  </tbody>\n",
       "</table>\n",
       "</div>"
      ],
      "text/plain": [
       "          A         B         C         D         E\n",
       "3 -0.067726  0.827684 -0.491403  0.129598 -1.185854\n",
       "4 -1.032956 -0.539257  0.062250  0.799433  1.017169"
      ]
     },
     "execution_count": 26,
     "metadata": {},
     "output_type": "execute_result"
    }
   ],
   "source": [
    "df.iloc[2:]"
   ]
  },
  {
   "cell_type": "code",
   "execution_count": 27,
   "id": "76ee907e",
   "metadata": {},
   "outputs": [
    {
     "data": {
      "text/html": [
       "<div>\n",
       "<style scoped>\n",
       "    .dataframe tbody tr th:only-of-type {\n",
       "        vertical-align: middle;\n",
       "    }\n",
       "\n",
       "    .dataframe tbody tr th {\n",
       "        vertical-align: top;\n",
       "    }\n",
       "\n",
       "    .dataframe thead th {\n",
       "        text-align: right;\n",
       "    }\n",
       "</style>\n",
       "<table border=\"1\" class=\"dataframe\">\n",
       "  <thead>\n",
       "    <tr style=\"text-align: right;\">\n",
       "      <th></th>\n",
       "      <th>A</th>\n",
       "      <th>C</th>\n",
       "    </tr>\n",
       "  </thead>\n",
       "  <tbody>\n",
       "    <tr>\n",
       "      <th>2</th>\n",
       "      <td>-0.805976</td>\n",
       "      <td>-0.329776</td>\n",
       "    </tr>\n",
       "    <tr>\n",
       "      <th>3</th>\n",
       "      <td>-0.067726</td>\n",
       "      <td>-0.491403</td>\n",
       "    </tr>\n",
       "    <tr>\n",
       "      <th>4</th>\n",
       "      <td>-1.032956</td>\n",
       "      <td>0.062250</td>\n",
       "    </tr>\n",
       "  </tbody>\n",
       "</table>\n",
       "</div>"
      ],
      "text/plain": [
       "          A         C\n",
       "2 -0.805976 -0.329776\n",
       "3 -0.067726 -0.491403\n",
       "4 -1.032956  0.062250"
      ]
     },
     "execution_count": 27,
     "metadata": {},
     "output_type": "execute_result"
    }
   ],
   "source": [
    "df.loc[2:,['A',\"C\"]]"
   ]
  },
  {
   "cell_type": "code",
   "execution_count": 28,
   "id": "fed84e8b",
   "metadata": {},
   "outputs": [
    {
     "data": {
      "text/html": [
       "<div>\n",
       "<style scoped>\n",
       "    .dataframe tbody tr th:only-of-type {\n",
       "        vertical-align: middle;\n",
       "    }\n",
       "\n",
       "    .dataframe tbody tr th {\n",
       "        vertical-align: top;\n",
       "    }\n",
       "\n",
       "    .dataframe thead th {\n",
       "        text-align: right;\n",
       "    }\n",
       "</style>\n",
       "<table border=\"1\" class=\"dataframe\">\n",
       "  <thead>\n",
       "    <tr style=\"text-align: right;\">\n",
       "      <th></th>\n",
       "      <th>C</th>\n",
       "      <th>D</th>\n",
       "      <th>E</th>\n",
       "    </tr>\n",
       "  </thead>\n",
       "  <tbody>\n",
       "    <tr>\n",
       "      <th>3</th>\n",
       "      <td>-0.491403</td>\n",
       "      <td>0.129598</td>\n",
       "      <td>-1.185854</td>\n",
       "    </tr>\n",
       "    <tr>\n",
       "      <th>4</th>\n",
       "      <td>0.062250</td>\n",
       "      <td>0.799433</td>\n",
       "      <td>1.017169</td>\n",
       "    </tr>\n",
       "  </tbody>\n",
       "</table>\n",
       "</div>"
      ],
      "text/plain": [
       "          C         D         E\n",
       "3 -0.491403  0.129598 -1.185854\n",
       "4  0.062250  0.799433  1.017169"
      ]
     },
     "execution_count": 28,
     "metadata": {},
     "output_type": "execute_result"
    }
   ],
   "source": [
    "df.iloc[2:,2:]"
   ]
  },
  {
   "cell_type": "code",
   "execution_count": 29,
   "id": "c3c379fd",
   "metadata": {},
   "outputs": [
    {
     "data": {
      "text/html": [
       "<div>\n",
       "<style scoped>\n",
       "    .dataframe tbody tr th:only-of-type {\n",
       "        vertical-align: middle;\n",
       "    }\n",
       "\n",
       "    .dataframe tbody tr th {\n",
       "        vertical-align: top;\n",
       "    }\n",
       "\n",
       "    .dataframe thead th {\n",
       "        text-align: right;\n",
       "    }\n",
       "</style>\n",
       "<table border=\"1\" class=\"dataframe\">\n",
       "  <thead>\n",
       "    <tr style=\"text-align: right;\">\n",
       "      <th></th>\n",
       "      <th>A</th>\n",
       "      <th>B</th>\n",
       "      <th>C</th>\n",
       "      <th>D</th>\n",
       "      <th>E</th>\n",
       "    </tr>\n",
       "  </thead>\n",
       "  <tbody>\n",
       "    <tr>\n",
       "      <th>1</th>\n",
       "      <td>0.169560</td>\n",
       "      <td>0.875891</td>\n",
       "      <td>3.542626</td>\n",
       "      <td>-2.034773</td>\n",
       "      <td>0.797755</td>\n",
       "    </tr>\n",
       "    <tr>\n",
       "      <th>2</th>\n",
       "      <td>-0.805976</td>\n",
       "      <td>0.890172</td>\n",
       "      <td>-0.329776</td>\n",
       "      <td>-0.093916</td>\n",
       "      <td>-0.240540</td>\n",
       "    </tr>\n",
       "    <tr>\n",
       "      <th>3</th>\n",
       "      <td>-0.067726</td>\n",
       "      <td>0.827684</td>\n",
       "      <td>-0.491403</td>\n",
       "      <td>0.129598</td>\n",
       "      <td>-1.185854</td>\n",
       "    </tr>\n",
       "    <tr>\n",
       "      <th>4</th>\n",
       "      <td>-1.032956</td>\n",
       "      <td>-0.539257</td>\n",
       "      <td>0.062250</td>\n",
       "      <td>0.799433</td>\n",
       "      <td>1.017169</td>\n",
       "    </tr>\n",
       "    <tr>\n",
       "      <th>5</th>\n",
       "      <td>-0.480029</td>\n",
       "      <td>-0.116508</td>\n",
       "      <td>-0.870467</td>\n",
       "      <td>0.484898</td>\n",
       "      <td>-0.390914</td>\n",
       "    </tr>\n",
       "  </tbody>\n",
       "</table>\n",
       "</div>"
      ],
      "text/plain": [
       "          A         B         C         D         E\n",
       "1  0.169560  0.875891  3.542626 -2.034773  0.797755\n",
       "2 -0.805976  0.890172 -0.329776 -0.093916 -0.240540\n",
       "3 -0.067726  0.827684 -0.491403  0.129598 -1.185854\n",
       "4 -1.032956 -0.539257  0.062250  0.799433  1.017169\n",
       "5 -0.480029 -0.116508 -0.870467  0.484898 -0.390914"
      ]
     },
     "execution_count": 29,
     "metadata": {},
     "output_type": "execute_result"
    }
   ],
   "source": [
    "df.loc[5] = np.random.randn(5)\n",
    "df"
   ]
  },
  {
   "cell_type": "markdown",
   "id": "08ac12f4",
   "metadata": {},
   "source": [
    "setting index in df"
   ]
  },
  {
   "cell_type": "code",
   "execution_count": 30,
   "id": "6073a3eb",
   "metadata": {},
   "outputs": [
    {
     "data": {
      "text/html": [
       "<div>\n",
       "<style scoped>\n",
       "    .dataframe tbody tr th:only-of-type {\n",
       "        vertical-align: middle;\n",
       "    }\n",
       "\n",
       "    .dataframe tbody tr th {\n",
       "        vertical-align: top;\n",
       "    }\n",
       "\n",
       "    .dataframe thead th {\n",
       "        text-align: right;\n",
       "    }\n",
       "</style>\n",
       "<table border=\"1\" class=\"dataframe\">\n",
       "  <thead>\n",
       "    <tr style=\"text-align: right;\">\n",
       "      <th></th>\n",
       "      <th>B</th>\n",
       "      <th>C</th>\n",
       "      <th>D</th>\n",
       "      <th>E</th>\n",
       "    </tr>\n",
       "    <tr>\n",
       "      <th>A</th>\n",
       "      <th></th>\n",
       "      <th></th>\n",
       "      <th></th>\n",
       "      <th></th>\n",
       "    </tr>\n",
       "  </thead>\n",
       "  <tbody>\n",
       "    <tr>\n",
       "      <th>0.169560</th>\n",
       "      <td>0.875891</td>\n",
       "      <td>3.542626</td>\n",
       "      <td>-2.034773</td>\n",
       "      <td>0.797755</td>\n",
       "    </tr>\n",
       "    <tr>\n",
       "      <th>-0.805976</th>\n",
       "      <td>0.890172</td>\n",
       "      <td>-0.329776</td>\n",
       "      <td>-0.093916</td>\n",
       "      <td>-0.240540</td>\n",
       "    </tr>\n",
       "    <tr>\n",
       "      <th>-0.067726</th>\n",
       "      <td>0.827684</td>\n",
       "      <td>-0.491403</td>\n",
       "      <td>0.129598</td>\n",
       "      <td>-1.185854</td>\n",
       "    </tr>\n",
       "    <tr>\n",
       "      <th>-1.032956</th>\n",
       "      <td>-0.539257</td>\n",
       "      <td>0.062250</td>\n",
       "      <td>0.799433</td>\n",
       "      <td>1.017169</td>\n",
       "    </tr>\n",
       "    <tr>\n",
       "      <th>-0.480029</th>\n",
       "      <td>-0.116508</td>\n",
       "      <td>-0.870467</td>\n",
       "      <td>0.484898</td>\n",
       "      <td>-0.390914</td>\n",
       "    </tr>\n",
       "  </tbody>\n",
       "</table>\n",
       "</div>"
      ],
      "text/plain": [
       "                  B         C         D         E\n",
       "A                                                \n",
       " 0.169560  0.875891  3.542626 -2.034773  0.797755\n",
       "-0.805976  0.890172 -0.329776 -0.093916 -0.240540\n",
       "-0.067726  0.827684 -0.491403  0.129598 -1.185854\n",
       "-1.032956 -0.539257  0.062250  0.799433  1.017169\n",
       "-0.480029 -0.116508 -0.870467  0.484898 -0.390914"
      ]
     },
     "execution_count": 30,
     "metadata": {},
     "output_type": "execute_result"
    }
   ],
   "source": [
    "df.set_index('A')"
   ]
  },
  {
   "cell_type": "code",
   "execution_count": 35,
   "id": "6df9c327",
   "metadata": {},
   "outputs": [
    {
     "data": {
      "text/html": [
       "<div>\n",
       "<style scoped>\n",
       "    .dataframe tbody tr th:only-of-type {\n",
       "        vertical-align: middle;\n",
       "    }\n",
       "\n",
       "    .dataframe tbody tr th {\n",
       "        vertical-align: top;\n",
       "    }\n",
       "\n",
       "    .dataframe thead th {\n",
       "        text-align: right;\n",
       "    }\n",
       "</style>\n",
       "<table border=\"1\" class=\"dataframe\">\n",
       "  <thead>\n",
       "    <tr style=\"text-align: right;\">\n",
       "      <th></th>\n",
       "      <th>A</th>\n",
       "      <th>B</th>\n",
       "      <th>C</th>\n",
       "      <th>D</th>\n",
       "      <th>E</th>\n",
       "    </tr>\n",
       "  </thead>\n",
       "  <tbody>\n",
       "    <tr>\n",
       "      <th>2</th>\n",
       "      <td>-0.805976</td>\n",
       "      <td>0.890172</td>\n",
       "      <td>-0.329776</td>\n",
       "      <td>-0.093916</td>\n",
       "      <td>-0.240540</td>\n",
       "    </tr>\n",
       "    <tr>\n",
       "      <th>3</th>\n",
       "      <td>-0.067726</td>\n",
       "      <td>0.827684</td>\n",
       "      <td>-0.491403</td>\n",
       "      <td>0.129598</td>\n",
       "      <td>-1.185854</td>\n",
       "    </tr>\n",
       "    <tr>\n",
       "      <th>1</th>\n",
       "      <td>0.169560</td>\n",
       "      <td>0.875891</td>\n",
       "      <td>3.542626</td>\n",
       "      <td>-2.034773</td>\n",
       "      <td>0.797755</td>\n",
       "    </tr>\n",
       "    <tr>\n",
       "      <th>4</th>\n",
       "      <td>-1.032956</td>\n",
       "      <td>-0.539257</td>\n",
       "      <td>0.062250</td>\n",
       "      <td>0.799433</td>\n",
       "      <td>1.017169</td>\n",
       "    </tr>\n",
       "    <tr>\n",
       "      <th>5</th>\n",
       "      <td>-0.480029</td>\n",
       "      <td>-0.116508</td>\n",
       "      <td>-0.870467</td>\n",
       "      <td>0.484898</td>\n",
       "      <td>-0.390914</td>\n",
       "    </tr>\n",
       "  </tbody>\n",
       "</table>\n",
       "</div>"
      ],
      "text/plain": [
       "          A         B         C         D         E\n",
       "2 -0.805976  0.890172 -0.329776 -0.093916 -0.240540\n",
       "3 -0.067726  0.827684 -0.491403  0.129598 -1.185854\n",
       "1  0.169560  0.875891  3.542626 -2.034773  0.797755\n",
       "4 -1.032956 -0.539257  0.062250  0.799433  1.017169\n",
       "5 -0.480029 -0.116508 -0.870467  0.484898 -0.390914"
      ]
     },
     "execution_count": 35,
     "metadata": {},
     "output_type": "execute_result"
    }
   ],
   "source": [
    "df.reindex([2,3,1,4,5])"
   ]
  },
  {
   "cell_type": "code",
   "execution_count": 36,
   "id": "fa99be60",
   "metadata": {
    "scrolled": true
   },
   "outputs": [
    {
     "data": {
      "text/html": [
       "<div>\n",
       "<style scoped>\n",
       "    .dataframe tbody tr th:only-of-type {\n",
       "        vertical-align: middle;\n",
       "    }\n",
       "\n",
       "    .dataframe tbody tr th {\n",
       "        vertical-align: top;\n",
       "    }\n",
       "\n",
       "    .dataframe thead th {\n",
       "        text-align: right;\n",
       "    }\n",
       "</style>\n",
       "<table border=\"1\" class=\"dataframe\">\n",
       "  <thead>\n",
       "    <tr style=\"text-align: right;\">\n",
       "      <th></th>\n",
       "      <th>index</th>\n",
       "      <th>A</th>\n",
       "      <th>B</th>\n",
       "      <th>C</th>\n",
       "      <th>D</th>\n",
       "      <th>E</th>\n",
       "    </tr>\n",
       "  </thead>\n",
       "  <tbody>\n",
       "    <tr>\n",
       "      <th>0</th>\n",
       "      <td>1</td>\n",
       "      <td>0.169560</td>\n",
       "      <td>0.875891</td>\n",
       "      <td>3.542626</td>\n",
       "      <td>-2.034773</td>\n",
       "      <td>0.797755</td>\n",
       "    </tr>\n",
       "    <tr>\n",
       "      <th>1</th>\n",
       "      <td>2</td>\n",
       "      <td>-0.805976</td>\n",
       "      <td>0.890172</td>\n",
       "      <td>-0.329776</td>\n",
       "      <td>-0.093916</td>\n",
       "      <td>-0.240540</td>\n",
       "    </tr>\n",
       "    <tr>\n",
       "      <th>2</th>\n",
       "      <td>3</td>\n",
       "      <td>-0.067726</td>\n",
       "      <td>0.827684</td>\n",
       "      <td>-0.491403</td>\n",
       "      <td>0.129598</td>\n",
       "      <td>-1.185854</td>\n",
       "    </tr>\n",
       "    <tr>\n",
       "      <th>3</th>\n",
       "      <td>4</td>\n",
       "      <td>-1.032956</td>\n",
       "      <td>-0.539257</td>\n",
       "      <td>0.062250</td>\n",
       "      <td>0.799433</td>\n",
       "      <td>1.017169</td>\n",
       "    </tr>\n",
       "    <tr>\n",
       "      <th>4</th>\n",
       "      <td>5</td>\n",
       "      <td>-0.480029</td>\n",
       "      <td>-0.116508</td>\n",
       "      <td>-0.870467</td>\n",
       "      <td>0.484898</td>\n",
       "      <td>-0.390914</td>\n",
       "    </tr>\n",
       "  </tbody>\n",
       "</table>\n",
       "</div>"
      ],
      "text/plain": [
       "   index         A         B         C         D         E\n",
       "0      1  0.169560  0.875891  3.542626 -2.034773  0.797755\n",
       "1      2 -0.805976  0.890172 -0.329776 -0.093916 -0.240540\n",
       "2      3 -0.067726  0.827684 -0.491403  0.129598 -1.185854\n",
       "3      4 -1.032956 -0.539257  0.062250  0.799433  1.017169\n",
       "4      5 -0.480029 -0.116508 -0.870467  0.484898 -0.390914"
      ]
     },
     "execution_count": 36,
     "metadata": {},
     "output_type": "execute_result"
    }
   ],
   "source": [
    "df.reset_index()"
   ]
  },
  {
   "cell_type": "code",
   "execution_count": null,
   "id": "397141a6",
   "metadata": {},
   "outputs": [],
   "source": [
    "df.sort_index()"
   ]
  }
 ],
 "metadata": {
  "kernelspec": {
   "display_name": "Python 3 (ipykernel)",
   "language": "python",
   "name": "python3"
  },
  "language_info": {
   "codemirror_mode": {
    "name": "ipython",
    "version": 3
   },
   "file_extension": ".py",
   "mimetype": "text/x-python",
   "name": "python",
   "nbconvert_exporter": "python",
   "pygments_lexer": "ipython3",
   "version": "3.9.12"
  }
 },
 "nbformat": 4,
 "nbformat_minor": 5
}
